{
 "cells": [
  {
   "cell_type": "markdown",
   "metadata": {},
   "source": [
    "<br>"
   ]
  },
  {
   "cell_type": "markdown",
   "metadata": {},
   "source": [
    "# Introduction"
   ]
  },
  {
   "cell_type": "markdown",
   "metadata": {},
   "source": [
    "This project shows: \n",
    "- ability of writing solid,structured Python code \n",
    "- ability of using existing utilities(libraries) for processing and analyzing data.\n",
    "- analytical and data pre-processing skills"
   ]
  },
  {
   "cell_type": "markdown",
   "metadata": {},
   "source": [
    "Project is mainly focused on data pre-processing. I showed my techniques in dealing with most common problems with data:\n",
    "1. missing data\n",
    "2. duplicate\n",
    "3. abnormal values. "
   ]
  },
  {
   "cell_type": "markdown",
   "metadata": {},
   "source": [
    "Project also contains NLP part, where I show the algorithms that I have learned. Moreover, I have demonstrated my ability to effectively present the results to the team by visualizing and summarizing the insights that I have found through out the research."
   ]
  },
  {
   "cell_type": "markdown",
   "metadata": {},
   "source": [
    "Project on the topic \"**Data Preprocessing**\" of the training course \"[Specialist in Data Science](https://practicum.yandex.com/data-scientist)\" by [Yandex Practicum](https://practicum.yandex.com/). Dataset of the project is provided by the [Yandex Practicum](https://practicum.yandex.com/)."
   ]
  },
  {
   "cell_type": "markdown",
   "metadata": {},
   "source": [
    "Libraries that I have used in this project:"
   ]
  },
  {
   "cell_type": "markdown",
   "metadata": {},
   "source": [
    " |Library           |Version            |\n",
    " |:---------------|:------------------------|\n",
    "|Pandas      | 0.25.1                |\n",
    "|Numpy        |1.18.3              |\n",
    "|nltk        |3.4.1               |\n",
    "|matplotlib        |3.1.0                |\n",
    "|seaborn       |0.11.0              |\n",
    "|missingno        |0.4.2                |"
   ]
  },
  {
   "cell_type": "markdown",
   "metadata": {},
   "source": [
    "## Setting up the project"
   ]
  },
  {
   "cell_type": "code",
   "execution_count": 1,
   "metadata": {},
   "outputs": [
    {
     "data": {
      "text/html": [
       "<style>\n",
       "table {float:left}\n",
       "</style>\n"
      ],
      "text/plain": [
       "<IPython.core.display.HTML object>"
      ]
     },
     "metadata": {},
     "output_type": "display_data"
    }
   ],
   "source": [
    "%%html\n",
    "<style>\n",
    "table {float:left}\n",
    "</style>"
   ]
  },
  {
   "cell_type": "code",
   "execution_count": 2,
   "metadata": {},
   "outputs": [
    {
     "name": "stdout",
     "output_type": "stream",
     "text": [
      "Requirement already satisfied: missingno in /opt/anaconda3/envs/practicum/lib/python3.7/site-packages (0.4.2)\n",
      "Requirement already satisfied: seaborn in /opt/anaconda3/envs/practicum/lib/python3.7/site-packages (from missingno) (0.11.0)\n",
      "Requirement already satisfied: numpy in /opt/anaconda3/envs/practicum/lib/python3.7/site-packages (from missingno) (1.18.3)\n",
      "Requirement already satisfied: scipy in /opt/anaconda3/envs/practicum/lib/python3.7/site-packages (from missingno) (1.4.1)\n",
      "Requirement already satisfied: matplotlib in /opt/anaconda3/envs/practicum/lib/python3.7/site-packages (from missingno) (3.1.0)\n",
      "Requirement already satisfied: pandas>=0.23 in /opt/anaconda3/envs/practicum/lib/python3.7/site-packages (from seaborn->missingno) (0.25.1)\n",
      "Requirement already satisfied: python-dateutil>=2.1 in /opt/anaconda3/envs/practicum/lib/python3.7/site-packages (from matplotlib->missingno) (2.8.1)\n",
      "Requirement already satisfied: pyparsing!=2.0.4,!=2.1.2,!=2.1.6,>=2.0.1 in /opt/anaconda3/envs/practicum/lib/python3.7/site-packages (from matplotlib->missingno) (2.4.7)\n",
      "Requirement already satisfied: kiwisolver>=1.0.1 in /opt/anaconda3/envs/practicum/lib/python3.7/site-packages (from matplotlib->missingno) (1.2.0)\n",
      "Requirement already satisfied: cycler>=0.10 in /opt/anaconda3/envs/practicum/lib/python3.7/site-packages (from matplotlib->missingno) (0.10.0)\n",
      "Requirement already satisfied: pytz>=2017.2 in /opt/anaconda3/envs/practicum/lib/python3.7/site-packages (from pandas>=0.23->seaborn->missingno) (2020.1)\n",
      "Requirement already satisfied: six>=1.5 in /opt/anaconda3/envs/practicum/lib/python3.7/site-packages (from python-dateutil>=2.1->matplotlib->missingno) (1.15.0)\n"
     ]
    }
   ],
   "source": [
    "# Installing missingno for identifying type of missing values at *data-cleaning* stage.\n",
    "!pip3 install missingno"
   ]
  },
  {
   "cell_type": "markdown",
   "metadata": {},
   "source": [
    "# Project \"Analyzing borrowers’ risk of defaulting\" "
   ]
  },
  {
   "cell_type": "markdown",
   "metadata": {},
   "source": [
    "\n",
    "## Description\n",
    "\n",
    "Customer - bank. We need to answer the question: whether the family status and number of children will have an impact on the fact of repayment of the loan on time. \n",
    "\n",
    "## Objective\n",
    "\n",
    "Conduct a research on data provided by the bank. The results of the research will be considerer in building a [**credit score**](https://en.wikipedia.org/wiki/Credit_score) model that assesses the potential borrower's ability to repay the loan to the bank.\n",
    "\n",
    "## Data description\n",
    "\n",
    "Data input from the bank - statistics on customers' ability to pay. Each row of the table provides information about the client of the bank: the number of children in the family, employment history, age, education, marital status, gender, type of employment, whether customer had any debts, monthly income, and the purpose of obtaining credit.\n",
    "\n",
    " |Column            |Description            |\n",
    " |:---------------|:------------------------|\n",
    "|children        |number of childern in family                 |\n",
    "|days_employed        |record of employment in days                |\n",
    "|dob_years        |customer age in years               |\n",
    "|education        |customer education level                 |\n",
    "|education_id        |customer education level id                 |\n",
    "|family_status        |family status                 |\n",
    "|family_status_id        |family status id                 |\n",
    "|gender        |gender                 |\n",
    "|income_type        |type of employment                 |\n",
    "|debt        |whether a customer was in debt                |\n",
    "|total_income        |monthly total income  in Rubles             |\n",
    "|purpose        |purpose to get a loan                 |\n"
   ]
  },
  {
   "cell_type": "markdown",
   "metadata": {},
   "source": [
    "## Work plan\n",
    "\n",
    "1. [Overview of data](#review)\n",
    "2. [Data preprocessing](#data-preproccessing)\n",
    "    - [Column processing](#columnProcessing)\n",
    "    - [Missing values](#missingValues)\n",
    "    - [Changing data types](#dataTypes)\n",
    "    - [Duplicate values](#duplicateValues)\n",
    "    - [Abnormal values](#abnormalValues)\n",
    "    - [Categorizing data](#categorizingData)\n",
    "        1. [Purpose (NLP part)](#purpose)\n",
    "            - [Stemming](#stemming)\n",
    "            - [Lemmatization](#lemmatization)\n",
    "        2. [Children presence](#childrenPresence)\n",
    "        3. [Income level](#total_income)\n",
    "3. [Data analysis and documentation of results](#analysis)\n",
    "    - [The effect of having children on the repayment of the loan on time](#childrenImpact)\n",
    "    - [The impact of family status on the repayment of the loan on time](#familyStatusImpact)\n",
    "    - [Correlation between income level and loan repayment on time](#levelIncomeImpact)\n",
    "    - [The impact of loan purposes on its repayment on time](#purposeImpact)\n",
    "4. [Results of the research](#results)"
   ]
  },
  {
   "cell_type": "markdown",
   "metadata": {},
   "source": [
    "<br>"
   ]
  },
  {
   "cell_type": "markdown",
   "metadata": {},
   "source": [
    "<a id=\"review\"></a>\n",
    "# Stage 1 - Overview of data"
   ]
  },
  {
   "cell_type": "markdown",
   "metadata": {},
   "source": [
    "## Importing libraries"
   ]
  },
  {
   "cell_type": "code",
   "execution_count": 3,
   "metadata": {},
   "outputs": [
    {
     "name": "stderr",
     "output_type": "stream",
     "text": [
      "[nltk_data] Downloading package stopwords to /Users/bork/nltk_data...\n",
      "[nltk_data]   Package stopwords is already up-to-date!\n",
      "[nltk_data] Downloading package punkt to /Users/bork/nltk_data...\n",
      "[nltk_data]   Package punkt is already up-to-date!\n",
      "[nltk_data] Downloading package wordnet to /Users/bork/nltk_data...\n",
      "[nltk_data]   Package wordnet is already up-to-date!\n"
     ]
    }
   ],
   "source": [
    "import pandas as pd\n",
    "import numpy as np\n",
    "# NLP libraries for categorizing data\n",
    "import nltk\n",
    "nltk.download('stopwords')\n",
    "nltk.download('punkt')\n",
    "nltk.download('wordnet')\n",
    "# stopwords for doing lemmatization and stemming\n",
    "from nltk.corpus import stopwords \n",
    "# Lemmatization\n",
    "from nltk.stem import WordNetLemmatizer\n",
    "# Stemming\n",
    "from nltk.stem import SnowballStemmer\n",
    "from collections import Counter\n",
    "# For data visualization\n",
    "import matplotlib.pyplot as plt\n",
    "import seaborn as sns\n",
    "# For identifing missing values type\n",
    "import missingno as msno"
   ]
  },
  {
   "cell_type": "markdown",
   "metadata": {},
   "source": [
    "Reading the data and saving it in `bank_stats` variable."
   ]
  },
  {
   "cell_type": "code",
   "execution_count": 4,
   "metadata": {},
   "outputs": [],
   "source": [
    "bank_stats = pd.read_csv('./dataset/data_credit_scoring.csv')"
   ]
  },
  {
   "cell_type": "markdown",
   "metadata": {},
   "source": [
    "Let's study our data by displaying the first 10 lines with help of [head()](https://pandas.pydata.org/pandas-docs/stable/reference/api/pandas.DataFrame.head.html?highlight=head#pandas.DataFrame.head) method."
   ]
  },
  {
   "cell_type": "code",
   "execution_count": 5,
   "metadata": {},
   "outputs": [
    {
     "data": {
      "text/html": [
       "<div>\n",
       "<style scoped>\n",
       "    .dataframe tbody tr th:only-of-type {\n",
       "        vertical-align: middle;\n",
       "    }\n",
       "\n",
       "    .dataframe tbody tr th {\n",
       "        vertical-align: top;\n",
       "    }\n",
       "\n",
       "    .dataframe thead th {\n",
       "        text-align: right;\n",
       "    }\n",
       "</style>\n",
       "<table border=\"1\" class=\"dataframe\">\n",
       "  <thead>\n",
       "    <tr style=\"text-align: right;\">\n",
       "      <th></th>\n",
       "      <th>children</th>\n",
       "      <th>days_employed</th>\n",
       "      <th>dob_years</th>\n",
       "      <th>education</th>\n",
       "      <th>education_id</th>\n",
       "      <th>family_status</th>\n",
       "      <th>family_status_id</th>\n",
       "      <th>gender</th>\n",
       "      <th>income_type</th>\n",
       "      <th>debt</th>\n",
       "      <th>total_income</th>\n",
       "      <th>purpose</th>\n",
       "    </tr>\n",
       "  </thead>\n",
       "  <tbody>\n",
       "    <tr>\n",
       "      <td>0</td>\n",
       "      <td>1</td>\n",
       "      <td>-8437.673028</td>\n",
       "      <td>42</td>\n",
       "      <td>masters degree</td>\n",
       "      <td>0</td>\n",
       "      <td>married</td>\n",
       "      <td>0</td>\n",
       "      <td>F</td>\n",
       "      <td>employee</td>\n",
       "      <td>0</td>\n",
       "      <td>253875.639453</td>\n",
       "      <td>purchase of the house</td>\n",
       "    </tr>\n",
       "    <tr>\n",
       "      <td>1</td>\n",
       "      <td>1</td>\n",
       "      <td>-4024.803754</td>\n",
       "      <td>36</td>\n",
       "      <td>secondary education</td>\n",
       "      <td>1</td>\n",
       "      <td>married</td>\n",
       "      <td>0</td>\n",
       "      <td>F</td>\n",
       "      <td>employee</td>\n",
       "      <td>0</td>\n",
       "      <td>112080.014102</td>\n",
       "      <td>car purchase</td>\n",
       "    </tr>\n",
       "    <tr>\n",
       "      <td>2</td>\n",
       "      <td>0</td>\n",
       "      <td>-5623.422610</td>\n",
       "      <td>33</td>\n",
       "      <td>Secondary Education</td>\n",
       "      <td>1</td>\n",
       "      <td>married</td>\n",
       "      <td>0</td>\n",
       "      <td>M</td>\n",
       "      <td>employee</td>\n",
       "      <td>0</td>\n",
       "      <td>145885.952297</td>\n",
       "      <td>purchase of the house</td>\n",
       "    </tr>\n",
       "    <tr>\n",
       "      <td>3</td>\n",
       "      <td>3</td>\n",
       "      <td>-4124.747207</td>\n",
       "      <td>32</td>\n",
       "      <td>secondary education</td>\n",
       "      <td>1</td>\n",
       "      <td>married</td>\n",
       "      <td>0</td>\n",
       "      <td>M</td>\n",
       "      <td>employee</td>\n",
       "      <td>0</td>\n",
       "      <td>267628.550329</td>\n",
       "      <td>supplementary education</td>\n",
       "    </tr>\n",
       "    <tr>\n",
       "      <td>4</td>\n",
       "      <td>0</td>\n",
       "      <td>340266.072047</td>\n",
       "      <td>53</td>\n",
       "      <td>secondary education</td>\n",
       "      <td>1</td>\n",
       "      <td>civil partnership</td>\n",
       "      <td>1</td>\n",
       "      <td>F</td>\n",
       "      <td>retiree</td>\n",
       "      <td>0</td>\n",
       "      <td>158616.077870</td>\n",
       "      <td>to have a wedding</td>\n",
       "    </tr>\n",
       "    <tr>\n",
       "      <td>5</td>\n",
       "      <td>0</td>\n",
       "      <td>-926.185831</td>\n",
       "      <td>27</td>\n",
       "      <td>masters degree</td>\n",
       "      <td>0</td>\n",
       "      <td>civil partnership</td>\n",
       "      <td>1</td>\n",
       "      <td>M</td>\n",
       "      <td>partner</td>\n",
       "      <td>0</td>\n",
       "      <td>255763.565419</td>\n",
       "      <td>purchase of the house</td>\n",
       "    </tr>\n",
       "    <tr>\n",
       "      <td>6</td>\n",
       "      <td>0</td>\n",
       "      <td>-2879.202052</td>\n",
       "      <td>43</td>\n",
       "      <td>masters degree</td>\n",
       "      <td>0</td>\n",
       "      <td>married</td>\n",
       "      <td>0</td>\n",
       "      <td>F</td>\n",
       "      <td>partner</td>\n",
       "      <td>0</td>\n",
       "      <td>240525.971920</td>\n",
       "      <td>housing transactions</td>\n",
       "    </tr>\n",
       "    <tr>\n",
       "      <td>7</td>\n",
       "      <td>0</td>\n",
       "      <td>-152.779569</td>\n",
       "      <td>50</td>\n",
       "      <td>SECONDARY EDUCATION</td>\n",
       "      <td>1</td>\n",
       "      <td>married</td>\n",
       "      <td>0</td>\n",
       "      <td>M</td>\n",
       "      <td>employee</td>\n",
       "      <td>0</td>\n",
       "      <td>135823.934197</td>\n",
       "      <td>education</td>\n",
       "    </tr>\n",
       "    <tr>\n",
       "      <td>8</td>\n",
       "      <td>2</td>\n",
       "      <td>-6929.865299</td>\n",
       "      <td>35</td>\n",
       "      <td>MASTERS DEGREE</td>\n",
       "      <td>0</td>\n",
       "      <td>civil partnership</td>\n",
       "      <td>1</td>\n",
       "      <td>F</td>\n",
       "      <td>employee</td>\n",
       "      <td>0</td>\n",
       "      <td>95856.832424</td>\n",
       "      <td>having a wedding</td>\n",
       "    </tr>\n",
       "    <tr>\n",
       "      <td>9</td>\n",
       "      <td>0</td>\n",
       "      <td>-2188.756445</td>\n",
       "      <td>41</td>\n",
       "      <td>secondary education</td>\n",
       "      <td>1</td>\n",
       "      <td>married</td>\n",
       "      <td>0</td>\n",
       "      <td>M</td>\n",
       "      <td>employee</td>\n",
       "      <td>0</td>\n",
       "      <td>144425.938277</td>\n",
       "      <td>purchase of the house for my family</td>\n",
       "    </tr>\n",
       "  </tbody>\n",
       "</table>\n",
       "</div>"
      ],
      "text/plain": [
       "   children  days_employed  dob_years            education  education_id  \\\n",
       "0         1   -8437.673028         42       masters degree             0   \n",
       "1         1   -4024.803754         36  secondary education             1   \n",
       "2         0   -5623.422610         33  Secondary Education             1   \n",
       "3         3   -4124.747207         32  secondary education             1   \n",
       "4         0  340266.072047         53  secondary education             1   \n",
       "5         0    -926.185831         27       masters degree             0   \n",
       "6         0   -2879.202052         43       masters degree             0   \n",
       "7         0    -152.779569         50  SECONDARY EDUCATION             1   \n",
       "8         2   -6929.865299         35       MASTERS DEGREE             0   \n",
       "9         0   -2188.756445         41  secondary education             1   \n",
       "\n",
       "       family_status  family_status_id gender income_type  debt  \\\n",
       "0            married                 0      F    employee     0   \n",
       "1            married                 0      F    employee     0   \n",
       "2            married                 0      M    employee     0   \n",
       "3            married                 0      M    employee     0   \n",
       "4  civil partnership                 1      F     retiree     0   \n",
       "5  civil partnership                 1      M     partner     0   \n",
       "6            married                 0      F     partner     0   \n",
       "7            married                 0      M    employee     0   \n",
       "8  civil partnership                 1      F    employee     0   \n",
       "9            married                 0      M    employee     0   \n",
       "\n",
       "    total_income                              purpose  \n",
       "0  253875.639453                purchase of the house  \n",
       "1  112080.014102                         car purchase  \n",
       "2  145885.952297                purchase of the house  \n",
       "3  267628.550329              supplementary education  \n",
       "4  158616.077870                    to have a wedding  \n",
       "5  255763.565419                purchase of the house  \n",
       "6  240525.971920                 housing transactions  \n",
       "7  135823.934197                            education  \n",
       "8   95856.832424                     having a wedding  \n",
       "9  144425.938277  purchase of the house for my family  "
      ]
     },
     "execution_count": 5,
     "metadata": {},
     "output_type": "execute_result"
    }
   ],
   "source": [
    "bank_stats.head(10)"
   ]
  },
  {
   "cell_type": "markdown",
   "metadata": {},
   "source": [
    "Note that we have negative values in column *days_employed*, we should process this column. Otherwise, we will get incorrect results of our research. Also, same education level text is written in uppercase and lowercase. For example, Secondary education, SECONDARY EDUCATION, secondary education. Most likely we have an error in the data recording."
   ]
  },
  {
   "cell_type": "markdown",
   "metadata": {},
   "source": [
    "Displaying general information about the table by using [info()](https://pandas.pydata.org/pandas-docs/stable/reference/api/pandas.DataFrame.info.html?highlight=info#pandas.DataFrame.info) method."
   ]
  },
  {
   "cell_type": "code",
   "execution_count": 6,
   "metadata": {},
   "outputs": [
    {
     "name": "stdout",
     "output_type": "stream",
     "text": [
      "<class 'pandas.core.frame.DataFrame'>\n",
      "RangeIndex: 21525 entries, 0 to 21524\n",
      "Data columns (total 12 columns):\n",
      "children            21525 non-null int64\n",
      "days_employed       19351 non-null float64\n",
      "dob_years           21525 non-null int64\n",
      "education           21525 non-null object\n",
      "education_id        21525 non-null int64\n",
      "family_status       21525 non-null object\n",
      "family_status_id    21525 non-null int64\n",
      "gender              21525 non-null object\n",
      "income_type         21525 non-null object\n",
      "debt                21525 non-null int64\n",
      "total_income        19351 non-null float64\n",
      "purpose             21525 non-null object\n",
      "dtypes: float64(2), int64(5), object(5)\n",
      "memory usage: 2.0+ MB\n"
     ]
    }
   ],
   "source": [
    "bank_stats.info()"
   ]
  },
  {
   "cell_type": "markdown",
   "metadata": {},
   "source": [
    "Let's take a closer look at the information. There are 12 columns in the table. 2 columns have missing data: *days_employed*,*total_income*. The data types differ between columns (*float64*,*int64*,*object*)"
   ]
  },
  {
   "cell_type": "markdown",
   "metadata": {},
   "source": [
    "Displaying the central tendency, dispersion and shape of a dataset’s distribution by using [describe()](https://pandas.pydata.org/pandas-docs/stable/reference/api/pandas.DataFrame.describe.html) method."
   ]
  },
  {
   "cell_type": "code",
   "execution_count": 7,
   "metadata": {},
   "outputs": [
    {
     "data": {
      "text/html": [
       "<div>\n",
       "<style scoped>\n",
       "    .dataframe tbody tr th:only-of-type {\n",
       "        vertical-align: middle;\n",
       "    }\n",
       "\n",
       "    .dataframe tbody tr th {\n",
       "        vertical-align: top;\n",
       "    }\n",
       "\n",
       "    .dataframe thead th {\n",
       "        text-align: right;\n",
       "    }\n",
       "</style>\n",
       "<table border=\"1\" class=\"dataframe\">\n",
       "  <thead>\n",
       "    <tr style=\"text-align: right;\">\n",
       "      <th></th>\n",
       "      <th>count</th>\n",
       "      <th>mean</th>\n",
       "      <th>std</th>\n",
       "      <th>min</th>\n",
       "      <th>25%</th>\n",
       "      <th>50%</th>\n",
       "      <th>75%</th>\n",
       "      <th>max</th>\n",
       "    </tr>\n",
       "  </thead>\n",
       "  <tbody>\n",
       "    <tr>\n",
       "      <td>children</td>\n",
       "      <td>21525.0</td>\n",
       "      <td>0.538908</td>\n",
       "      <td>1.381587</td>\n",
       "      <td>-1.000000</td>\n",
       "      <td>0.000000</td>\n",
       "      <td>0.000000</td>\n",
       "      <td>1.000000</td>\n",
       "      <td>2.000000e+01</td>\n",
       "    </tr>\n",
       "    <tr>\n",
       "      <td>days_employed</td>\n",
       "      <td>19351.0</td>\n",
       "      <td>63046.497661</td>\n",
       "      <td>140827.311974</td>\n",
       "      <td>-18388.949901</td>\n",
       "      <td>-2747.423625</td>\n",
       "      <td>-1203.369529</td>\n",
       "      <td>-291.095954</td>\n",
       "      <td>4.017554e+05</td>\n",
       "    </tr>\n",
       "    <tr>\n",
       "      <td>dob_years</td>\n",
       "      <td>21525.0</td>\n",
       "      <td>43.293380</td>\n",
       "      <td>12.574584</td>\n",
       "      <td>0.000000</td>\n",
       "      <td>33.000000</td>\n",
       "      <td>42.000000</td>\n",
       "      <td>53.000000</td>\n",
       "      <td>7.500000e+01</td>\n",
       "    </tr>\n",
       "    <tr>\n",
       "      <td>education_id</td>\n",
       "      <td>21525.0</td>\n",
       "      <td>0.817236</td>\n",
       "      <td>0.548138</td>\n",
       "      <td>0.000000</td>\n",
       "      <td>1.000000</td>\n",
       "      <td>1.000000</td>\n",
       "      <td>1.000000</td>\n",
       "      <td>4.000000e+00</td>\n",
       "    </tr>\n",
       "    <tr>\n",
       "      <td>family_status_id</td>\n",
       "      <td>21525.0</td>\n",
       "      <td>0.972544</td>\n",
       "      <td>1.420324</td>\n",
       "      <td>0.000000</td>\n",
       "      <td>0.000000</td>\n",
       "      <td>0.000000</td>\n",
       "      <td>1.000000</td>\n",
       "      <td>4.000000e+00</td>\n",
       "    </tr>\n",
       "    <tr>\n",
       "      <td>debt</td>\n",
       "      <td>21525.0</td>\n",
       "      <td>0.080883</td>\n",
       "      <td>0.272661</td>\n",
       "      <td>0.000000</td>\n",
       "      <td>0.000000</td>\n",
       "      <td>0.000000</td>\n",
       "      <td>0.000000</td>\n",
       "      <td>1.000000e+00</td>\n",
       "    </tr>\n",
       "    <tr>\n",
       "      <td>total_income</td>\n",
       "      <td>19351.0</td>\n",
       "      <td>167422.302208</td>\n",
       "      <td>102971.566448</td>\n",
       "      <td>20667.263793</td>\n",
       "      <td>103053.152913</td>\n",
       "      <td>145017.937533</td>\n",
       "      <td>203435.067663</td>\n",
       "      <td>2.265604e+06</td>\n",
       "    </tr>\n",
       "  </tbody>\n",
       "</table>\n",
       "</div>"
      ],
      "text/plain": [
       "                    count           mean            std           min  \\\n",
       "children          21525.0       0.538908       1.381587     -1.000000   \n",
       "days_employed     19351.0   63046.497661  140827.311974 -18388.949901   \n",
       "dob_years         21525.0      43.293380      12.574584      0.000000   \n",
       "education_id      21525.0       0.817236       0.548138      0.000000   \n",
       "family_status_id  21525.0       0.972544       1.420324      0.000000   \n",
       "debt              21525.0       0.080883       0.272661      0.000000   \n",
       "total_income      19351.0  167422.302208  102971.566448  20667.263793   \n",
       "\n",
       "                            25%            50%            75%           max  \n",
       "children               0.000000       0.000000       1.000000  2.000000e+01  \n",
       "days_employed      -2747.423625   -1203.369529    -291.095954  4.017554e+05  \n",
       "dob_years             33.000000      42.000000      53.000000  7.500000e+01  \n",
       "education_id           1.000000       1.000000       1.000000  4.000000e+00  \n",
       "family_status_id       0.000000       0.000000       1.000000  4.000000e+00  \n",
       "debt                   0.000000       0.000000       0.000000  1.000000e+00  \n",
       "total_income      103053.152913  145017.937533  203435.067663  2.265604e+06  "
      ]
     },
     "execution_count": 7,
     "metadata": {},
     "output_type": "execute_result"
    }
   ],
   "source": [
    "bank_stats.describe().T"
   ]
  },
  {
   "cell_type": "markdown",
   "metadata": {},
   "source": [
    "<br>\n",
    "Some observations that have come to mind with during the data overview.\n",
    "<br>"
   ]
  },
  {
   "cell_type": "markdown",
   "metadata": {},
   "source": [
    "|Column            |Description                                    |Type of variable|Comment|\n",
    "|---------------:|:-----------------------------------------|:-|:-----------------|\n",
    "|children        |number of childern in family                 |Quantitative|Мinimum (-1) and maximum (20) values are raising concern in data correctness.|\n",
    "|days_employed   |record of employment in days              |Quantitative|We have great scatter in data. There are negative and missing values. Maximum value 4.017554e+05([scientific notation](https://en.wikipedia.org/wiki/Scientific_notation)). If we translate days into year, we will get ~1100 years, which is unreal. We should take this into consideration when we will be at preprocessing stage. Most likely we have an error in the data recording. |\n",
    "|dob_years       |customer age in years                   |Quantitative|\n",
    "|education       |customer education level                |Categorical|Same education level text is written in uppercase and lowercase. For example, Secondary education, SECONDARY EDUCATION, secondary education. Most likely we have an error in the data recording.|\n",
    "|education_id    |customer education level id          |Categorical|\n",
    "|family_status   |family status                       |Categorical|\n",
    "|family_status_id|family status id         |Categorical|\n",
    "|gender          |gender                              |Categorical|**F** - female, **M** - male.|\n",
    "|income_type     |type of employment                           |Categorical|\n",
    "|debt            |whether a customer was in debt |Categorical| **1** - customer have been in debt previously. **0** - customer haven't been in debt|\n",
    "|total_income    |monthly total income                       |Quantitative |We have missing values,which indicate that either customer does not have a job at the moment or customer haven't filled in *total_income* field, most likely there is an error in the data recording.|\n",
    "|purpose         |purpose to get a loan           |Categorical |This field contains text, which tells about the purpose of getting a loan. We should implement [NLP](https://en.wikipedia.org/wiki/Natural_language_processing), especially, [lemmatization](https://nlp.stanford.edu/IR-book/html/htmledition/stemming-and-lemmatization-1.html) to categorize strings.|"
   ]
  },
  {
   "cell_type": "markdown",
   "metadata": {},
   "source": [
    "## Summary"
   ]
  },
  {
   "cell_type": "markdown",
   "metadata": {},
   "source": [
    "- The first thing that caught my eye is the negative values in *record of employment in days* field. Most likely there is an error in the data. \n",
    "- We also have missing values in 2 columns: *days_employed*,*total_income* - most likely either we have an error in data recording or there is a possibility that customer forgot to fill in those fields or haven't had any job at the moment.\n",
    "- Also, there is a certain anomaly in column *days_employed* - the bank customer has a total work experience of 1100 years. Most likely this anomaly is due to incorrect data recording. \n",
    "- Same education level text is written in uppercase and lowercase. For example, Secondary education, SECONDARY EDUCATION, secondary education. Most likely we have an error in the data recording.\n",
    "- As for the columns, in general, there is no problem with the names of the columns. However, I would replace the `dob_years` column name to `age` because `age` describes the customer's age better than `dob_years` in short form.\n",
    "- The number of values in the columns varies. Consequently, there are missing values that need to be processed for further research.\n",
    "- Moreover, we have to check data for duplicate and abnormal values.\n",
    "\n",
    "Things that we have to do:\n",
    "1. Replace column names with appropriate ones\n",
    "2. Process missing values.\n",
    "3. Check for duplicate values and process them.\n",
    "4. Check for abnormal values.\n",
    "4. Categorize data\n",
    "5. Answer the questions\n",
    "\n",
    "Let's move on to data preprocessing stage."
   ]
  },
  {
   "cell_type": "markdown",
   "metadata": {},
   "source": [
    "<br>"
   ]
  },
  {
   "cell_type": "markdown",
   "metadata": {},
   "source": [
    "---"
   ]
  },
  {
   "cell_type": "markdown",
   "metadata": {},
   "source": [
    "<a id=\"data-preproccessing\"></a>\n",
    "# Stage 2 - Data preprocessing "
   ]
  },
  {
   "cell_type": "markdown",
   "metadata": {},
   "source": [
    "*Data pre-processing* or *data cleaning* stage is important. We will not reach the satisfied result until the data is being pre-processed/prepared. So, data needs to be prepared. This stage involves finding problems  that might be in the data, as well as solving these problems. At this stage we have to:\n",
    "1. Replace column names with appropriate ones.\n",
    "2. Process missing values.\n",
    "3. Change data types\n",
    "4. Check for duplicate values and process them.\n",
    "5. Check for abnormal values.\n",
    "6. Prepare data for further analysis. In our case, we have to categorize data.\n",
    "\n",
    "Let's begin with column processing."
   ]
  },
  {
   "cell_type": "markdown",
   "metadata": {},
   "source": [
    "<a id=\"columnProcessing\"></a>\n",
    "## Column processing"
   ]
  },
  {
   "cell_type": "markdown",
   "metadata": {},
   "source": [
    "Let's display columns by accesing attribute *columns*. Maybe we will find more errors."
   ]
  },
  {
   "cell_type": "code",
   "execution_count": 8,
   "metadata": {},
   "outputs": [
    {
     "data": {
      "text/plain": [
       "Index(['children', 'days_employed', 'dob_years', 'education', 'education_id',\n",
       "       'family_status', 'family_status_id', 'gender', 'income_type', 'debt',\n",
       "       'total_income', 'purpose'],\n",
       "      dtype='object')"
      ]
     },
     "execution_count": 8,
     "metadata": {},
     "output_type": "execute_result"
    }
   ],
   "source": [
    "bank_stats.columns"
   ]
  },
  {
   "cell_type": "markdown",
   "metadata": {},
   "source": [
    "As you can see, there are no extra spaces. All columns are written in same case - lower case. Let's rename the column for further work, in our case, replace *dob_years* with *age*. In order to replace the column name, we will use [rename()](https://pandas.pydata.org/pandas-docs/stable/reference/api/pandas.DataFrame.rename.html?highlight=rename#pandas.DataFrame.rename) method."
   ]
  },
  {
   "cell_type": "code",
   "execution_count": 9,
   "metadata": {},
   "outputs": [],
   "source": [
    "bank_stats = bank_stats.rename(columns={'dob_years':'age'})"
   ]
  },
  {
   "cell_type": "markdown",
   "metadata": {},
   "source": [
    "Check the result."
   ]
  },
  {
   "cell_type": "code",
   "execution_count": 10,
   "metadata": {},
   "outputs": [
    {
     "data": {
      "text/plain": [
       "Index(['children', 'days_employed', 'age', 'education', 'education_id',\n",
       "       'family_status', 'family_status_id', 'gender', 'income_type', 'debt',\n",
       "       'total_income', 'purpose'],\n",
       "      dtype='object')"
      ]
     },
     "execution_count": 10,
     "metadata": {},
     "output_type": "execute_result"
    }
   ],
   "source": [
    "bank_stats.columns"
   ]
  },
  {
   "cell_type": "markdown",
   "metadata": {},
   "source": [
    "Great, we have replaced the name of the column. Let's move on processing missing values."
   ]
  },
  {
   "cell_type": "markdown",
   "metadata": {},
   "source": [
    "<a id=\"missingValues\"></a>\n",
    "## Missing values"
   ]
  },
  {
   "cell_type": "markdown",
   "metadata": {},
   "source": [
    "At the overview stage, we have found out that we have missing values. Missing values often occur because of technical or human errors during data entry, so we have to find out whether it was cause by human factor or technical factor. Let's see how many we have in each column by using the set of methods [isna()](https://pandas.pydata.org/pandas-docs/stable/reference/api/pandas.DataFrame.isna.html?highlight=isna#pandas.DataFrame.isna) and [sum()](https://pandas.pydata.org/pandas-docs/stable/reference/api/pandas.DataFrame.sum.html?highlight=sum#pandas.DataFrame.sum)."
   ]
  },
  {
   "cell_type": "code",
   "execution_count": 11,
   "metadata": {},
   "outputs": [
    {
     "data": {
      "text/plain": [
       "children               0\n",
       "days_employed       2174\n",
       "age                    0\n",
       "education              0\n",
       "education_id           0\n",
       "family_status          0\n",
       "family_status_id       0\n",
       "gender                 0\n",
       "income_type            0\n",
       "debt                   0\n",
       "total_income        2174\n",
       "purpose                0\n",
       "dtype: int64"
      ]
     },
     "execution_count": 11,
     "metadata": {},
     "output_type": "execute_result"
    }
   ],
   "source": [
    "bank_stats.isna().sum()"
   ]
  },
  {
   "cell_type": "markdown",
   "metadata": {},
   "source": [
    "Let’s visualize its missing values using a matrix plot:\n",
    "\n",
    "P.S please refer to this official documentation https://github.com/ResidentMario/missingno You can find those methods there."
   ]
  },
  {
   "cell_type": "code",
   "execution_count": 12,
   "metadata": {},
   "outputs": [
    {
     "data": {
      "image/png": "[encoded data removed]",
      "text/plain": [
       "<Figure size 1440x504 with 2 Axes>"
      ]
     },
     "metadata": {
      "needs_background": "light"
     },
     "output_type": "display_data"
    }
   ],
   "source": [
    "msno.matrix(bank_stats,figsize=(20,7),fontsize=10);\n",
    "plt.xticks(rotation=0)\n",
    "plt.suptitle('Matrix plot - visualizing missing values')\n",
    "plt.show()"
   ]
  },
  {
   "cell_type": "markdown",
   "metadata": {},
   "source": [
    "To find out if the missingness has any [correlation](https://en.wikipedia.org/wiki/Correlation_and_dependence) with any of the existing variables, we will use a correlation heatmap. "
   ]
  },
  {
   "cell_type": "code",
   "execution_count": 13,
   "metadata": {},
   "outputs": [
    {
     "data": {
      "image/png": "[encoded data removed]",
      "text/plain": [
       "<Figure size 1440x504 with 2 Axes>"
      ]
     },
     "metadata": {
      "needs_background": "light"
     },
     "output_type": "display_data"
    }
   ],
   "source": [
    "msno.heatmap(bank_stats, cmap='rainbow',figsize=(20,7),fontsize=10)\n",
    "plt.xticks(rotation=0)\n",
    "plt.suptitle('Heatmap plot - visualizing correlation of columns with missing values')\n",
    "plt.show()"
   ]
  },
  {
   "cell_type": "markdown",
   "metadata": {},
   "source": [
    "Regarding the graphs, we can say that column *days_employed* is highly dependent on the missingness of column *total_income* and vice-versa."
   ]
  },
  {
   "cell_type": "markdown",
   "metadata": {},
   "source": [
    "It might be helpful to see what percentage of the values in our dataset were missing to give us a better sense of the scale of this problem."
   ]
  },
  {
   "cell_type": "code",
   "execution_count": 14,
   "metadata": {},
   "outputs": [
    {
     "name": "stdout",
     "output_type": "stream",
     "text": [
      "1.683313975996903\n"
     ]
    }
   ],
   "source": [
    "total_cells = np.product(bank_stats.shape)\n",
    "total_missing = bank_stats.isnull().sum().sum()\n",
    "\n",
    "# percent of data that is missing\n",
    "percent_missing = (total_missing/total_cells) * 100\n",
    "print(percent_missing)"
   ]
  },
  {
   "cell_type": "markdown",
   "metadata": {},
   "source": [
    "It's quite a lot.. *4348* values missed. We found out which columns have missing values. Let's take a closer look at the `days_employed` and `total_income` columns. It is good to mention that in both columns, we have the same amount of missing values.Missing values of `days_employed` are accompanied by missing values in `total_income` and vice versa. These two fields are uniquely related: missing data in one means missing data in the other. We have encountered one type of missing values - *MNAR* (*Missing not at random*). [Here](https://towardsdatascience.com/how-to-identify-missingness-types-with-missingno-61cfe0449ad9)'s good article about types of missing values. Missing values indicate that we have a problem with the data record, or clients intentionally left out the information in the total employment history and monthly income fields  or haven't had any job at the moment. It is better to reach out to a person/customer ,who gave the data, to get more information. In our case, we failed in reaching our the customer and we will try use our intuition."
   ]
  },
  {
   "cell_type": "markdown",
   "metadata": {},
   "source": [
    "Let's make a function that will print the number of missing values. It will help us in the future."
   ]
  },
  {
   "cell_type": "code",
   "execution_count": 15,
   "metadata": {},
   "outputs": [],
   "source": [
    "def checkMissingValues(columnName,df):\n",
    "    \"\"\" This function prints the number of missing values of a dataframe and column specified in parameters \"\"\"\n",
    "    \"\"\" columnName - column name \"\"\"\n",
    "    \"\"\" df - dataframe \"\"\"\n",
    "    print(columnName,\"checking for missing values, number of rows with missing value: \",len(df[df[columnName].isna()]))"
   ]
  },
  {
   "cell_type": "markdown",
   "metadata": {},
   "source": [
    "Let's find the lines with the missing value in `days_employed`. Display the first 5 lines."
   ]
  },
  {
   "cell_type": "code",
   "execution_count": 16,
   "metadata": {},
   "outputs": [
    {
     "data": {
      "text/html": [
       "<div>\n",
       "<style scoped>\n",
       "    .dataframe tbody tr th:only-of-type {\n",
       "        vertical-align: middle;\n",
       "    }\n",
       "\n",
       "    .dataframe tbody tr th {\n",
       "        vertical-align: top;\n",
       "    }\n",
       "\n",
       "    .dataframe thead th {\n",
       "        text-align: right;\n",
       "    }\n",
       "</style>\n",
       "<table border=\"1\" class=\"dataframe\">\n",
       "  <thead>\n",
       "    <tr style=\"text-align: right;\">\n",
       "      <th></th>\n",
       "      <th>children</th>\n",
       "      <th>days_employed</th>\n",
       "      <th>age</th>\n",
       "      <th>education</th>\n",
       "      <th>education_id</th>\n",
       "      <th>family_status</th>\n",
       "      <th>family_status_id</th>\n",
       "      <th>gender</th>\n",
       "      <th>income_type</th>\n",
       "      <th>debt</th>\n",
       "      <th>total_income</th>\n",
       "      <th>purpose</th>\n",
       "    </tr>\n",
       "  </thead>\n",
       "  <tbody>\n",
       "    <tr>\n",
       "      <td>12</td>\n",
       "      <td>0</td>\n",
       "      <td>NaN</td>\n",
       "      <td>65</td>\n",
       "      <td>secondary education</td>\n",
       "      <td>1</td>\n",
       "      <td>civil partnership</td>\n",
       "      <td>1</td>\n",
       "      <td>M</td>\n",
       "      <td>retiree</td>\n",
       "      <td>0</td>\n",
       "      <td>NaN</td>\n",
       "      <td>to have a wedding</td>\n",
       "    </tr>\n",
       "    <tr>\n",
       "      <td>26</td>\n",
       "      <td>0</td>\n",
       "      <td>NaN</td>\n",
       "      <td>41</td>\n",
       "      <td>secondary education</td>\n",
       "      <td>1</td>\n",
       "      <td>married</td>\n",
       "      <td>0</td>\n",
       "      <td>M</td>\n",
       "      <td>civil servant</td>\n",
       "      <td>0</td>\n",
       "      <td>NaN</td>\n",
       "      <td>education</td>\n",
       "    </tr>\n",
       "    <tr>\n",
       "      <td>29</td>\n",
       "      <td>0</td>\n",
       "      <td>NaN</td>\n",
       "      <td>63</td>\n",
       "      <td>secondary education</td>\n",
       "      <td>1</td>\n",
       "      <td>unmarried</td>\n",
       "      <td>4</td>\n",
       "      <td>F</td>\n",
       "      <td>retiree</td>\n",
       "      <td>0</td>\n",
       "      <td>NaN</td>\n",
       "      <td>building a real estate</td>\n",
       "    </tr>\n",
       "    <tr>\n",
       "      <td>41</td>\n",
       "      <td>0</td>\n",
       "      <td>NaN</td>\n",
       "      <td>50</td>\n",
       "      <td>secondary education</td>\n",
       "      <td>1</td>\n",
       "      <td>married</td>\n",
       "      <td>0</td>\n",
       "      <td>F</td>\n",
       "      <td>civil servant</td>\n",
       "      <td>0</td>\n",
       "      <td>NaN</td>\n",
       "      <td>second-hand car purchase</td>\n",
       "    </tr>\n",
       "    <tr>\n",
       "      <td>55</td>\n",
       "      <td>0</td>\n",
       "      <td>NaN</td>\n",
       "      <td>54</td>\n",
       "      <td>secondary education</td>\n",
       "      <td>1</td>\n",
       "      <td>civil partnership</td>\n",
       "      <td>1</td>\n",
       "      <td>F</td>\n",
       "      <td>retiree</td>\n",
       "      <td>1</td>\n",
       "      <td>NaN</td>\n",
       "      <td>to have a wedding</td>\n",
       "    </tr>\n",
       "  </tbody>\n",
       "</table>\n",
       "</div>"
      ],
      "text/plain": [
       "    children  days_employed  age            education  education_id  \\\n",
       "12         0            NaN   65  secondary education             1   \n",
       "26         0            NaN   41  secondary education             1   \n",
       "29         0            NaN   63  secondary education             1   \n",
       "41         0            NaN   50  secondary education             1   \n",
       "55         0            NaN   54  secondary education             1   \n",
       "\n",
       "        family_status  family_status_id gender    income_type  debt  \\\n",
       "12  civil partnership                 1      M        retiree     0   \n",
       "26            married                 0      M  civil servant     0   \n",
       "29          unmarried                 4      F        retiree     0   \n",
       "41            married                 0      F  civil servant     0   \n",
       "55  civil partnership                 1      F        retiree     1   \n",
       "\n",
       "    total_income                   purpose  \n",
       "12           NaN         to have a wedding  \n",
       "26           NaN                 education  \n",
       "29           NaN    building a real estate  \n",
       "41           NaN  second-hand car purchase  \n",
       "55           NaN         to have a wedding  "
      ]
     },
     "execution_count": 16,
     "metadata": {},
     "output_type": "execute_result"
    }
   ],
   "source": [
    "bank_stats[bank_stats['days_employed'].isnull()].head()"
   ]
  },
  {
   "cell_type": "markdown",
   "metadata": {},
   "source": [
    "To solve the problem in the `days_employed` column, we need to fill these values with the median. Before calculating the median, we need to solve the problem of negative total years of service and make sure that there are no abnormal values in the `days_employed` column."
   ]
  },
  {
   "cell_type": "markdown",
   "metadata": {},
   "source": [
    "Let's use the [abs()](https://pandas.pydata.org/pandas-docs/stable/reference/api/pandas.Series.abs.html?highlight=abs) method to solve the negative years of service"
   ]
  },
  {
   "cell_type": "code",
   "execution_count": 17,
   "metadata": {},
   "outputs": [],
   "source": [
    "bank_stats['days_employed'] = bank_stats['days_employed'].abs()"
   ]
  },
  {
   "cell_type": "markdown",
   "metadata": {},
   "source": [
    "Let's check the result. Make sure there are no more negative values in the `days_employed` column."
   ]
  },
  {
   "cell_type": "code",
   "execution_count": 18,
   "metadata": {},
   "outputs": [
    {
     "data": {
      "text/plain": [
       "0"
      ]
     },
     "execution_count": 18,
     "metadata": {},
     "output_type": "execute_result"
    }
   ],
   "source": [
    "countNegativeValues = bank_stats[bank_stats['days_employed'] < 0].count().sum()\n",
    "#displaying countNegativeValues \n",
    "countNegativeValues"
   ]
  },
  {
   "cell_type": "markdown",
   "metadata": {},
   "source": [
    "Let's convert the total length of service in days to total length of service in years and change the name from `days_employed` to `years_employed`."
   ]
  },
  {
   "cell_type": "code",
   "execution_count": 19,
   "metadata": {},
   "outputs": [],
   "source": [
    "# Divide the total length of service in days by 262 working days in 2020. https://hr.uiowa.edu/pay/payroll-services/payroll-calendars/working-day-payroll-calendar-2020\n",
    "bank_stats['days_employed'] = bank_stats['days_employed'] / 262\n",
    "# Renaming the column to years_employed\n",
    "bank_stats = bank_stats.rename(columns={'days_employed':'years_employed'})"
   ]
  },
  {
   "cell_type": "markdown",
   "metadata": {},
   "source": [
    "Let's take the maximum years of service ~ 47 years and see how many rows exceed this value and save it in a separate table `above_years_employed`. "
   ]
  },
  {
   "cell_type": "code",
   "execution_count": 20,
   "metadata": {},
   "outputs": [
    {
     "data": {
      "text/plain": [
       "3521"
      ]
     },
     "execution_count": 20,
     "metadata": {},
     "output_type": "execute_result"
    }
   ],
   "source": [
    "above_years_employed = bank_stats[bank_stats['years_employed'] > 47]\n",
    "above_years_employed['years_employed'].count().sum()"
   ]
  },
  {
   "cell_type": "markdown",
   "metadata": {},
   "source": [
    "*3521* rows that exceeeds the maximum years of service. First, let's take a look at the result by displaying the first 5 rows."
   ]
  },
  {
   "cell_type": "code",
   "execution_count": 21,
   "metadata": {},
   "outputs": [
    {
     "data": {
      "text/html": [
       "<div>\n",
       "<style scoped>\n",
       "    .dataframe tbody tr th:only-of-type {\n",
       "        vertical-align: middle;\n",
       "    }\n",
       "\n",
       "    .dataframe tbody tr th {\n",
       "        vertical-align: top;\n",
       "    }\n",
       "\n",
       "    .dataframe thead th {\n",
       "        text-align: right;\n",
       "    }\n",
       "</style>\n",
       "<table border=\"1\" class=\"dataframe\">\n",
       "  <thead>\n",
       "    <tr style=\"text-align: right;\">\n",
       "      <th></th>\n",
       "      <th>children</th>\n",
       "      <th>years_employed</th>\n",
       "      <th>age</th>\n",
       "      <th>education</th>\n",
       "      <th>education_id</th>\n",
       "      <th>family_status</th>\n",
       "      <th>family_status_id</th>\n",
       "      <th>gender</th>\n",
       "      <th>income_type</th>\n",
       "      <th>debt</th>\n",
       "      <th>total_income</th>\n",
       "      <th>purpose</th>\n",
       "    </tr>\n",
       "  </thead>\n",
       "  <tbody>\n",
       "    <tr>\n",
       "      <td>4</td>\n",
       "      <td>0</td>\n",
       "      <td>1298.725466</td>\n",
       "      <td>53</td>\n",
       "      <td>secondary education</td>\n",
       "      <td>1</td>\n",
       "      <td>civil partnership</td>\n",
       "      <td>1</td>\n",
       "      <td>F</td>\n",
       "      <td>retiree</td>\n",
       "      <td>0</td>\n",
       "      <td>158616.077870</td>\n",
       "      <td>to have a wedding</td>\n",
       "    </tr>\n",
       "    <tr>\n",
       "      <td>18</td>\n",
       "      <td>0</td>\n",
       "      <td>1527.790599</td>\n",
       "      <td>53</td>\n",
       "      <td>secondary education</td>\n",
       "      <td>1</td>\n",
       "      <td>widow / widower</td>\n",
       "      <td>2</td>\n",
       "      <td>F</td>\n",
       "      <td>retiree</td>\n",
       "      <td>0</td>\n",
       "      <td>56823.777243</td>\n",
       "      <td>buying a second-hand car</td>\n",
       "    </tr>\n",
       "    <tr>\n",
       "      <td>24</td>\n",
       "      <td>1</td>\n",
       "      <td>1292.183026</td>\n",
       "      <td>57</td>\n",
       "      <td>secondary education</td>\n",
       "      <td>1</td>\n",
       "      <td>unmarried</td>\n",
       "      <td>4</td>\n",
       "      <td>F</td>\n",
       "      <td>retiree</td>\n",
       "      <td>0</td>\n",
       "      <td>290547.235997</td>\n",
       "      <td>transactions with the residential real estate</td>\n",
       "    </tr>\n",
       "    <tr>\n",
       "      <td>25</td>\n",
       "      <td>0</td>\n",
       "      <td>1387.589654</td>\n",
       "      <td>67</td>\n",
       "      <td>secondary education</td>\n",
       "      <td>1</td>\n",
       "      <td>married</td>\n",
       "      <td>0</td>\n",
       "      <td>M</td>\n",
       "      <td>retiree</td>\n",
       "      <td>0</td>\n",
       "      <td>55112.757732</td>\n",
       "      <td>buy real estate</td>\n",
       "    </tr>\n",
       "    <tr>\n",
       "      <td>30</td>\n",
       "      <td>1</td>\n",
       "      <td>1280.846063</td>\n",
       "      <td>62</td>\n",
       "      <td>secondary education</td>\n",
       "      <td>1</td>\n",
       "      <td>married</td>\n",
       "      <td>0</td>\n",
       "      <td>F</td>\n",
       "      <td>retiree</td>\n",
       "      <td>0</td>\n",
       "      <td>171456.067993</td>\n",
       "      <td>transactions with the residential real estate</td>\n",
       "    </tr>\n",
       "  </tbody>\n",
       "</table>\n",
       "</div>"
      ],
      "text/plain": [
       "    children  years_employed  age            education  education_id  \\\n",
       "4          0     1298.725466   53  secondary education             1   \n",
       "18         0     1527.790599   53  secondary education             1   \n",
       "24         1     1292.183026   57  secondary education             1   \n",
       "25         0     1387.589654   67  secondary education             1   \n",
       "30         1     1280.846063   62  secondary education             1   \n",
       "\n",
       "        family_status  family_status_id gender income_type  debt  \\\n",
       "4   civil partnership                 1      F     retiree     0   \n",
       "18    widow / widower                 2      F     retiree     0   \n",
       "24          unmarried                 4      F     retiree     0   \n",
       "25            married                 0      M     retiree     0   \n",
       "30            married                 0      F     retiree     0   \n",
       "\n",
       "     total_income                                        purpose  \n",
       "4   158616.077870                              to have a wedding  \n",
       "18   56823.777243                       buying a second-hand car  \n",
       "24  290547.235997  transactions with the residential real estate  \n",
       "25   55112.757732                                buy real estate  \n",
       "30  171456.067993  transactions with the residential real estate  "
      ]
     },
     "execution_count": 21,
     "metadata": {},
     "output_type": "execute_result"
    }
   ],
   "source": [
    "above_years_employed.head()"
   ]
  },
  {
   "cell_type": "markdown",
   "metadata": {},
   "source": [
    "Let's see what type of employment prevails in this table by calling the [value_counts()](https://pandas.pydata.org/pandas-docs/stable/reference/api/pandas.Series.value_counts.html?highlight=value_counts#pandas.Series.value_counts) method."
   ]
  },
  {
   "cell_type": "code",
   "execution_count": 22,
   "metadata": {},
   "outputs": [
    {
     "data": {
      "text/plain": [
       "retiree          3443\n",
       "employee           49\n",
       "partner            14\n",
       "civil servant      13\n",
       "unempoyed           2\n",
       "Name: income_type, dtype: int64"
      ]
     },
     "execution_count": 22,
     "metadata": {},
     "output_type": "execute_result"
    }
   ],
   "source": [
    "above_years_employed['income_type'].value_counts()"
   ]
  },
  {
   "cell_type": "markdown",
   "metadata": {},
   "source": [
    "As we can see, most of the values are made up of retirees. Let's compare the number of retirees with an abnormal value with the total number of retirees in our original table by using a set of methods [count()](https://pandas.pydata.org/pandas-docs/stable/reference/api/pandas.DataFrame.count.html?highlight=count#pandas.DataFrame.count) and [sum()](https://pandas.pydata.org/pandas-docs/stable/reference/api/pandas.DataFrame.sum.html?highlight=sum#pandas.DataFrame.sum) methods."
   ]
  },
  {
   "cell_type": "code",
   "execution_count": 23,
   "metadata": {},
   "outputs": [
    {
     "name": "stdout",
     "output_type": "stream",
     "text": [
      "values are the same\n"
     ]
    }
   ],
   "source": [
    "elderly_years_employed = bank_stats[bank_stats['income_type']=='пенсионер']['years_employed'].count().sum()\n",
    "elderly_above_years_employed = above_years_employed[above_years_employed['income_type']=='пенсионер']['years_employed'].count().sum()\n",
    "\n",
    "# comparing number of retirees with abnormal values with number of retirees of original table\n",
    "if (elderly_years_employed==elderly_above_years_employed):\n",
    "    print('values are the same')\n",
    "else:\n",
    "    print('values are not the same')"
   ]
  },
  {
   "cell_type": "markdown",
   "metadata": {},
   "source": [
    "As we can see, the values matched. Consequently, we can replace our abnormal values with the average value. Let's turn to the information on the average number of years of service. https://www150.statcan.gc.ca/t1/tbl1/en/tv.action?pid=1410005501 . For retirees, we can take the maximum number of years of service ~20 years and more. For others, let's take the average ~8 years according to the website."
   ]
  },
  {
   "cell_type": "code",
   "execution_count": 24,
   "metadata": {},
   "outputs": [],
   "source": [
    "bank_stats.loc[(bank_stats['income_type']=='retiree') & (bank_stats['years_employed'] > 47), 'years_employed'] = 20"
   ]
  },
  {
   "cell_type": "markdown",
   "metadata": {},
   "source": [
    "Let's check the result"
   ]
  },
  {
   "cell_type": "code",
   "execution_count": 25,
   "metadata": {},
   "outputs": [
    {
     "data": {
      "text/plain": [
       "78"
      ]
     },
     "execution_count": 25,
     "metadata": {},
     "output_type": "execute_result"
    }
   ],
   "source": [
    "bank_stats[bank_stats['years_employed'] > 47]['years_employed'].count().sum()"
   ]
  },
  {
   "cell_type": "markdown",
   "metadata": {},
   "source": [
    "For others, we assign the average ~8 years."
   ]
  },
  {
   "cell_type": "code",
   "execution_count": 26,
   "metadata": {},
   "outputs": [],
   "source": [
    "bank_stats.loc[bank_stats['years_employed'] > 47, 'years_employed'] = 8"
   ]
  },
  {
   "cell_type": "markdown",
   "metadata": {},
   "source": [
    "Calculate the median in the `years_employed` column, process the rows with missing values with median."
   ]
  },
  {
   "cell_type": "code",
   "execution_count": 27,
   "metadata": {},
   "outputs": [],
   "source": [
    "# Removing zero values\n",
    "non_zero_years_employed = bank_stats.years_employed != 0\n",
    "# Calculating median\n",
    "median_years_employed = bank_stats.loc[non_zero_years_employed,:]['years_employed'].median()\n",
    "\n",
    "# fill missing values with fillna() method https://pandas.pydata.org/pandas-docs/stable/reference/api/pandas.DataFrame.fillna.html?highlight=fillna\n",
    "bank_stats['years_employed'] = bank_stats['years_employed'].fillna(median_years_employed)"
   ]
  },
  {
   "cell_type": "markdown",
   "metadata": {},
   "source": [
    "Let's check the work by calling our custom function *checkMissingValues()*"
   ]
  },
  {
   "cell_type": "code",
   "execution_count": 28,
   "metadata": {},
   "outputs": [
    {
     "name": "stdout",
     "output_type": "stream",
     "text": [
      "years_employed checking for missing values, number of rows with missing value:  0\n"
     ]
    }
   ],
   "source": [
    "checkMissingValues('years_employed',bank_stats)"
   ]
  },
  {
   "cell_type": "markdown",
   "metadata": {},
   "source": [
    "Great, let's move on to *total_income* column."
   ]
  },
  {
   "cell_type": "markdown",
   "metadata": {},
   "source": [
    "Let's group the data by income_type. We will find the medians and averages. First, let's see how many clients the bank has in each employment type category by using [value_counts()](https://pandas.pydata.org/pandas-docs/stable/reference/api/pandas.Series.value_counts.html?highlight=value_counts#pandas.Series.value_counts) method."
   ]
  },
  {
   "cell_type": "code",
   "execution_count": 29,
   "metadata": {},
   "outputs": [
    {
     "data": {
      "text/plain": [
       "employee                       11119\n",
       "partner                         5085\n",
       "retiree                         3856\n",
       "civil servant                   1459\n",
       "unempoyed                          2\n",
       "entrepreneur                       2\n",
       "student                            1\n",
       "paternity / maternity leave        1\n",
       "Name: income_type, dtype: int64"
      ]
     },
     "execution_count": 29,
     "metadata": {},
     "output_type": "execute_result"
    }
   ],
   "source": [
    "bank_stats['income_type'].value_counts()"
   ]
  },
  {
   "cell_type": "markdown",
   "metadata": {},
   "source": [
    "Let's take for the median category: *employee,partner,retiree,civil servant* because they make up the majority of bank customers."
   ]
  },
  {
   "cell_type": "code",
   "execution_count": 30,
   "metadata": {},
   "outputs": [
    {
     "data": {
      "text/plain": [
       "income_type\n",
       "civil servant    150447.935283\n",
       "employee         142594.396847\n",
       "partner          172357.950966\n",
       "retiree          118514.486412\n",
       "Name: total_income, dtype: float64"
      ]
     },
     "execution_count": 30,
     "metadata": {},
     "output_type": "execute_result"
    }
   ],
   "source": [
    "main_pick = bank_stats['income_type'].isin(['employee', 'partner', 'retiree', 'civil servant'])\n",
    "# Removing zero values for calculating median\n",
    "non_zero_total = bank_stats.total_income != 0\n",
    "# Calculating median, grouping by income_type. We use a set of methods https://pandas.pydata.org/pandas-docs/stable/reference/api/pandas.DataFrame.groupby.html?highlight=groupby#pandas.DataFrame.groupby \n",
    "# and https://pandas.pydata.org/pandas-docs/stable/reference/api/pandas.core.groupby.GroupBy.median.html?highlight=median#pandas.core.groupby.GroupBy.median\n",
    "medians = bank_stats.loc[main_pick & non_zero_total,:].groupby('income_type')['total_income'].median()\n",
    "medians"
   ]
  },
  {
   "cell_type": "markdown",
   "metadata": {},
   "source": [
    "Group the remaining categories and calculate the mean."
   ]
  },
  {
   "cell_type": "code",
   "execution_count": 31,
   "metadata": {},
   "outputs": [
    {
     "data": {
      "text/plain": [
       "income_type\n",
       "entrepreneur                   499163.144947\n",
       "paternity / maternity leave     53829.130729\n",
       "student                         98201.625314\n",
       "unempoyed                      131339.751676\n",
       "Name: total_income, dtype: float64"
      ]
     },
     "execution_count": 31,
     "metadata": {},
     "output_type": "execute_result"
    }
   ],
   "source": [
    "# mean() method - https://pandas.pydata.org/pandas-docs/stable/reference/api/pandas.core.groupby.GroupBy.mean.html?highlight=mean#pandas.core.groupby.GroupBy.mean\n",
    "means = bank_stats.loc[~main_pick & non_zero_total,:].groupby('income_type')['total_income'].mean()\n",
    "means"
   ]
  },
  {
   "cell_type": "code",
   "execution_count": 32,
   "metadata": {},
   "outputs": [
    {
     "data": {
      "text/plain": [
       "income_type\n",
       "civil servant                  150447.935283\n",
       "employee                       142594.396847\n",
       "partner                        172357.950966\n",
       "retiree                        118514.486412\n",
       "entrepreneur                   499163.144947\n",
       "paternity / maternity leave     53829.130729\n",
       "student                         98201.625314\n",
       "unempoyed                      131339.751676\n",
       "Name: total_income, dtype: float64"
      ]
     },
     "execution_count": 32,
     "metadata": {},
     "output_type": "execute_result"
    }
   ],
   "source": [
    "# Combining resulting tables\n",
    "# Append() method - https://pandas.pydata.org/pandas-docs/stable/reference/api/pandas.DataFrame.append.html?highlight=append#pandas.DataFrame.append\n",
    "total_dict = medians.append(means)\n",
    "# Displaying the resulting dictionary\n",
    "total_dict"
   ]
  },
  {
   "cell_type": "markdown",
   "metadata": {},
   "source": [
    "Let's make a function that will return a value from the dictionary. "
   ]
  },
  {
   "cell_type": "code",
   "execution_count": 33,
   "metadata": {},
   "outputs": [],
   "source": [
    "def fill_total(row,dictionary,by):\n",
    "    \"\"\"This function returns a value from the dictionary and will be applied to the row\"\"\"\n",
    "    \"\"\"row - row that gets passed from our dataframe\"\"\"\n",
    "    \"\"\"dictionary - our total_dict where we will get the value total_income\"\"\"\n",
    "    \"\"\"by - based on specified column, we will be getting the value from our dictionary\"\"\"\n",
    "    return dictionary[row[by]]"
   ]
  },
  {
   "cell_type": "markdown",
   "metadata": {},
   "source": [
    "Example:\n",
    "\n",
    "We pass a row specifying the income_type column. For example the value of that column and row will be \"*employee*\". It will return the value based on the income_type from the dictionary."
   ]
  },
  {
   "cell_type": "code",
   "execution_count": 34,
   "metadata": {},
   "outputs": [
    {
     "data": {
      "text/plain": [
       "142594.39684740017"
      ]
     },
     "execution_count": 34,
     "metadata": {},
     "output_type": "execute_result"
    }
   ],
   "source": [
    "total_dict['employee']"
   ]
  },
  {
   "cell_type": "markdown",
   "metadata": {},
   "source": [
    "Let's apply our function to our dataframe, filling in the missing values in the *total_income* column. We will use [apply()](https://pandas.pydata.org/docs/reference/api/pandas.Series.apply.html?highlight=apply#pandas.Series.apply) method."
   ]
  },
  {
   "cell_type": "code",
   "execution_count": 35,
   "metadata": {},
   "outputs": [],
   "source": [
    "# Assign the values from the resulting Series(dictionary) to the rows with the missing value of the total_income column\n",
    "bank_stats.loc[bank_stats.total_income.isna()==True,'total_income']= bank_stats.loc[bank_stats.total_income.isna()==True].apply(fill_total\n",
    "                                                                                                                                ,dictionary = total_dict\n",
    "                                                                                                                                ,by='income_type'\n",
    "                                                                                                                                ,axis=1)"
   ]
  },
  {
   "cell_type": "markdown",
   "metadata": {},
   "source": [
    "Checking the result"
   ]
  },
  {
   "cell_type": "code",
   "execution_count": 36,
   "metadata": {},
   "outputs": [
    {
     "name": "stdout",
     "output_type": "stream",
     "text": [
      "total_income checking for missing values, number of rows with missing value:  0\n"
     ]
    }
   ],
   "source": [
    "checkMissingValues('total_income',bank_stats)"
   ]
  },
  {
   "cell_type": "code",
   "execution_count": 37,
   "metadata": {},
   "outputs": [
    {
     "data": {
      "text/plain": [
       "children            0\n",
       "years_employed      0\n",
       "age                 0\n",
       "education           0\n",
       "education_id        0\n",
       "family_status       0\n",
       "family_status_id    0\n",
       "gender              0\n",
       "income_type         0\n",
       "debt                0\n",
       "total_income        0\n",
       "purpose             0\n",
       "dtype: int64"
      ]
     },
     "execution_count": 37,
     "metadata": {},
     "output_type": "execute_result"
    }
   ],
   "source": [
    "bank_stats.isna().sum()"
   ]
  },
  {
   "cell_type": "markdown",
   "metadata": {},
   "source": [
    "We have processed the missing values. Let's move on changing data types."
   ]
  },
  {
   "cell_type": "markdown",
   "metadata": {},
   "source": [
    "<a id=\"dataTypes\"></a>\n",
    "## Changing data types"
   ]
  },
  {
   "cell_type": "markdown",
   "metadata": {},
   "source": [
    "It would be appropriate and helpful to change of some columns for further analysis. Let's check the data types of the whole dataframe by using [dtypes](https://pandas.pydata.org/docs/reference/api/pandas.DataFrame.dtypes.html?highlight=dtypes#pandas.DataFrame.dtypes) attribute."
   ]
  },
  {
   "cell_type": "code",
   "execution_count": 38,
   "metadata": {},
   "outputs": [
    {
     "data": {
      "text/plain": [
       "children              int64\n",
       "years_employed      float64\n",
       "age                   int64\n",
       "education            object\n",
       "education_id          int64\n",
       "family_status        object\n",
       "family_status_id      int64\n",
       "gender               object\n",
       "income_type          object\n",
       "debt                  int64\n",
       "total_income        float64\n",
       "purpose              object\n",
       "dtype: object"
      ]
     },
     "execution_count": 38,
     "metadata": {},
     "output_type": "execute_result"
    }
   ],
   "source": [
    "bank_stats.dtypes"
   ]
  },
  {
   "cell_type": "markdown",
   "metadata": {},
   "source": [
    "Let's change the data type of column *years_employed* from float64 to int64. "
   ]
  },
  {
   "cell_type": "code",
   "execution_count": 39,
   "metadata": {},
   "outputs": [],
   "source": [
    "try:\n",
    "    bank_stats['years_employed'] = bank_stats['years_employed'].astype('int')\n",
    "except:\n",
    "    print('Check for missing values. Data type - NaN can not be converted to int')"
   ]
  },
  {
   "cell_type": "markdown",
   "metadata": {},
   "source": [
    "Also, let's change the data type of *debt* column to appropriate one (boolean)."
   ]
  },
  {
   "cell_type": "code",
   "execution_count": 40,
   "metadata": {},
   "outputs": [],
   "source": [
    "try:\n",
    "    bank_stats['debt'] = bank_stats['debt'].astype('bool')\n",
    "except:\n",
    "    print('Check for missing values. Data type - NaN can not be converted to bool')"
   ]
  },
  {
   "cell_type": "markdown",
   "metadata": {},
   "source": [
    "Checking data types of the whole dataframe."
   ]
  },
  {
   "cell_type": "code",
   "execution_count": 41,
   "metadata": {},
   "outputs": [
    {
     "data": {
      "text/plain": [
       "children              int64\n",
       "years_employed        int64\n",
       "age                   int64\n",
       "education            object\n",
       "education_id          int64\n",
       "family_status        object\n",
       "family_status_id      int64\n",
       "gender               object\n",
       "income_type          object\n",
       "debt                   bool\n",
       "total_income        float64\n",
       "purpose              object\n",
       "dtype: object"
      ]
     },
     "execution_count": 41,
     "metadata": {},
     "output_type": "execute_result"
    }
   ],
   "source": [
    "bank_stats.dtypes"
   ]
  },
  {
   "cell_type": "markdown",
   "metadata": {},
   "source": [
    "Great, we are done with data types. Let's proceed to checking for duplicate values."
   ]
  },
  {
   "cell_type": "markdown",
   "metadata": {},
   "source": [
    "<a id=\"duplicateValues\"></a>\n",
    "## Duplicate values"
   ]
  },
  {
   "cell_type": "markdown",
   "metadata": {},
   "source": [
    "It also important to look for duplicate values. If we don't locate them in time, our analysis will be in danger of ending up with flawed conclusion."
   ]
  },
  {
   "cell_type": "markdown",
   "metadata": {},
   "source": [
    "So, it is necessary to establish the presence of duplicates. If there are duplicates - delete them, otherwise the analysis of data may lead to incorrect results. Let's use the set of methods [duplicated()](https://pandas.pydata.org/docs/reference/api/pandas.DataFrame.duplicated.html?highlight=duplicated#pandas.DataFrame.duplicated) and [sum()](https://pandas.pydata.org/docs/reference/api/pandas.DataFrame.sum.html?highlight=sum#pandas.DataFrame.sum)."
   ]
  },
  {
   "cell_type": "code",
   "execution_count": 42,
   "metadata": {},
   "outputs": [
    {
     "data": {
      "text/plain": [
       "54"
      ]
     },
     "execution_count": 42,
     "metadata": {},
     "output_type": "execute_result"
    }
   ],
   "source": [
    "bank_stats.duplicated().sum()"
   ]
  },
  {
   "cell_type": "markdown",
   "metadata": {},
   "source": [
    "Most likely, duplicates could have appeared due to a failure in data loading. Remove duplicates with method [drop_duplicates()](https://pandas.pydata.org/docs/reference/api/pandas.DataFrame.drop_duplicates.html?highlight=drop_duplicates#pandas.DataFrame.drop_duplicates).Save indexes with method [reset_index()](https://pandas.pydata.org/docs/reference/api/pandas.DataFrame.reset_index.html?highlight=reset_index#pandas.DataFrame.reset_index) by chaining it together. Save the result to our table. "
   ]
  },
  {
   "cell_type": "code",
   "execution_count": 43,
   "metadata": {},
   "outputs": [],
   "source": [
    "bank_stats = bank_stats.drop_duplicates().reset_index(drop=True)"
   ]
  },
  {
   "cell_type": "code",
   "execution_count": 44,
   "metadata": {},
   "outputs": [
    {
     "data": {
      "text/plain": [
       "0"
      ]
     },
     "execution_count": 44,
     "metadata": {},
     "output_type": "execute_result"
    }
   ],
   "source": [
    "# Checking the result\n",
    "bank_stats.duplicated().sum()"
   ]
  },
  {
   "cell_type": "markdown",
   "metadata": {},
   "source": [
    "Let's look for duplicates in categorical variables. Checking column *education* for duplicates by calling [value_counts()](https://pandas.pydata.org/docs/reference/api/pandas.DataFrame.value_counts.html?highlight=value_counts) method. Previously, at the overview stage we found out that same education level text is written in uppercase and lowercase."
   ]
  },
  {
   "cell_type": "code",
   "execution_count": 45,
   "metadata": {},
   "outputs": [
    {
     "data": {
      "text/plain": [
       "secondary education    13705\n",
       "masters degree          4710\n",
       "SECONDARY EDUCATION      772\n",
       "Secondary Education      711\n",
       "bachelor degree          668\n",
       "MASTERS DEGREE           273\n",
       "Masters Degree           268\n",
       "primary education        250\n",
       "Bachelor Degree           47\n",
       "BACHELOR DEGREE           29\n",
       "PRIMARY EDUCATION         17\n",
       "Primary Education         15\n",
       "academic degree            4\n",
       "ACADEMIC DEGREE            1\n",
       "Academic Degree            1\n",
       "Name: education, dtype: int64"
      ]
     },
     "execution_count": 45,
     "metadata": {},
     "output_type": "execute_result"
    }
   ],
   "source": [
    "bank_stats['education'].value_counts()"
   ]
  },
  {
   "cell_type": "markdown",
   "metadata": {},
   "source": [
    "Note that the values are written in different registers -> hence, there are duplicates. For example, Secondary education, SECONDARY EDUCATION, secondary education. Most likely we have an error in the data recording caused by technological reasons or by human factor, probably an operator was filling values in different registers."
   ]
  },
  {
   "cell_type": "markdown",
   "metadata": {},
   "source": [
    "Let's convert all characters in each row to lower case using the `lower()` method."
   ]
  },
  {
   "cell_type": "code",
   "execution_count": 46,
   "metadata": {},
   "outputs": [],
   "source": [
    "bank_stats['education'] = bank_stats['education'].str.lower()"
   ]
  },
  {
   "cell_type": "code",
   "execution_count": 47,
   "metadata": {},
   "outputs": [
    {
     "data": {
      "text/plain": [
       "secondary education    15188\n",
       "masters degree          5251\n",
       "bachelor degree          744\n",
       "primary education        282\n",
       "academic degree            6\n",
       "Name: education, dtype: int64"
      ]
     },
     "execution_count": 47,
     "metadata": {},
     "output_type": "execute_result"
    }
   ],
   "source": [
    "# Checking result\n",
    "bank_stats['education'].value_counts()"
   ]
  },
  {
   "cell_type": "markdown",
   "metadata": {},
   "source": [
    "We have processed column *education*. Let's move on to checking for duplicates and any other errors of *family_status* column. "
   ]
  },
  {
   "cell_type": "code",
   "execution_count": 48,
   "metadata": {},
   "outputs": [
    {
     "data": {
      "text/plain": [
       "married              12344\n",
       "civil partnership     4163\n",
       "unmarried             2810\n",
       "divorced              1195\n",
       "widow / widower        959\n",
       "Name: family_status, dtype: int64"
      ]
     },
     "execution_count": 48,
     "metadata": {},
     "output_type": "execute_result"
    }
   ],
   "source": [
    "bank_stats['family_status'].value_counts()"
   ]
  },
  {
   "cell_type": "markdown",
   "metadata": {},
   "source": [
    "This column seems ok. There aren't any errors."
   ]
  },
  {
   "cell_type": "markdown",
   "metadata": {},
   "source": [
    "Let's check column *gender*."
   ]
  },
  {
   "cell_type": "code",
   "execution_count": 49,
   "metadata": {},
   "outputs": [
    {
     "data": {
      "text/plain": [
       "F      14189\n",
       "M       7281\n",
       "XNA        1\n",
       "Name: gender, dtype: int64"
      ]
     },
     "execution_count": 49,
     "metadata": {},
     "output_type": "execute_result"
    }
   ],
   "source": [
    "bank_stats['gender'].value_counts()"
   ]
  },
  {
   "cell_type": "markdown",
   "metadata": {},
   "source": [
    "Unknown *XNA* value in the *gender* column. In addition to male (M) and female (F), there is one entry marked XNA, the meaning of which can only be guessed (probably \"third gender\")."
   ]
  },
  {
   "cell_type": "code",
   "execution_count": 50,
   "metadata": {},
   "outputs": [
    {
     "data": {
      "text/html": [
       "<div>\n",
       "<style scoped>\n",
       "    .dataframe tbody tr th:only-of-type {\n",
       "        vertical-align: middle;\n",
       "    }\n",
       "\n",
       "    .dataframe tbody tr th {\n",
       "        vertical-align: top;\n",
       "    }\n",
       "\n",
       "    .dataframe thead th {\n",
       "        text-align: right;\n",
       "    }\n",
       "</style>\n",
       "<table border=\"1\" class=\"dataframe\">\n",
       "  <thead>\n",
       "    <tr style=\"text-align: right;\">\n",
       "      <th></th>\n",
       "      <th>children</th>\n",
       "      <th>years_employed</th>\n",
       "      <th>age</th>\n",
       "      <th>education</th>\n",
       "      <th>education_id</th>\n",
       "      <th>family_status</th>\n",
       "      <th>family_status_id</th>\n",
       "      <th>gender</th>\n",
       "      <th>income_type</th>\n",
       "      <th>debt</th>\n",
       "      <th>total_income</th>\n",
       "      <th>purpose</th>\n",
       "    </tr>\n",
       "  </thead>\n",
       "  <tbody>\n",
       "    <tr>\n",
       "      <td>10690</td>\n",
       "      <td>0</td>\n",
       "      <td>9</td>\n",
       "      <td>24</td>\n",
       "      <td>bachelor degree</td>\n",
       "      <td>2</td>\n",
       "      <td>civil partnership</td>\n",
       "      <td>1</td>\n",
       "      <td>XNA</td>\n",
       "      <td>partner</td>\n",
       "      <td>False</td>\n",
       "      <td>203905.157261</td>\n",
       "      <td>buy real estate</td>\n",
       "    </tr>\n",
       "  </tbody>\n",
       "</table>\n",
       "</div>"
      ],
      "text/plain": [
       "       children  years_employed  age        education  education_id  \\\n",
       "10690         0               9   24  bachelor degree             2   \n",
       "\n",
       "           family_status  family_status_id gender income_type   debt  \\\n",
       "10690  civil partnership                 1    XNA     partner  False   \n",
       "\n",
       "        total_income          purpose  \n",
       "10690  203905.157261  buy real estate  "
      ]
     },
     "execution_count": 50,
     "metadata": {},
     "output_type": "execute_result"
    }
   ],
   "source": [
    "bank_stats[bank_stats.gender == 'XNA']"
   ]
  },
  {
   "cell_type": "markdown",
   "metadata": {},
   "source": [
    "We will leave it."
   ]
  },
  {
   "cell_type": "markdown",
   "metadata": {},
   "source": [
    "We are done with duplicates. Let's proceed to finding [abnormal values](https://ellistat.com/en/user-guide/descriptive-statistics/abnormal-value-test)."
   ]
  },
  {
   "cell_type": "markdown",
   "metadata": {},
   "source": [
    "<a id=\"abnormalValues\"></a>\n",
    "## Abnormal values"
   ]
  },
  {
   "cell_type": "markdown",
   "metadata": {},
   "source": [
    "We have already found abnormal values in the *years_employed* column. Let us assume that the abnormal values are in the quantitative variables. Let's see what quantitative variables we have. The *age* and *children* columns are quantitative variables."
   ]
  },
  {
   "cell_type": "markdown",
   "metadata": {},
   "source": [
    "Let's check *children* column by calling [value_counts()](https://pandas.pydata.org/docs/reference/api/pandas.DataFrame.value_counts.html?highlight=value_counts) method."
   ]
  },
  {
   "cell_type": "code",
   "execution_count": 51,
   "metadata": {},
   "outputs": [
    {
     "data": {
      "text/plain": [
       " 0     14107\n",
       " 1      4809\n",
       " 2      2052\n",
       " 3       330\n",
       " 20       76\n",
       "-1        47\n",
       " 4        41\n",
       " 5         9\n",
       "Name: children, dtype: int64"
      ]
     },
     "execution_count": 51,
     "metadata": {},
     "output_type": "execute_result"
    }
   ],
   "source": [
    "bank_stats['children'].value_counts()"
   ]
  },
  {
   "cell_type": "markdown",
   "metadata": {},
   "source": [
    "Most clients do not have children. Note that 76 of the bank's clients have 20 children... This is most likely an anomaly caused by incorrect data entry. Also, notice the negative values. Most likely negative values were also caused by incorrect data entry. "
   ]
  },
  {
   "cell_type": "code",
   "execution_count": 52,
   "metadata": {},
   "outputs": [
    {
     "name": "stdout",
     "output_type": "stream",
     "text": [
      "Proportion of data of clients with 20 children: 0.35%\n"
     ]
    }
   ],
   "source": [
    "# calculate what percentage of client with 20 children constitue from the total number of clients\n",
    "twenty_children_percent =  len(bank_stats.loc[bank_stats['children'] == 20]) / len(bank_stats) \n",
    "print(\"Proportion of data of clients with 20 children: {:.2%}\".format(twenty_children_percent))"
   ]
  },
  {
   "cell_type": "markdown",
   "metadata": {},
   "source": [
    "Let's take a look at that data."
   ]
  },
  {
   "cell_type": "code",
   "execution_count": 53,
   "metadata": {},
   "outputs": [
    {
     "data": {
      "text/html": [
       "<div>\n",
       "<style scoped>\n",
       "    .dataframe tbody tr th:only-of-type {\n",
       "        vertical-align: middle;\n",
       "    }\n",
       "\n",
       "    .dataframe tbody tr th {\n",
       "        vertical-align: top;\n",
       "    }\n",
       "\n",
       "    .dataframe thead th {\n",
       "        text-align: right;\n",
       "    }\n",
       "</style>\n",
       "<table border=\"1\" class=\"dataframe\">\n",
       "  <thead>\n",
       "    <tr style=\"text-align: right;\">\n",
       "      <th></th>\n",
       "      <th>children</th>\n",
       "      <th>years_employed</th>\n",
       "      <th>age</th>\n",
       "      <th>education</th>\n",
       "      <th>education_id</th>\n",
       "      <th>family_status</th>\n",
       "      <th>family_status_id</th>\n",
       "      <th>gender</th>\n",
       "      <th>income_type</th>\n",
       "      <th>debt</th>\n",
       "      <th>total_income</th>\n",
       "      <th>purpose</th>\n",
       "    </tr>\n",
       "  </thead>\n",
       "  <tbody>\n",
       "    <tr>\n",
       "      <td>606</td>\n",
       "      <td>20</td>\n",
       "      <td>3</td>\n",
       "      <td>21</td>\n",
       "      <td>secondary education</td>\n",
       "      <td>1</td>\n",
       "      <td>married</td>\n",
       "      <td>0</td>\n",
       "      <td>M</td>\n",
       "      <td>partner</td>\n",
       "      <td>False</td>\n",
       "      <td>145334.865002</td>\n",
       "      <td>purchase of the house</td>\n",
       "    </tr>\n",
       "    <tr>\n",
       "      <td>720</td>\n",
       "      <td>20</td>\n",
       "      <td>3</td>\n",
       "      <td>44</td>\n",
       "      <td>secondary education</td>\n",
       "      <td>1</td>\n",
       "      <td>married</td>\n",
       "      <td>0</td>\n",
       "      <td>F</td>\n",
       "      <td>partner</td>\n",
       "      <td>False</td>\n",
       "      <td>112998.738649</td>\n",
       "      <td>buy real estate</td>\n",
       "    </tr>\n",
       "    <tr>\n",
       "      <td>1074</td>\n",
       "      <td>20</td>\n",
       "      <td>12</td>\n",
       "      <td>56</td>\n",
       "      <td>secondary education</td>\n",
       "      <td>1</td>\n",
       "      <td>married</td>\n",
       "      <td>0</td>\n",
       "      <td>F</td>\n",
       "      <td>employee</td>\n",
       "      <td>True</td>\n",
       "      <td>229518.537004</td>\n",
       "      <td>getting an education</td>\n",
       "    </tr>\n",
       "    <tr>\n",
       "      <td>2510</td>\n",
       "      <td>20</td>\n",
       "      <td>10</td>\n",
       "      <td>59</td>\n",
       "      <td>masters degree</td>\n",
       "      <td>0</td>\n",
       "      <td>widow / widower</td>\n",
       "      <td>2</td>\n",
       "      <td>F</td>\n",
       "      <td>employee</td>\n",
       "      <td>False</td>\n",
       "      <td>264474.835577</td>\n",
       "      <td>transactions with the residential real estate</td>\n",
       "    </tr>\n",
       "    <tr>\n",
       "      <td>2940</td>\n",
       "      <td>20</td>\n",
       "      <td>8</td>\n",
       "      <td>0</td>\n",
       "      <td>secondary education</td>\n",
       "      <td>1</td>\n",
       "      <td>married</td>\n",
       "      <td>0</td>\n",
       "      <td>F</td>\n",
       "      <td>employee</td>\n",
       "      <td>False</td>\n",
       "      <td>199739.941398</td>\n",
       "      <td>to buy a car</td>\n",
       "    </tr>\n",
       "  </tbody>\n",
       "</table>\n",
       "</div>"
      ],
      "text/plain": [
       "      children  years_employed  age            education  education_id  \\\n",
       "606         20               3   21  secondary education             1   \n",
       "720         20               3   44  secondary education             1   \n",
       "1074        20              12   56  secondary education             1   \n",
       "2510        20              10   59       masters degree             0   \n",
       "2940        20               8    0  secondary education             1   \n",
       "\n",
       "        family_status  family_status_id gender income_type   debt  \\\n",
       "606           married                 0      M     partner  False   \n",
       "720           married                 0      F     partner  False   \n",
       "1074          married                 0      F    employee   True   \n",
       "2510  widow / widower                 2      F    employee  False   \n",
       "2940          married                 0      F    employee  False   \n",
       "\n",
       "       total_income                                        purpose  \n",
       "606   145334.865002                          purchase of the house  \n",
       "720   112998.738649                                buy real estate  \n",
       "1074  229518.537004                           getting an education  \n",
       "2510  264474.835577  transactions with the residential real estate  \n",
       "2940  199739.941398                                   to buy a car  "
      ]
     },
     "execution_count": 53,
     "metadata": {},
     "output_type": "execute_result"
    }
   ],
   "source": [
    "bank_stats.loc[bank_stats['children'] == 20].head()"
   ]
  },
  {
   "cell_type": "markdown",
   "metadata": {},
   "source": [
    "I assume that the problem was caused by human factor. Operator entered data incorreclty. For -1, it looks like 4. As for 20, maybe there is a typo, operator accidentally hit 0 button. Let's fix that."
   ]
  },
  {
   "cell_type": "code",
   "execution_count": 54,
   "metadata": {},
   "outputs": [],
   "source": [
    "bank_stats.loc[bank_stats.children == 20, 'children'] = 2"
   ]
  },
  {
   "cell_type": "code",
   "execution_count": 55,
   "metadata": {},
   "outputs": [],
   "source": [
    "bank_stats.loc[bank_stats.children == -1, 'children'] = 4"
   ]
  },
  {
   "cell_type": "code",
   "execution_count": 56,
   "metadata": {},
   "outputs": [
    {
     "data": {
      "text/plain": [
       "0    14107\n",
       "1     4809\n",
       "2     2128\n",
       "3      330\n",
       "4       88\n",
       "5        9\n",
       "Name: children, dtype: int64"
      ]
     },
     "execution_count": 56,
     "metadata": {},
     "output_type": "execute_result"
    }
   ],
   "source": [
    "# Checking the result\n",
    "bank_stats['children'].value_counts()"
   ]
  },
  {
   "cell_type": "markdown",
   "metadata": {},
   "source": [
    "Let's proceed to checking *age* column."
   ]
  },
  {
   "cell_type": "markdown",
   "metadata": {},
   "source": [
    "The method value_counts() is not suitable in this case. Let's use descriptive statistics. Find the maximum and minimum values in the *age* column and also check for 0 values."
   ]
  },
  {
   "cell_type": "code",
   "execution_count": 57,
   "metadata": {},
   "outputs": [
    {
     "name": "stdout",
     "output_type": "stream",
     "text": [
      "Number of rows with 0 age: 101\n"
     ]
    }
   ],
   "source": [
    "# Check for 0 values\n",
    "print('Number of rows with 0 age:', len(bank_stats.loc[bank_stats.age == 0]))"
   ]
  },
  {
   "cell_type": "markdown",
   "metadata": {},
   "source": [
    "101 rows.. Let's find what percentage of total it constitutes."
   ]
  },
  {
   "cell_type": "code",
   "execution_count": 58,
   "metadata": {},
   "outputs": [
    {
     "name": "stdout",
     "output_type": "stream",
     "text": [
      "Proportion of data with zero age clients: 0.47%\n"
     ]
    }
   ],
   "source": [
    "zero_age_percent =len(bank_stats.loc[bank_stats.age == 0]) / len(bank_stats)\n",
    "print('Proportion of data with zero age clients: {:.2%}'.format(zero_age_percent))"
   ]
  },
  {
   "cell_type": "markdown",
   "metadata": {},
   "source": [
    "We can drop the rows with zero age , since it constitutes a really small amount of data."
   ]
  },
  {
   "cell_type": "code",
   "execution_count": 59,
   "metadata": {},
   "outputs": [],
   "source": [
    "bank_stats = bank_stats[bank_stats['age'] > 0].reset_index(drop=True)"
   ]
  },
  {
   "cell_type": "markdown",
   "metadata": {},
   "source": [
    "Let's find the maximum and minimum age. "
   ]
  },
  {
   "cell_type": "code",
   "execution_count": 60,
   "metadata": {},
   "outputs": [
    {
     "name": "stdout",
     "output_type": "stream",
     "text": [
      "Maximum age: 75\n",
      "Minimum age: 19\n"
     ]
    }
   ],
   "source": [
    "max_age = bank_stats.age.max()\n",
    "min_age = bank_stats.age.min()\n",
    "\n",
    "print('Maximum age:', max_age)\n",
    "print('Minimum age:',min_age)"
   ]
  },
  {
   "cell_type": "markdown",
   "metadata": {},
   "source": [
    "Only zero age was an abnormal value. Let's move on to preparing data for further analysis, categorizing data."
   ]
  },
  {
   "cell_type": "markdown",
   "metadata": {},
   "source": [
    "<a id=\"categorizingData\"></a>\n",
    "## Categorizing data"
   ]
  },
  {
   "cell_type": "markdown",
   "metadata": {},
   "source": [
    "This stage contains data preparation for furhter analysis - data categorization."
   ]
  },
  {
   "cell_type": "markdown",
   "metadata": {},
   "source": [
    "<a id=\"purpose\"></a>\n",
    "## Purpose (NLP part)"
   ]
  },
  {
   "cell_type": "markdown",
   "metadata": {},
   "source": [
    "Previously we noted that *purpose* contains text, which tells about the purpose of getting a loan. So, we need to divide the column *purpose* with the purpose of obtaining credit into categories for what customers are borrowing credit. In this case, we should implement NLP. [Here](https://towardsdatascience.com/your-guide-to-natural-language-processing-nlp-48ea2511f6e1)'s a great article about NLP."
   ]
  },
  {
   "cell_type": "markdown",
   "metadata": {},
   "source": [
    "Let's see how does the purpose field look like by displaying first 5 rows of that column."
   ]
  },
  {
   "cell_type": "code",
   "execution_count": 61,
   "metadata": {},
   "outputs": [
    {
     "data": {
      "text/plain": [
       "0      purchase of the house\n",
       "1               car purchase\n",
       "2      purchase of the house\n",
       "3    supplementary education\n",
       "4          to have a wedding\n",
       "Name: purpose, dtype: object"
      ]
     },
     "execution_count": 61,
     "metadata": {},
     "output_type": "execute_result"
    }
   ],
   "source": [
    "purposes = bank_stats['purpose'].head(5)\n",
    "purposes"
   ]
  },
  {
   "cell_type": "markdown",
   "metadata": {},
   "source": [
    "For now I have explored 2 NLP algorithms at [Yandex Practicum](https://practicum.yandex.com/). In the future I will exlpore more techniques and algorithms to work with text. So, we have 2 algorithms: \n",
    "1. **Stemming**. Stemming - process of finding stem of a given word. [Here](https://towardsdatascience.com/stemming-of-words-in-natural-language-processing-what-is-it-41a33e8996e2)'s article about stemming\n",
    "2. **Lemmatization**. Lemmatization - is more advanced process that returns words back to their dictionary form (*lemma*). [Here](https://towardsdatascience.com/lemmatization-in-natural-language-processing-nlp-and-machine-learning-a4416f69a7b6)'s article about lemmatization.\n",
    "\n",
    "Each algorithm has pros and cons:\n",
    "\n",
    "|Algorithm            |Pros           |Cons           |\n",
    "|:---------------|:------------------------|:-----------------|\n",
    "|Stemming        |Simple to use and runs really fast| Algorithm has 2 problems: under-stemming and over-stemming.| \n",
    "|Lemmatization   |More accurate due to the fact that it uses dictionary form of word (*lemma*).| Slow and it requires a lot of computational resources| "
   ]
  },
  {
   "cell_type": "markdown",
   "metadata": {},
   "source": [
    "Let's try using each algorithm. We will start with stemming."
   ]
  },
  {
   "cell_type": "markdown",
   "metadata": {},
   "source": [
    "<a id=\"stemming\"></a>\n",
    "## Stemming"
   ]
  },
  {
   "cell_type": "code",
   "execution_count": 62,
   "metadata": {},
   "outputs": [],
   "source": [
    "# Initializing stemmer\n",
    "stemmer = SnowballStemmer('english')"
   ]
  },
  {
   "cell_type": "markdown",
   "metadata": {},
   "source": [
    "Let's take 2 rows from the example above and see how the *stemmer* works."
   ]
  },
  {
   "cell_type": "code",
   "execution_count": 63,
   "metadata": {},
   "outputs": [
    {
     "data": {
      "text/plain": [
       "0    purchase of the house\n",
       "1             car purchase\n",
       "Name: purpose, dtype: object"
      ]
     },
     "execution_count": 63,
     "metadata": {},
     "output_type": "execute_result"
    }
   ],
   "source": [
    "examples = purposes.head(2)\n",
    "examples"
   ]
  },
  {
   "cell_type": "code",
   "execution_count": 64,
   "metadata": {},
   "outputs": [
    {
     "name": "stdout",
     "output_type": "stream",
     "text": [
      "purchas\n",
      "of\n",
      "the\n",
      "hous\n",
      "car\n",
      "purchas\n"
     ]
    }
   ],
   "source": [
    "# iterating through purposes from examples list\n",
    "for purpose in examples:\n",
    "    # splitting the text and iterating through each word\n",
    "    for word in purpose.split():\n",
    "        stemmed_word = stemmer.stem(word)\n",
    "        print(stemmed_word)"
   ]
  },
  {
   "cell_type": "markdown",
   "metadata": {},
   "source": [
    "Let's see how the *lemmatization* works with the same example"
   ]
  },
  {
   "cell_type": "markdown",
   "metadata": {},
   "source": [
    "<a id=\"lemmatization\"></a>\n",
    "## Lemmatization"
   ]
  },
  {
   "cell_type": "code",
   "execution_count": 65,
   "metadata": {},
   "outputs": [],
   "source": [
    "# Initializing lemmatizer \n",
    "lemmatizer = WordNetLemmatizer()"
   ]
  },
  {
   "cell_type": "markdown",
   "metadata": {},
   "source": [
    "Example, how lemmatizer works"
   ]
  },
  {
   "cell_type": "code",
   "execution_count": 66,
   "metadata": {},
   "outputs": [
    {
     "name": "stdout",
     "output_type": "stream",
     "text": [
      "dog\n"
     ]
    }
   ],
   "source": [
    "lemma = lemmatizer.lemmatize('dogs')\n",
    "print(lemma)"
   ]
  },
  {
   "cell_type": "markdown",
   "metadata": {},
   "source": [
    "Let's call the [word_tokenize()](https://www.nltk.org/api/nltk.tokenize.html) method to split sentence by words."
   ]
  },
  {
   "cell_type": "code",
   "execution_count": 67,
   "metadata": {},
   "outputs": [
    {
     "name": "stdout",
     "output_type": "stream",
     "text": [
      "Words: ['purchase', 'of', 'the', 'house']\n",
      "Lemmas: ['purchase', 'of', 'the', 'house']\n",
      "Words: ['car', 'purchase']\n",
      "Lemmas: ['car', 'purchase']\n"
     ]
    }
   ],
   "source": [
    "# iterating through purposes from examples list\n",
    "for purpose in examples:\n",
    "    words = nltk.word_tokenize(purpose)\n",
    "    print('Words:',words)\n",
    "    lemmas = [lemmatizer.lemmatize(w) for w in words]\n",
    "    print('Lemmas:',lemmas)"
   ]
  },
  {
   "cell_type": "markdown",
   "metadata": {},
   "source": [
    "As you can see, lemmatizer is more accurate than stemmer."
   ]
  },
  {
   "cell_type": "markdown",
   "metadata": {},
   "source": [
    "Now, let's go back to our task. In our case, we will use lemmatization."
   ]
  },
  {
   "cell_type": "code",
   "execution_count": 68,
   "metadata": {},
   "outputs": [
    {
     "data": {
      "text/plain": [
       "0      purchase of the house\n",
       "1               car purchase\n",
       "2      purchase of the house\n",
       "3    supplementary education\n",
       "4          to have a wedding\n",
       "Name: purpose, dtype: object"
      ]
     },
     "execution_count": 68,
     "metadata": {},
     "output_type": "execute_result"
    }
   ],
   "source": [
    "# Creating corpus https://en.wikipedia.org/wiki/Text_corpus\n",
    "corpus = bank_stats.purpose\n",
    "corpus.head()"
   ]
  },
  {
   "cell_type": "markdown",
   "metadata": {},
   "source": [
    "Make a function that returns the lemmatized text"
   ]
  },
  {
   "cell_type": "code",
   "execution_count": 69,
   "metadata": {},
   "outputs": [],
   "source": [
    "def lemmatize(text):\n",
    "    \"\"\"This function returns \"lemmatized text\"(string of lemmatized words) which contains only letters\"\"\"\n",
    "    \"\"\"text - text to lemmatize\"\"\"\n",
    "    # splitting sentence into words\n",
    "    words = nltk.word_tokenize(text)\n",
    "    # generating stop words https://www.geeksforgeeks.org/removing-stop-words-nltk-python/\n",
    "    stop_words = set(stopwords.words('english'))\n",
    "    return ' '.join([lemmatizer.lemmatize(word) for word in words if not word in stop_words and word.isalpha()])"
   ]
  },
  {
   "cell_type": "code",
   "execution_count": 70,
   "metadata": {},
   "outputs": [
    {
     "name": "stdout",
     "output_type": "stream",
     "text": [
      "CPU times: user 7.92 s, sys: 1.19 s, total: 9.11 s\n",
      "Wall time: 10.9 s\n"
     ]
    },
    {
     "data": {
      "text/plain": [
       "0             purchase house\n",
       "1               car purchase\n",
       "2             purchase house\n",
       "3    supplementary education\n",
       "4                    wedding\n",
       "Name: purpose, dtype: object"
      ]
     },
     "execution_count": 70,
     "metadata": {},
     "output_type": "execute_result"
    }
   ],
   "source": [
    "%%time\n",
    "# Call apply() on our corpus https://pandas.pydata.org/docs/reference/api/pandas.Series.apply.html?highlight=apply#pandas.Series.apply\n",
    "corpus = corpus.apply(lemmatize)\n",
    "corpus.head()"
   ]
  },
  {
   "cell_type": "code",
   "execution_count": 71,
   "metadata": {},
   "outputs": [],
   "source": [
    "# Save corpus in a new column purpose_lemmed\n",
    "bank_stats['purpose_lemmed'] = corpus"
   ]
  },
  {
   "cell_type": "code",
   "execution_count": 72,
   "metadata": {},
   "outputs": [],
   "source": [
    "# Count the number of mentions of lemmatized words in the text. Let's call the Counter container\n",
    "lemma_counter = Counter(' '.join(bank_stats.purpose_lemmed).split())"
   ]
  },
  {
   "cell_type": "code",
   "execution_count": 73,
   "metadata": {},
   "outputs": [
    {
     "data": {
      "text/plain": [
       "[('real', 4449),\n",
       " ('estate', 4449),\n",
       " ('car', 4286),\n",
       " ('purchase', 3293),\n",
       " ('property', 3136),\n",
       " ('education', 3096),\n",
       " ('transaction', 2593),\n",
       " ('buy', 2347),\n",
       " ('wedding', 2321),\n",
       " ('house', 1896),\n",
       " ('buying', 1630),\n",
       " ('housing', 1286),\n",
       " ('residential', 1251),\n",
       " ('building', 1241),\n",
       " ('university', 942),\n",
       " ('getting', 865),\n",
       " ('ceremony', 788),\n",
       " ('commercial', 659),\n",
       " ('renting', 650),\n",
       " ('family', 637),\n",
       " ('construction', 633),\n",
       " ('renovation', 605),\n",
       " ('going', 493),\n",
       " ('supplementary', 458),\n",
       " ('get', 445),\n",
       " ('asupplementary', 445),\n",
       " ('profile', 435),\n",
       " ('higher', 424),\n",
       " ('become', 407),\n",
       " ('educated', 407)]"
      ]
     },
     "execution_count": 73,
     "metadata": {},
     "output_type": "execute_result"
    }
   ],
   "source": [
    "# Sort and display the list of lemma_counter in descending order using the most_common() method\n",
    "lemma_counter.most_common()"
   ]
  },
  {
   "cell_type": "markdown",
   "metadata": {},
   "source": [
    "Define the main categories: *real estate*, *car*, *education*, *family*. Let's filter our data by these categories."
   ]
  },
  {
   "cell_type": "markdown",
   "metadata": {},
   "source": [
    "Let's make a function, which will take a row and filter that row based on main categories."
   ]
  },
  {
   "cell_type": "code",
   "execution_count": 74,
   "metadata": {},
   "outputs": [],
   "source": [
    "def filterPurpose(row):\n",
    "    \"\"\"This function takes a row and filters data based on the main categories. The function returns the type of credit purpose\"\"\"\n",
    "    \"\"\"row - row that gets passed from our dataframe\"\"\"\n",
    "    purpose_lemmed = row['purpose_lemmed']\n",
    "    if 'estate' in purpose_lemmed or 'property' in purpose_lemmed or 'house' in purpose_lemmed or 'housing' in purpose_lemmed:\n",
    "        return \"real estate\"\n",
    "    if 'car' in purpose_lemmed:\n",
    "        return \"car\"\n",
    "    if 'education' in purpose_lemmed or 'university' in purpose_lemmed or 'educated' in purpose_lemmed:\n",
    "        return \"education\"\n",
    "    if 'wedding' in purpose_lemmed:\n",
    "        return \"family\""
   ]
  },
  {
   "cell_type": "code",
   "execution_count": 75,
   "metadata": {},
   "outputs": [],
   "source": [
    "# Create new column and apply our function to the dataframe by calling apply()\n",
    "bank_stats['purpose_type'] = bank_stats.apply(filterPurpose,axis=1)"
   ]
  },
  {
   "cell_type": "code",
   "execution_count": 76,
   "metadata": {},
   "outputs": [
    {
     "data": {
      "text/html": [
       "<div>\n",
       "<style scoped>\n",
       "    .dataframe tbody tr th:only-of-type {\n",
       "        vertical-align: middle;\n",
       "    }\n",
       "\n",
       "    .dataframe tbody tr th {\n",
       "        vertical-align: top;\n",
       "    }\n",
       "\n",
       "    .dataframe thead th {\n",
       "        text-align: right;\n",
       "    }\n",
       "</style>\n",
       "<table border=\"1\" class=\"dataframe\">\n",
       "  <thead>\n",
       "    <tr style=\"text-align: right;\">\n",
       "      <th></th>\n",
       "      <th>income_type</th>\n",
       "      <th>total_income</th>\n",
       "      <th>purpose</th>\n",
       "      <th>purpose_type</th>\n",
       "    </tr>\n",
       "  </thead>\n",
       "  <tbody>\n",
       "    <tr>\n",
       "      <td>0</td>\n",
       "      <td>employee</td>\n",
       "      <td>253875.639453</td>\n",
       "      <td>purchase of the house</td>\n",
       "      <td>real estate</td>\n",
       "    </tr>\n",
       "    <tr>\n",
       "      <td>1</td>\n",
       "      <td>employee</td>\n",
       "      <td>112080.014102</td>\n",
       "      <td>car purchase</td>\n",
       "      <td>car</td>\n",
       "    </tr>\n",
       "    <tr>\n",
       "      <td>2</td>\n",
       "      <td>employee</td>\n",
       "      <td>145885.952297</td>\n",
       "      <td>purchase of the house</td>\n",
       "      <td>real estate</td>\n",
       "    </tr>\n",
       "    <tr>\n",
       "      <td>3</td>\n",
       "      <td>employee</td>\n",
       "      <td>267628.550329</td>\n",
       "      <td>supplementary education</td>\n",
       "      <td>education</td>\n",
       "    </tr>\n",
       "    <tr>\n",
       "      <td>4</td>\n",
       "      <td>retiree</td>\n",
       "      <td>158616.077870</td>\n",
       "      <td>to have a wedding</td>\n",
       "      <td>family</td>\n",
       "    </tr>\n",
       "  </tbody>\n",
       "</table>\n",
       "</div>"
      ],
      "text/plain": [
       "  income_type   total_income                  purpose purpose_type\n",
       "0    employee  253875.639453    purchase of the house  real estate\n",
       "1    employee  112080.014102             car purchase          car\n",
       "2    employee  145885.952297    purchase of the house  real estate\n",
       "3    employee  267628.550329  supplementary education    education\n",
       "4     retiree  158616.077870        to have a wedding       family"
      ]
     },
     "execution_count": 76,
     "metadata": {},
     "output_type": "execute_result"
    }
   ],
   "source": [
    "# Check result\n",
    "bank_stats.loc[:,['income_type','total_income','purpose','purpose_type']].head()"
   ]
  },
  {
   "cell_type": "markdown",
   "metadata": {},
   "source": [
    "<a id=\"childrenPresence\"></a>\n",
    "## Children presence"
   ]
  },
  {
   "cell_type": "markdown",
   "metadata": {},
   "source": [
    "Also, we need to categorize data based on presence of children. Let's create a new column that will show if the client has children. To do this, we will create a function that will return values:\n",
    "1. **true** - client has children\n",
    "2. **false** - client does not have children.\n",
    "\n",
    "Then we will apply this function to our dataframe using the [apply()](https://pandas.pydata.org/docs/reference/api/pandas.Series.apply.html?highlight=apply#pandas.Series.apply) method."
   ]
  },
  {
   "cell_type": "code",
   "execution_count": 77,
   "metadata": {},
   "outputs": [],
   "source": [
    "def hasChild(row):\n",
    "    \"\"\"This function that will filters data by whether a client has children or not\"\"\"\n",
    "    \"\"\"row - row that gets passed from out datafram\"\"\"\n",
    "    children = row['children']\n",
    "    if children == 0:\n",
    "        return False\n",
    "    if children > 0:\n",
    "        return True"
   ]
  },
  {
   "cell_type": "markdown",
   "metadata": {},
   "source": [
    "Let's test our functon."
   ]
  },
  {
   "cell_type": "code",
   "execution_count": 78,
   "metadata": {},
   "outputs": [
    {
     "data": {
      "text/plain": [
       "True"
      ]
     },
     "execution_count": 78,
     "metadata": {},
     "output_type": "execute_result"
    }
   ],
   "source": [
    "# Creating Series\n",
    "row_values = [2]\n",
    "row_columns = ['children']\n",
    "row = pd.Series(data=row_values, index=row_columns)\n",
    "hasChild(row)"
   ]
  },
  {
   "cell_type": "markdown",
   "metadata": {},
   "source": [
    "Let's apply the function above to our dataframe."
   ]
  },
  {
   "cell_type": "code",
   "execution_count": 79,
   "metadata": {},
   "outputs": [
    {
     "data": {
      "text/html": [
       "<div>\n",
       "<style scoped>\n",
       "    .dataframe tbody tr th:only-of-type {\n",
       "        vertical-align: middle;\n",
       "    }\n",
       "\n",
       "    .dataframe tbody tr th {\n",
       "        vertical-align: top;\n",
       "    }\n",
       "\n",
       "    .dataframe thead th {\n",
       "        text-align: right;\n",
       "    }\n",
       "</style>\n",
       "<table border=\"1\" class=\"dataframe\">\n",
       "  <thead>\n",
       "    <tr style=\"text-align: right;\">\n",
       "      <th></th>\n",
       "      <th>children</th>\n",
       "      <th>has_children</th>\n",
       "    </tr>\n",
       "  </thead>\n",
       "  <tbody>\n",
       "    <tr>\n",
       "      <td>0</td>\n",
       "      <td>1</td>\n",
       "      <td>True</td>\n",
       "    </tr>\n",
       "    <tr>\n",
       "      <td>1</td>\n",
       "      <td>1</td>\n",
       "      <td>True</td>\n",
       "    </tr>\n",
       "    <tr>\n",
       "      <td>2</td>\n",
       "      <td>0</td>\n",
       "      <td>False</td>\n",
       "    </tr>\n",
       "    <tr>\n",
       "      <td>3</td>\n",
       "      <td>3</td>\n",
       "      <td>True</td>\n",
       "    </tr>\n",
       "    <tr>\n",
       "      <td>4</td>\n",
       "      <td>0</td>\n",
       "      <td>False</td>\n",
       "    </tr>\n",
       "  </tbody>\n",
       "</table>\n",
       "</div>"
      ],
      "text/plain": [
       "   children  has_children\n",
       "0         1          True\n",
       "1         1          True\n",
       "2         0         False\n",
       "3         3          True\n",
       "4         0         False"
      ]
     },
     "execution_count": 79,
     "metadata": {},
     "output_type": "execute_result"
    }
   ],
   "source": [
    "# Creating new column has_children\n",
    "bank_stats['has_children'] = bank_stats.apply(hasChild,axis = 1)\n",
    "# Displaying first 5 rows\n",
    "bank_stats.loc[:,['children','has_children']].head()"
   ]
  },
  {
   "cell_type": "markdown",
   "metadata": {},
   "source": [
    "Let's also categorize data by the size of the client's family. Assume that if the number of children is greater or equal to 3, the family will be considered \"*large family*\". We do that because, in some countries,for example in Russia, large family gets some financial benefits from the government. We should take this into consideration."
   ]
  },
  {
   "cell_type": "markdown",
   "metadata": {},
   "source": [
    "Create a function which will determine whether the family is large or not depending on the number of children. "
   ]
  },
  {
   "cell_type": "code",
   "execution_count": 80,
   "metadata": {},
   "outputs": [],
   "source": [
    "def isLarge(children):\n",
    "    \"\"\" This function determines whether the clients family is large or not \"\"\"\n",
    "    \"\"\" children - number of children \"\"\"\n",
    "    if (children >= 3):\n",
    "        return True\n",
    "    else:\n",
    "        return False"
   ]
  },
  {
   "cell_type": "code",
   "execution_count": 81,
   "metadata": {},
   "outputs": [
    {
     "data": {
      "text/html": [
       "<div>\n",
       "<style scoped>\n",
       "    .dataframe tbody tr th:only-of-type {\n",
       "        vertical-align: middle;\n",
       "    }\n",
       "\n",
       "    .dataframe tbody tr th {\n",
       "        vertical-align: top;\n",
       "    }\n",
       "\n",
       "    .dataframe thead th {\n",
       "        text-align: right;\n",
       "    }\n",
       "</style>\n",
       "<table border=\"1\" class=\"dataframe\">\n",
       "  <thead>\n",
       "    <tr style=\"text-align: right;\">\n",
       "      <th></th>\n",
       "      <th>children</th>\n",
       "      <th>large_family</th>\n",
       "    </tr>\n",
       "  </thead>\n",
       "  <tbody>\n",
       "    <tr>\n",
       "      <td>0</td>\n",
       "      <td>1</td>\n",
       "      <td>False</td>\n",
       "    </tr>\n",
       "    <tr>\n",
       "      <td>1</td>\n",
       "      <td>1</td>\n",
       "      <td>False</td>\n",
       "    </tr>\n",
       "    <tr>\n",
       "      <td>2</td>\n",
       "      <td>0</td>\n",
       "      <td>False</td>\n",
       "    </tr>\n",
       "    <tr>\n",
       "      <td>3</td>\n",
       "      <td>3</td>\n",
       "      <td>True</td>\n",
       "    </tr>\n",
       "    <tr>\n",
       "      <td>4</td>\n",
       "      <td>0</td>\n",
       "      <td>False</td>\n",
       "    </tr>\n",
       "  </tbody>\n",
       "</table>\n",
       "</div>"
      ],
      "text/plain": [
       "   children  large_family\n",
       "0         1         False\n",
       "1         1         False\n",
       "2         0         False\n",
       "3         3          True\n",
       "4         0         False"
      ]
     },
     "execution_count": 81,
     "metadata": {},
     "output_type": "execute_result"
    }
   ],
   "source": [
    "# Create a new column large_family and apply the function above\n",
    "bank_stats['large_family'] = bank_stats['children'].apply(isLarge)\n",
    "# Checking the result\n",
    "bank_stats.loc[:,['children','large_family']].head()"
   ]
  },
  {
   "cell_type": "markdown",
   "metadata": {},
   "source": [
    "<a id=\"total_income\"></a>\n",
    "## Income level"
   ]
  },
  {
   "cell_type": "markdown",
   "metadata": {},
   "source": [
    "We should define the income levels. To do that, we will divide data - *total_income* column by quantiles. We will use them to determine the level of income."
   ]
  },
  {
   "cell_type": "code",
   "execution_count": 82,
   "metadata": {},
   "outputs": [
    {
     "data": {
      "text/plain": [
       "{'middle': 107708.35, 'high': 142594.397, 'max': 195746.1755}"
      ]
     },
     "execution_count": 82,
     "metadata": {},
     "output_type": "execute_result"
    }
   ],
   "source": [
    "# Let's round the values to the thousandths\n",
    "bank_stats = bank_stats.round({\"total_income\":3})\n",
    "# Let's calculate the quantiles.\n",
    "# Mid level of income\n",
    "mid_level_income = bank_stats['total_income'].quantile(.25)\n",
    "# High level of income\n",
    "high_level_income = bank_stats['total_income'].quantile(.5)\n",
    "# Max level of income\n",
    "max_level_income = bank_stats['total_income'].quantile(.75)\n",
    "\n",
    "# Creating a dictionary\n",
    "quantile_income_dict = {\n",
    "    \"middle\": mid_level_income,\n",
    "    \"high\": high_level_income,\n",
    "    \"max\": max_level_income\n",
    "}\n",
    "quantile_income_dict"
   ]
  },
  {
   "cell_type": "markdown",
   "metadata": {},
   "source": [
    "Let's create a function that will categorize the data by income level."
   ]
  },
  {
   "cell_type": "code",
   "execution_count": 83,
   "metadata": {},
   "outputs": [],
   "source": [
    "def categorizeIncome(income):\n",
    "    \"\"\"This function filters data by level of income. Function returns the level of income from the dictionary defined above\"\"\"\n",
    "    \"\"\"income - total monthly income\"\"\"\n",
    "    # splitting dictionary above into keys and values lists\n",
    "    income_dict_keys = list(quantile_income_dict.keys())\n",
    "    income_dict_values = list(quantile_income_dict.values())\n",
    "    if income < income_dict_values[0]:\n",
    "        return 'min' # min level of income, if the income less than mid level of income. \n",
    "    if income >= income_dict_values[0] and income < income_dict_values[1]: # range: mid level and high level\n",
    "        return income_dict_keys[0] # return mid level of income\n",
    "    if income >= income_dict_values[1] and income < income_dict_values[2]: # range high level and max level\n",
    "        return income_dict_keys[1]  # return high level of income\n",
    "    else:\n",
    "        return income_dict_keys[2] # return max level of income"
   ]
  },
  {
   "cell_type": "code",
   "execution_count": 84,
   "metadata": {},
   "outputs": [
    {
     "data": {
      "text/plain": [
       "'max'"
      ]
     },
     "execution_count": 84,
     "metadata": {},
     "output_type": "execute_result"
    }
   ],
   "source": [
    "# Testing function\n",
    "categorizeIncome(200533.26041)"
   ]
  },
  {
   "cell_type": "code",
   "execution_count": 85,
   "metadata": {},
   "outputs": [
    {
     "data": {
      "text/html": [
       "<div>\n",
       "<style scoped>\n",
       "    .dataframe tbody tr th:only-of-type {\n",
       "        vertical-align: middle;\n",
       "    }\n",
       "\n",
       "    .dataframe tbody tr th {\n",
       "        vertical-align: top;\n",
       "    }\n",
       "\n",
       "    .dataframe thead th {\n",
       "        text-align: right;\n",
       "    }\n",
       "</style>\n",
       "<table border=\"1\" class=\"dataframe\">\n",
       "  <thead>\n",
       "    <tr style=\"text-align: right;\">\n",
       "      <th></th>\n",
       "      <th>total_income</th>\n",
       "      <th>level_income</th>\n",
       "      <th>debt</th>\n",
       "    </tr>\n",
       "  </thead>\n",
       "  <tbody>\n",
       "    <tr>\n",
       "      <td>0</td>\n",
       "      <td>253875.639</td>\n",
       "      <td>max</td>\n",
       "      <td>False</td>\n",
       "    </tr>\n",
       "    <tr>\n",
       "      <td>1</td>\n",
       "      <td>112080.014</td>\n",
       "      <td>middle</td>\n",
       "      <td>False</td>\n",
       "    </tr>\n",
       "    <tr>\n",
       "      <td>2</td>\n",
       "      <td>145885.952</td>\n",
       "      <td>high</td>\n",
       "      <td>False</td>\n",
       "    </tr>\n",
       "    <tr>\n",
       "      <td>3</td>\n",
       "      <td>267628.550</td>\n",
       "      <td>max</td>\n",
       "      <td>False</td>\n",
       "    </tr>\n",
       "    <tr>\n",
       "      <td>4</td>\n",
       "      <td>158616.078</td>\n",
       "      <td>high</td>\n",
       "      <td>False</td>\n",
       "    </tr>\n",
       "  </tbody>\n",
       "</table>\n",
       "</div>"
      ],
      "text/plain": [
       "   total_income level_income   debt\n",
       "0    253875.639          max  False\n",
       "1    112080.014       middle  False\n",
       "2    145885.952         high  False\n",
       "3    267628.550          max  False\n",
       "4    158616.078         high  False"
      ]
     },
     "execution_count": 85,
     "metadata": {},
     "output_type": "execute_result"
    }
   ],
   "source": [
    "# Applying our function to the dataframe \n",
    "bank_stats['level_income'] = bank_stats['total_income'].apply(categorizeIncome)\n",
    "bank_stats.loc[:,['total_income','level_income','debt']].head()"
   ]
  },
  {
   "cell_type": "markdown",
   "metadata": {},
   "source": [
    "The data is categorized, we can start analyzing the data. Once again, let's make sure that the \"data cleaning\" was successful by displaying general information about the table. "
   ]
  },
  {
   "cell_type": "code",
   "execution_count": 86,
   "metadata": {},
   "outputs": [
    {
     "name": "stdout",
     "output_type": "stream",
     "text": [
      "<class 'pandas.core.frame.DataFrame'>\n",
      "RangeIndex: 21370 entries, 0 to 21369\n",
      "Data columns (total 17 columns):\n",
      "children            21370 non-null int64\n",
      "years_employed      21370 non-null int64\n",
      "age                 21370 non-null int64\n",
      "education           21370 non-null object\n",
      "education_id        21370 non-null int64\n",
      "family_status       21370 non-null object\n",
      "family_status_id    21370 non-null int64\n",
      "gender              21370 non-null object\n",
      "income_type         21370 non-null object\n",
      "debt                21370 non-null bool\n",
      "total_income        21370 non-null float64\n",
      "purpose             21370 non-null object\n",
      "purpose_lemmed      21370 non-null object\n",
      "purpose_type        21370 non-null object\n",
      "has_children        21370 non-null bool\n",
      "large_family        21370 non-null bool\n",
      "level_income        21370 non-null object\n",
      "dtypes: bool(3), float64(1), int64(5), object(8)\n",
      "memory usage: 2.3+ MB\n"
     ]
    }
   ],
   "source": [
    "bank_stats.info()"
   ]
  },
  {
   "cell_type": "markdown",
   "metadata": {},
   "source": [
    "Let's find the pecentage of data loss after data-preprocessing. Number of rows before pre-processing stage: **21525**. Number of rows after pre-processing stage: **21370**. "
   ]
  },
  {
   "cell_type": "code",
   "execution_count": 87,
   "metadata": {},
   "outputs": [
    {
     "name": "stdout",
     "output_type": "stream",
     "text": [
      "Percentage of data loss after data-preprocessing stage: 0.72%\n"
     ]
    }
   ],
   "source": [
    "print('Percentage of data loss after data-preprocessing stage: {:.2%}'.format((21525-21370)/21525)) # number of rows before processing - number of rows after processing / number of rows before"
   ]
  },
  {
   "cell_type": "markdown",
   "metadata": {},
   "source": [
    "We did a great job! It's a great result for ML models since they require a big amount of data."
   ]
  },
  {
   "cell_type": "markdown",
   "metadata": {},
   "source": [
    "## Summary"
   ]
  },
  {
   "cell_type": "markdown",
   "metadata": {},
   "source": [
    "At the pre-processing stage of the data, we have found missing values, different types of duplicates, as well as abnormal values in the data. .Also, we have replaced column names, categorized data by credit purpose. Let's take a closer look of what we did:\n",
    "- **Replacing column names**. We have replaced the *dob_years* column name to *age* because *age* describes the customer's age better than dob_years in short form.\n",
    "\n",
    "- **Missing values**. We have found out that we have missing values in 2 columns: *days_employed* and *total_income*. In both columns, we have the same amount of missing values. Missing values of *days_employed* are accompanied by missing values in *total_income* and vice versa. We have encountered one type of missing values - **MNAR** (Missing not at random). Missing values indicate that we had a problem with the data record, or clients intentionally left out the information in the total employment history and monthly income fields or haven't had any job at the moment. To solve the problem in the *days_employed* column, we filled missing values with the median; at some cases we did use the information from the Internet. Also, we converted the total length of service in days to total length of service in years and change the colummn name from *days_employed* to *years_employed*.  Speaking about *total_income*, we have grouped the data by income_type and filled missing values with the medians and averages based on the employment type.\n",
    "\n",
    "- **Changing datatypes**. We have changed the datatypes of some columns: *years_employed*,*debt* with appropriate datatypes.\n",
    "\n",
    "- **Duplicate values**. We have found duplicates and removed them. Most likely, duplicates could have appeared due to a failure in data loading. Also, we did check for duplicates in categorical variables. In column *education*, we found out that same education level text is written in uppercase and lowercase. For example, Secondary education, SECONDARY EDUCATION, secondary education. Most likely we have an error in the data recording caused by technological reasons or by human factor, probably an operator was filling values in different registers. We have converted all characters in each row to lower case, to solve the problem.\n",
    "\n",
    "- **Abnormal values**. We found abnormal values in the *years_employed*,*age*,*children* column and processed them. We have processed the abnormal values in *years_employed* column at the missing value stage. Talking about *children* column, we found out that 76 of the bank's clients have 20 children... This is most likely an anomaly caused by incorrect data entry. I have assumed that the problem was caused by human factor. Operator entered data incorreclty. For -1, it looks like 4. As for 20, maybe there is a typo, operator accidentally hit 0 button. Also, we have noticed the negative values. Most likely negative values were also caused by incorrect data entry. As for *age* column, only zero age was an abnormal value.\n",
    "\n",
    "- **Categorizing data**. We have implemented NLP to categorize data. We have compared 2 algorithms: *stemming* and *lemmatization*. We have picked the *lemmatization* algorithm because it was more accurate than *stemming*. We have defined the main categories: *real estate, car, education, family* and have categorized our data by these categories. We also categorized data by children presence and total income level.\n",
    "\n",
    "Data is prepared and ready for further analysis."
   ]
  },
  {
   "cell_type": "markdown",
   "metadata": {},
   "source": [
    "<br>"
   ]
  },
  {
   "cell_type": "markdown",
   "metadata": {},
   "source": [
    "---"
   ]
  },
  {
   "cell_type": "markdown",
   "metadata": {},
   "source": [
    "<a id=\"analysis\"></a>\n",
    "# Stage 3 - Data analysis and documentation of results"
   ]
  },
  {
   "cell_type": "markdown",
   "metadata": {},
   "source": [
    "This stage contains analysis where we have to answer on some questions:\n",
    "1. What is the effect of having children on the repayment of the loan on time ?\n",
    "2. Does family status have an impact on the repayment of the loan on time ?\n",
    "3. What is the correlation between income level and loan repayment on time ?\n",
    "4. What is the impact of loan purposes on its repayment on time ?"
   ]
  },
  {
   "cell_type": "markdown",
   "metadata": {},
   "source": [
    "To answer on most of the questions, we need to know the proportion of clients with debt. Let's create a function for permanent calculations - calculating the proportion of clients with debt according to certain cases/parameters: *children*,*family status*,*total income*,*purposes*. In this way we can optimize our code."
   ]
  },
  {
   "cell_type": "code",
   "execution_count": 88,
   "metadata": {},
   "outputs": [],
   "source": [
    "def proportionOfDebt(df,groupby,column,aggfunc):\n",
    "    \"\"\" This function calculates the proportion of clients with debt according to certain parameters. Function creates a pivot table and returns it. \"\"\"\n",
    "    \"\"\" df - dataframe \"\"\"\n",
    "    \"\"\" groupby - column by which it will group data \"\"\"\n",
    "    \"\"\" column - parameter/case such as children, family_status, total_income \"\"\"\n",
    "    \"\"\" aggfunc - array of aggregate functions \"\"\"\n",
    "    # Creating pivot table\n",
    "    df_pivot_table = df.groupby(groupby).agg({column:aggfunc[0],\"debt\":aggfunc[1]})\n",
    "    # Calculate the proportion of clients who have debt\n",
    "    df_pivot_table.loc[:,'debt_percent'] = (df_pivot_table.debt / df_pivot_table[column]) * 100\n",
    "    # Renaming columns with appropriate names\n",
    "    df_pivot_table = df_pivot_table.rename(columns={column: 'approved', 'debt':'defaulted'})\n",
    "    return df_pivot_table"
   ]
  },
  {
   "cell_type": "markdown",
   "metadata": {},
   "source": [
    "<a id=\"childrenImpact\"></a>\n",
    "## The effect of having children on the repayment of the loan on time"
   ]
  },
  {
   "cell_type": "markdown",
   "metadata": {},
   "source": [
    "There was a hypothesis that the presence of children affects the repayment of the loan on time; the greater the number of children, the greater the risk of defaulting on the loan. Let's check this hypothesis."
   ]
  },
  {
   "cell_type": "markdown",
   "metadata": {},
   "source": [
    "Let's group our data by the *has_children* column and calculate the proportion of clients with debt who have children. "
   ]
  },
  {
   "cell_type": "code",
   "execution_count": 89,
   "metadata": {},
   "outputs": [
    {
     "data": {
      "text/html": [
       "<div>\n",
       "<style scoped>\n",
       "    .dataframe tbody tr th:only-of-type {\n",
       "        vertical-align: middle;\n",
       "    }\n",
       "\n",
       "    .dataframe tbody tr th {\n",
       "        vertical-align: top;\n",
       "    }\n",
       "\n",
       "    .dataframe thead th {\n",
       "        text-align: right;\n",
       "    }\n",
       "</style>\n",
       "<table border=\"1\" class=\"dataframe\">\n",
       "  <thead>\n",
       "    <tr style=\"text-align: right;\">\n",
       "      <th></th>\n",
       "      <th>approved</th>\n",
       "      <th>defaulted</th>\n",
       "      <th>debt_percent</th>\n",
       "    </tr>\n",
       "    <tr>\n",
       "      <th>has_children</th>\n",
       "      <th></th>\n",
       "      <th></th>\n",
       "      <th></th>\n",
       "    </tr>\n",
       "  </thead>\n",
       "  <tbody>\n",
       "    <tr>\n",
       "      <td>False</td>\n",
       "      <td>14038</td>\n",
       "      <td>1058.0</td>\n",
       "      <td>7.54</td>\n",
       "    </tr>\n",
       "    <tr>\n",
       "      <td>True</td>\n",
       "      <td>7332</td>\n",
       "      <td>675.0</td>\n",
       "      <td>9.21</td>\n",
       "    </tr>\n",
       "  </tbody>\n",
       "</table>\n",
       "</div>"
      ],
      "text/plain": [
       "              approved  defaulted  debt_percent\n",
       "has_children                                   \n",
       "False            14038     1058.0          7.54\n",
       "True              7332      675.0          9.21"
      ]
     },
     "execution_count": 89,
     "metadata": {},
     "output_type": "execute_result"
    }
   ],
   "source": [
    "# Creating pivot table, counting how many clients with children and without children and also counting clients who have a debt with/without children\n",
    "child_pivot_table = proportionOfDebt(bank_stats,'has_children','children',['count','sum'])\n",
    "# Round the values to hundredths for convenience\n",
    "child_pivot_table = child_pivot_table.round({'debt_percent': 2})\n",
    "child_pivot_table"
   ]
  },
  {
   "cell_type": "markdown",
   "metadata": {},
   "source": [
    "Let's visualize our [pivot table](https://en.wikipedia.org/wiki/Pivot_table)."
   ]
  },
  {
   "cell_type": "code",
   "execution_count": 90,
   "metadata": {},
   "outputs": [],
   "source": [
    "# Create a function to draw pie charts\n",
    "def drawPieChart(df, labels, suptitle,explode):\n",
    "    \"\"\"This function draws a pie chart\"\"\"\n",
    "    \"\"\"df - dataframe \"\"\"\n",
    "    \"\"\"labels - labels in the chart\"\"\"\n",
    "    \"\"\"suptitle - title of the chart\"\"\"\n",
    "    df.plot(kind='pie' ,subplots=True, autopct='%1.1f%%', \n",
    "         startangle=90, fontsize=14,figsize=(5,5),legend=False,labels=labels,explode=explode,shadow=True)\n",
    "    plt.suptitle(suptitle)\n",
    "    plt.ylabel('')\n",
    "    plt.show()"
   ]
  },
  {
   "cell_type": "markdown",
   "metadata": {},
   "source": [
    "Drawing a pie graph"
   ]
  },
  {
   "cell_type": "code",
   "execution_count": 91,
   "metadata": {},
   "outputs": [
    {
     "data": {
      "image/png": "[encoded data removed]",
      "text/plain": [
       "<Figure size 360x360 with 1 Axes>"
      ]
     },
     "metadata": {},
     "output_type": "display_data"
    }
   ],
   "source": [
    "drawPieChart(child_pivot_table.loc[:,'approved'], ['without children','with children'],'Proportion of clients',explode=(0.0,0.1))"
   ]
  },
  {
   "cell_type": "markdown",
   "metadata": {},
   "source": [
    "More than half of the clients don't have children. Let's take close look at clients with children/without children."
   ]
  },
  {
   "cell_type": "code",
   "execution_count": 92,
   "metadata": {},
   "outputs": [
    {
     "data": {
      "image/png": "[encoded data removed]",
      "text/plain": [
       "<Figure size 360x360 with 1 Axes>"
      ]
     },
     "metadata": {},
     "output_type": "display_data"
    }
   ],
   "source": [
    "drawPieChart(child_pivot_table.iloc[0,[True,True,False]],['do not have debt','have debt'],'Proportion of clients without children',explode=(0.0,0.1))"
   ]
  },
  {
   "cell_type": "code",
   "execution_count": 93,
   "metadata": {},
   "outputs": [
    {
     "data": {
      "image/png": "[encoded data removed]",
      "text/plain": [
       "<Figure size 360x360 with 1 Axes>"
      ]
     },
     "metadata": {},
     "output_type": "display_data"
    }
   ],
   "source": [
    "drawPieChart(child_pivot_table.iloc[1,[True,True,False]],['do not have debt','have debt'],'Proportion of clients with children',explode=(0.0,0.1))"
   ]
  },
  {
   "cell_type": "markdown",
   "metadata": {},
   "source": [
    "As we can see, the proportion of borrowers with children is greater than the proportion of borrowers without children."
   ]
  },
  {
   "cell_type": "markdown",
   "metadata": {},
   "source": [
    "Let's see how many children are in families where the proportion of clients in debt is the highest."
   ]
  },
  {
   "cell_type": "code",
   "execution_count": 94,
   "metadata": {},
   "outputs": [
    {
     "data": {
      "text/html": [
       "<div>\n",
       "<style scoped>\n",
       "    .dataframe tbody tr th:only-of-type {\n",
       "        vertical-align: middle;\n",
       "    }\n",
       "\n",
       "    .dataframe tbody tr th {\n",
       "        vertical-align: top;\n",
       "    }\n",
       "\n",
       "    .dataframe thead th {\n",
       "        text-align: right;\n",
       "    }\n",
       "</style>\n",
       "<table border=\"1\" class=\"dataframe\">\n",
       "  <thead>\n",
       "    <tr style=\"text-align: right;\">\n",
       "      <th></th>\n",
       "      <th>children</th>\n",
       "      <th>has_children</th>\n",
       "    </tr>\n",
       "  </thead>\n",
       "  <tbody>\n",
       "    <tr>\n",
       "      <td>0</td>\n",
       "      <td>1</td>\n",
       "      <td>True</td>\n",
       "    </tr>\n",
       "    <tr>\n",
       "      <td>1</td>\n",
       "      <td>1</td>\n",
       "      <td>True</td>\n",
       "    </tr>\n",
       "    <tr>\n",
       "      <td>3</td>\n",
       "      <td>3</td>\n",
       "      <td>True</td>\n",
       "    </tr>\n",
       "    <tr>\n",
       "      <td>8</td>\n",
       "      <td>2</td>\n",
       "      <td>True</td>\n",
       "    </tr>\n",
       "    <tr>\n",
       "      <td>10</td>\n",
       "      <td>2</td>\n",
       "      <td>True</td>\n",
       "    </tr>\n",
       "  </tbody>\n",
       "</table>\n",
       "</div>"
      ],
      "text/plain": [
       "    children  has_children\n",
       "0          1          True\n",
       "1          1          True\n",
       "3          3          True\n",
       "8          2          True\n",
       "10         2          True"
      ]
     },
     "execution_count": 94,
     "metadata": {},
     "output_type": "execute_result"
    }
   ],
   "source": [
    "# Let's drop the rows - customers without children\n",
    "with_child = bank_stats.loc[bank_stats.loc[:,'has_children']==True]\n",
    "# Displaying first 5 rows\n",
    "with_child.loc[:,['children','has_children']].head()"
   ]
  },
  {
   "cell_type": "code",
   "execution_count": 95,
   "metadata": {},
   "outputs": [
    {
     "data": {
      "text/html": [
       "<div>\n",
       "<style scoped>\n",
       "    .dataframe tbody tr th:only-of-type {\n",
       "        vertical-align: middle;\n",
       "    }\n",
       "\n",
       "    .dataframe tbody tr th {\n",
       "        vertical-align: top;\n",
       "    }\n",
       "\n",
       "    .dataframe thead th {\n",
       "        text-align: right;\n",
       "    }\n",
       "</style>\n",
       "<table border=\"1\" class=\"dataframe\">\n",
       "  <thead>\n",
       "    <tr style=\"text-align: right;\">\n",
       "      <th></th>\n",
       "      <th>approved</th>\n",
       "      <th>defaulted</th>\n",
       "      <th>debt_percent</th>\n",
       "    </tr>\n",
       "    <tr>\n",
       "      <th>children</th>\n",
       "      <th></th>\n",
       "      <th></th>\n",
       "      <th></th>\n",
       "    </tr>\n",
       "  </thead>\n",
       "  <tbody>\n",
       "    <tr>\n",
       "      <td>2</td>\n",
       "      <td>2114</td>\n",
       "      <td>202.0</td>\n",
       "      <td>9.555345</td>\n",
       "    </tr>\n",
       "    <tr>\n",
       "      <td>1</td>\n",
       "      <td>4793</td>\n",
       "      <td>441.0</td>\n",
       "      <td>9.200918</td>\n",
       "    </tr>\n",
       "    <tr>\n",
       "      <td>3</td>\n",
       "      <td>328</td>\n",
       "      <td>27.0</td>\n",
       "      <td>8.231707</td>\n",
       "    </tr>\n",
       "    <tr>\n",
       "      <td>4</td>\n",
       "      <td>88</td>\n",
       "      <td>5.0</td>\n",
       "      <td>5.681818</td>\n",
       "    </tr>\n",
       "    <tr>\n",
       "      <td>5</td>\n",
       "      <td>9</td>\n",
       "      <td>0.0</td>\n",
       "      <td>0.000000</td>\n",
       "    </tr>\n",
       "  </tbody>\n",
       "</table>\n",
       "</div>"
      ],
      "text/plain": [
       "          approved  defaulted  debt_percent\n",
       "children                                   \n",
       "2             2114      202.0      9.555345\n",
       "1             4793      441.0      9.200918\n",
       "3              328       27.0      8.231707\n",
       "4               88        5.0      5.681818\n",
       "5                9        0.0      0.000000"
      ]
     },
     "execution_count": 95,
     "metadata": {},
     "output_type": "execute_result"
    }
   ],
   "source": [
    "with_child_pivot_table = proportionOfDebt(with_child,'children','children',['count','sum'])\n",
    "# Sorting by 'debt_percent' column\n",
    "with_child_pivot_table_sorted = with_child_pivot_table.sort_values(by=['debt_percent'],ascending=False)\n",
    "with_child_pivot_table_sorted"
   ]
  },
  {
   "cell_type": "markdown",
   "metadata": {},
   "source": [
    "Let's draw a bar plot, showing the debt percent of each category (clients with specific amount of children)."
   ]
  },
  {
   "cell_type": "code",
   "execution_count": 96,
   "metadata": {},
   "outputs": [],
   "source": [
    "def drawPlot (df,y,title,kind,sizeMax,sizeMin,xlabel,ylabel,ylimMax):\n",
    "    \"\"\" This function draws a bar plot \"\"\"\n",
    "    \"\"\" df - dataframe \"\"\"\n",
    "    \"\"\" title - title of the plot \"\"\"\n",
    "    \"\"\" kind - kind of the plot. In our case, it will be bar, anyway, we can use it for multiple kinds of plots. \"\"\"\n",
    "    \"\"\" sizeMax, sizeMin - sizes of the plot \"\"\"\n",
    "    \"\"\" xlabel, ylabel - label names on x and y axis \"\"\"\n",
    "    \"\"\" ylimMax - max height of the bar on y axis \"\"\"\n",
    "    df.plot(title=title,kind=kind,figsize=(sizeMax,sizeMin),y=y)\n",
    "    plt.xticks(rotation ='horizontal') \n",
    "    plt.xlabel(xlabel)\n",
    "    plt.ylabel(ylabel)\n",
    "    plt.ylim(0,ylimMax)\n",
    "    plt.show()"
   ]
  },
  {
   "cell_type": "code",
   "execution_count": 97,
   "metadata": {},
   "outputs": [
    {
     "data": {
      "image/png": "[encoded data removed]",
      "text/plain": [
       "<Figure size 1080x288 with 1 Axes>"
      ]
     },
     "metadata": {
      "needs_background": "light"
     },
     "output_type": "display_data"
    }
   ],
   "source": [
    "drawPlot(with_child_pivot_table_sorted,'debt_percent',title='debt percent among families with children', kind='bar',sizeMax=15\n",
    "         ,sizeMin=4,xlabel='Number of children in family',ylabel='Debt percent',ylimMax=11)"
   ]
  },
  {
   "cell_type": "markdown",
   "metadata": {},
   "source": [
    "In families with 2 or 1 child, the proportion of people in debt is the highest. We found out that clients that have small family, are tend to defaulting. Let's take a close look at small families and large families to prove the fact that we have mentioned earlier."
   ]
  },
  {
   "cell_type": "code",
   "execution_count": 98,
   "metadata": {},
   "outputs": [
    {
     "data": {
      "text/html": [
       "<div>\n",
       "<style scoped>\n",
       "    .dataframe tbody tr th:only-of-type {\n",
       "        vertical-align: middle;\n",
       "    }\n",
       "\n",
       "    .dataframe tbody tr th {\n",
       "        vertical-align: top;\n",
       "    }\n",
       "\n",
       "    .dataframe thead th {\n",
       "        text-align: right;\n",
       "    }\n",
       "</style>\n",
       "<table border=\"1\" class=\"dataframe\">\n",
       "  <thead>\n",
       "    <tr style=\"text-align: right;\">\n",
       "      <th></th>\n",
       "      <th>approved</th>\n",
       "      <th>defaulted</th>\n",
       "      <th>debt_percent</th>\n",
       "    </tr>\n",
       "  </thead>\n",
       "  <tbody>\n",
       "    <tr>\n",
       "      <td>small family</td>\n",
       "      <td>6907</td>\n",
       "      <td>643.0</td>\n",
       "      <td>9.309396</td>\n",
       "    </tr>\n",
       "    <tr>\n",
       "      <td>large family</td>\n",
       "      <td>425</td>\n",
       "      <td>32.0</td>\n",
       "      <td>7.529412</td>\n",
       "    </tr>\n",
       "  </tbody>\n",
       "</table>\n",
       "</div>"
      ],
      "text/plain": [
       "              approved  defaulted  debt_percent\n",
       "small family      6907      643.0      9.309396\n",
       "large family       425       32.0      7.529412"
      ]
     },
     "execution_count": 98,
     "metadata": {},
     "output_type": "execute_result"
    }
   ],
   "source": [
    "small_large_family = proportionOfDebt(with_child,'large_family','children',['count','sum'])\n",
    "#small_large_family = small_large_family.rename(columns={'children': 'approved', 'debt':'defaulted'})\n",
    "small_large_family.index = ['small family','large family']\n",
    "small_large_family"
   ]
  },
  {
   "cell_type": "code",
   "execution_count": 99,
   "metadata": {},
   "outputs": [
    {
     "data": {
      "image/png": "[encoded data removed]",
      "text/plain": [
       "<Figure size 1080x288 with 1 Axes>"
      ]
     },
     "metadata": {
      "needs_background": "light"
     },
     "output_type": "display_data"
    }
   ],
   "source": [
    "drawPlot(small_large_family,'debt_percent',title='debt percent among small families and large families', kind='bar',sizeMax=15\n",
    "         ,sizeMin=4,xlabel='Family',ylabel='Debt percent',ylimMax=11)"
   ]
  },
  {
   "cell_type": "markdown",
   "metadata": {},
   "source": [
    "According to the graph, we prove that clients that have small family, are tend to defaulting. I assume that due the government support, clients with large families are more reliable. Also clients with large families are good at managing their finances than clients with small families, because for each child we need to invest money in development, support, and education. "
   ]
  },
  {
   "cell_type": "markdown",
   "metadata": {},
   "source": [
    "## Summary"
   ]
  },
  {
   "cell_type": "markdown",
   "metadata": {},
   "source": [
    "- **clients that have small family, are tend to defaulting**. I assume that due the government support, clients with large families are more reliable. Also clients with large families are good at managing their finances than clients with small families, because for each child we need to invest money in development, support, and education. \n",
    "- In families with 2 or 1 child, the proportion of people in debt is the highest."
   ]
  },
  {
   "cell_type": "markdown",
   "metadata": {},
   "source": [
    "<a id=\"familyStatusImpact\"></a>\n",
    "##  The impact of family status on the repayment of the loan on time"
   ]
  },
  {
   "cell_type": "markdown",
   "metadata": {},
   "source": [
    "Let's answer to the question whether family status affects the repayment of the loan on time. Who is more responsible: those who are married or single? Let's define the metrics by which we will do the analysis. Useful metrics to answer the question: *family_status* - marital status, *debt* - whether the client had debt before or having a debt."
   ]
  },
  {
   "cell_type": "markdown",
   "metadata": {},
   "source": [
    "Let's find the proportion of clients with debt of each family status category."
   ]
  },
  {
   "cell_type": "code",
   "execution_count": 100,
   "metadata": {},
   "outputs": [
    {
     "data": {
      "text/html": [
       "<div>\n",
       "<style scoped>\n",
       "    .dataframe tbody tr th:only-of-type {\n",
       "        vertical-align: middle;\n",
       "    }\n",
       "\n",
       "    .dataframe tbody tr th {\n",
       "        vertical-align: top;\n",
       "    }\n",
       "\n",
       "    .dataframe thead th {\n",
       "        text-align: right;\n",
       "    }\n",
       "</style>\n",
       "<table border=\"1\" class=\"dataframe\">\n",
       "  <thead>\n",
       "    <tr style=\"text-align: right;\">\n",
       "      <th></th>\n",
       "      <th>approved</th>\n",
       "      <th>defaulted</th>\n",
       "      <th>debt_percent</th>\n",
       "    </tr>\n",
       "    <tr>\n",
       "      <th>family_status</th>\n",
       "      <th></th>\n",
       "      <th></th>\n",
       "      <th></th>\n",
       "    </tr>\n",
       "  </thead>\n",
       "  <tbody>\n",
       "    <tr>\n",
       "      <td>unmarried</td>\n",
       "      <td>2794</td>\n",
       "      <td>273.0</td>\n",
       "      <td>9.770938</td>\n",
       "    </tr>\n",
       "    <tr>\n",
       "      <td>civil partnership</td>\n",
       "      <td>4142</td>\n",
       "      <td>386.0</td>\n",
       "      <td>9.319169</td>\n",
       "    </tr>\n",
       "    <tr>\n",
       "      <td>married</td>\n",
       "      <td>12295</td>\n",
       "      <td>927.0</td>\n",
       "      <td>7.539650</td>\n",
       "    </tr>\n",
       "    <tr>\n",
       "      <td>divorced</td>\n",
       "      <td>1185</td>\n",
       "      <td>85.0</td>\n",
       "      <td>7.172996</td>\n",
       "    </tr>\n",
       "    <tr>\n",
       "      <td>widow / widower</td>\n",
       "      <td>954</td>\n",
       "      <td>62.0</td>\n",
       "      <td>6.498952</td>\n",
       "    </tr>\n",
       "  </tbody>\n",
       "</table>\n",
       "</div>"
      ],
      "text/plain": [
       "                   approved  defaulted  debt_percent\n",
       "family_status                                       \n",
       "unmarried              2794      273.0      9.770938\n",
       "civil partnership      4142      386.0      9.319169\n",
       "married               12295      927.0      7.539650\n",
       "divorced               1185       85.0      7.172996\n",
       "widow / widower         954       62.0      6.498952"
      ]
     },
     "execution_count": 100,
     "metadata": {},
     "output_type": "execute_result"
    }
   ],
   "source": [
    "family_status_prop = proportionOfDebt(bank_stats,'family_status','family_status',['count','sum'])\n",
    "# Sorting by \"debt_percent\"\n",
    "family_status_prop_sorted = family_status_prop.sort_values(by=['debt_percent'],ascending=False)\n",
    "family_status_prop_sorted"
   ]
  },
  {
   "cell_type": "code",
   "execution_count": 101,
   "metadata": {},
   "outputs": [
    {
     "data": {
      "image/png": "[encoded data removed]",
      "text/plain": [
       "<Figure size 1080x288 with 1 Axes>"
      ]
     },
     "metadata": {
      "needs_background": "light"
     },
     "output_type": "display_data"
    }
   ],
   "source": [
    "drawPlot(family_status_prop_sorted,'debt_percent',title='debt percent of each family status category', kind='bar',sizeMax=15\n",
    "         ,sizeMin=4,xlabel='Family status',ylabel='Debt percent',ylimMax=11)"
   ]
  },
  {
   "cell_type": "markdown",
   "metadata": {},
   "source": [
    "Note that the two categories of *single*, *civil partnership* exceed the average percentage of other categories of clients with debt. Therefore, we can conclude that  affects the repayment of the loan on time."
   ]
  },
  {
   "cell_type": "markdown",
   "metadata": {},
   "source": [
    "## Summary"
   ]
  },
  {
   "cell_type": "markdown",
   "metadata": {},
   "source": [
    "Based on the results, **we can say that family status affects the repayment of the loan on time**. People who are officially married show a more serious and responsible attitude towards loan repayment. Meanwhile, people who are single and not formally married are tend to defaulting. Thus, it is necessary to take family status metrics into account when assessing a potential borrower's credibility."
   ]
  },
  {
   "cell_type": "markdown",
   "metadata": {},
   "source": [
    "<a id=\"levelIncomeImpact\"></a>\n",
    "## Correlation between income level and loan repayment on time"
   ]
  },
  {
   "cell_type": "markdown",
   "metadata": {},
   "source": [
    "Does the client's income level affect the credibility of the potential borrower?  As always, let's start by identifying the metrics that will help us answer the question. We need the values from the columns: *total_income*,*debt*."
   ]
  },
  {
   "cell_type": "markdown",
   "metadata": {},
   "source": [
    "Let's find the proportion of clients with debt of each level of income."
   ]
  },
  {
   "cell_type": "code",
   "execution_count": 102,
   "metadata": {},
   "outputs": [
    {
     "data": {
      "text/html": [
       "<div>\n",
       "<style scoped>\n",
       "    .dataframe tbody tr th:only-of-type {\n",
       "        vertical-align: middle;\n",
       "    }\n",
       "\n",
       "    .dataframe tbody tr th {\n",
       "        vertical-align: top;\n",
       "    }\n",
       "\n",
       "    .dataframe thead th {\n",
       "        text-align: right;\n",
       "    }\n",
       "</style>\n",
       "<table border=\"1\" class=\"dataframe\">\n",
       "  <thead>\n",
       "    <tr style=\"text-align: right;\">\n",
       "      <th></th>\n",
       "      <th>approved</th>\n",
       "      <th>defaulted</th>\n",
       "      <th>debt_percent</th>\n",
       "    </tr>\n",
       "    <tr>\n",
       "      <th>level_income</th>\n",
       "      <th></th>\n",
       "      <th></th>\n",
       "      <th></th>\n",
       "    </tr>\n",
       "  </thead>\n",
       "  <tbody>\n",
       "    <tr>\n",
       "      <td>middle</td>\n",
       "      <td>4390</td>\n",
       "      <td>383.0</td>\n",
       "      <td>8.724374</td>\n",
       "    </tr>\n",
       "    <tr>\n",
       "      <td>high</td>\n",
       "      <td>6294</td>\n",
       "      <td>543.0</td>\n",
       "      <td>8.627264</td>\n",
       "    </tr>\n",
       "    <tr>\n",
       "      <td>min</td>\n",
       "      <td>5343</td>\n",
       "      <td>425.0</td>\n",
       "      <td>7.954333</td>\n",
       "    </tr>\n",
       "    <tr>\n",
       "      <td>max</td>\n",
       "      <td>5343</td>\n",
       "      <td>382.0</td>\n",
       "      <td>7.149541</td>\n",
       "    </tr>\n",
       "  </tbody>\n",
       "</table>\n",
       "</div>"
      ],
      "text/plain": [
       "              approved  defaulted  debt_percent\n",
       "level_income                                   \n",
       "middle            4390      383.0      8.724374\n",
       "high              6294      543.0      8.627264\n",
       "min               5343      425.0      7.954333\n",
       "max               5343      382.0      7.149541"
      ]
     },
     "execution_count": 102,
     "metadata": {},
     "output_type": "execute_result"
    }
   ],
   "source": [
    "level_income_prop = proportionOfDebt(bank_stats,'level_income','total_income',['count','sum'])\n",
    "# Sorting by debt_percent\n",
    "level_income_prop_sorted = level_income_prop.sort_values(by='debt_percent',ascending=False)\n",
    "level_income_prop_sorted"
   ]
  },
  {
   "cell_type": "code",
   "execution_count": 103,
   "metadata": {},
   "outputs": [
    {
     "data": {
      "image/png": "[encoded data removed]",
      "text/plain": [
       "<Figure size 1080x288 with 1 Axes>"
      ]
     },
     "metadata": {
      "needs_background": "light"
     },
     "output_type": "display_data"
    }
   ],
   "source": [
    "drawPlot(level_income_prop_sorted,'debt_percent',title='debt percent of each income level', kind='bar',sizeMax=15\n",
    "         ,sizeMin=4,xlabel='Income level',ylabel='Debt percent',ylimMax=9)"
   ]
  },
  {
   "cell_type": "markdown",
   "metadata": {},
   "source": [
    "The proportion of clients, who have or had debt, with middle and high monthly income is greater than the proportion of clients,who have or had debt, with minimal monthly income. It can be assumed that clients with high and middle monthly income more often fail to pay the loan on time than clients with minimum monthly income. If we look at the proportion of clients,who have or had debt, with the maximum monthly income, we can conclude that these customers are self-sufficient and able to pay the loan on time."
   ]
  },
  {
   "cell_type": "markdown",
   "metadata": {},
   "source": [
    "## Summary"
   ]
  },
  {
   "cell_type": "markdown",
   "metadata": {},
   "source": [
    "Based on result, it is hard to find a correlation between monthly income and loan repayment on time. We need to consult with banking specialists when assessing the credibility of the client."
   ]
  },
  {
   "cell_type": "markdown",
   "metadata": {},
   "source": [
    "<a id=\"purposeImpact\"></a>\n",
    "## The impact of loan purposes on its repayment on time"
   ]
  },
  {
   "cell_type": "markdown",
   "metadata": {},
   "source": [
    "Let's look at how different purposes for a loan affect its repayment on time. Let's find popular purposes for credit."
   ]
  },
  {
   "cell_type": "markdown",
   "metadata": {},
   "source": [
    "We need find the proportion of clients with debt of each loan purposes."
   ]
  },
  {
   "cell_type": "code",
   "execution_count": 104,
   "metadata": {},
   "outputs": [
    {
     "data": {
      "text/html": [
       "<div>\n",
       "<style scoped>\n",
       "    .dataframe tbody tr th:only-of-type {\n",
       "        vertical-align: middle;\n",
       "    }\n",
       "\n",
       "    .dataframe tbody tr th {\n",
       "        vertical-align: top;\n",
       "    }\n",
       "\n",
       "    .dataframe thead th {\n",
       "        text-align: right;\n",
       "    }\n",
       "</style>\n",
       "<table border=\"1\" class=\"dataframe\">\n",
       "  <thead>\n",
       "    <tr style=\"text-align: right;\">\n",
       "      <th></th>\n",
       "      <th>approved</th>\n",
       "      <th>defaulted</th>\n",
       "      <th>debt_percent</th>\n",
       "    </tr>\n",
       "    <tr>\n",
       "      <th>purpose_type</th>\n",
       "      <th></th>\n",
       "      <th></th>\n",
       "      <th></th>\n",
       "    </tr>\n",
       "  </thead>\n",
       "  <tbody>\n",
       "    <tr>\n",
       "      <td>car</td>\n",
       "      <td>4286</td>\n",
       "      <td>400.0</td>\n",
       "      <td>9.332711</td>\n",
       "    </tr>\n",
       "    <tr>\n",
       "      <td>education</td>\n",
       "      <td>3996</td>\n",
       "      <td>370.0</td>\n",
       "      <td>9.259259</td>\n",
       "    </tr>\n",
       "    <tr>\n",
       "      <td>family</td>\n",
       "      <td>2321</td>\n",
       "      <td>184.0</td>\n",
       "      <td>7.927617</td>\n",
       "    </tr>\n",
       "    <tr>\n",
       "      <td>real estate</td>\n",
       "      <td>10767</td>\n",
       "      <td>779.0</td>\n",
       "      <td>7.235070</td>\n",
       "    </tr>\n",
       "  </tbody>\n",
       "</table>\n",
       "</div>"
      ],
      "text/plain": [
       "              approved  defaulted  debt_percent\n",
       "purpose_type                                   \n",
       "car               4286      400.0      9.332711\n",
       "education         3996      370.0      9.259259\n",
       "family            2321      184.0      7.927617\n",
       "real estate      10767      779.0      7.235070"
      ]
     },
     "execution_count": 104,
     "metadata": {},
     "output_type": "execute_result"
    }
   ],
   "source": [
    "purposes_prop = proportionOfDebt(bank_stats,'purpose_type','purpose',['count','sum'])\n",
    "# Sorting by debt_percent\n",
    "purposes_prop_sorted = purposes_prop.sort_values(by='debt_percent',ascending=False)\n",
    "purposes_prop_sorted"
   ]
  },
  {
   "cell_type": "code",
   "execution_count": 105,
   "metadata": {},
   "outputs": [
    {
     "data": {
      "image/png": "[encoded data removed]",
      "text/plain": [
       "<Figure size 1080x288 with 1 Axes>"
      ]
     },
     "metadata": {
      "needs_background": "light"
     },
     "output_type": "display_data"
    }
   ],
   "source": [
    "drawPlot(purposes_prop_sorted,'debt_percent',title='debt percent of purpose categories', kind='bar',sizeMax=15\n",
    "         ,sizeMin=4,xlabel='Purpose type',ylabel='Debt percent',ylimMax=11)"
   ]
  },
  {
   "cell_type": "markdown",
   "metadata": {},
   "source": [
    "The proportion of debtors with purposes to take a loan for *car* and *education* is greater than the proportion of debtors with purposes for *wedding(family)* and for *real estate*."
   ]
  },
  {
   "cell_type": "markdown",
   "metadata": {},
   "source": [
    "Let's find the most popular purposes for getting a loan."
   ]
  },
  {
   "cell_type": "code",
   "execution_count": 106,
   "metadata": {},
   "outputs": [
    {
     "data": {
      "text/html": [
       "<div>\n",
       "<style scoped>\n",
       "    .dataframe tbody tr th:only-of-type {\n",
       "        vertical-align: middle;\n",
       "    }\n",
       "\n",
       "    .dataframe tbody tr th {\n",
       "        vertical-align: top;\n",
       "    }\n",
       "\n",
       "    .dataframe thead th {\n",
       "        text-align: right;\n",
       "    }\n",
       "</style>\n",
       "<table border=\"1\" class=\"dataframe\">\n",
       "  <thead>\n",
       "    <tr style=\"text-align: right;\">\n",
       "      <th></th>\n",
       "      <th>approved</th>\n",
       "    </tr>\n",
       "    <tr>\n",
       "      <th>purpose_type</th>\n",
       "      <th></th>\n",
       "    </tr>\n",
       "  </thead>\n",
       "  <tbody>\n",
       "    <tr>\n",
       "      <td>real estate</td>\n",
       "      <td>10767</td>\n",
       "    </tr>\n",
       "    <tr>\n",
       "      <td>car</td>\n",
       "      <td>4286</td>\n",
       "    </tr>\n",
       "    <tr>\n",
       "      <td>education</td>\n",
       "      <td>3996</td>\n",
       "    </tr>\n",
       "    <tr>\n",
       "      <td>family</td>\n",
       "      <td>2321</td>\n",
       "    </tr>\n",
       "  </tbody>\n",
       "</table>\n",
       "</div>"
      ],
      "text/plain": [
       "              approved\n",
       "purpose_type          \n",
       "real estate      10767\n",
       "car               4286\n",
       "education         3996\n",
       "family            2321"
      ]
     },
     "execution_count": 106,
     "metadata": {},
     "output_type": "execute_result"
    }
   ],
   "source": [
    "# Sorting by approved\n",
    "popular_purposes = purposes_prop.sort_values(by='approved',ascending=False)\n",
    "# Dropping redundant columns\n",
    "popular_purposes = popular_purposes.drop(['defaulted','debt_percent'],axis=1)\n",
    "popular_purposes"
   ]
  },
  {
   "cell_type": "code",
   "execution_count": 107,
   "metadata": {},
   "outputs": [
    {
     "data": {
      "image/png": "[encoded data removed]",
      "text/plain": [
       "<Figure size 1080x288 with 1 Axes>"
      ]
     },
     "metadata": {
      "needs_background": "light"
     },
     "output_type": "display_data"
    }
   ],
   "source": [
    "drawPlot(popular_purposes,'approved',title='Most popular purposes', kind='bar',sizeMax=15\n",
    "         ,sizeMin=4,xlabel='Purpose type',ylabel='Number of clients',ylimMax=12000)"
   ]
  },
  {
   "cell_type": "markdown",
   "metadata": {},
   "source": [
    "The most popular purpose for getting a loan turned out to be *real estate*. People take out mortgages, everyone wants to have their own home. Second is *car*. Here it makes sense, a car is a convenient means of transportation. Everyone wants to quickly and easily get from point A to point B. Next comes *education* - *3996* customers are interested in improving their education. Maybe some customers want to get a foreign education or quickly learn a profession through online education. A less popular purpose is *family(wedding)*. My guess is that people do not want to take out a loan for a wedding, trying to cover all expenses with the money they earn."
   ]
  },
  {
   "cell_type": "markdown",
   "metadata": {},
   "source": [
    "## Summary"
   ]
  },
  {
   "cell_type": "markdown",
   "metadata": {},
   "source": [
    "Despite the fact that the most popular purpose of getting a loan turned out to be *real estate*, customers are more responsible for the payment of the loan. Meanwhile, we can see customers who take a loan for *education* or for *car* are tend to defaulting. We should pay more attention to customers who are taking a loan for *education* and *car*."
   ]
  },
  {
   "cell_type": "markdown",
   "metadata": {},
   "source": [
    "<br>"
   ]
  },
  {
   "cell_type": "markdown",
   "metadata": {},
   "source": [
    "----"
   ]
  },
  {
   "cell_type": "markdown",
   "metadata": {},
   "source": [
    "<a id=\"results\"></a>\n",
    "# Stage 4 - Results of the research"
   ]
  },
  {
   "cell_type": "markdown",
   "metadata": {},
   "source": [
    "The research showed that:\n",
    "- **Clients that have small family, are tend to defaulting**. In families with 2 or 1 child, the proportion of people in debt is the highest. I assume that due the government support, clients with large families are more reliable. Also clients with large families are good at managing their finances than clients with small families, because for each child we need to invest money in development, support, and education. \n",
    "- **Family status affects the repayment of the loan on time**. People who are officially married show a more serious and responsible attitude towards loan repayment. Meanwhile, people who are single and not formally married are tend to defaulting. Thus, it is necessary to take family status metrics into account when assessing a potential borrower's credibility.\n",
    "- **It is hard to find a correlation between monthly income and loan repayment on time** due to the proportions of debtors of each level of income were close to each other. We need to consult with banking specialists when assessing the credibility of the client.\n",
    "- **We should pay more attention to customers who are taking a loan for education and car** when assessing the clients credibility. The proportion of debtors with purposes to take a loan for *car* and *education* is greater than the proportion of debtors with purposes for *wedding(family)* and for *real estate*."
   ]
  },
  {
   "cell_type": "markdown",
   "metadata": {},
   "source": [
    "Preferable client will be: officially married, with no children or having a large family(3-5 kids), self-sufficient (having the maximum income), for the purpose of obtaining a loan on real estate."
   ]
  },
  {
   "cell_type": "markdown",
   "metadata": {},
   "source": [
    "The results of the research will be useful in building ML [**credit score**](https://en.wikipedia.org/wiki/Credit_score) model that assesses the potential borrower's ability to repay the loan to the bank."
   ]
  }
 ],
 "metadata": {
  "kernelspec": {
   "display_name": "Python 3",
   "language": "python",
   "name": "python3"
  },
  "language_info": {
   "codemirror_mode": {
    "name": "ipython",
    "version": 3
   },
   "file_extension": ".py",
   "mimetype": "text/x-python",
   "name": "python",
   "nbconvert_exporter": "python",
   "pygments_lexer": "ipython3",
   "version": "3.7.8"
  }
 },
 "nbformat": 4,
 "nbformat_minor": 4
}
