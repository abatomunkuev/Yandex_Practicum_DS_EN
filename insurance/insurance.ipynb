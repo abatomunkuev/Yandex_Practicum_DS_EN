{
 "cells": [
  {
   "cell_type": "markdown",
   "metadata": {},
   "source": [
    "# Introduction "
   ]
  },
  {
   "cell_type": "markdown",
   "metadata": {},
   "source": [
    "This project shows: \n",
    "- ability of writing solid,structured Python code \n",
    "- ability of using existing utilities(libraries) for processing and analyzing data.\n",
    "- analytical and data pre-processing skills\n",
    "- data visualization\n",
    "- linear algebra application\n",
    "- creating custom Linear Regression model"
   ]
  },
  {
   "cell_type": "markdown",
   "metadata": {},
   "source": [
    "Project involves:\n",
    "1. Theory part: matrices, matrix multiplication\n",
    "2. Building a data encryption algorithm\n",
    "3. Building Linear Regression model"
   ]
  },
  {
   "cell_type": "markdown",
   "metadata": {},
   "source": [
    "Project of the training course \"[Specialist in Data Science](https://practicum.yandex.com/data-scientist)\" by [Yandex Practicum](https://practicum.yandex.com/)."
   ]
  },
  {
   "cell_type": "markdown",
   "metadata": {},
   "source": [
    "# Setting up the project"
   ]
  },
  {
   "cell_type": "code",
   "execution_count": 1,
   "metadata": {},
   "outputs": [
    {
     "data": {
      "text/html": [
       "<style>\n",
       "table {float:left}\n",
       "</style>\n"
      ],
      "text/plain": [
       "<IPython.core.display.HTML object>"
      ]
     },
     "metadata": {},
     "output_type": "display_data"
    }
   ],
   "source": [
    "%%html\n",
    "<style>\n",
    "table {float:left}\n",
    "</style>"
   ]
  },
  {
   "cell_type": "markdown",
   "metadata": {},
   "source": [
    "## Importing libraries"
   ]
  },
  {
   "cell_type": "code",
   "execution_count": 2,
   "metadata": {},
   "outputs": [],
   "source": [
    "import numpy as np\n",
    "import pandas as pd\n",
    "import random\n",
    "from scipy import stats as st\n",
    "import warnings\n",
    "# Reading files\n",
    "import os \n",
    "from pathlib import Path\n",
    "import urllib\n",
    "# Machine Learning models (Regression models)\n",
    "from sklearn.linear_model import LinearRegression\n",
    "# Regression metrics - model evaluation\n",
    "from sklearn.metrics import mean_squared_error, r2_score, mean_absolute_error, make_scorer\n",
    "# Data visualization\n",
    "import matplotlib as mpl\n",
    "import matplotlib.pyplot as plt\n",
    "import matplotlib.ticker as ticker\n",
    "import seaborn as sns\n",
    "# splitting data\n",
    "from sklearn.model_selection import train_test_split, cross_val_score"
   ]
  },
  {
   "cell_type": "markdown",
   "metadata": {},
   "source": [
    "## Setting up matplotlib"
   ]
  },
  {
   "cell_type": "code",
   "execution_count": 3,
   "metadata": {},
   "outputs": [],
   "source": [
    "%matplotlib inline\n",
    "small, medium, large = 14, 16, 22\n",
    "params = {'figure.figsize':   (14, 5),\n",
    "          'figure.titlesize': medium,\n",
    "          'legend.fontsize':  small,\n",
    "          'axes.titlesize':   small,\n",
    "          'axes.labelsize':   small,\n",
    "          'xtick.labelsize':  small,\n",
    "          'ytick.labelsize':  small,\n",
    "          'legend.loc':       'best'}\n",
    "plt.rcParams.update(params)"
   ]
  },
  {
   "cell_type": "code",
   "execution_count": 4,
   "metadata": {},
   "outputs": [],
   "source": [
    "# increasing the resolution\n",
    "%config InlineBackend.figure_format = 'retina'"
   ]
  },
  {
   "cell_type": "code",
   "execution_count": 5,
   "metadata": {},
   "outputs": [],
   "source": [
    "# disable warnigns\n",
    "warnings.filterwarnings('ignore')"
   ]
  },
  {
   "cell_type": "code",
   "execution_count": 6,
   "metadata": {},
   "outputs": [],
   "source": [
    "# removing exponential notation\n",
    "pd.options.display.float_format = '{:.3f}'.format"
   ]
  },
  {
   "cell_type": "code",
   "execution_count": 7,
   "metadata": {},
   "outputs": [],
   "source": [
    "# display all columns\n",
    "pd.set_option('display.max_columns', None)"
   ]
  },
  {
   "cell_type": "markdown",
   "metadata": {},
   "source": [
    "# Linear Algebra"
   ]
  },
  {
   "cell_type": "markdown",
   "metadata": {},
   "source": [
    "# Project \"Personal data encryption\""
   ]
  },
  {
   "cell_type": "markdown",
   "metadata": {},
   "source": [
    "## Project description\n",
    "The insurance company needs to protect user data. We need to encrypt personal information\n",
    "## Data description\n",
    "Data from insurance company. Each object represents the user information: gender, age, salary, family members for the last 5 years.\n",
    "\n",
    "|Column          | Column type |\n",
    " |:---------------|:-----------|\n",
    " |Gender| feature |\n",
    " |Age| feature |\n",
    " |Salary| feature |\n",
    " |Family members| feature |\n",
    " |Insurance benefits | target |"
   ]
  },
  {
   "cell_type": "markdown",
   "metadata": {},
   "source": [
    "## Objective\n",
    "We need to create [data encryption algorithm](https://en.wikipedia.org/wiki/Encryption) so that after transformation, the accuracy of Machine Learning models will not change as without transformation"
   ]
  },
  {
   "cell_type": "markdown",
   "metadata": {},
   "source": [
    "## Work plan\n",
    "\n",
    "1. [Overview of data](#review)\n",
    "2. [Data preprocessing](#dataPreprocessing)\n",
    "    - [Column processing](#columnProcessing)\n",
    "    - [Data check](#dataCheck)\n",
    "3. [Theory proof](#theoryProof)\n",
    "4. [Data encryption algorithm](#dataEncryptAlgorithm)\n",
    "    - [Model creation](#modelCreation)\n",
    "5. [Algorithm application](#algorithmApplication)\n",
    "    - [Data separation](#dataSeparation)\n",
    "    - [Original algorithm application](#originalAlgorithmApplication)\n",
    "        - [Model from sklearn](#originalAlgoSklearnModel)\n",
    "        - [Custom model](#originalAlgoCustomModel)\n",
    "    - [Suggested algorithm application](#suggestedAlgorithmApplication)\n",
    "        - [Model from sklearn](#suggestedAlgoSklearnModel)\n",
    "        - [Custom model](#suggestedAlgoCustomModel)\n",
    "6. [Results](#results)"
   ]
  },
  {
   "cell_type": "markdown",
   "metadata": {},
   "source": [
    "<br>"
   ]
  },
  {
   "cell_type": "markdown",
   "metadata": {},
   "source": [
    "<a id=\"review\"></a>\n",
    "# Stage 1 - Overview of data"
   ]
  },
  {
   "cell_type": "markdown",
   "metadata": {},
   "source": [
    "Reading the data and saving it in appropriate variable."
   ]
  },
  {
   "cell_type": "code",
   "execution_count": 8,
   "metadata": {},
   "outputs": [],
   "source": [
    "Path('datasets').mkdir(parents=True, exist_ok=True)\n",
    "\n",
    "def get_file(file_name, url):\n",
    "    # Check if there is a file\n",
    "    if not os.path.exists(file_name):\n",
    "        print(file_name,'cannot find file, file will be downloaded from URL link')\n",
    "        # download the file from the url link, put it in the path file_name\n",
    "        # load data using the urllib library\n",
    "        _ = urllib.request.urlretrieve(url, file_name)\n",
    "\n",
    "# Dictionary with the file name and a URL link to it\n",
    "urls = {\n",
    "    'insurance': ('datasets/insurance.csv', '_____________'),\n",
    "}\n",
    "[get_file(*urls[k]) for k in urls]\n",
    "[get_file(urls[k][0], urls[k][1]) for k in urls]\n",
    "\n",
    "raw_insurance_data = pd.read_csv(urls['insurance'][0],sep=',')"
   ]
  },
  {
   "cell_type": "markdown",
   "metadata": {},
   "source": [
    "Напишем функцию для вывод общей информации"
   ]
  },
  {
   "cell_type": "code",
   "execution_count": 9,
   "metadata": {},
   "outputs": [],
   "source": [
    "def displayGeneralDataInfo(data):\n",
    "    \"\"\"\n",
    "    Function to display general information\n",
    "    data\n",
    "    \"\"\"\n",
    "    print(\"Displaying 5 rows of data\")\n",
    "    print()\n",
    "    # displaying 5 rows of data\n",
    "    display(data.head())\n",
    "    print(\"Display general information \")\n",
    "    print()\n",
    "    # displaying general info\n",
    "    display(data.info())\n",
    "    print(\"Data distribution\")\n",
    "    print()\n",
    "    # displaying data distribution\n",
    "    display(data.describe().T)\n",
    "    print(\"Data correlations\")\n",
    "    print()\n",
    "    # displaying data correlations\n",
    "    display(data.corr())\n",
    "    print()"
   ]
  },
  {
   "cell_type": "code",
   "execution_count": 10,
   "metadata": {},
   "outputs": [
    {
     "name": "stdout",
     "output_type": "stream",
     "text": [
      "Displaying 5 rows of data\n",
      "\n"
     ]
    },
    {
     "data": {
      "text/html": [
       "<div>\n",
       "<style scoped>\n",
       "    .dataframe tbody tr th:only-of-type {\n",
       "        vertical-align: middle;\n",
       "    }\n",
       "\n",
       "    .dataframe tbody tr th {\n",
       "        vertical-align: top;\n",
       "    }\n",
       "\n",
       "    .dataframe thead th {\n",
       "        text-align: right;\n",
       "    }\n",
       "</style>\n",
       "<table border=\"1\" class=\"dataframe\">\n",
       "  <thead>\n",
       "    <tr style=\"text-align: right;\">\n",
       "      <th></th>\n",
       "      <th>Gender</th>\n",
       "      <th>Age</th>\n",
       "      <th>Salary</th>\n",
       "      <th>Family members</th>\n",
       "      <th>Insurance benefits</th>\n",
       "    </tr>\n",
       "  </thead>\n",
       "  <tbody>\n",
       "    <tr>\n",
       "      <td>0</td>\n",
       "      <td>1</td>\n",
       "      <td>41.000</td>\n",
       "      <td>49600.000</td>\n",
       "      <td>1</td>\n",
       "      <td>0</td>\n",
       "    </tr>\n",
       "    <tr>\n",
       "      <td>1</td>\n",
       "      <td>0</td>\n",
       "      <td>46.000</td>\n",
       "      <td>38000.000</td>\n",
       "      <td>1</td>\n",
       "      <td>1</td>\n",
       "    </tr>\n",
       "    <tr>\n",
       "      <td>2</td>\n",
       "      <td>0</td>\n",
       "      <td>29.000</td>\n",
       "      <td>21000.000</td>\n",
       "      <td>0</td>\n",
       "      <td>0</td>\n",
       "    </tr>\n",
       "    <tr>\n",
       "      <td>3</td>\n",
       "      <td>0</td>\n",
       "      <td>21.000</td>\n",
       "      <td>41700.000</td>\n",
       "      <td>2</td>\n",
       "      <td>0</td>\n",
       "    </tr>\n",
       "    <tr>\n",
       "      <td>4</td>\n",
       "      <td>1</td>\n",
       "      <td>28.000</td>\n",
       "      <td>26100.000</td>\n",
       "      <td>0</td>\n",
       "      <td>0</td>\n",
       "    </tr>\n",
       "  </tbody>\n",
       "</table>\n",
       "</div>"
      ],
      "text/plain": [
       "   Gender    Age    Salary  Family members  Insurance benefits\n",
       "0       1 41.000 49600.000               1                   0\n",
       "1       0 46.000 38000.000               1                   1\n",
       "2       0 29.000 21000.000               0                   0\n",
       "3       0 21.000 41700.000               2                   0\n",
       "4       1 28.000 26100.000               0                   0"
      ]
     },
     "metadata": {},
     "output_type": "display_data"
    },
    {
     "name": "stdout",
     "output_type": "stream",
     "text": [
      "Display general information \n",
      "\n",
      "<class 'pandas.core.frame.DataFrame'>\n",
      "RangeIndex: 5000 entries, 0 to 4999\n",
      "Data columns (total 5 columns):\n",
      "Gender                5000 non-null int64\n",
      "Age                   5000 non-null float64\n",
      "Salary                5000 non-null float64\n",
      "Family members        5000 non-null int64\n",
      "Insurance benefits    5000 non-null int64\n",
      "dtypes: float64(2), int64(3)\n",
      "memory usage: 195.4 KB\n"
     ]
    },
    {
     "data": {
      "text/plain": [
       "None"
      ]
     },
     "metadata": {},
     "output_type": "display_data"
    },
    {
     "name": "stdout",
     "output_type": "stream",
     "text": [
      "Data distribution\n",
      "\n"
     ]
    },
    {
     "data": {
      "text/html": [
       "<div>\n",
       "<style scoped>\n",
       "    .dataframe tbody tr th:only-of-type {\n",
       "        vertical-align: middle;\n",
       "    }\n",
       "\n",
       "    .dataframe tbody tr th {\n",
       "        vertical-align: top;\n",
       "    }\n",
       "\n",
       "    .dataframe thead th {\n",
       "        text-align: right;\n",
       "    }\n",
       "</style>\n",
       "<table border=\"1\" class=\"dataframe\">\n",
       "  <thead>\n",
       "    <tr style=\"text-align: right;\">\n",
       "      <th></th>\n",
       "      <th>count</th>\n",
       "      <th>mean</th>\n",
       "      <th>std</th>\n",
       "      <th>min</th>\n",
       "      <th>25%</th>\n",
       "      <th>50%</th>\n",
       "      <th>75%</th>\n",
       "      <th>max</th>\n",
       "    </tr>\n",
       "  </thead>\n",
       "  <tbody>\n",
       "    <tr>\n",
       "      <td>Gender</td>\n",
       "      <td>5000.000</td>\n",
       "      <td>0.499</td>\n",
       "      <td>0.500</td>\n",
       "      <td>0.000</td>\n",
       "      <td>0.000</td>\n",
       "      <td>0.000</td>\n",
       "      <td>1.000</td>\n",
       "      <td>1.000</td>\n",
       "    </tr>\n",
       "    <tr>\n",
       "      <td>Age</td>\n",
       "      <td>5000.000</td>\n",
       "      <td>30.953</td>\n",
       "      <td>8.441</td>\n",
       "      <td>18.000</td>\n",
       "      <td>24.000</td>\n",
       "      <td>30.000</td>\n",
       "      <td>37.000</td>\n",
       "      <td>65.000</td>\n",
       "    </tr>\n",
       "    <tr>\n",
       "      <td>Salary</td>\n",
       "      <td>5000.000</td>\n",
       "      <td>39916.360</td>\n",
       "      <td>9900.084</td>\n",
       "      <td>5300.000</td>\n",
       "      <td>33300.000</td>\n",
       "      <td>40200.000</td>\n",
       "      <td>46600.000</td>\n",
       "      <td>79000.000</td>\n",
       "    </tr>\n",
       "    <tr>\n",
       "      <td>Family members</td>\n",
       "      <td>5000.000</td>\n",
       "      <td>1.194</td>\n",
       "      <td>1.091</td>\n",
       "      <td>0.000</td>\n",
       "      <td>0.000</td>\n",
       "      <td>1.000</td>\n",
       "      <td>2.000</td>\n",
       "      <td>6.000</td>\n",
       "    </tr>\n",
       "    <tr>\n",
       "      <td>Insurance benefits</td>\n",
       "      <td>5000.000</td>\n",
       "      <td>0.148</td>\n",
       "      <td>0.463</td>\n",
       "      <td>0.000</td>\n",
       "      <td>0.000</td>\n",
       "      <td>0.000</td>\n",
       "      <td>0.000</td>\n",
       "      <td>5.000</td>\n",
       "    </tr>\n",
       "  </tbody>\n",
       "</table>\n",
       "</div>"
      ],
      "text/plain": [
       "                      count      mean      std      min       25%       50%  \\\n",
       "Gender             5000.000     0.499    0.500    0.000     0.000     0.000   \n",
       "Age                5000.000    30.953    8.441   18.000    24.000    30.000   \n",
       "Salary             5000.000 39916.360 9900.084 5300.000 33300.000 40200.000   \n",
       "Family members     5000.000     1.194    1.091    0.000     0.000     1.000   \n",
       "Insurance benefits 5000.000     0.148    0.463    0.000     0.000     0.000   \n",
       "\n",
       "                         75%       max  \n",
       "Gender                 1.000     1.000  \n",
       "Age                   37.000    65.000  \n",
       "Salary             46600.000 79000.000  \n",
       "Family members         2.000     6.000  \n",
       "Insurance benefits     0.000     5.000  "
      ]
     },
     "metadata": {},
     "output_type": "display_data"
    },
    {
     "name": "stdout",
     "output_type": "stream",
     "text": [
      "Data correlations\n",
      "\n"
     ]
    },
    {
     "data": {
      "text/html": [
       "<div>\n",
       "<style scoped>\n",
       "    .dataframe tbody tr th:only-of-type {\n",
       "        vertical-align: middle;\n",
       "    }\n",
       "\n",
       "    .dataframe tbody tr th {\n",
       "        vertical-align: top;\n",
       "    }\n",
       "\n",
       "    .dataframe thead th {\n",
       "        text-align: right;\n",
       "    }\n",
       "</style>\n",
       "<table border=\"1\" class=\"dataframe\">\n",
       "  <thead>\n",
       "    <tr style=\"text-align: right;\">\n",
       "      <th></th>\n",
       "      <th>Gender</th>\n",
       "      <th>Age</th>\n",
       "      <th>Salary</th>\n",
       "      <th>Family members</th>\n",
       "      <th>Insurance benefits</th>\n",
       "    </tr>\n",
       "  </thead>\n",
       "  <tbody>\n",
       "    <tr>\n",
       "      <td>Gender</td>\n",
       "      <td>1.000</td>\n",
       "      <td>0.002</td>\n",
       "      <td>0.015</td>\n",
       "      <td>-0.009</td>\n",
       "      <td>0.010</td>\n",
       "    </tr>\n",
       "    <tr>\n",
       "      <td>Age</td>\n",
       "      <td>0.002</td>\n",
       "      <td>1.000</td>\n",
       "      <td>-0.019</td>\n",
       "      <td>-0.007</td>\n",
       "      <td>0.651</td>\n",
       "    </tr>\n",
       "    <tr>\n",
       "      <td>Salary</td>\n",
       "      <td>0.015</td>\n",
       "      <td>-0.019</td>\n",
       "      <td>1.000</td>\n",
       "      <td>-0.030</td>\n",
       "      <td>-0.015</td>\n",
       "    </tr>\n",
       "    <tr>\n",
       "      <td>Family members</td>\n",
       "      <td>-0.009</td>\n",
       "      <td>-0.007</td>\n",
       "      <td>-0.030</td>\n",
       "      <td>1.000</td>\n",
       "      <td>-0.036</td>\n",
       "    </tr>\n",
       "    <tr>\n",
       "      <td>Insurance benefits</td>\n",
       "      <td>0.010</td>\n",
       "      <td>0.651</td>\n",
       "      <td>-0.015</td>\n",
       "      <td>-0.036</td>\n",
       "      <td>1.000</td>\n",
       "    </tr>\n",
       "  </tbody>\n",
       "</table>\n",
       "</div>"
      ],
      "text/plain": [
       "                    Gender    Age  Salary  Family members  Insurance benefits\n",
       "Gender               1.000  0.002   0.015          -0.009               0.010\n",
       "Age                  0.002  1.000  -0.019          -0.007               0.651\n",
       "Salary               0.015 -0.019   1.000          -0.030              -0.015\n",
       "Family members      -0.009 -0.007  -0.030           1.000              -0.036\n",
       "Insurance benefits   0.010  0.651  -0.015          -0.036               1.000"
      ]
     },
     "metadata": {},
     "output_type": "display_data"
    },
    {
     "name": "stdout",
     "output_type": "stream",
     "text": [
      "\n"
     ]
    }
   ],
   "source": [
    "displayGeneralDataInfo(raw_insurance_data)"
   ]
  },
  {
   "cell_type": "markdown",
   "metadata": {},
   "source": [
    "Comments: \n",
    "1. 5000 objects in dataframe\n",
    "2. There are no missing data nor negative values\n",
    "4. Columns are written with capital letter. We need to convert column names to lowercase."
   ]
  },
  {
   "cell_type": "markdown",
   "metadata": {},
   "source": [
    "Let's look at the data distribution. Firstly, we will write a function to plot distribution graph."
   ]
  },
  {
   "cell_type": "code",
   "execution_count": 11,
   "metadata": {},
   "outputs": [],
   "source": [
    "def dataDistribution(df,column,title,x_label, y_label):\n",
    "    \"\"\"\n",
    "    Distribution graph drawing function\n",
    "    df - dataframe\n",
    "    column \n",
    "    title\n",
    "    x_label - label for x axis\n",
    "    y_label - label for y axis\n",
    "    \"\"\"\n",
    "    sns.kdeplot(data=df[column], label=column, shade=True)\n",
    "    plt.title(title)\n",
    "    plt.xlabel(x_label)\n",
    "    plt.ylabel(y_label)\n",
    "    plt.legend()\n",
    "    plt.show()"
   ]
  },
  {
   "cell_type": "markdown",
   "metadata": {},
   "source": [
    "### Age"
   ]
  },
  {
   "cell_type": "code",
   "execution_count": 12,
   "metadata": {},
   "outputs": [
    {
     "data": {
      "image/png": "[encoded data removed]",
      "text/plain": [
       "<Figure size 1008x360 with 1 Axes>"
      ]
     },
     "metadata": {
      "image/png": {
       "height": 342,
       "width": 851
      },
      "needs_background": "light"
     },
     "output_type": "display_data"
    }
   ],
   "source": [
    "dataDistribution(raw_insurance_data, 'Age', \"Age distribution\", \"Age\", \"Number of values\")"
   ]
  },
  {
   "cell_type": "markdown",
   "metadata": {},
   "source": [
    "Most of the values are in 20 to 35-40 years old range."
   ]
  },
  {
   "cell_type": "markdown",
   "metadata": {},
   "source": [
    "## Salary"
   ]
  },
  {
   "cell_type": "code",
   "execution_count": 13,
   "metadata": {},
   "outputs": [
    {
     "data": {
      "image/png": "[encoded data removed]",
      "text/plain": [
       "<Figure size 1008x360 with 1 Axes>"
      ]
     },
     "metadata": {
      "image/png": {
       "height": 342,
       "width": 887
      },
      "needs_background": "light"
     },
     "output_type": "display_data"
    }
   ],
   "source": [
    "dataDistribution(raw_insurance_data, 'Salary', \"Salary distribution\", \"Salary\", \"Number of values\")"
   ]
  },
  {
   "cell_type": "markdown",
   "metadata": {},
   "source": [
    "We see normal distribution. In average, client has 40000 dollars. Most of the values are in 25000 to 55000 dollars range."
   ]
  },
  {
   "cell_type": "markdown",
   "metadata": {},
   "source": [
    "## Family members"
   ]
  },
  {
   "cell_type": "code",
   "execution_count": 14,
   "metadata": {},
   "outputs": [
    {
     "data": {
      "image/png": "[encoded data removed]",
      "text/plain": [
       "<Figure size 1008x360 with 1 Axes>"
      ]
     },
     "metadata": {
      "image/png": {
       "height": 342,
       "width": 842
      },
      "needs_background": "light"
     },
     "output_type": "display_data"
    }
   ],
   "source": [
    "dataDistribution(raw_insurance_data, 'Family members', \"Family members distribution\", \"Number of family members\", \"Number of values\")"
   ]
  },
  {
   "cell_type": "markdown",
   "metadata": {},
   "source": [
    "Most of the clients do not have a family, or have a family without children."
   ]
  },
  {
   "cell_type": "markdown",
   "metadata": {},
   "source": [
    "## Insurance benefits"
   ]
  },
  {
   "cell_type": "code",
   "execution_count": 15,
   "metadata": {},
   "outputs": [
    {
     "data": {
      "image/png": "[encoded data removed]",
      "text/plain": [
       "<Figure size 1008x360 with 1 Axes>"
      ]
     },
     "metadata": {
      "image/png": {
       "height": 342,
       "width": 829
      },
      "needs_background": "light"
     },
     "output_type": "display_data"
    }
   ],
   "source": [
    "dataDistribution(raw_insurance_data, 'Insurance benefits', \"Insurance benefits distribution\", \"Insurance benefits\", \"Number of values\")"
   ]
  },
  {
   "cell_type": "markdown",
   "metadata": {},
   "source": [
    "Most of the clients don't have insurance benefits"
   ]
  },
  {
   "cell_type": "markdown",
   "metadata": {},
   "source": [
    "## Summary"
   ]
  },
  {
   "cell_type": "markdown",
   "metadata": {},
   "source": [
    "1. 5000 objects in dataframe\n",
    "2. There are no missing data nor negative values\n",
    "4. Columns are written with capital letter. We need to convert column names to lowercase.\n",
    "5. Distributions:\n",
    "    - Age: Most of the values are in 20 to 35-40 years old range.\n",
    "    - Salary: We see normal distribution. In average, client has 40000 dollars. Most of the values are in 25000 to 55000 dollars range.\n",
    "    - Family members: Most of the clients do not have a family, or have a family without children. \n",
    "    - Insurance benefits:  don't have insurance benefits\n",
    "    \n",
    "We need to: \n",
    "1. Preprocess data:\n",
    "    - Convert column names to lower case\n",
    "    - Change data types\n",
    "    - Check data for missing values, duplicate values.\n",
    "2. Theory: Will the accuracy of Linear regression model change, if we multiply feature matrix by invertable matrix? \n",
    "3. Suggest a data transforming algorithm\n",
    "4. Apply suggested algorithm and see R2 metric values."
   ]
  },
  {
   "cell_type": "markdown",
   "metadata": {},
   "source": [
    "<br>"
   ]
  },
  {
   "cell_type": "markdown",
   "metadata": {},
   "source": [
    "<a id=\"dataPreprocessing\"></a>\n",
    "# Stage 2 - Data preprocessing"
   ]
  },
  {
   "cell_type": "markdown",
   "metadata": {},
   "source": [
    "At this stage, we need to: \n",
    "1. Convert column names to lower case\n",
    "2. Change data types\n",
    "3. Check data for missing values, duplicate values."
   ]
  },
  {
   "cell_type": "markdown",
   "metadata": {},
   "source": [
    "<a id=\"columnProcessing\"></a>\n",
    "## Column processing"
   ]
  },
  {
   "cell_type": "markdown",
   "metadata": {},
   "source": [
    "Let's convert column names to lower case. "
   ]
  },
  {
   "cell_type": "code",
   "execution_count": 16,
   "metadata": {},
   "outputs": [],
   "source": [
    "def snake_case(s):\n",
    "    \"\"\"\n",
    "    Transforming string with camelCase into snake_case.\n",
    "    s - string value (column name)\n",
    "    \"\"\"\n",
    "    return ''.join('_' + c.lower()\n",
    "                   if all([i != 0,\n",
    "                           c.isupper(),\n",
    "                           s[i - 1].islower()])\n",
    "                   else c.lower()\n",
    "                   for i, c in enumerate(s))"
   ]
  },
  {
   "cell_type": "code",
   "execution_count": 17,
   "metadata": {},
   "outputs": [
    {
     "data": {
      "text/plain": [
       "Index(['gender', 'age', 'salary', 'family members', 'insurance benefits'], dtype='object')"
      ]
     },
     "execution_count": 17,
     "metadata": {},
     "output_type": "execute_result"
    }
   ],
   "source": [
    "# transform into snake_case\n",
    "raw_insurance_data.columns = map(snake_case, raw_insurance_data.columns)\n",
    "raw_insurance_data.columns"
   ]
  },
  {
   "cell_type": "markdown",
   "metadata": {},
   "source": [
    "Column names are converted, let's move on to data check"
   ]
  },
  {
   "cell_type": "markdown",
   "metadata": {},
   "source": [
    "<a id=\"dataCheck\"></a>\n",
    "## Data check"
   ]
  },
  {
   "cell_type": "markdown",
   "metadata": {},
   "source": [
    "Write a function which:\n",
    "1. Check for missing data\n",
    "2. Check for duplicate values\n",
    "3. Check for negative values\n",
    "4. Check appropriate types: float64, int64"
   ]
  },
  {
   "cell_type": "code",
   "execution_count": 18,
   "metadata": {},
   "outputs": [],
   "source": [
    "def get_preprocessed_data(raw_data):\n",
    "    \"\"\"\n",
    "    Function checks dataframe. Returns preprocessed data for model training \n",
    "    raw_data - data to check\n",
    "    \"\"\"\n",
    "    # check data\n",
    "    assert raw_data.isna().sum().sum() == 0, 'There should not be missing data!'\n",
    "    assert raw_data.select_dtypes(exclude=[np.float64, np.int64]).size == 0, 'Type of data needs to be one of the following: float64, int64!'\n",
    "    assert raw_data.duplicated().sum().sum() == 0, 'There should not be duplicate values'\n",
    "    print('Data is valid!')\n",
    "    preprocessed_data = raw_data.copy()\n",
    "    \n",
    "    try:\n",
    "        preprocessed_data['age'] = preprocessed_data['age'].astype('int')\n",
    "    except:\n",
    "        print('Check for missing values. Data type - NaN can not be converted to int')\n",
    "    \n",
    "    return preprocessed_data"
   ]
  },
  {
   "cell_type": "code",
   "execution_count": 19,
   "metadata": {},
   "outputs": [],
   "source": [
    "# insurance_data = get_preprocessed_data(raw_insurance_data)\n",
    "# there are duplicate values"
   ]
  },
  {
   "cell_type": "markdown",
   "metadata": {},
   "source": [
    "Look at the duplicates"
   ]
  },
  {
   "cell_type": "code",
   "execution_count": 20,
   "metadata": {},
   "outputs": [
    {
     "data": {
      "text/plain": [
       "153"
      ]
     },
     "execution_count": 20,
     "metadata": {},
     "output_type": "execute_result"
    }
   ],
   "source": [
    "raw_insurance_data.duplicated().sum()"
   ]
  },
  {
   "cell_type": "markdown",
   "metadata": {},
   "source": [
    "153 duplicate values. Let's remove them by using *drop_duplicates()*."
   ]
  },
  {
   "cell_type": "code",
   "execution_count": 21,
   "metadata": {},
   "outputs": [],
   "source": [
    "raw_insurance_data = raw_insurance_data.drop_duplicates().reset_index(drop=True)"
   ]
  },
  {
   "cell_type": "code",
   "execution_count": 22,
   "metadata": {},
   "outputs": [
    {
     "name": "stdout",
     "output_type": "stream",
     "text": [
      "Data is valid!\n"
     ]
    }
   ],
   "source": [
    "insurance_data = get_preprocessed_data(raw_insurance_data)"
   ]
  },
  {
   "cell_type": "markdown",
   "metadata": {},
   "source": [
    "Let's how many objects we have"
   ]
  },
  {
   "cell_type": "code",
   "execution_count": 23,
   "metadata": {},
   "outputs": [
    {
     "name": "stdout",
     "output_type": "stream",
     "text": [
      "Number of objects after preprocessing: 4847\n"
     ]
    }
   ],
   "source": [
    "print(f'Number of objects after preprocessing: {insurance_data.shape[0]}')"
   ]
  },
  {
   "cell_type": "markdown",
   "metadata": {},
   "source": [
    "## Summary"
   ]
  },
  {
   "cell_type": "markdown",
   "metadata": {},
   "source": [
    "At the preprocessing stage, we:\n",
    "1. Converted column names into lowercase\n",
    "2. Check data for missing data, duplicate values. We found out that there were 153 duplicate values. We have removed them. Data is valid!\n",
    "3. Number of objects after preprocessing: 4847"
   ]
  },
  {
   "cell_type": "markdown",
   "metadata": {},
   "source": [
    "<br>"
   ]
  },
  {
   "cell_type": "markdown",
   "metadata": {},
   "source": [
    "<a id=\"theoryProof\"></a>\n",
    "# Stage 3 - Theory proof"
   ]
  },
  {
   "cell_type": "markdown",
   "metadata": {},
   "source": [
    "At this stage it is necessary to check: if we multiply the feature matrix by the invertible matrix, will the quality of the linear regression change? "
   ]
  },
  {
   "cell_type": "markdown",
   "metadata": {},
   "source": [
    "### Properties of matrix and matrix multiplication\n",
    "\n",
    "- Associative property of multiplication - $A(BC) = (AB)C$\n",
    "- Distributive properties  - $A(B+C)=AB+AC$ , $(B+C)A=BA+CA$\n",
    "- Multiplicative identity property  - $IA = A$ and  $AI = A$\n",
    "- Transposed inverse matrix is the transposed  inverse matrix  - $(P^T)^{-1} = (P^{-1})^T$\n",
    "- Transposed product of matrices is equal to the product of transposed matrices  - $(AB)^T = B^T A^T$\n",
    "- The inverse of the product of two matrices is equal to the inverse of matrix B(second) to the inverse of matrix A(first) - $(AB)^{-1} = B^{-1} A^{-1}$\n",
    "- Multiplication of a matrix by its inverse is an identity matrix - $P P^{-1} = E$ "
   ]
  },
  {
   "cell_type": "markdown",
   "metadata": {},
   "source": [
    "### Solution"
   ]
  },
  {
   "cell_type": "markdown",
   "metadata": {},
   "source": [
    "For linear regression we need to find the model parameters, at which the value of the loss function on the training sample is minimal. The formula of the linear regression training problem for the loss function: "
   ]
  },
  {
   "cell_type": "markdown",
   "metadata": {},
   "source": [
    "\\begin{equation} w=argminMSE(Xw, y) \\end{equation}"
   ]
  },
  {
   "cell_type": "markdown",
   "metadata": {},
   "source": [
    "The minimum *MSE* value is obtained when the weights are equal to this value:  "
   ]
  },
  {
   "cell_type": "markdown",
   "metadata": {},
   "source": [
    "\\begin{equation} w=(X^{T}*X)^{-1}*X^{T}*y \\end{equation}"
   ]
  },
  {
   "cell_type": "markdown",
   "metadata": {},
   "source": [
    "- The transposed feature matrix is multiplied by itself. \n",
    "- The inverse matrix to the result is calculated.\n",
    "- The resulting inverse matrix is multiplied by the transposed feature matrix.\n",
    "- The result is multiplied by the vector of target values"
   ]
  },
  {
   "cell_type": "markdown",
   "metadata": {},
   "source": [
    "A matrix **A** with power *-1* is called **inverse** to a square matrix **A** if the equations are satisfied:"
   ]
  },
  {
   "cell_type": "markdown",
   "metadata": {},
   "source": [
    "\\begin{equation} AA^{-1} = A^{-1}A = E \\end{equation}"
   ]
  },
  {
   "cell_type": "markdown",
   "metadata": {},
   "source": [
    "Square matrices for which the inverse can be found are called *invertible*. Non-invertible matrices are rare."
   ]
  },
  {
   "cell_type": "markdown",
   "metadata": {},
   "source": [
    "If you generate a random matrix with *np.random().normal()*. The probability of getting an irreversible matrix is close to 0. Example:"
   ]
  },
  {
   "cell_type": "code",
   "execution_count": 24,
   "metadata": {},
   "outputs": [
    {
     "data": {
      "text/plain": [
       "array([[-1.41433294, -0.53442887,  0.3766004 ],\n",
       "       [-0.71244683, -0.43384293, -0.23506484],\n",
       "       [-1.08268154, -0.4559081 ,  0.76780223]])"
      ]
     },
     "execution_count": 24,
     "metadata": {},
     "output_type": "execute_result"
    }
   ],
   "source": [
    "# Generate a random square matrix\n",
    "matrix_example = np.random.normal(size=(3,3))\n",
    "matrix_example"
   ]
  },
  {
   "cell_type": "code",
   "execution_count": 25,
   "metadata": {},
   "outputs": [
    {
     "data": {
      "text/plain": [
       "array([[-3.15003176,  1.70740489,  2.06779039],\n",
       "       [ 5.73463754, -4.8522541 , -4.29832187],\n",
       "       [-1.03674291, -0.4735675 ,  1.66594817]])"
      ]
     },
     "execution_count": 25,
     "metadata": {},
     "output_type": "execute_result"
    }
   ],
   "source": [
    "# Find the inverse matrix\n",
    "matrix_example_invert = np.linalg.inv(matrix_example)\n",
    "matrix_example_invert"
   ]
  },
  {
   "cell_type": "markdown",
   "metadata": {},
   "source": [
    "Check:"
   ]
  },
  {
   "cell_type": "markdown",
   "metadata": {},
   "source": [
    "\\begin{equation} AA^{-1} = A^{-1}A = E \\end{equation}"
   ]
  },
  {
   "cell_type": "code",
   "execution_count": 26,
   "metadata": {},
   "outputs": [
    {
     "data": {
      "text/plain": [
       "array([[ 1.00000000e+00, -1.91630604e-16, -1.82262799e-16],\n",
       "       [ 6.80761446e-16,  1.00000000e+00, -7.22040534e-17],\n",
       "       [ 1.01331998e-15, -1.97219618e-16,  1.00000000e+00]])"
      ]
     },
     "execution_count": 26,
     "metadata": {},
     "output_type": "execute_result"
    }
   ],
   "source": [
    "identity_matrix = np.dot(matrix_example, matrix_example_invert)\n",
    "identity_matrix"
   ]
  },
  {
   "cell_type": "markdown",
   "metadata": {},
   "source": [
    "Let the variable ***P*** be our invertible matrix. We need to prove: "
   ]
  },
  {
   "cell_type": "markdown",
   "metadata": {},
   "source": [
    "\\begin{equation} MSE(X*w, y) = MSE(X*P*w_1, y) \\end{equation}"
   ]
  },
  {
   "cell_type": "markdown",
   "metadata": {},
   "source": [
    "**w** left side of equality:"
   ]
  },
  {
   "cell_type": "markdown",
   "metadata": {},
   "source": [
    "\\begin{equation} w=(X^{T}*X)^{-1}*X^{T}*y \\end{equation}"
   ]
  },
  {
   "cell_type": "markdown",
   "metadata": {},
   "source": [
    "**w1** right side of equality: "
   ]
  },
  {
   "cell_type": "markdown",
   "metadata": {},
   "source": [
    "\\begin{equation} w_1=((X*P)^{T}*(X*P))^{-1}(X*P)^{T}*y \\end{equation}"
   ]
  },
  {
   "cell_type": "markdown",
   "metadata": {},
   "source": [
    "Expand the brackets **w1**, under the conditions:\n",
    "1. **X** and **P** must be quadratic\n",
    "2. $(XP)^T=P^TX^T$ The transpose product of matrices equals the product of transpose matrices\n",
    "3. $(XP)^{-1}=P^{-1}X^{-1}$ The inverse matrix from the product of two matrices is equal to the inverse of matrix P(second) to the inverse of matrix X(first)"
   ]
  },
  {
   "cell_type": "markdown",
   "metadata": {},
   "source": [
    "\\begin{equation} w_1=((P^T*X^T) * (X * P))^{-1} * P^T*X^T * y \\end{equation}"
   ]
  },
  {
   "cell_type": "markdown",
   "metadata": {},
   "source": [
    "\\begin{equation} w_1=(X * P)^{-1} * (P^T*X^T)^{-1} * P^T*X^T * y \\end{equation}"
   ]
  },
  {
   "cell_type": "markdown",
   "metadata": {},
   "source": [
    "\\begin{equation} w_1= P^{-1} * X^{-1} * (X^T)^{-1} * (P^T)^{-1} * P^T*X^T * y \\end{equation}"
   ]
  },
  {
   "cell_type": "markdown",
   "metadata": {},
   "source": [
    "By the property: $(XP)^{-1}=P^{-1}X^{-1}$ the inverse matrix from the product of two matrices is equal to the inverse of matrix B(second) to the inverse of matrix A(first), let us do the transformation:"
   ]
  },
  {
   "cell_type": "markdown",
   "metadata": {},
   "source": [
    "\\begin{equation} w_1= P^{-1}  * (X^T*X)^{-1} * (P^T)^{-1} * P^T*X^T * y \\end{equation}"
   ]
  },
  {
   "cell_type": "markdown",
   "metadata": {},
   "source": [
    "Rearrange the multipliers"
   ]
  },
  {
   "cell_type": "markdown",
   "metadata": {},
   "source": [
    "\\begin{equation} w_1= (X^T*X)^{-1} * X^T * y * P^{-1} * (P^T)^{-1} * P^T \\end{equation}"
   ]
  },
  {
   "cell_type": "markdown",
   "metadata": {},
   "source": [
    "We know that:"
   ]
  },
  {
   "cell_type": "markdown",
   "metadata": {},
   "source": [
    "\\begin{equation} w=(X^{T}*X)^{-1}*X^{T}*y \\end{equation}"
   ]
  },
  {
   "cell_type": "markdown",
   "metadata": {},
   "source": [
    "Let's substitute this into our equation and get this result:"
   ]
  },
  {
   "cell_type": "markdown",
   "metadata": {},
   "source": [
    "\\begin{equation} w_1= (X^T*X)^{-1} * X^T * y * P^{-1} * (P^T)^{-1} * P^T \\end{equation}"
   ]
  },
  {
   "cell_type": "markdown",
   "metadata": {},
   "source": [
    "\\begin{equation} w_1= w * P^{-1} * (P^T)^{-1} * P^T  \\end{equation}"
   ]
  },
  {
   "cell_type": "markdown",
   "metadata": {},
   "source": [
    "Based on:"
   ]
  },
  {
   "cell_type": "markdown",
   "metadata": {},
   "source": [
    "- Multiplication of a matrix by its inverse is an identity matrix - $P P^{-1} = E$ \n",
    "\n",
    "- Transposed inverse matrix is the transposed  inverse matrix  - $(P^T)^{-1} = (P^{-1})^T$\n",
    "\n",
    "- Transposed product of matrices is equal to the product of transposed matrices  - $(AB)^T = B^T A^T$\n"
   ]
  },
  {
   "cell_type": "markdown",
   "metadata": {},
   "source": [
    "Transform our equation"
   ]
  },
  {
   "cell_type": "markdown",
   "metadata": {},
   "source": [
    "\\begin{equation} w_1= w*(P^{T})^{-1}*P^{T}*P^{-1} \\end{equation}\n",
    "\\begin{equation} w_1= w*(P^{-1})^{T}*P^{T}*P^{-1} \\end{equation}\n",
    "\\begin{equation} w_1= w*(P*P^{-1})^{T}*P^{-1} \\end{equation}\n",
    "\\begin{equation} w_1= w*(E)^{T}*P^{-1} \\end{equation}"
   ]
  },
  {
   "cell_type": "markdown",
   "metadata": {},
   "source": [
    "$E^T = E$ The result of transposing the identity matrix E is the identity matrix E. \n",
    "\n",
    "$AE = EA = A$ If any matrix A is multiplied by a identity matrix (or vice versa), we get the same matrix A"
   ]
  },
  {
   "cell_type": "markdown",
   "metadata": {},
   "source": [
    "\\begin{equation} w_1= w*P^{-1} \\end{equation}"
   ]
  },
  {
   "cell_type": "markdown",
   "metadata": {},
   "source": [
    "Substitute in our first equality"
   ]
  },
  {
   "cell_type": "markdown",
   "metadata": {},
   "source": [
    "\\begin{equation} MSE(X*w, y) = MSE(X*P*w*P^{-1}, y) \\end{equation}"
   ]
  },
  {
   "cell_type": "markdown",
   "metadata": {},
   "source": [
    "Rearrange the multipliers"
   ]
  },
  {
   "cell_type": "markdown",
   "metadata": {},
   "source": [
    "\\begin{equation} MSE(X*w, y) = MSE(X*P*P^{-1}*w, y) \\end{equation}"
   ]
  },
  {
   "cell_type": "markdown",
   "metadata": {},
   "source": [
    "Also, based on:\n",
    "\n",
    "$PP^{-1} = P^{-1}P = E$ multiplying a matrix by its inverse is a identity matrix.\n",
    "\n",
    "$AE = EA = A$ If any matrix A is multiplied by a identity matrix (or vice versa), we get the same matrix A"
   ]
  },
  {
   "cell_type": "markdown",
   "metadata": {},
   "source": [
    "Transform the equation"
   ]
  },
  {
   "cell_type": "markdown",
   "metadata": {},
   "source": [
    "\\begin{equation} MSE(X*w, y) = MSE(X*E*w, y) \\end{equation}"
   ]
  },
  {
   "cell_type": "markdown",
   "metadata": {},
   "source": [
    "\\begin{equation} MSE(X*w, y) = MSE(X*w, y) \\end{equation}"
   ]
  },
  {
   "cell_type": "markdown",
   "metadata": {},
   "source": [
    "We proved that by multiplying the feature matrix by the invertible matrix, the quality of the model will not change."
   ]
  },
  {
   "cell_type": "markdown",
   "metadata": {},
   "source": [
    "## Summary"
   ]
  },
  {
   "cell_type": "markdown",
   "metadata": {},
   "source": [
    "At this stage, we checked: if we multiply the feature matrix by the invertible matrix, will the quality of the linear regression change? \n",
    "\n",
    "We proved that **by multiplying the feature matrix by the invertible matrix, the quality of the model will not change**."
   ]
  },
  {
   "cell_type": "markdown",
   "metadata": {},
   "source": [
    "<br>"
   ]
  },
  {
   "cell_type": "markdown",
   "metadata": {},
   "source": [
    "<a id=\"dataEncryptAlgorithm\"></a>\n",
    "# Stage 4 - Data encryption algorithm"
   ]
  },
  {
   "cell_type": "markdown",
   "metadata": {},
   "source": [
    "At this stage we need to create a data encryption algorithm."
   ]
  },
  {
   "cell_type": "markdown",
   "metadata": {},
   "source": [
    "We found out earlier that **the quality of the model will not change by multiplying the feature matrix by a invertible matrix**."
   ]
  },
  {
   "cell_type": "markdown",
   "metadata": {},
   "source": [
    "Thus, we will suggest applying [Symmetric-key algorithm](https://en.wikipedia.org/wiki/Symmetric-key_algorithm):\n",
    "1. Generate a key (our invertible matrix)\n",
    "2. Multiply the feature matrix by the obtained key (invertible matrix)\n",
    "3. Create a linear regression model\n",
    "4. Train the model on the resulting matrix\n",
    "5. Make a prediction\n",
    "6. Check the metric *r2_score()* and the resulting w vector of weights + w0 prediction shift\n",
    "\n",
    "For comparison, let us suggest the original algorithm without multiplication by a invertible matrix: \n",
    "1. Create a linear regression model\n",
    "2. Train the model without changing the feature matrix\n",
    "3. Make predictions\n",
    "4. Check *r2_score()* metric and w vector weights + w0 prediction shift"
   ]
  },
  {
   "cell_type": "markdown",
   "metadata": {},
   "source": [
    "<a id=\"modelCreation\"></a>\n",
    "## Model creation"
   ]
  },
  {
   "cell_type": "markdown",
   "metadata": {},
   "source": [
    "Let's create our Linear Regression model and compare it with the model from the *sklearn* library."
   ]
  },
  {
   "cell_type": "code",
   "execution_count": 27,
   "metadata": {},
   "outputs": [],
   "source": [
    "class LinearRegressionCustom:\n",
    "    def fit(self, train_features, train_target):\n",
    "        \"\"\"\n",
    "        Model training method\n",
    "        self - class object\n",
    "        train_features - feature matrix\n",
    "        train_target - vector target\n",
    "        \"\"\"\n",
    "        # add a column consisting only of 1s\n",
    "        X = np.concatenate((np.ones((train_features.shape[0], 1)), train_features),axis=1)\n",
    "        y = train_target\n",
    "        # loss function\n",
    "        w = np.linalg.inv(X.T.dot(X)).dot(X.T).dot(y)\n",
    "        # save the values of w - vector of weights\n",
    "        self.w = w[1:]\n",
    "        # prediction shift\n",
    "        self.w0 = w[0]\n",
    "    \n",
    "    def predict(self, features):\n",
    "        \"\"\"\n",
    "        Model prediction method. The method returns a vector of predictions\n",
    "        self -  class object\n",
    "        features - feature matrix\n",
    "        \"\"\"\n",
    "        return features.dot(self.w) + self.w0"
   ]
  },
  {
   "cell_type": "markdown",
   "metadata": {},
   "source": [
    "## Summary"
   ]
  },
  {
   "cell_type": "markdown",
   "metadata": {},
   "source": [
    "Based on the conclusion that **the quality of the model will not change by multiplying the feature matrix by a invertable matrix of equal size**, we proposed a data transformation (encryption) algorithm. In addition, we created our custom Linear Regression model. "
   ]
  },
  {
   "cell_type": "markdown",
   "metadata": {},
   "source": [
    "<br>"
   ]
  },
  {
   "cell_type": "markdown",
   "metadata": {},
   "source": [
    "<a id=\"algorithmApplication\"></a>\n",
    "# Stage 5 - Algorithm application"
   ]
  },
  {
   "cell_type": "markdown",
   "metadata": {},
   "source": [
    "At this stage, we need to apply the proposed algorithm and see if the quality of the model changes from the transformations or not. In addition, let's compare our custom model with the model from the *sklearn* library."
   ]
  },
  {
   "cell_type": "markdown",
   "metadata": {},
   "source": [
    "Let's also write a function for displaying model R2 metric score"
   ]
  },
  {
   "cell_type": "code",
   "execution_count": 28,
   "metadata": {},
   "outputs": [],
   "source": [
    "def drawPlot(df,x_axis, y_axis, x_label, y_label,plot_title):\n",
    "    \"\"\"\n",
    "    Function for plotting graphs \n",
    "    df - dataframe\n",
    "    x_axis\n",
    "    y_axis\n",
    "    x_label - label for x axis\n",
    "    y_label - label for y axis\n",
    "    plot_title - title\n",
    "    \"\"\"\n",
    "    plt.title(plot_title)\n",
    "    sns.barplot(x=x_axis,y=y_axis, data=df)\n",
    "    plt.xlabel(x_label)\n",
    "    plt.ylabel(y_label)\n",
    "    plt.show()"
   ]
  },
  {
   "cell_type": "markdown",
   "metadata": {},
   "source": [
    "<a id=\"dataSeparation\"></a>\n",
    "## Data separation"
   ]
  },
  {
   "cell_type": "markdown",
   "metadata": {},
   "source": [
    "First, let's write a function for target and features separation."
   ]
  },
  {
   "cell_type": "code",
   "execution_count": 29,
   "metadata": {},
   "outputs": [],
   "source": [
    "def target_features_split(data,column):\n",
    "    \"\"\"\n",
    "    Function separates target and features. It returns 1) target, 2) features\n",
    "    data - data that needs to be splitted \n",
    "    column - target \n",
    "    \"\"\"\n",
    "    return data[column], data.drop(column,axis=1)"
   ]
  },
  {
   "cell_type": "code",
   "execution_count": 30,
   "metadata": {},
   "outputs": [],
   "source": [
    "train_target,train_features = target_features_split(insurance_data, 'insurance benefits')"
   ]
  },
  {
   "cell_type": "markdown",
   "metadata": {},
   "source": [
    "<a id=\"originalAlgorithmApplication\"></a>\n",
    "## Original algorithm application"
   ]
  },
  {
   "cell_type": "markdown",
   "metadata": {},
   "source": [
    "<a id=\"originalAlgoSklearnModel\"></a>\n",
    "### Model from sklearn"
   ]
  },
  {
   "cell_type": "code",
   "execution_count": 31,
   "metadata": {},
   "outputs": [
    {
     "name": "stdout",
     "output_type": "stream",
     "text": [
      "r2_score: 0.4302010044852067\n",
      "Vector weights w: [ 9.46018141e-03  3.61640081e-02 -1.38991363e-07 -1.42517371e-02]\n",
      "Shift w0 -0.9517099946522036\n"
     ]
    }
   ],
   "source": [
    "# create a model\n",
    "model_1 = LinearRegression()\n",
    "# train \n",
    "model_1.fit(train_features, train_target)\n",
    "# predictions\n",
    "model_1_pred = model_1.predict(train_features)\n",
    "model_1_r2_score = r2_score(train_target,model_1_pred)\n",
    "print(f'r2_score: {model_1_r2_score}')\n",
    "print(f'Vector weights w: {model_1.coef_}')\n",
    "print(f'Shift w0 {model_1.intercept_}')"
   ]
  },
  {
   "cell_type": "markdown",
   "metadata": {},
   "source": [
    "<a id=\"originalAlgoCustomModel\"></a>\n",
    "### Custom model"
   ]
  },
  {
   "cell_type": "code",
   "execution_count": 32,
   "metadata": {},
   "outputs": [
    {
     "name": "stdout",
     "output_type": "stream",
     "text": [
      "r2_score: 0.4302010044852068\n",
      "Vector weights w: [ 9.46018141e-03  3.61640081e-02 -1.38991363e-07 -1.42517371e-02]\n",
      "Shift w0 -0.95170999465196\n"
     ]
    }
   ],
   "source": [
    "# create a model\n",
    "model_2 = LinearRegressionCustom()\n",
    "# train \n",
    "model_2.fit(train_features, train_target)\n",
    "# predictions\n",
    "model_2_pred = model_2.predict(train_features)\n",
    "model_2_r2_score = r2_score(train_target,model_2_pred)\n",
    "print(f'r2_score: {model_2_r2_score}')\n",
    "print(f'Vector weights w: {model_2.w}')\n",
    "print(f'Shift w0 {model_2.w0}')"
   ]
  },
  {
   "cell_type": "markdown",
   "metadata": {},
   "source": [
    "Create a dataframe(table) to display the results"
   ]
  },
  {
   "cell_type": "code",
   "execution_count": 33,
   "metadata": {},
   "outputs": [
    {
     "data": {
      "text/html": [
       "<div>\n",
       "<style scoped>\n",
       "    .dataframe tbody tr th:only-of-type {\n",
       "        vertical-align: middle;\n",
       "    }\n",
       "\n",
       "    .dataframe tbody tr th {\n",
       "        vertical-align: top;\n",
       "    }\n",
       "\n",
       "    .dataframe thead th {\n",
       "        text-align: right;\n",
       "    }\n",
       "</style>\n",
       "<table border=\"1\" class=\"dataframe\">\n",
       "  <thead>\n",
       "    <tr style=\"text-align: right;\">\n",
       "      <th></th>\n",
       "      <th>model</th>\n",
       "      <th>r2_score</th>\n",
       "    </tr>\n",
       "  </thead>\n",
       "  <tbody>\n",
       "    <tr>\n",
       "      <td>0</td>\n",
       "      <td>sklearn</td>\n",
       "      <td>0.430</td>\n",
       "    </tr>\n",
       "    <tr>\n",
       "      <td>1</td>\n",
       "      <td>custom</td>\n",
       "      <td>0.430</td>\n",
       "    </tr>\n",
       "  </tbody>\n",
       "</table>\n",
       "</div>"
      ],
      "text/plain": [
       "     model  r2_score\n",
       "0  sklearn     0.430\n",
       "1   custom     0.430"
      ]
     },
     "execution_count": 33,
     "metadata": {},
     "output_type": "execute_result"
    }
   ],
   "source": [
    "sklearn_vs_custom = pd.DataFrame({\"model\":['sklearn','custom'], \"r2_score\": [model_1_r2_score,model_2_r2_score]})\n",
    "sklearn_vs_custom"
   ]
  },
  {
   "cell_type": "code",
   "execution_count": 34,
   "metadata": {},
   "outputs": [
    {
     "data": {
      "image/png": "[encoded data removed]",
      "text/plain": [
       "<Figure size 1008x360 with 1 Axes>"
      ]
     },
     "metadata": {
      "image/png": {
       "height": 342,
       "width": 842
      },
      "needs_background": "light"
     },
     "output_type": "display_data"
    }
   ],
   "source": [
    "drawPlot(sklearn_vs_custom,'model','r2_score', 'Models', 'R2','Comparison Sklearn and custom models')"
   ]
  },
  {
   "cell_type": "markdown",
   "metadata": {},
   "source": [
    "Our model works the same way as the model from the *sklearn* library!"
   ]
  },
  {
   "cell_type": "markdown",
   "metadata": {},
   "source": [
    "<a id=\"suggestedAlgorithmApplication\"></a>\n",
    "## Suggested algorithm application"
   ]
  },
  {
   "cell_type": "markdown",
   "metadata": {},
   "source": [
    "Let's generate a random matrix with the *np.random().normal()* function. The probability of getting an irreversible matrix is close to 0."
   ]
  },
  {
   "cell_type": "code",
   "execution_count": 35,
   "metadata": {},
   "outputs": [],
   "source": [
    "# Generate a random square matrix\n",
    "size = train_features.shape[1]\n",
    "key = np.random.normal(size=(size,size))\n",
    "# Multiply the feature matrix by the generated matrix\n",
    "train_features_encrypted = train_features.dot(key)"
   ]
  },
  {
   "cell_type": "markdown",
   "metadata": {},
   "source": [
    "Verifying encrypted data"
   ]
  },
  {
   "cell_type": "code",
   "execution_count": 36,
   "metadata": {},
   "outputs": [
    {
     "data": {
      "text/html": [
       "<div>\n",
       "<style scoped>\n",
       "    .dataframe tbody tr th:only-of-type {\n",
       "        vertical-align: middle;\n",
       "    }\n",
       "\n",
       "    .dataframe tbody tr th {\n",
       "        vertical-align: top;\n",
       "    }\n",
       "\n",
       "    .dataframe thead th {\n",
       "        text-align: right;\n",
       "    }\n",
       "</style>\n",
       "<table border=\"1\" class=\"dataframe\">\n",
       "  <thead>\n",
       "    <tr style=\"text-align: right;\">\n",
       "      <th></th>\n",
       "      <th>0</th>\n",
       "      <th>1</th>\n",
       "      <th>2</th>\n",
       "      <th>3</th>\n",
       "    </tr>\n",
       "  </thead>\n",
       "  <tbody>\n",
       "    <tr>\n",
       "      <td>0</td>\n",
       "      <td>151.110</td>\n",
       "      <td>3987.757</td>\n",
       "      <td>36029.110</td>\n",
       "      <td>22984.116</td>\n",
       "    </tr>\n",
       "    <tr>\n",
       "      <td>1</td>\n",
       "      <td>111.706</td>\n",
       "      <td>3056.100</td>\n",
       "      <td>27618.971</td>\n",
       "      <td>17617.797</td>\n",
       "    </tr>\n",
       "    <tr>\n",
       "      <td>2</td>\n",
       "      <td>60.743</td>\n",
       "      <td>1689.655</td>\n",
       "      <td>15268.161</td>\n",
       "      <td>9739.025</td>\n",
       "    </tr>\n",
       "    <tr>\n",
       "      <td>3</td>\n",
       "      <td>130.985</td>\n",
       "      <td>3350.392</td>\n",
       "      <td>30271.897</td>\n",
       "      <td>19313.344</td>\n",
       "    </tr>\n",
       "    <tr>\n",
       "      <td>4</td>\n",
       "      <td>77.620</td>\n",
       "      <td>2099.443</td>\n",
       "      <td>18967.841</td>\n",
       "      <td>12099.217</td>\n",
       "    </tr>\n",
       "  </tbody>\n",
       "</table>\n",
       "</div>"
      ],
      "text/plain": [
       "        0        1         2         3\n",
       "0 151.110 3987.757 36029.110 22984.116\n",
       "1 111.706 3056.100 27618.971 17617.797\n",
       "2  60.743 1689.655 15268.161  9739.025\n",
       "3 130.985 3350.392 30271.897 19313.344\n",
       "4  77.620 2099.443 18967.841 12099.217"
      ]
     },
     "execution_count": 36,
     "metadata": {},
     "output_type": "execute_result"
    }
   ],
   "source": [
    "train_features_encrypted.head()"
   ]
  },
  {
   "cell_type": "markdown",
   "metadata": {},
   "source": [
    "Let's look at the data before and after encryption and try to recover the encrypted data with the key."
   ]
  },
  {
   "cell_type": "markdown",
   "metadata": {},
   "source": [
    "**Before encryption**"
   ]
  },
  {
   "cell_type": "code",
   "execution_count": 37,
   "metadata": {},
   "outputs": [
    {
     "data": {
      "text/html": [
       "<div>\n",
       "<style scoped>\n",
       "    .dataframe tbody tr th:only-of-type {\n",
       "        vertical-align: middle;\n",
       "    }\n",
       "\n",
       "    .dataframe tbody tr th {\n",
       "        vertical-align: top;\n",
       "    }\n",
       "\n",
       "    .dataframe thead th {\n",
       "        text-align: right;\n",
       "    }\n",
       "</style>\n",
       "<table border=\"1\" class=\"dataframe\">\n",
       "  <thead>\n",
       "    <tr style=\"text-align: right;\">\n",
       "      <th></th>\n",
       "      <th>gender</th>\n",
       "      <th>age</th>\n",
       "      <th>salary</th>\n",
       "      <th>family members</th>\n",
       "    </tr>\n",
       "  </thead>\n",
       "  <tbody>\n",
       "    <tr>\n",
       "      <td>0</td>\n",
       "      <td>1</td>\n",
       "      <td>41</td>\n",
       "      <td>49600.000</td>\n",
       "      <td>1</td>\n",
       "    </tr>\n",
       "    <tr>\n",
       "      <td>1</td>\n",
       "      <td>0</td>\n",
       "      <td>46</td>\n",
       "      <td>38000.000</td>\n",
       "      <td>1</td>\n",
       "    </tr>\n",
       "    <tr>\n",
       "      <td>2</td>\n",
       "      <td>0</td>\n",
       "      <td>29</td>\n",
       "      <td>21000.000</td>\n",
       "      <td>0</td>\n",
       "    </tr>\n",
       "    <tr>\n",
       "      <td>3</td>\n",
       "      <td>0</td>\n",
       "      <td>21</td>\n",
       "      <td>41700.000</td>\n",
       "      <td>2</td>\n",
       "    </tr>\n",
       "    <tr>\n",
       "      <td>4</td>\n",
       "      <td>1</td>\n",
       "      <td>28</td>\n",
       "      <td>26100.000</td>\n",
       "      <td>0</td>\n",
       "    </tr>\n",
       "  </tbody>\n",
       "</table>\n",
       "</div>"
      ],
      "text/plain": [
       "   gender  age    salary  family members\n",
       "0       1   41 49600.000               1\n",
       "1       0   46 38000.000               1\n",
       "2       0   29 21000.000               0\n",
       "3       0   21 41700.000               2\n",
       "4       1   28 26100.000               0"
      ]
     },
     "execution_count": 37,
     "metadata": {},
     "output_type": "execute_result"
    }
   ],
   "source": [
    "train_features.head()"
   ]
  },
  {
   "cell_type": "markdown",
   "metadata": {},
   "source": [
    "**After encryption**"
   ]
  },
  {
   "cell_type": "code",
   "execution_count": 38,
   "metadata": {},
   "outputs": [
    {
     "data": {
      "text/html": [
       "<div>\n",
       "<style scoped>\n",
       "    .dataframe tbody tr th:only-of-type {\n",
       "        vertical-align: middle;\n",
       "    }\n",
       "\n",
       "    .dataframe tbody tr th {\n",
       "        vertical-align: top;\n",
       "    }\n",
       "\n",
       "    .dataframe thead th {\n",
       "        text-align: right;\n",
       "    }\n",
       "</style>\n",
       "<table border=\"1\" class=\"dataframe\">\n",
       "  <thead>\n",
       "    <tr style=\"text-align: right;\">\n",
       "      <th></th>\n",
       "      <th>0</th>\n",
       "      <th>1</th>\n",
       "      <th>2</th>\n",
       "      <th>3</th>\n",
       "    </tr>\n",
       "  </thead>\n",
       "  <tbody>\n",
       "    <tr>\n",
       "      <td>0</td>\n",
       "      <td>151.110</td>\n",
       "      <td>3987.757</td>\n",
       "      <td>36029.110</td>\n",
       "      <td>22984.116</td>\n",
       "    </tr>\n",
       "    <tr>\n",
       "      <td>1</td>\n",
       "      <td>111.706</td>\n",
       "      <td>3056.100</td>\n",
       "      <td>27618.971</td>\n",
       "      <td>17617.797</td>\n",
       "    </tr>\n",
       "    <tr>\n",
       "      <td>2</td>\n",
       "      <td>60.743</td>\n",
       "      <td>1689.655</td>\n",
       "      <td>15268.161</td>\n",
       "      <td>9739.025</td>\n",
       "    </tr>\n",
       "    <tr>\n",
       "      <td>3</td>\n",
       "      <td>130.985</td>\n",
       "      <td>3350.392</td>\n",
       "      <td>30271.897</td>\n",
       "      <td>19313.344</td>\n",
       "    </tr>\n",
       "    <tr>\n",
       "      <td>4</td>\n",
       "      <td>77.620</td>\n",
       "      <td>2099.443</td>\n",
       "      <td>18967.841</td>\n",
       "      <td>12099.217</td>\n",
       "    </tr>\n",
       "  </tbody>\n",
       "</table>\n",
       "</div>"
      ],
      "text/plain": [
       "        0        1         2         3\n",
       "0 151.110 3987.757 36029.110 22984.116\n",
       "1 111.706 3056.100 27618.971 17617.797\n",
       "2  60.743 1689.655 15268.161  9739.025\n",
       "3 130.985 3350.392 30271.897 19313.344\n",
       "4  77.620 2099.443 18967.841 12099.217"
      ]
     },
     "execution_count": 38,
     "metadata": {},
     "output_type": "execute_result"
    }
   ],
   "source": [
    "train_features_encrypted.head()"
   ]
  },
  {
   "cell_type": "markdown",
   "metadata": {},
   "source": [
    "To decrypt the features, multiply by the inverse of the key matrix"
   ]
  },
  {
   "cell_type": "code",
   "execution_count": 39,
   "metadata": {},
   "outputs": [
    {
     "data": {
      "text/html": [
       "<div>\n",
       "<style scoped>\n",
       "    .dataframe tbody tr th:only-of-type {\n",
       "        vertical-align: middle;\n",
       "    }\n",
       "\n",
       "    .dataframe tbody tr th {\n",
       "        vertical-align: top;\n",
       "    }\n",
       "\n",
       "    .dataframe thead th {\n",
       "        text-align: right;\n",
       "    }\n",
       "</style>\n",
       "<table border=\"1\" class=\"dataframe\">\n",
       "  <thead>\n",
       "    <tr style=\"text-align: right;\">\n",
       "      <th></th>\n",
       "      <th>0</th>\n",
       "      <th>1</th>\n",
       "      <th>2</th>\n",
       "      <th>3</th>\n",
       "    </tr>\n",
       "  </thead>\n",
       "  <tbody>\n",
       "    <tr>\n",
       "      <td>0</td>\n",
       "      <td>1.000</td>\n",
       "      <td>41.000</td>\n",
       "      <td>49600.000</td>\n",
       "      <td>1.000</td>\n",
       "    </tr>\n",
       "    <tr>\n",
       "      <td>1</td>\n",
       "      <td>-0.000</td>\n",
       "      <td>46.000</td>\n",
       "      <td>38000.000</td>\n",
       "      <td>1.000</td>\n",
       "    </tr>\n",
       "    <tr>\n",
       "      <td>2</td>\n",
       "      <td>0.000</td>\n",
       "      <td>29.000</td>\n",
       "      <td>21000.000</td>\n",
       "      <td>0.000</td>\n",
       "    </tr>\n",
       "    <tr>\n",
       "      <td>3</td>\n",
       "      <td>0.000</td>\n",
       "      <td>21.000</td>\n",
       "      <td>41700.000</td>\n",
       "      <td>2.000</td>\n",
       "    </tr>\n",
       "    <tr>\n",
       "      <td>4</td>\n",
       "      <td>1.000</td>\n",
       "      <td>28.000</td>\n",
       "      <td>26100.000</td>\n",
       "      <td>0.000</td>\n",
       "    </tr>\n",
       "  </tbody>\n",
       "</table>\n",
       "</div>"
      ],
      "text/plain": [
       "       0      1         2     3\n",
       "0  1.000 41.000 49600.000 1.000\n",
       "1 -0.000 46.000 38000.000 1.000\n",
       "2  0.000 29.000 21000.000 0.000\n",
       "3  0.000 21.000 41700.000 2.000\n",
       "4  1.000 28.000 26100.000 0.000"
      ]
     },
     "execution_count": 39,
     "metadata": {},
     "output_type": "execute_result"
    }
   ],
   "source": [
    "# find the inverse matrix\n",
    "key_inv = np.linalg.inv(key)\n",
    "# multiply the matrix of encrypted features by the inverse matrix of the key\n",
    "train_features_decrypted = train_features_encrypted.dot(key_inv)\n",
    "train_features_decrypted.head()"
   ]
  },
  {
   "cell_type": "markdown",
   "metadata": {},
   "source": [
    "As you can see, the data has been restored. Let's move on to the application"
   ]
  },
  {
   "cell_type": "markdown",
   "metadata": {},
   "source": [
    "<a id=\"suggestedAlgoSklearnModel\"></a>\n",
    "### Model from sklearn"
   ]
  },
  {
   "cell_type": "code",
   "execution_count": 40,
   "metadata": {},
   "outputs": [
    {
     "name": "stdout",
     "output_type": "stream",
     "text": [
      "r2_score: 0.4302010044852066\n",
      "Vector weights w: [-0.13882131  0.02999755 -0.01978046  0.02677928]\n",
      "Shift w0 -0.9517099946514704\n"
     ]
    }
   ],
   "source": [
    "# create a model\n",
    "model_3 = LinearRegression()\n",
    "# train\n",
    "model_3.fit(train_features_encrypted, train_target)\n",
    "# predictions\n",
    "model_3_pred = model_3.predict(train_features_encrypted)\n",
    "model_3_r2_score = r2_score(train_target,model_3_pred)\n",
    "print(f'r2_score: {model_3_r2_score}')\n",
    "print(f'Vector weights w: {model_3.coef_}')\n",
    "print(f'Shift w0 {model_3.intercept_}')"
   ]
  },
  {
   "cell_type": "markdown",
   "metadata": {},
   "source": [
    "<a id=\"suggestedAlgoCustomModel\"></a>\n",
    "### Custom model"
   ]
  },
  {
   "cell_type": "code",
   "execution_count": 41,
   "metadata": {},
   "outputs": [
    {
     "name": "stdout",
     "output_type": "stream",
     "text": [
      "r2_score: 0.4302010044852024\n",
      "Vector weights w: [-0.13882131  0.02999755 -0.01978046  0.02677927]\n",
      "Shift w0 -0.9517101478869723\n"
     ]
    }
   ],
   "source": [
    "# create a model \n",
    "model_4 = LinearRegressionCustom()\n",
    "# train\n",
    "model_4.fit(train_features_encrypted, train_target)\n",
    "# predictions\n",
    "model_4_pred = model_4.predict(train_features_encrypted)\n",
    "model_4_r2_score = r2_score(train_target,model_4_pred)\n",
    "print(f'r2_score: {model_4_r2_score}')\n",
    "print(f'Vector weights w: {model_4.w}')\n",
    "print(f'Shift w0 {model_4.w0}')"
   ]
  },
  {
   "cell_type": "markdown",
   "metadata": {},
   "source": [
    "<a id=\"summary\"></a>\n",
    "## Results"
   ]
  },
  {
   "cell_type": "markdown",
   "metadata": {},
   "source": [
    "Let's write a function to display the model results"
   ]
  },
  {
   "cell_type": "code",
   "execution_count": 42,
   "metadata": {},
   "outputs": [],
   "source": [
    "def results(model, r2_score, title, isCustom):\n",
    "    \"\"\"\n",
    "    Function for displaying results\n",
    "    model \n",
    "    r2_score - R2 metric accuracy\n",
    "    title \n",
    "    isCustom - whether the model is custom or not\n",
    "    \"\"\"\n",
    "    if (isCustom):\n",
    "        print(title)\n",
    "        print(f'r2_score: {r2_score}')\n",
    "        print(f'Vector weights w: {model.w}')\n",
    "        print(f'Shift w0: {model.w0}')\n",
    "    else:\n",
    "        print(title)\n",
    "        print(f'r2_score:: {r2_score}')\n",
    "        print(f'Vector weights  w: {model.coef_}')\n",
    "        print(f'Shift w0: {model.intercept_}')"
   ]
  },
  {
   "cell_type": "code",
   "execution_count": 43,
   "metadata": {},
   "outputs": [
    {
     "name": "stdout",
     "output_type": "stream",
     "text": [
      "The sklearn model without data encryption\n",
      "r2_score:: 0.4302010044852067\n",
      "Vector weights  w: [ 9.46018141e-03  3.61640081e-02 -1.38991363e-07 -1.42517371e-02]\n",
      "Shift w0: -0.9517099946522036\n"
     ]
    }
   ],
   "source": [
    "results(model_1, model_1_r2_score, \"The sklearn model without data encryption\", False)"
   ]
  },
  {
   "cell_type": "code",
   "execution_count": 44,
   "metadata": {},
   "outputs": [
    {
     "name": "stdout",
     "output_type": "stream",
     "text": [
      "Custom model without data encryption\n",
      "r2_score: 0.4302010044852068\n",
      "Vector weights w: [ 9.46018141e-03  3.61640081e-02 -1.38991363e-07 -1.42517371e-02]\n",
      "Shift w0: -0.95170999465196\n"
     ]
    }
   ],
   "source": [
    "results(model_2, model_2_r2_score, \"Custom model without data encryption\", True)"
   ]
  },
  {
   "cell_type": "code",
   "execution_count": 45,
   "metadata": {},
   "outputs": [
    {
     "name": "stdout",
     "output_type": "stream",
     "text": [
      "The sklearn model with data encryption\n",
      "r2_score:: 0.4302010044852066\n",
      "Vector weights  w: [-0.13882131  0.02999755 -0.01978046  0.02677928]\n",
      "Shift w0: -0.9517099946514704\n"
     ]
    }
   ],
   "source": [
    "results(model_3,model_3_r2_score, \"The sklearn model with data encryption\", False)"
   ]
  },
  {
   "cell_type": "code",
   "execution_count": 46,
   "metadata": {},
   "outputs": [
    {
     "name": "stdout",
     "output_type": "stream",
     "text": [
      "Custom model with data encryption\n",
      "r2_score: 0.4302010044852024\n",
      "Vector weights w: [-0.13882131  0.02999755 -0.01978046  0.02677927]\n",
      "Shift w0: -0.9517101478869723\n"
     ]
    }
   ],
   "source": [
    "results(model_4, model_4_r2_score, \"Custom model with data encryption\", True)"
   ]
  },
  {
   "cell_type": "markdown",
   "metadata": {},
   "source": [
    "Create a dataframe(table) to display the results"
   ]
  },
  {
   "cell_type": "code",
   "execution_count": 47,
   "metadata": {},
   "outputs": [
    {
     "data": {
      "text/html": [
       "<div>\n",
       "<style scoped>\n",
       "    .dataframe tbody tr th:only-of-type {\n",
       "        vertical-align: middle;\n",
       "    }\n",
       "\n",
       "    .dataframe tbody tr th {\n",
       "        vertical-align: top;\n",
       "    }\n",
       "\n",
       "    .dataframe thead th {\n",
       "        text-align: right;\n",
       "    }\n",
       "</style>\n",
       "<table border=\"1\" class=\"dataframe\">\n",
       "  <thead>\n",
       "    <tr style=\"text-align: right;\">\n",
       "      <th></th>\n",
       "      <th>model</th>\n",
       "      <th>r2_score</th>\n",
       "    </tr>\n",
       "  </thead>\n",
       "  <tbody>\n",
       "    <tr>\n",
       "      <td>0</td>\n",
       "      <td>Sklearn without encryption</td>\n",
       "      <td>0.430</td>\n",
       "    </tr>\n",
       "    <tr>\n",
       "      <td>1</td>\n",
       "      <td>Custom without encryption</td>\n",
       "      <td>0.430</td>\n",
       "    </tr>\n",
       "    <tr>\n",
       "      <td>2</td>\n",
       "      <td>Sklearn with encryption</td>\n",
       "      <td>0.430</td>\n",
       "    </tr>\n",
       "    <tr>\n",
       "      <td>3</td>\n",
       "      <td>Custom with encryption</td>\n",
       "      <td>0.430</td>\n",
       "    </tr>\n",
       "  </tbody>\n",
       "</table>\n",
       "</div>"
      ],
      "text/plain": [
       "                        model  r2_score\n",
       "0  Sklearn without encryption     0.430\n",
       "1   Custom without encryption     0.430\n",
       "2     Sklearn with encryption     0.430\n",
       "3      Custom with encryption     0.430"
      ]
     },
     "execution_count": 47,
     "metadata": {},
     "output_type": "execute_result"
    }
   ],
   "source": [
    "model_results = pd.DataFrame({\"model\":['Sklearn without encryption','Custom without encryption', 'Sklearn with encryption','Custom with encryption'], \"r2_score\": [model_1_r2_score,model_2_r2_score,model_3_r2_score,model_4_r2_score]})\n",
    "model_results"
   ]
  },
  {
   "cell_type": "code",
   "execution_count": 48,
   "metadata": {},
   "outputs": [
    {
     "data": {
      "image/png": "[encoded data removed]",
      "text/plain": [
       "<Figure size 1008x360 with 1 Axes>"
      ]
     },
     "metadata": {
      "image/png": {
       "height": 342,
       "width": 842
      },
      "needs_background": "light"
     },
     "output_type": "display_data"
    }
   ],
   "source": [
    "drawPlot(model_results,'model','r2_score', 'Models', 'R2','Models with encryption and without')"
   ]
  },
  {
   "cell_type": "markdown",
   "metadata": {},
   "source": [
    "As we can see:\n",
    "- The quality of the models has not changed, the r2 metric is almost the same.\n",
    "- Vectors of weights are different.\n",
    "- Our custom model works like the model from the sklearn library"
   ]
  },
  {
   "cell_type": "markdown",
   "metadata": {},
   "source": [
    "## Summary"
   ]
  },
  {
   "cell_type": "markdown",
   "metadata": {},
   "source": [
    "At this stage we: \n",
    "1. Applied the proposed algorithm:\n",
    "    - Looked at the data before encryption and after. The data was encrypted.\n",
    "    - We tried to recover the encrypted data using the key. The data was recovered.\n",
    "2. Evaluated whether or not the transformation changed the quality of the models:\n",
    "    - The quality of the models did not change, the r2 metric is almost the same.\n",
    "    - The vectors of weights are different.\n",
    "3. We compared our custom model with the sklearn library model:\n",
    "    - Our custom model works like the model from the sklearn library."
   ]
  },
  {
   "cell_type": "markdown",
   "metadata": {},
   "source": [
    "<br>"
   ]
  },
  {
   "cell_type": "markdown",
   "metadata": {},
   "source": [
    "<a id=\"results\"></a>\n",
    "# Stage 6 - Results"
   ]
  },
  {
   "cell_type": "markdown",
   "metadata": {},
   "source": [
    "In the project, we successfully created a [data encryption algorithm](https://en.wikipedia.org/wiki/Encryption) so that after transformation, the accuracy of Machine Learning models will not change as without transformation. Thereby, we helped the insurance company to protect personal data information of customers.\n",
    "1. At the preprocessing stage, we:\n",
    "    - Converted column names into lowercase\n",
    "    - Check data for missing data, duplicate values. We found out that there were 153 duplicate values. We have removed them. Data is valid!\n",
    "    - Number of objects after preprocessing: 4847\n",
    "2. We checked: if we multiply the feature matrix by the invertible matrix, will the quality of the linear regression change? \n",
    "    - Using the theory, we proved that **by multiplying the feature matrix by the invertible matrix, the quality of the model will not change**.\n",
    "3. We proposed a data transformation (encryption) algorithm [Symmetric-key algorithm](https://en.wikipedia.org/wiki/Symmetric-key_algorithm):\n",
    "    1. Generate a key (our invertible matrix)\n",
    "    2. Multiply the feature matrix by the obtained key (invertible matrix)\n",
    "    3. Create a linear regression model\n",
    "    4. Train the model on the resulting matrix\n",
    "    5. Make a prediction\n",
    "    6. Check the metric *r2_score()* and the resulting w vector of weights + w0 prediction shift\n",
    "4. Created custom Linear Regression model. \n",
    "5. Applied suggested algorithm and compared R2 metric values:\n",
    "    1. Applied the proposed algorithm:\n",
    "        - Looked at the data before encryption and after. The data was encrypted.\n",
    "        - We tried to recover the encrypted data using the key. The data was recovered.\n",
    "    2. Evaluated whether or not the transformation changed the quality of the models:\n",
    "        - The quality of the models did not change, the r2 metric is almost the same.\n",
    "        - The vectors of weights are different.\n",
    "    3. We compared our custom model with the sklearn library model:\n",
    "        - Our custom model works like the model from the sklearn library.\n",
    "    \n"
   ]
  },
  {
   "cell_type": "code",
   "execution_count": null,
   "metadata": {},
   "outputs": [],
   "source": []
  }
 ],
 "metadata": {
  "kernelspec": {
   "display_name": "Python 3",
   "language": "python",
   "name": "python3"
  },
  "language_info": {
   "codemirror_mode": {
    "name": "ipython",
    "version": 3
   },
   "file_extension": ".py",
   "mimetype": "text/x-python",
   "name": "python",
   "nbconvert_exporter": "python",
   "pygments_lexer": "ipython3",
   "version": "3.7.8"
  },
  "toc": {
   "base_numbering": 1,
   "nav_menu": {},
   "number_sections": true,
   "sideBar": true,
   "skip_h1_title": true,
   "title_cell": "Table of Contents",
   "title_sidebar": "Contents",
   "toc_cell": false,
   "toc_position": {},
   "toc_section_display": true,
   "toc_window_display": false
  }
 },
 "nbformat": 4,
 "nbformat_minor": 4
}
