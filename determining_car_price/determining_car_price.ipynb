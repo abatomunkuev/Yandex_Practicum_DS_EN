{
 "cells": [
  {
   "cell_type": "markdown",
   "metadata": {
    "id": "-E86lzdIe6Tr"
   },
   "source": [
    "# Introduction"
   ]
  },
  {
   "cell_type": "markdown",
   "metadata": {
    "id": "7WChgFEAe6Ty"
   },
   "source": [
    "This project shows: \n",
    "- ability of writing solid,structured Python code \n",
    "- ability of using existing utilities(libraries) for processing and analyzing data.\n",
    "- ability of utilizing Machine Learning models:\n",
    "    - CatBoost\n",
    "    - XGBoost\n",
    "    - LightGBM\n",
    "- analytical and data pre-processing skills"
   ]
  },
  {
   "cell_type": "markdown",
   "metadata": {
    "id": "4eJ-qZmZe6T0"
   },
   "source": [
    "Project involves:\n",
    "1. Data preprocessing\n",
    "2. Machine Learning model research:\n",
    "    - Selection of model parameters\n",
    "    - Choosing the best model to solve the problem"
   ]
  },
  {
   "cell_type": "markdown",
   "metadata": {
    "id": "jlgpnsafe6T1"
   },
   "source": [
    "Combined project of the training course \"[Specialist in Data Science](https://practicum.yandex.com/data-scientist)\" by [Yandex Practicum](https://practicum.yandex.com/)."
   ]
  },
  {
   "cell_type": "markdown",
   "metadata": {
    "id": "u7A4JdtDe6T1"
   },
   "source": [
    "# Setting up the project"
   ]
  },
  {
   "cell_type": "code",
   "execution_count": 1,
   "metadata": {
    "colab": {
     "base_uri": "https://localhost:8080/",
     "height": 17
    },
    "id": "4ekd8p9he6T2",
    "outputId": "44ca1fcb-aadb-4f46-b431-24d0ede0a393"
   },
   "outputs": [
    {
     "data": {
      "text/html": [
       "<style>\n",
       "table {float:left}\n",
       "</style>"
      ],
      "text/plain": [
       "<IPython.core.display.HTML object>"
      ]
     },
     "metadata": {
      "tags": []
     },
     "output_type": "display_data"
    }
   ],
   "source": [
    "%%html\n",
    "<style>\n",
    "table {float:left}\n",
    "</style>"
   ]
  },
  {
   "cell_type": "code",
   "execution_count": 2,
   "metadata": {
    "colab": {
     "base_uri": "https://localhost:8080/"
    },
    "id": "GUI6SFDIe6T4",
    "outputId": "305eaa19-0afd-4c40-a71d-90b0afff9865"
   },
   "outputs": [
    {
     "name": "stdout",
     "output_type": "stream",
     "text": [
      "Requirement already satisfied: xgboost in /usr/local/lib/python3.7/dist-packages (0.90)\n",
      "Requirement already satisfied: numpy in /usr/local/lib/python3.7/dist-packages (from xgboost) (1.19.5)\n",
      "Requirement already satisfied: scipy in /usr/local/lib/python3.7/dist-packages (from xgboost) (1.4.1)\n"
     ]
    }
   ],
   "source": [
    "!pip install xgboost"
   ]
  },
  {
   "cell_type": "code",
   "execution_count": 3,
   "metadata": {
    "colab": {
     "base_uri": "https://localhost:8080/"
    },
    "id": "hOCGXmzHe6T5",
    "outputId": "3351e2b8-0acc-411b-ca36-c4209da6d2c3"
   },
   "outputs": [
    {
     "name": "stdout",
     "output_type": "stream",
     "text": [
      "Requirement already satisfied: lightgbm in /usr/local/lib/python3.7/dist-packages (2.2.3)\n",
      "Requirement already satisfied: scikit-learn in /usr/local/lib/python3.7/dist-packages (from lightgbm) (0.22.2.post1)\n",
      "Requirement already satisfied: numpy in /usr/local/lib/python3.7/dist-packages (from lightgbm) (1.19.5)\n",
      "Requirement already satisfied: scipy in /usr/local/lib/python3.7/dist-packages (from lightgbm) (1.4.1)\n",
      "Requirement already satisfied: joblib>=0.11 in /usr/local/lib/python3.7/dist-packages (from scikit-learn->lightgbm) (1.0.1)\n"
     ]
    }
   ],
   "source": [
    "!pip install lightgbm"
   ]
  },
  {
   "cell_type": "code",
   "execution_count": 4,
   "metadata": {
    "colab": {
     "base_uri": "https://localhost:8080/"
    },
    "id": "nKIanDfce6T5",
    "outputId": "3e994ecf-4860-4ce6-8a81-98dd461a2d1c"
   },
   "outputs": [
    {
     "name": "stdout",
     "output_type": "stream",
     "text": [
      "Requirement already satisfied: catboost in /usr/local/lib/python3.7/dist-packages (0.25.1)\n",
      "Requirement already satisfied: six in /usr/local/lib/python3.7/dist-packages (from catboost) (1.15.0)\n",
      "Requirement already satisfied: matplotlib in /usr/local/lib/python3.7/dist-packages (from catboost) (3.2.2)\n",
      "Requirement already satisfied: graphviz in /usr/local/lib/python3.7/dist-packages (from catboost) (0.10.1)\n",
      "Requirement already satisfied: scipy in /usr/local/lib/python3.7/dist-packages (from catboost) (1.4.1)\n",
      "Requirement already satisfied: numpy>=1.16.0 in /usr/local/lib/python3.7/dist-packages (from catboost) (1.19.5)\n",
      "Requirement already satisfied: plotly in /usr/local/lib/python3.7/dist-packages (from catboost) (4.4.1)\n",
      "Requirement already satisfied: pandas>=0.24.0 in /usr/local/lib/python3.7/dist-packages (from catboost) (1.1.5)\n",
      "Requirement already satisfied: python-dateutil>=2.1 in /usr/local/lib/python3.7/dist-packages (from matplotlib->catboost) (2.8.1)\n",
      "Requirement already satisfied: cycler>=0.10 in /usr/local/lib/python3.7/dist-packages (from matplotlib->catboost) (0.10.0)\n",
      "Requirement already satisfied: kiwisolver>=1.0.1 in /usr/local/lib/python3.7/dist-packages (from matplotlib->catboost) (1.3.1)\n",
      "Requirement already satisfied: pyparsing!=2.0.4,!=2.1.2,!=2.1.6,>=2.0.1 in /usr/local/lib/python3.7/dist-packages (from matplotlib->catboost) (2.4.7)\n",
      "Requirement already satisfied: retrying>=1.3.3 in /usr/local/lib/python3.7/dist-packages (from plotly->catboost) (1.3.3)\n",
      "Requirement already satisfied: pytz>=2017.2 in /usr/local/lib/python3.7/dist-packages (from pandas>=0.24.0->catboost) (2018.9)\n"
     ]
    }
   ],
   "source": [
    "!pip install catboost"
   ]
  },
  {
   "cell_type": "markdown",
   "metadata": {
    "id": "A-mlHzMEe6T7"
   },
   "source": [
    "## Importing libraries"
   ]
  },
  {
   "cell_type": "code",
   "execution_count": 5,
   "metadata": {
    "id": "Sy5FfV16e6T7"
   },
   "outputs": [],
   "source": [
    "import numpy as np\n",
    "import pandas as pd\n",
    "from scipy import stats as st\n",
    "import time\n",
    "import warnings\n",
    "import datetime\n",
    "# Reading files\n",
    "import os \n",
    "from pathlib import Path\n",
    "import urllib\n",
    "# Machine Learning models (Regression models)\n",
    "from sklearn.linear_model import LinearRegression\n",
    "from sklearn.tree import DecisionTreeRegressor\n",
    "from sklearn.ensemble import RandomForestRegressor\n",
    "import xgboost as xgb\n",
    "import lightgbm as lgb\n",
    "from catboost import Pool, CatBoostRegressor\n",
    "# Data Preprocessing\n",
    "from sklearn.impute import SimpleImputer\n",
    "# Model evaluation\n",
    "from sklearn.metrics import mean_squared_error, r2_score, mean_absolute_error,make_scorer\n",
    "# Scaling, encoding\n",
    "from sklearn.preprocessing import StandardScaler, OrdinalEncoder,MinMaxScaler\n",
    "from sklearn.compose import ColumnTransformer\n",
    "from sklearn.pipeline import Pipeline\n",
    "# Sanity check\n",
    "from sklearn.dummy import DummyRegressor\n",
    "# splitting data\n",
    "from sklearn.model_selection import train_test_split, GridSearchCV, RandomizedSearchCV, cross_val_score\n",
    "# visualization\n",
    "import matplotlib as mpl\n",
    "import matplotlib.pyplot as plt\n",
    "import matplotlib.ticker as ticker\n",
    "import seaborn as sns"
   ]
  },
  {
   "cell_type": "markdown",
   "metadata": {
    "id": "8H7ue3Xae6T9"
   },
   "source": [
    "## Setting up matplotlib"
   ]
  },
  {
   "cell_type": "code",
   "execution_count": 6,
   "metadata": {
    "id": "upneiphke6T-"
   },
   "outputs": [],
   "source": [
    "%matplotlib inline\n",
    "small, medium, large = 14, 16, 22\n",
    "params = {'figure.figsize':   (14, 5),\n",
    "          'figure.titlesize': medium,\n",
    "          'legend.fontsize':  small,\n",
    "          'axes.titlesize':   small,\n",
    "          'axes.labelsize':   small,\n",
    "          'xtick.labelsize':  small,\n",
    "          'ytick.labelsize':  small,\n",
    "          'legend.loc':       'best'}\n",
    "plt.rcParams.update(params)"
   ]
  },
  {
   "cell_type": "code",
   "execution_count": 7,
   "metadata": {
    "id": "Iif7YLrYe6T-"
   },
   "outputs": [],
   "source": [
    "# increasing the resolution\n",
    "%config InlineBackend.figure_format = 'retina'"
   ]
  },
  {
   "cell_type": "code",
   "execution_count": 8,
   "metadata": {
    "id": "RAn8zAIje6T_"
   },
   "outputs": [],
   "source": [
    "# disable warnigns\n",
    "warnings.filterwarnings('ignore')"
   ]
  },
  {
   "cell_type": "code",
   "execution_count": 9,
   "metadata": {
    "id": "g3letLvEe6T_"
   },
   "outputs": [],
   "source": [
    "# removing exponential notation\n",
    "pd.options.display.float_format = '{:.3f}'.format"
   ]
  },
  {
   "cell_type": "markdown",
   "metadata": {
    "id": "5qxaWdV8e6T_"
   },
   "source": [
    "# Project \"System to determine car value\""
   ]
  },
  {
   "cell_type": "markdown",
   "metadata": {
    "id": "GvCrwHiKe6UA"
   },
   "source": [
    "## Project description\n",
    "\n",
    "A used car service is developing an app where you can find out the market value of your car. We need to build a Machine Learning model to quickly determine the value of the car.\n",
    "\n",
    "## Task details\n",
    "The company is concerned about:\n",
    "- the quality of the prediction\n",
    "- prediction speed\n",
    "- learning time\n",
    "\n",
    "\n",
    "## Data description\n",
    "\n",
    "Provided data - historical data: technical specifications, packages and prices of cars.\n",
    "\n",
    "\n",
    "\n",
    " |Column            |Description         |Column type | \n",
    " |:---------------|:------------------------|:-------------|\n",
    " |DateCrawled     | the date the application was downloaded from the database|features      |\n",
    " |VehicleType     | vehicle type   |features      |\n",
    " |RegistrationYear       | registration year |features     |\n",
    " |Gearbox       | gearbox type |features     |\n",
    " |Power       | power (hp) |features     |\n",
    " |Model      | model |features     |\n",
    " |Kilometer      | mileage (km) |features     |\n",
    " |RegistrationMonth      | vehicle registration month|features     |\n",
    " |FuelType       | fuel type |features     |\n",
    " |Brand       | brand |features     |\n",
    " |NotRepaired       | whether the car has been repaired or not|features     |\n",
    " |DateCreated      | date of application form creation|features     |\n",
    " |NumberOfPictures | how many pictures of the car|features     |\n",
    " |PostalCode      | postal code of the application form owner (user)|features     |\n",
    " |LastSeen    | the date of the user's last activity|features     |\n",
    " |Price       | price (euro)    | target | "
   ]
  },
  {
   "cell_type": "markdown",
   "metadata": {
    "id": "FscW6E64e6UA"
   },
   "source": [
    "## Objective"
   ]
  },
  {
   "cell_type": "markdown",
   "metadata": {
    "id": "56xGfrmce6UB"
   },
   "source": [
    "We need to build a Machine Learning model to quickly determine the value of a car."
   ]
  },
  {
   "cell_type": "markdown",
   "metadata": {
    "id": "eVAQZuRoe6UB"
   },
   "source": [
    "## Work plan\n",
    "1. [Overview of data](#review)\n",
    "2. [Data preprocessing](#dataPreprocessing)\n",
    "    - [Column processing](#columnsProcessing)\n",
    "    - [Column removing](#removeColumns)\n",
    "    - [Missing values](#missingValues)\n",
    "    - [Duplicate values](#duplicateValues)\n",
    "    - [Abnormal values](#abnormalValues)\n",
    "    - [Encoding](#encoding)\n",
    "    - [Data separation](#dataSeparation)\n",
    "    - [Standardization](#standardization)\n",
    "3. [Machine Learning model research](#MLmodelResearch)\n",
    "    - [Results of the research](#resultsRearchModel)\n",
    "4. [Model's speed and accuracy analysis](#resultsRearchModel)\n",
    "5. [Results](#results)"
   ]
  },
  {
   "cell_type": "markdown",
   "metadata": {
    "id": "kUbSfTo7e6UC"
   },
   "source": [
    "<a id=\"review\"></a>\n",
    "# Stage 1 - Overview of data"
   ]
  },
  {
   "cell_type": "markdown",
   "metadata": {
    "id": "7eSKzvUce6UC"
   },
   "source": [
    "Reading the data and saving it in appropriate variable."
   ]
  },
  {
   "cell_type": "code",
   "execution_count": 10,
   "metadata": {
    "id": "v-hwFdyCe6UC"
   },
   "outputs": [],
   "source": [
    "Path('datasets').mkdir(parents=True, exist_ok=True)\n",
    "\n",
    "def get_file(file_name, url):\n",
    "    # Check if there is a file\n",
    "    if not os.path.exists(file_name):\n",
    "        print(file_name,'cannot find file, file will be downloaded from URL link')\n",
    "        # download the file from the url link, put it in the path file_name\n",
    "        # load data using the urllib library\n",
    "        _ = urllib.request.urlretrieve(url, file_name)\n",
    "\n",
    "# Dictionary with the file name and a URL link to it\n",
    "urls = {\n",
    "    'autos': ('datasets/autos.csv', '________________'),\n",
    "}\n",
    "[get_file(*urls[k]) for k in urls]\n",
    "[get_file(urls[k][0], urls[k][1]) for k in urls]\n",
    "\n",
    "# save the dataframe from the file to \"game_stats\"\n",
    "raw_autos = pd.read_csv(urls['autos'][0],sep=',')"
   ]
  },
  {
   "cell_type": "markdown",
   "metadata": {
    "id": "oNOE8tdSe6UD"
   },
   "source": [
    "Let's look at our data. Display the first 10 lines."
   ]
  },
  {
   "cell_type": "code",
   "execution_count": 11,
   "metadata": {
    "colab": {
     "base_uri": "https://localhost:8080/",
     "height": 557
    },
    "id": "_V_w-X3fe6UD",
    "outputId": "8a4b48c0-5c18-4ba2-8867-527245788b0d"
   },
   "outputs": [
    {
     "data": {
      "text/html": [
       "<div>\n",
       "<style scoped>\n",
       "    .dataframe tbody tr th:only-of-type {\n",
       "        vertical-align: middle;\n",
       "    }\n",
       "\n",
       "    .dataframe tbody tr th {\n",
       "        vertical-align: top;\n",
       "    }\n",
       "\n",
       "    .dataframe thead th {\n",
       "        text-align: right;\n",
       "    }\n",
       "</style>\n",
       "<table border=\"1\" class=\"dataframe\">\n",
       "  <thead>\n",
       "    <tr style=\"text-align: right;\">\n",
       "      <th></th>\n",
       "      <th>DateCrawled</th>\n",
       "      <th>Price</th>\n",
       "      <th>VehicleType</th>\n",
       "      <th>RegistrationYear</th>\n",
       "      <th>Gearbox</th>\n",
       "      <th>Power</th>\n",
       "      <th>Model</th>\n",
       "      <th>Kilometer</th>\n",
       "      <th>RegistrationMonth</th>\n",
       "      <th>FuelType</th>\n",
       "      <th>Brand</th>\n",
       "      <th>NotRepaired</th>\n",
       "      <th>DateCreated</th>\n",
       "      <th>NumberOfPictures</th>\n",
       "      <th>PostalCode</th>\n",
       "      <th>LastSeen</th>\n",
       "    </tr>\n",
       "  </thead>\n",
       "  <tbody>\n",
       "    <tr>\n",
       "      <th>0</th>\n",
       "      <td>2016-03-24 11:52:17</td>\n",
       "      <td>480</td>\n",
       "      <td>NaN</td>\n",
       "      <td>1993</td>\n",
       "      <td>manual</td>\n",
       "      <td>0</td>\n",
       "      <td>golf</td>\n",
       "      <td>150000</td>\n",
       "      <td>0</td>\n",
       "      <td>petrol</td>\n",
       "      <td>volkswagen</td>\n",
       "      <td>NaN</td>\n",
       "      <td>2016-03-24 00:00:00</td>\n",
       "      <td>0.000</td>\n",
       "      <td>70435.000</td>\n",
       "      <td>2016-04-07 03:16:57</td>\n",
       "    </tr>\n",
       "    <tr>\n",
       "      <th>1</th>\n",
       "      <td>2016-03-24 10:58:45</td>\n",
       "      <td>18300</td>\n",
       "      <td>coupe</td>\n",
       "      <td>2011</td>\n",
       "      <td>manual</td>\n",
       "      <td>190</td>\n",
       "      <td>NaN</td>\n",
       "      <td>125000</td>\n",
       "      <td>5</td>\n",
       "      <td>gasoline</td>\n",
       "      <td>audi</td>\n",
       "      <td>yes</td>\n",
       "      <td>2016-03-24 00:00:00</td>\n",
       "      <td>0.000</td>\n",
       "      <td>66954.000</td>\n",
       "      <td>2016-04-07 01:46:50</td>\n",
       "    </tr>\n",
       "    <tr>\n",
       "      <th>2</th>\n",
       "      <td>2016-03-14 12:52:21</td>\n",
       "      <td>9800</td>\n",
       "      <td>suv</td>\n",
       "      <td>2004</td>\n",
       "      <td>auto</td>\n",
       "      <td>163</td>\n",
       "      <td>grand</td>\n",
       "      <td>125000</td>\n",
       "      <td>8</td>\n",
       "      <td>gasoline</td>\n",
       "      <td>jeep</td>\n",
       "      <td>NaN</td>\n",
       "      <td>2016-03-14 00:00:00</td>\n",
       "      <td>0.000</td>\n",
       "      <td>90480.000</td>\n",
       "      <td>2016-04-05 12:47:46</td>\n",
       "    </tr>\n",
       "    <tr>\n",
       "      <th>3</th>\n",
       "      <td>2016-03-17 16:54:04</td>\n",
       "      <td>1500</td>\n",
       "      <td>small</td>\n",
       "      <td>2001</td>\n",
       "      <td>manual</td>\n",
       "      <td>75</td>\n",
       "      <td>golf</td>\n",
       "      <td>150000</td>\n",
       "      <td>6</td>\n",
       "      <td>petrol</td>\n",
       "      <td>volkswagen</td>\n",
       "      <td>no</td>\n",
       "      <td>2016-03-17 00:00:00</td>\n",
       "      <td>0.000</td>\n",
       "      <td>91074.000</td>\n",
       "      <td>2016-03-17 17:40:17</td>\n",
       "    </tr>\n",
       "    <tr>\n",
       "      <th>4</th>\n",
       "      <td>2016-03-31 17:25:20</td>\n",
       "      <td>3600</td>\n",
       "      <td>small</td>\n",
       "      <td>2008</td>\n",
       "      <td>manual</td>\n",
       "      <td>69</td>\n",
       "      <td>fabia</td>\n",
       "      <td>90000</td>\n",
       "      <td>7</td>\n",
       "      <td>gasoline</td>\n",
       "      <td>skoda</td>\n",
       "      <td>no</td>\n",
       "      <td>2016-03-31 00:00:00</td>\n",
       "      <td>0.000</td>\n",
       "      <td>60437.000</td>\n",
       "      <td>2016-04-06 10:17:21</td>\n",
       "    </tr>\n",
       "    <tr>\n",
       "      <th>5</th>\n",
       "      <td>2016-04-04 17:36:23</td>\n",
       "      <td>650</td>\n",
       "      <td>sedan</td>\n",
       "      <td>1995</td>\n",
       "      <td>manual</td>\n",
       "      <td>102</td>\n",
       "      <td>3er</td>\n",
       "      <td>150000</td>\n",
       "      <td>10</td>\n",
       "      <td>petrol</td>\n",
       "      <td>bmw</td>\n",
       "      <td>yes</td>\n",
       "      <td>2016-04-04 00:00:00</td>\n",
       "      <td>0.000</td>\n",
       "      <td>33775.000</td>\n",
       "      <td>2016-04-06 19:17:07</td>\n",
       "    </tr>\n",
       "    <tr>\n",
       "      <th>6</th>\n",
       "      <td>2016-04-01 20:48:51</td>\n",
       "      <td>2200</td>\n",
       "      <td>convertible</td>\n",
       "      <td>2004</td>\n",
       "      <td>manual</td>\n",
       "      <td>109</td>\n",
       "      <td>2_reihe</td>\n",
       "      <td>150000</td>\n",
       "      <td>8</td>\n",
       "      <td>petrol</td>\n",
       "      <td>peugeot</td>\n",
       "      <td>no</td>\n",
       "      <td>2016-04-01 00:00:00</td>\n",
       "      <td>0.000</td>\n",
       "      <td>67112.000</td>\n",
       "      <td>2016-04-05 18:18:39</td>\n",
       "    </tr>\n",
       "    <tr>\n",
       "      <th>7</th>\n",
       "      <td>2016-03-21 18:54:38</td>\n",
       "      <td>0</td>\n",
       "      <td>sedan</td>\n",
       "      <td>1980</td>\n",
       "      <td>manual</td>\n",
       "      <td>50</td>\n",
       "      <td>other</td>\n",
       "      <td>40000</td>\n",
       "      <td>7</td>\n",
       "      <td>petrol</td>\n",
       "      <td>volkswagen</td>\n",
       "      <td>no</td>\n",
       "      <td>2016-03-21 00:00:00</td>\n",
       "      <td>0.000</td>\n",
       "      <td>19348.000</td>\n",
       "      <td>2016-03-25 16:47:58</td>\n",
       "    </tr>\n",
       "    <tr>\n",
       "      <th>8</th>\n",
       "      <td>2016-04-04 23:42:13</td>\n",
       "      <td>14500</td>\n",
       "      <td>bus</td>\n",
       "      <td>2014</td>\n",
       "      <td>manual</td>\n",
       "      <td>125</td>\n",
       "      <td>c_max</td>\n",
       "      <td>30000</td>\n",
       "      <td>8</td>\n",
       "      <td>petrol</td>\n",
       "      <td>ford</td>\n",
       "      <td>NaN</td>\n",
       "      <td>2016-04-04 00:00:00</td>\n",
       "      <td>0.000</td>\n",
       "      <td>94505.000</td>\n",
       "      <td>2016-04-04 23:42:13</td>\n",
       "    </tr>\n",
       "    <tr>\n",
       "      <th>9</th>\n",
       "      <td>2016-03-17 10:53:50</td>\n",
       "      <td>999</td>\n",
       "      <td>small</td>\n",
       "      <td>1998</td>\n",
       "      <td>manual</td>\n",
       "      <td>101</td>\n",
       "      <td>golf</td>\n",
       "      <td>150000</td>\n",
       "      <td>0</td>\n",
       "      <td>NaN</td>\n",
       "      <td>volkswagen</td>\n",
       "      <td>NaN</td>\n",
       "      <td>2016-03-17 00:00:00</td>\n",
       "      <td>0.000</td>\n",
       "      <td>27472.000</td>\n",
       "      <td>2016-03-31 17:17:06</td>\n",
       "    </tr>\n",
       "  </tbody>\n",
       "</table>\n",
       "</div>"
      ],
      "text/plain": [
       "           DateCrawled  Price  ... PostalCode             LastSeen\n",
       "0  2016-03-24 11:52:17    480  ...  70435.000  2016-04-07 03:16:57\n",
       "1  2016-03-24 10:58:45  18300  ...  66954.000  2016-04-07 01:46:50\n",
       "2  2016-03-14 12:52:21   9800  ...  90480.000  2016-04-05 12:47:46\n",
       "3  2016-03-17 16:54:04   1500  ...  91074.000  2016-03-17 17:40:17\n",
       "4  2016-03-31 17:25:20   3600  ...  60437.000  2016-04-06 10:17:21\n",
       "5  2016-04-04 17:36:23    650  ...  33775.000  2016-04-06 19:17:07\n",
       "6  2016-04-01 20:48:51   2200  ...  67112.000  2016-04-05 18:18:39\n",
       "7  2016-03-21 18:54:38      0  ...  19348.000  2016-03-25 16:47:58\n",
       "8  2016-04-04 23:42:13  14500  ...  94505.000  2016-04-04 23:42:13\n",
       "9  2016-03-17 10:53:50    999  ...  27472.000  2016-03-31 17:17:06\n",
       "\n",
       "[10 rows x 16 columns]"
      ]
     },
     "execution_count": 11,
     "metadata": {
      "tags": []
     },
     "output_type": "execute_result"
    }
   ],
   "source": [
    "raw_autos.head(10)"
   ]
  },
  {
   "cell_type": "markdown",
   "metadata": {
    "id": "r2bN4HCUe6UE"
   },
   "source": [
    "We can immediately see that we have missing values in the *VehicleType, Model, FuelType, NotRepaired* columns. We also notice that we have zero values in *Price, NumberOfPictures*."
   ]
  },
  {
   "cell_type": "markdown",
   "metadata": {
    "id": "IuB8gU1ye6UE"
   },
   "source": [
    "Display general information"
   ]
  },
  {
   "cell_type": "code",
   "execution_count": 12,
   "metadata": {
    "colab": {
     "base_uri": "https://localhost:8080/"
    },
    "id": "yBczhs4be6UF",
    "outputId": "4e8f51ca-1ab9-419c-9bd8-e987ab9ca01c"
   },
   "outputs": [
    {
     "name": "stdout",
     "output_type": "stream",
     "text": [
      "<class 'pandas.core.frame.DataFrame'>\n",
      "RangeIndex: 142387 entries, 0 to 142386\n",
      "Data columns (total 16 columns):\n",
      " #   Column             Non-Null Count   Dtype  \n",
      "---  ------             --------------   -----  \n",
      " 0   DateCrawled        142387 non-null  object \n",
      " 1   Price              142387 non-null  int64  \n",
      " 2   VehicleType        127461 non-null  object \n",
      " 3   RegistrationYear   142387 non-null  int64  \n",
      " 4   Gearbox            134457 non-null  object \n",
      " 5   Power              142387 non-null  int64  \n",
      " 6   Model              134487 non-null  object \n",
      " 7   Kilometer          142387 non-null  int64  \n",
      " 8   RegistrationMonth  142387 non-null  int64  \n",
      " 9   FuelType           129137 non-null  object \n",
      " 10  Brand              142387 non-null  object \n",
      " 11  NotRepaired        113727 non-null  object \n",
      " 12  DateCreated        142387 non-null  object \n",
      " 13  NumberOfPictures   142386 non-null  float64\n",
      " 14  PostalCode         142386 non-null  float64\n",
      " 15  LastSeen           142386 non-null  object \n",
      "dtypes: float64(2), int64(5), object(9)\n",
      "memory usage: 17.4+ MB\n"
     ]
    }
   ],
   "source": [
    "raw_autos.info()"
   ]
  },
  {
   "cell_type": "markdown",
   "metadata": {
    "id": "SKUOytYhe6UF"
   },
   "source": [
    "354369 objects in the dataframe. 16 columns. Most of the columns are of type *object*. The number of objects in each column is different. We have missing values. Hence,we need to preprocess the data. It is also worth noting that some columns will be unnecessary in the model building, such as: *DateCrawled, DateCreated, NumberOfPictures, PostalCode, LastSeen*. "
   ]
  },
  {
   "cell_type": "markdown",
   "metadata": {
    "id": "OF-YNFTqe6UF"
   },
   "source": [
    "Let's look at the values distributed in our DataFrame."
   ]
  },
  {
   "cell_type": "code",
   "execution_count": 13,
   "metadata": {
    "colab": {
     "base_uri": "https://localhost:8080/",
     "height": 269
    },
    "id": "QO5PYEXIe6UG",
    "outputId": "4f5a1137-b55a-45f3-cf4c-d3aed4589b03"
   },
   "outputs": [
    {
     "data": {
      "text/html": [
       "<div>\n",
       "<style scoped>\n",
       "    .dataframe tbody tr th:only-of-type {\n",
       "        vertical-align: middle;\n",
       "    }\n",
       "\n",
       "    .dataframe tbody tr th {\n",
       "        vertical-align: top;\n",
       "    }\n",
       "\n",
       "    .dataframe thead th {\n",
       "        text-align: right;\n",
       "    }\n",
       "</style>\n",
       "<table border=\"1\" class=\"dataframe\">\n",
       "  <thead>\n",
       "    <tr style=\"text-align: right;\">\n",
       "      <th></th>\n",
       "      <th>count</th>\n",
       "      <th>mean</th>\n",
       "      <th>std</th>\n",
       "      <th>min</th>\n",
       "      <th>25%</th>\n",
       "      <th>50%</th>\n",
       "      <th>75%</th>\n",
       "      <th>max</th>\n",
       "    </tr>\n",
       "  </thead>\n",
       "  <tbody>\n",
       "    <tr>\n",
       "      <th>Price</th>\n",
       "      <td>142387.000</td>\n",
       "      <td>4424.845</td>\n",
       "      <td>4527.114</td>\n",
       "      <td>0.000</td>\n",
       "      <td>1050.000</td>\n",
       "      <td>2700.000</td>\n",
       "      <td>6400.000</td>\n",
       "      <td>20000.000</td>\n",
       "    </tr>\n",
       "    <tr>\n",
       "      <th>RegistrationYear</th>\n",
       "      <td>142387.000</td>\n",
       "      <td>2004.187</td>\n",
       "      <td>87.924</td>\n",
       "      <td>1000.000</td>\n",
       "      <td>1999.000</td>\n",
       "      <td>2003.000</td>\n",
       "      <td>2008.000</td>\n",
       "      <td>9999.000</td>\n",
       "    </tr>\n",
       "    <tr>\n",
       "      <th>Power</th>\n",
       "      <td>142387.000</td>\n",
       "      <td>109.462</td>\n",
       "      <td>171.228</td>\n",
       "      <td>0.000</td>\n",
       "      <td>69.000</td>\n",
       "      <td>105.000</td>\n",
       "      <td>141.000</td>\n",
       "      <td>19211.000</td>\n",
       "    </tr>\n",
       "    <tr>\n",
       "      <th>Kilometer</th>\n",
       "      <td>142387.000</td>\n",
       "      <td>128165.352</td>\n",
       "      <td>37872.686</td>\n",
       "      <td>5000.000</td>\n",
       "      <td>125000.000</td>\n",
       "      <td>150000.000</td>\n",
       "      <td>150000.000</td>\n",
       "      <td>150000.000</td>\n",
       "    </tr>\n",
       "    <tr>\n",
       "      <th>RegistrationMonth</th>\n",
       "      <td>142387.000</td>\n",
       "      <td>5.711</td>\n",
       "      <td>3.726</td>\n",
       "      <td>0.000</td>\n",
       "      <td>3.000</td>\n",
       "      <td>6.000</td>\n",
       "      <td>9.000</td>\n",
       "      <td>12.000</td>\n",
       "    </tr>\n",
       "    <tr>\n",
       "      <th>NumberOfPictures</th>\n",
       "      <td>142386.000</td>\n",
       "      <td>0.000</td>\n",
       "      <td>0.000</td>\n",
       "      <td>0.000</td>\n",
       "      <td>0.000</td>\n",
       "      <td>0.000</td>\n",
       "      <td>0.000</td>\n",
       "      <td>0.000</td>\n",
       "    </tr>\n",
       "    <tr>\n",
       "      <th>PostalCode</th>\n",
       "      <td>142386.000</td>\n",
       "      <td>50480.611</td>\n",
       "      <td>25778.579</td>\n",
       "      <td>1067.000</td>\n",
       "      <td>30163.000</td>\n",
       "      <td>49356.000</td>\n",
       "      <td>71106.000</td>\n",
       "      <td>99998.000</td>\n",
       "    </tr>\n",
       "  </tbody>\n",
       "</table>\n",
       "</div>"
      ],
      "text/plain": [
       "                       count       mean  ...        75%        max\n",
       "Price             142387.000   4424.845  ...   6400.000  20000.000\n",
       "RegistrationYear  142387.000   2004.187  ...   2008.000   9999.000\n",
       "Power             142387.000    109.462  ...    141.000  19211.000\n",
       "Kilometer         142387.000 128165.352  ... 150000.000 150000.000\n",
       "RegistrationMonth 142387.000      5.711  ...      9.000     12.000\n",
       "NumberOfPictures  142386.000      0.000  ...      0.000      0.000\n",
       "PostalCode        142386.000  50480.611  ...  71106.000  99998.000\n",
       "\n",
       "[7 rows x 8 columns]"
      ]
     },
     "execution_count": 13,
     "metadata": {
      "tags": []
     },
     "output_type": "execute_result"
    }
   ],
   "source": [
    "raw_autos.describe().T"
   ]
  },
  {
   "cell_type": "markdown",
   "metadata": {
    "id": "2NQupqQpe6UG"
   },
   "source": [
    " |Column            |Description         |Comments | \n",
    " |:---------------|:------------------------|:-------------|\n",
    " |DateCrawled     | the date the application was downloaded from the database|      |\n",
    " |VehicleType     | vehicle type   |     |\n",
    " |RegistrationYear       | registration year |Notice the maximum value is 9999 year and the minimum value is 1000 year. Consequently, there are abnormal values. We will inform the developers about the problem.    |\n",
    " |Gearbox       | gearbox type |     |\n",
    " |Power       | power (hp) |There are abnormal values: the minimum value is 0 hp and the maximum value 20,000 hp    |\n",
    " |Model      | model |   |\n",
    " |Kilometer      | mileage (km) |The average mileage is 128 thousand kilometers. Note the value of 50% and 75% persentil and the maximum value of 150 thousand km. Is it an error in the data record? Maybe in the form, where the information was filled in, the maximum value was fixed equal to 150 thousand km?     |\n",
    " |RegistrationMonth      | vehicle registration month|Note the minimum and maximum values, 0 and 12, respectively. A discrepancy in the number of months.   |\n",
    " |FuelType       | fuel type |  |\n",
    " |Brand       | brand |    |\n",
    " |NotRepaired       | whether the car has been repaired or not|     |\n",
    " |DateCreated      | date of application form creation|     |\n",
    " |NumberOfPictures | how many pictures of the car|There is no information on the photos. Is there an error in uploading the data? We will report the problem.    |\n",
    " |PostalCode      | postal code of the application form owner (user)|   |\n",
    " |LastSeen    | the date of the user's last activity|    |\n",
    " |Price       | price (euro)    | We have 0 values | "
   ]
  },
  {
   "cell_type": "markdown",
   "metadata": {
    "id": "nn3L4oa-e6UH"
   },
   "source": [
    "Create helper functions, such as graph drawing functions."
   ]
  },
  {
   "cell_type": "code",
   "execution_count": 14,
   "metadata": {
    "id": "prxutIXle6UI"
   },
   "outputs": [],
   "source": [
    "def drawDistributionPlot(df,column, title,x_label, y_label):\n",
    "    \"\"\"\n",
    "    Distribution graph drawing function\n",
    "    df - dataframe \n",
    "    title \n",
    "    x_label - label of x axis\n",
    "    y_label - label of y axis\n",
    "    \"\"\"\n",
    "    # KDE plot\n",
    "    plt.figure(figsize=(14,5))\n",
    "    plot  = sns.distplot(df[column],bins=30, kde=True)\n",
    "    plt.title(title)\n",
    "    plt.xlabel(x_label)\n",
    "    plt.ylabel(y_label)\n",
    "    plt.show()"
   ]
  },
  {
   "cell_type": "code",
   "execution_count": 15,
   "metadata": {
    "id": "Zxvk1Vvfe6UI"
   },
   "outputs": [],
   "source": [
    "def drawBoxPlot(df,column,title, x_label, y_label,showOutliers=False):\n",
    "    \"\"\"\n",
    "    Boxplot graph drawing function\n",
    "    df - dataframe\n",
    "    title\n",
    "    x_label - label of x axis\n",
    "    y_label - label of y axis\n",
    "    \"\"\"\n",
    "    ax = sns.boxplot(data=df, y = column,width=0.5,showfliers=showOutliers)\n",
    "    plt.title(title)\n",
    "    plt.xlabel(x_label)\n",
    "    plt.ylabel(y_label)\n",
    "    plt.show()"
   ]
  },
  {
   "cell_type": "markdown",
   "metadata": {
    "id": "K51klEeHe6UJ"
   },
   "source": [
    "### Price"
   ]
  },
  {
   "cell_type": "code",
   "execution_count": 16,
   "metadata": {
    "colab": {
     "base_uri": "https://localhost:8080/",
     "height": 0
    },
    "id": "nmMTLd9le6UJ",
    "outputId": "7a94af0f-3c81-4e26-9678-5f0722783fee"
   },
   "outputs": [
    {
     "data": {
      "image/png": "[encoded data removed]",
      "text/plain": [
       "<Figure size 1008x360 with 1 Axes>"
      ]
     },
     "metadata": {
      "image/png": {
       "height": 342,
       "width": 878
      },
      "needs_background": "light",
      "tags": []
     },
     "output_type": "display_data"
    }
   ],
   "source": [
    "drawDistributionPlot(raw_autos, 'Price', \"Car price distribution\", \"Price\", \"Number of cars\")"
   ]
  },
  {
   "cell_type": "markdown",
   "metadata": {
    "id": "KCexOFgae6UK"
   },
   "source": [
    "We observe that as the price increases, the number of models decreases. Most values in the range from 0 to ~2500 euros. "
   ]
  },
  {
   "cell_type": "code",
   "execution_count": 17,
   "metadata": {
    "colab": {
     "base_uri": "https://localhost:8080/",
     "height": 0
    },
    "id": "2FqayUZBe6UK",
    "outputId": "b5f1d6e4-32f2-4b6e-ebf1-89da4207c3de"
   },
   "outputs": [
    {
     "data": {
      "image/png": "[encoded data removed]",
      "text/plain": [
       "<Figure size 1008x360 with 1 Axes>"
      ]
     },
     "metadata": {
      "image/png": {
       "height": 328,
       "width": 865
      },
      "needs_background": "light",
      "tags": []
     },
     "output_type": "display_data"
    }
   ],
   "source": [
    "drawBoxPlot(raw_autos, 'Price', \"Car price distribution\", \"Price\", \"Number of cars\",True)"
   ]
  },
  {
   "cell_type": "markdown",
   "metadata": {
    "id": "NZjbc8I2e6UL"
   },
   "source": [
    "Let's see how many cars have a price over 15 thousand euros."
   ]
  },
  {
   "cell_type": "code",
   "execution_count": 18,
   "metadata": {
    "colab": {
     "base_uri": "https://localhost:8080/",
     "height": 0
    },
    "id": "_QODG3aae6UL",
    "outputId": "d141a473-5c18-46f3-a156-e8ceccb49ef9"
   },
   "outputs": [
    {
     "data": {
      "text/html": [
       "<div>\n",
       "<style scoped>\n",
       "    .dataframe tbody tr th:only-of-type {\n",
       "        vertical-align: middle;\n",
       "    }\n",
       "\n",
       "    .dataframe tbody tr th {\n",
       "        vertical-align: top;\n",
       "    }\n",
       "\n",
       "    .dataframe thead th {\n",
       "        text-align: right;\n",
       "    }\n",
       "</style>\n",
       "<table border=\"1\" class=\"dataframe\">\n",
       "  <thead>\n",
       "    <tr style=\"text-align: right;\">\n",
       "      <th></th>\n",
       "      <th>DateCrawled</th>\n",
       "      <th>Price</th>\n",
       "      <th>VehicleType</th>\n",
       "      <th>RegistrationYear</th>\n",
       "      <th>Gearbox</th>\n",
       "      <th>Power</th>\n",
       "      <th>Model</th>\n",
       "      <th>Kilometer</th>\n",
       "      <th>RegistrationMonth</th>\n",
       "      <th>FuelType</th>\n",
       "      <th>Brand</th>\n",
       "      <th>NotRepaired</th>\n",
       "      <th>DateCreated</th>\n",
       "      <th>NumberOfPictures</th>\n",
       "      <th>PostalCode</th>\n",
       "      <th>LastSeen</th>\n",
       "    </tr>\n",
       "  </thead>\n",
       "  <tbody>\n",
       "    <tr>\n",
       "      <th>1</th>\n",
       "      <td>2016-03-24 10:58:45</td>\n",
       "      <td>18300</td>\n",
       "      <td>coupe</td>\n",
       "      <td>2011</td>\n",
       "      <td>manual</td>\n",
       "      <td>190</td>\n",
       "      <td>NaN</td>\n",
       "      <td>125000</td>\n",
       "      <td>5</td>\n",
       "      <td>gasoline</td>\n",
       "      <td>audi</td>\n",
       "      <td>yes</td>\n",
       "      <td>2016-03-24 00:00:00</td>\n",
       "      <td>0.000</td>\n",
       "      <td>66954.000</td>\n",
       "      <td>2016-04-07 01:46:50</td>\n",
       "    </tr>\n",
       "    <tr>\n",
       "      <th>14</th>\n",
       "      <td>2016-03-21 12:57:01</td>\n",
       "      <td>17999</td>\n",
       "      <td>suv</td>\n",
       "      <td>2011</td>\n",
       "      <td>manual</td>\n",
       "      <td>190</td>\n",
       "      <td>navara</td>\n",
       "      <td>70000</td>\n",
       "      <td>3</td>\n",
       "      <td>gasoline</td>\n",
       "      <td>nissan</td>\n",
       "      <td>no</td>\n",
       "      <td>2016-03-21 00:00:00</td>\n",
       "      <td>0.000</td>\n",
       "      <td>4177.000</td>\n",
       "      <td>2016-04-06 07:45:42</td>\n",
       "    </tr>\n",
       "    <tr>\n",
       "      <th>33</th>\n",
       "      <td>2016-03-25 21:48:47</td>\n",
       "      <td>18000</td>\n",
       "      <td>sedan</td>\n",
       "      <td>2007</td>\n",
       "      <td>auto</td>\n",
       "      <td>218</td>\n",
       "      <td>3er</td>\n",
       "      <td>20000</td>\n",
       "      <td>5</td>\n",
       "      <td>petrol</td>\n",
       "      <td>bmw</td>\n",
       "      <td>no</td>\n",
       "      <td>2016-03-25 00:00:00</td>\n",
       "      <td>0.000</td>\n",
       "      <td>39179.000</td>\n",
       "      <td>2016-04-07 04:45:21</td>\n",
       "    </tr>\n",
       "    <tr>\n",
       "      <th>172</th>\n",
       "      <td>2016-03-07 12:38:19</td>\n",
       "      <td>19750</td>\n",
       "      <td>convertible</td>\n",
       "      <td>2006</td>\n",
       "      <td>manual</td>\n",
       "      <td>305</td>\n",
       "      <td>mustang</td>\n",
       "      <td>50000</td>\n",
       "      <td>7</td>\n",
       "      <td>petrol</td>\n",
       "      <td>ford</td>\n",
       "      <td>no</td>\n",
       "      <td>2016-03-07 00:00:00</td>\n",
       "      <td>0.000</td>\n",
       "      <td>38350.000</td>\n",
       "      <td>2016-03-12 20:18:29</td>\n",
       "    </tr>\n",
       "    <tr>\n",
       "      <th>179</th>\n",
       "      <td>2016-03-08 20:58:31</td>\n",
       "      <td>16449</td>\n",
       "      <td>wagon</td>\n",
       "      <td>2015</td>\n",
       "      <td>auto</td>\n",
       "      <td>110</td>\n",
       "      <td>fabia</td>\n",
       "      <td>10000</td>\n",
       "      <td>8</td>\n",
       "      <td>petrol</td>\n",
       "      <td>skoda</td>\n",
       "      <td>no</td>\n",
       "      <td>2016-03-08 00:00:00</td>\n",
       "      <td>0.000</td>\n",
       "      <td>95502.000</td>\n",
       "      <td>2016-04-06 01:17:03</td>\n",
       "    </tr>\n",
       "  </tbody>\n",
       "</table>\n",
       "</div>"
      ],
      "text/plain": [
       "             DateCrawled  Price  ... PostalCode             LastSeen\n",
       "1    2016-03-24 10:58:45  18300  ...  66954.000  2016-04-07 01:46:50\n",
       "14   2016-03-21 12:57:01  17999  ...   4177.000  2016-04-06 07:45:42\n",
       "33   2016-03-25 21:48:47  18000  ...  39179.000  2016-04-07 04:45:21\n",
       "172  2016-03-07 12:38:19  19750  ...  38350.000  2016-03-12 20:18:29\n",
       "179  2016-03-08 20:58:31  16449  ...  95502.000  2016-04-06 01:17:03\n",
       "\n",
       "[5 rows x 16 columns]"
      ]
     },
     "execution_count": 18,
     "metadata": {
      "tags": []
     },
     "output_type": "execute_result"
    }
   ],
   "source": [
    "raw_autos_price_greater_15 = raw_autos.query('Price > 15000')\n",
    "raw_autos_price_greater_15.head()"
   ]
  },
  {
   "cell_type": "markdown",
   "metadata": {
    "id": "TDUWyL91e6UM"
   },
   "source": [
    "Let's see number of values."
   ]
  },
  {
   "cell_type": "code",
   "execution_count": 19,
   "metadata": {
    "colab": {
     "base_uri": "https://localhost:8080/"
    },
    "id": "ufS3IeS3e6UM",
    "outputId": "e4b62b3e-c3a7-4517-9856-8d4f0c32efbc"
   },
   "outputs": [
    {
     "name": "stdout",
     "output_type": "stream",
     "text": [
      "Number of cars with a price over 15 thousand euros: 6078\n",
      "Share of cars with a price over 15 thousand euros of the total number of: 4.27%\n"
     ]
    }
   ],
   "source": [
    "print(f'Number of cars with a price over 15 thousand euros: {len(raw_autos_price_greater_15)}')\n",
    "print(f'Share of cars with a price over 15 thousand euros of the total number of: {round(len(raw_autos_price_greater_15) / len(raw_autos) * 100, 2)}%')"
   ]
  },
  {
   "cell_type": "markdown",
   "metadata": {
    "id": "ffiPKzvce6UM"
   },
   "source": [
    "Normal values fall into the interquartile range, outside the range there are outliers. After 15 thousand euros, there are outliers. 4.2% outliers, not so much. We leave them to the Machine Learning model to determine these cases."
   ]
  },
  {
   "cell_type": "markdown",
   "metadata": {
    "id": "IRMsvik6e6UN"
   },
   "source": [
    "Let's see which cars have a price of 0 euro."
   ]
  },
  {
   "cell_type": "code",
   "execution_count": 20,
   "metadata": {
    "colab": {
     "base_uri": "https://localhost:8080/",
     "height": 0
    },
    "id": "RFqvLbLJe6UN",
    "outputId": "2d4eaa74-18ba-4aaf-d0b8-a060d78c6d4a"
   },
   "outputs": [
    {
     "data": {
      "text/html": [
       "<div>\n",
       "<style scoped>\n",
       "    .dataframe tbody tr th:only-of-type {\n",
       "        vertical-align: middle;\n",
       "    }\n",
       "\n",
       "    .dataframe tbody tr th {\n",
       "        vertical-align: top;\n",
       "    }\n",
       "\n",
       "    .dataframe thead th {\n",
       "        text-align: right;\n",
       "    }\n",
       "</style>\n",
       "<table border=\"1\" class=\"dataframe\">\n",
       "  <thead>\n",
       "    <tr style=\"text-align: right;\">\n",
       "      <th></th>\n",
       "      <th>DateCrawled</th>\n",
       "      <th>Price</th>\n",
       "      <th>VehicleType</th>\n",
       "      <th>RegistrationYear</th>\n",
       "      <th>Gearbox</th>\n",
       "      <th>Power</th>\n",
       "      <th>Model</th>\n",
       "      <th>Kilometer</th>\n",
       "      <th>RegistrationMonth</th>\n",
       "      <th>FuelType</th>\n",
       "      <th>Brand</th>\n",
       "      <th>NotRepaired</th>\n",
       "      <th>DateCreated</th>\n",
       "      <th>NumberOfPictures</th>\n",
       "      <th>PostalCode</th>\n",
       "      <th>LastSeen</th>\n",
       "    </tr>\n",
       "  </thead>\n",
       "  <tbody>\n",
       "    <tr>\n",
       "      <th>7</th>\n",
       "      <td>2016-03-21 18:54:38</td>\n",
       "      <td>0</td>\n",
       "      <td>sedan</td>\n",
       "      <td>1980</td>\n",
       "      <td>manual</td>\n",
       "      <td>50</td>\n",
       "      <td>other</td>\n",
       "      <td>40000</td>\n",
       "      <td>7</td>\n",
       "      <td>petrol</td>\n",
       "      <td>volkswagen</td>\n",
       "      <td>no</td>\n",
       "      <td>2016-03-21 00:00:00</td>\n",
       "      <td>0.000</td>\n",
       "      <td>19348.000</td>\n",
       "      <td>2016-03-25 16:47:58</td>\n",
       "    </tr>\n",
       "    <tr>\n",
       "      <th>40</th>\n",
       "      <td>2016-03-26 22:06:17</td>\n",
       "      <td>0</td>\n",
       "      <td>NaN</td>\n",
       "      <td>1990</td>\n",
       "      <td>NaN</td>\n",
       "      <td>0</td>\n",
       "      <td>corsa</td>\n",
       "      <td>150000</td>\n",
       "      <td>1</td>\n",
       "      <td>petrol</td>\n",
       "      <td>opel</td>\n",
       "      <td>NaN</td>\n",
       "      <td>2016-03-26 00:00:00</td>\n",
       "      <td>0.000</td>\n",
       "      <td>56412.000</td>\n",
       "      <td>2016-03-27 17:43:34</td>\n",
       "    </tr>\n",
       "    <tr>\n",
       "      <th>111</th>\n",
       "      <td>2016-03-19 18:40:12</td>\n",
       "      <td>0</td>\n",
       "      <td>NaN</td>\n",
       "      <td>2017</td>\n",
       "      <td>manual</td>\n",
       "      <td>0</td>\n",
       "      <td>golf</td>\n",
       "      <td>5000</td>\n",
       "      <td>12</td>\n",
       "      <td>petrol</td>\n",
       "      <td>volkswagen</td>\n",
       "      <td>NaN</td>\n",
       "      <td>2016-03-19 00:00:00</td>\n",
       "      <td>0.000</td>\n",
       "      <td>21698.000</td>\n",
       "      <td>2016-04-01 08:47:05</td>\n",
       "    </tr>\n",
       "    <tr>\n",
       "      <th>115</th>\n",
       "      <td>2016-03-20 18:53:27</td>\n",
       "      <td>0</td>\n",
       "      <td>small</td>\n",
       "      <td>1999</td>\n",
       "      <td>NaN</td>\n",
       "      <td>0</td>\n",
       "      <td>NaN</td>\n",
       "      <td>5000</td>\n",
       "      <td>0</td>\n",
       "      <td>petrol</td>\n",
       "      <td>volkswagen</td>\n",
       "      <td>NaN</td>\n",
       "      <td>2016-03-20 00:00:00</td>\n",
       "      <td>0.000</td>\n",
       "      <td>37520.000</td>\n",
       "      <td>2016-04-07 02:45:22</td>\n",
       "    </tr>\n",
       "    <tr>\n",
       "      <th>152</th>\n",
       "      <td>2016-03-11 18:55:53</td>\n",
       "      <td>0</td>\n",
       "      <td>bus</td>\n",
       "      <td>2004</td>\n",
       "      <td>manual</td>\n",
       "      <td>101</td>\n",
       "      <td>meriva</td>\n",
       "      <td>150000</td>\n",
       "      <td>10</td>\n",
       "      <td>lpg</td>\n",
       "      <td>opel</td>\n",
       "      <td>yes</td>\n",
       "      <td>2016-03-11 00:00:00</td>\n",
       "      <td>0.000</td>\n",
       "      <td>27432.000</td>\n",
       "      <td>2016-03-12 23:47:10</td>\n",
       "    </tr>\n",
       "  </tbody>\n",
       "</table>\n",
       "</div>"
      ],
      "text/plain": [
       "             DateCrawled  Price  ... PostalCode             LastSeen\n",
       "7    2016-03-21 18:54:38      0  ...  19348.000  2016-03-25 16:47:58\n",
       "40   2016-03-26 22:06:17      0  ...  56412.000  2016-03-27 17:43:34\n",
       "111  2016-03-19 18:40:12      0  ...  21698.000  2016-04-01 08:47:05\n",
       "115  2016-03-20 18:53:27      0  ...  37520.000  2016-04-07 02:45:22\n",
       "152  2016-03-11 18:55:53      0  ...  27432.000  2016-03-12 23:47:10\n",
       "\n",
       "[5 rows x 16 columns]"
      ]
     },
     "execution_count": 20,
     "metadata": {
      "tags": []
     },
     "output_type": "execute_result"
    }
   ],
   "source": [
    "raw_autos_price_zero = raw_autos.query('Price == 0')\n",
    "raw_autos_price_zero.head()"
   ]
  },
  {
   "cell_type": "code",
   "execution_count": 21,
   "metadata": {
    "colab": {
     "base_uri": "https://localhost:8080/"
    },
    "id": "yUyy7-3ue6UN",
    "outputId": "c5fd92da-6f34-48e2-c3b9-0066b618300d"
   },
   "outputs": [
    {
     "name": "stdout",
     "output_type": "stream",
     "text": [
      "Number of cars with a price of 0 euros: 4392\n",
      "Share of cars with a price of 0 euros from the total number: 3.08%\n"
     ]
    }
   ],
   "source": [
    "print(f'Number of cars with a price of 0 euros: {len(raw_autos_price_zero)}')\n",
    "print(f'Share of cars with a price of 0 euros from the total number: {round(len(raw_autos_price_zero) / len(raw_autos) * 100, 2)}%')"
   ]
  },
  {
   "cell_type": "markdown",
   "metadata": {
    "id": "8JYP9spLe6UO"
   },
   "source": [
    "3.04% share of cars with a price of 0 euros. I assume that either this is a bug in the system, which should be reported to the developers or manager. I think we will remove objects with a price of 0 euros at the preprocessing stage of data."
   ]
  },
  {
   "cell_type": "markdown",
   "metadata": {
    "id": "llxtou1we6UO"
   },
   "source": [
    "### Mileage"
   ]
  },
  {
   "cell_type": "code",
   "execution_count": 22,
   "metadata": {
    "colab": {
     "base_uri": "https://localhost:8080/",
     "height": 0
    },
    "id": "tA6Nv8gke6UP",
    "outputId": "f7f00208-978d-433e-8209-4ba3f7a2bc73"
   },
   "outputs": [
    {
     "data": {
      "image/png": "[encoded data removed]",
      "text/plain": [
       "<Figure size 1008x360 with 1 Axes>"
      ]
     },
     "metadata": {
      "image/png": {
       "height": 342,
       "width": 878
      },
      "needs_background": "light",
      "tags": []
     },
     "output_type": "display_data"
    }
   ],
   "source": [
    "drawDistributionPlot(raw_autos, \"Kilometer\", \"Mileage distribution of cars\", \"Mileage km.\", \"Number of cars\")"
   ]
  },
  {
   "cell_type": "markdown",
   "metadata": {
    "id": "HNIYrr57e6UP"
   },
   "source": [
    "Note that most cars have mileage of 140-150 thousand km. Is it an error in the system? Probably, the maximum value that can be set was 150 thousand km and no more. We should inform the management about the error."
   ]
  },
  {
   "cell_type": "markdown",
   "metadata": {
    "id": "MthNfHjke6UP"
   },
   "source": [
    "### Power"
   ]
  },
  {
   "cell_type": "markdown",
   "metadata": {
    "id": "JR8u8OtMe6UQ"
   },
   "source": [
    "Let's look at cars with 0 hp"
   ]
  },
  {
   "cell_type": "code",
   "execution_count": 23,
   "metadata": {
    "id": "WzUQnMRbe6UQ"
   },
   "outputs": [],
   "source": [
    "raw_autos_power_zero = raw_autos.query('Power == 0')"
   ]
  },
  {
   "cell_type": "code",
   "execution_count": 24,
   "metadata": {
    "colab": {
     "base_uri": "https://localhost:8080/",
     "height": 0
    },
    "id": "XH7zMm8We6UQ",
    "outputId": "c8fe513c-7ef7-4a5f-a2f0-c6c1640976db"
   },
   "outputs": [
    {
     "data": {
      "text/html": [
       "<div>\n",
       "<style scoped>\n",
       "    .dataframe tbody tr th:only-of-type {\n",
       "        vertical-align: middle;\n",
       "    }\n",
       "\n",
       "    .dataframe tbody tr th {\n",
       "        vertical-align: top;\n",
       "    }\n",
       "\n",
       "    .dataframe thead th {\n",
       "        text-align: right;\n",
       "    }\n",
       "</style>\n",
       "<table border=\"1\" class=\"dataframe\">\n",
       "  <thead>\n",
       "    <tr style=\"text-align: right;\">\n",
       "      <th></th>\n",
       "      <th>DateCrawled</th>\n",
       "      <th>Price</th>\n",
       "      <th>VehicleType</th>\n",
       "      <th>RegistrationYear</th>\n",
       "      <th>Gearbox</th>\n",
       "      <th>Power</th>\n",
       "      <th>Model</th>\n",
       "      <th>Kilometer</th>\n",
       "      <th>RegistrationMonth</th>\n",
       "      <th>FuelType</th>\n",
       "      <th>Brand</th>\n",
       "      <th>NotRepaired</th>\n",
       "      <th>DateCreated</th>\n",
       "      <th>NumberOfPictures</th>\n",
       "      <th>PostalCode</th>\n",
       "      <th>LastSeen</th>\n",
       "    </tr>\n",
       "  </thead>\n",
       "  <tbody>\n",
       "    <tr>\n",
       "      <th>0</th>\n",
       "      <td>2016-03-24 11:52:17</td>\n",
       "      <td>480</td>\n",
       "      <td>NaN</td>\n",
       "      <td>1993</td>\n",
       "      <td>manual</td>\n",
       "      <td>0</td>\n",
       "      <td>golf</td>\n",
       "      <td>150000</td>\n",
       "      <td>0</td>\n",
       "      <td>petrol</td>\n",
       "      <td>volkswagen</td>\n",
       "      <td>NaN</td>\n",
       "      <td>2016-03-24 00:00:00</td>\n",
       "      <td>0.000</td>\n",
       "      <td>70435.000</td>\n",
       "      <td>2016-04-07 03:16:57</td>\n",
       "    </tr>\n",
       "    <tr>\n",
       "      <th>15</th>\n",
       "      <td>2016-03-11 21:39:15</td>\n",
       "      <td>450</td>\n",
       "      <td>small</td>\n",
       "      <td>1910</td>\n",
       "      <td>NaN</td>\n",
       "      <td>0</td>\n",
       "      <td>ka</td>\n",
       "      <td>5000</td>\n",
       "      <td>0</td>\n",
       "      <td>petrol</td>\n",
       "      <td>ford</td>\n",
       "      <td>NaN</td>\n",
       "      <td>2016-03-11 00:00:00</td>\n",
       "      <td>0.000</td>\n",
       "      <td>24148.000</td>\n",
       "      <td>2016-03-19 08:46:47</td>\n",
       "    </tr>\n",
       "    <tr>\n",
       "      <th>32</th>\n",
       "      <td>2016-03-15 20:59:01</td>\n",
       "      <td>245</td>\n",
       "      <td>sedan</td>\n",
       "      <td>1994</td>\n",
       "      <td>NaN</td>\n",
       "      <td>0</td>\n",
       "      <td>golf</td>\n",
       "      <td>150000</td>\n",
       "      <td>2</td>\n",
       "      <td>petrol</td>\n",
       "      <td>volkswagen</td>\n",
       "      <td>no</td>\n",
       "      <td>2016-03-15 00:00:00</td>\n",
       "      <td>0.000</td>\n",
       "      <td>44145.000</td>\n",
       "      <td>2016-03-17 18:17:43</td>\n",
       "    </tr>\n",
       "    <tr>\n",
       "      <th>37</th>\n",
       "      <td>2016-03-28 17:50:15</td>\n",
       "      <td>1500</td>\n",
       "      <td>NaN</td>\n",
       "      <td>2016</td>\n",
       "      <td>NaN</td>\n",
       "      <td>0</td>\n",
       "      <td>kangoo</td>\n",
       "      <td>150000</td>\n",
       "      <td>1</td>\n",
       "      <td>gasoline</td>\n",
       "      <td>renault</td>\n",
       "      <td>no</td>\n",
       "      <td>2016-03-28 00:00:00</td>\n",
       "      <td>0.000</td>\n",
       "      <td>46483.000</td>\n",
       "      <td>2016-03-30 09:18:02</td>\n",
       "    </tr>\n",
       "    <tr>\n",
       "      <th>40</th>\n",
       "      <td>2016-03-26 22:06:17</td>\n",
       "      <td>0</td>\n",
       "      <td>NaN</td>\n",
       "      <td>1990</td>\n",
       "      <td>NaN</td>\n",
       "      <td>0</td>\n",
       "      <td>corsa</td>\n",
       "      <td>150000</td>\n",
       "      <td>1</td>\n",
       "      <td>petrol</td>\n",
       "      <td>opel</td>\n",
       "      <td>NaN</td>\n",
       "      <td>2016-03-26 00:00:00</td>\n",
       "      <td>0.000</td>\n",
       "      <td>56412.000</td>\n",
       "      <td>2016-03-27 17:43:34</td>\n",
       "    </tr>\n",
       "  </tbody>\n",
       "</table>\n",
       "</div>"
      ],
      "text/plain": [
       "            DateCrawled  Price  ... PostalCode             LastSeen\n",
       "0   2016-03-24 11:52:17    480  ...  70435.000  2016-04-07 03:16:57\n",
       "15  2016-03-11 21:39:15    450  ...  24148.000  2016-03-19 08:46:47\n",
       "32  2016-03-15 20:59:01    245  ...  44145.000  2016-03-17 18:17:43\n",
       "37  2016-03-28 17:50:15   1500  ...  46483.000  2016-03-30 09:18:02\n",
       "40  2016-03-26 22:06:17      0  ...  56412.000  2016-03-27 17:43:34\n",
       "\n",
       "[5 rows x 16 columns]"
      ]
     },
     "execution_count": 24,
     "metadata": {
      "tags": []
     },
     "output_type": "execute_result"
    }
   ],
   "source": [
    "raw_autos_power_zero.head()"
   ]
  },
  {
   "cell_type": "code",
   "execution_count": 25,
   "metadata": {
    "colab": {
     "base_uri": "https://localhost:8080/"
    },
    "id": "xBFY6MPCe6UR",
    "outputId": "243f8b4a-4158-46e7-c29e-2ff609b7bd0e"
   },
   "outputs": [
    {
     "name": "stdout",
     "output_type": "stream",
     "text": [
      "Number of cars with 0 hp: 16190\n",
      "Share of cars with 0 hp of the total number of cars: 11.37%\n"
     ]
    }
   ],
   "source": [
    "print(f'Number of cars with 0 hp: {len(raw_autos_power_zero)}')\n",
    "print(f'Share of cars with 0 hp of the total number of cars: {round(len(raw_autos_power_zero) / len(raw_autos) * 100, 2)}%')"
   ]
  },
  {
   "cell_type": "markdown",
   "metadata": {
    "id": "G1NHwLwGe6US"
   },
   "source": [
    "The share is 11.35%. This is most likely a system error. It is necessary to report this error to the management. We should preprocess such data. Let's look at the car with the maximum value in power."
   ]
  },
  {
   "cell_type": "code",
   "execution_count": 26,
   "metadata": {
    "id": "DRE3VEHBe6UT"
   },
   "outputs": [],
   "source": [
    "raw_autos_power_2000 = raw_autos.query('Power == 20000')"
   ]
  },
  {
   "cell_type": "code",
   "execution_count": 27,
   "metadata": {
    "colab": {
     "base_uri": "https://localhost:8080/",
     "height": 0
    },
    "id": "zSQJy8gWe6UT",
    "outputId": "69bce680-796b-4c94-bc2f-e47cabc9bf25"
   },
   "outputs": [
    {
     "data": {
      "text/html": [
       "<div>\n",
       "<style scoped>\n",
       "    .dataframe tbody tr th:only-of-type {\n",
       "        vertical-align: middle;\n",
       "    }\n",
       "\n",
       "    .dataframe tbody tr th {\n",
       "        vertical-align: top;\n",
       "    }\n",
       "\n",
       "    .dataframe thead th {\n",
       "        text-align: right;\n",
       "    }\n",
       "</style>\n",
       "<table border=\"1\" class=\"dataframe\">\n",
       "  <thead>\n",
       "    <tr style=\"text-align: right;\">\n",
       "      <th></th>\n",
       "      <th>DateCrawled</th>\n",
       "      <th>Price</th>\n",
       "      <th>VehicleType</th>\n",
       "      <th>RegistrationYear</th>\n",
       "      <th>Gearbox</th>\n",
       "      <th>Power</th>\n",
       "      <th>Model</th>\n",
       "      <th>Kilometer</th>\n",
       "      <th>RegistrationMonth</th>\n",
       "      <th>FuelType</th>\n",
       "      <th>Brand</th>\n",
       "      <th>NotRepaired</th>\n",
       "      <th>DateCreated</th>\n",
       "      <th>NumberOfPictures</th>\n",
       "      <th>PostalCode</th>\n",
       "      <th>LastSeen</th>\n",
       "    </tr>\n",
       "  </thead>\n",
       "  <tbody>\n",
       "  </tbody>\n",
       "</table>\n",
       "</div>"
      ],
      "text/plain": [
       "Empty DataFrame\n",
       "Columns: [DateCrawled, Price, VehicleType, RegistrationYear, Gearbox, Power, Model, Kilometer, RegistrationMonth, FuelType, Brand, NotRepaired, DateCreated, NumberOfPictures, PostalCode, LastSeen]\n",
       "Index: []"
      ]
     },
     "execution_count": 27,
     "metadata": {
      "tags": []
     },
     "output_type": "execute_result"
    }
   ],
   "source": [
    "raw_autos_power_2000"
   ]
  },
  {
   "cell_type": "markdown",
   "metadata": {
    "id": "kMGRB_tBe6UU"
   },
   "source": [
    "Most likely the user made a mistake in the field of vehicle power during registration."
   ]
  },
  {
   "cell_type": "markdown",
   "metadata": {
    "id": "1zR1bEnve6UU"
   },
   "source": [
    "### Registration year"
   ]
  },
  {
   "cell_type": "code",
   "execution_count": 28,
   "metadata": {
    "colab": {
     "base_uri": "https://localhost:8080/",
     "height": 0
    },
    "id": "U011CSDhe6UU",
    "outputId": "ecdbabe6-de7d-4f4a-db3a-1dd31b6eb418"
   },
   "outputs": [
    {
     "data": {
      "text/html": [
       "<div>\n",
       "<style scoped>\n",
       "    .dataframe tbody tr th:only-of-type {\n",
       "        vertical-align: middle;\n",
       "    }\n",
       "\n",
       "    .dataframe tbody tr th {\n",
       "        vertical-align: top;\n",
       "    }\n",
       "\n",
       "    .dataframe thead th {\n",
       "        text-align: right;\n",
       "    }\n",
       "</style>\n",
       "<table border=\"1\" class=\"dataframe\">\n",
       "  <thead>\n",
       "    <tr style=\"text-align: right;\">\n",
       "      <th></th>\n",
       "      <th>DateCrawled</th>\n",
       "      <th>Price</th>\n",
       "      <th>VehicleType</th>\n",
       "      <th>RegistrationYear</th>\n",
       "      <th>Gearbox</th>\n",
       "      <th>Power</th>\n",
       "      <th>Model</th>\n",
       "      <th>Kilometer</th>\n",
       "      <th>RegistrationMonth</th>\n",
       "      <th>FuelType</th>\n",
       "      <th>Brand</th>\n",
       "      <th>NotRepaired</th>\n",
       "      <th>DateCreated</th>\n",
       "      <th>NumberOfPictures</th>\n",
       "      <th>PostalCode</th>\n",
       "      <th>LastSeen</th>\n",
       "    </tr>\n",
       "  </thead>\n",
       "  <tbody>\n",
       "    <tr>\n",
       "      <th>16062</th>\n",
       "      <td>2016-03-29 23:42:16</td>\n",
       "      <td>190</td>\n",
       "      <td>NaN</td>\n",
       "      <td>1000</td>\n",
       "      <td>NaN</td>\n",
       "      <td>0</td>\n",
       "      <td>mondeo</td>\n",
       "      <td>5000</td>\n",
       "      <td>0</td>\n",
       "      <td>NaN</td>\n",
       "      <td>ford</td>\n",
       "      <td>NaN</td>\n",
       "      <td>2016-03-29 00:00:00</td>\n",
       "      <td>0.000</td>\n",
       "      <td>47166.000</td>\n",
       "      <td>2016-04-06 10:44:58</td>\n",
       "    </tr>\n",
       "    <tr>\n",
       "      <th>53577</th>\n",
       "      <td>2016-03-20 11:44:28</td>\n",
       "      <td>330</td>\n",
       "      <td>NaN</td>\n",
       "      <td>1000</td>\n",
       "      <td>NaN</td>\n",
       "      <td>0</td>\n",
       "      <td>polo</td>\n",
       "      <td>5000</td>\n",
       "      <td>0</td>\n",
       "      <td>NaN</td>\n",
       "      <td>volkswagen</td>\n",
       "      <td>NaN</td>\n",
       "      <td>2016-03-20 00:00:00</td>\n",
       "      <td>0.000</td>\n",
       "      <td>45259.000</td>\n",
       "      <td>2016-04-04 08:17:15</td>\n",
       "    </tr>\n",
       "    <tr>\n",
       "      <th>55605</th>\n",
       "      <td>2016-03-10 19:50:17</td>\n",
       "      <td>500</td>\n",
       "      <td>NaN</td>\n",
       "      <td>1000</td>\n",
       "      <td>NaN</td>\n",
       "      <td>0</td>\n",
       "      <td>NaN</td>\n",
       "      <td>5000</td>\n",
       "      <td>0</td>\n",
       "      <td>NaN</td>\n",
       "      <td>citroen</td>\n",
       "      <td>yes</td>\n",
       "      <td>2016-03-10 00:00:00</td>\n",
       "      <td>0.000</td>\n",
       "      <td>24811.000</td>\n",
       "      <td>2016-04-06 03:45:53</td>\n",
       "    </tr>\n",
       "    <tr>\n",
       "      <th>60017</th>\n",
       "      <td>2016-03-10 12:38:01</td>\n",
       "      <td>80</td>\n",
       "      <td>NaN</td>\n",
       "      <td>1000</td>\n",
       "      <td>NaN</td>\n",
       "      <td>0</td>\n",
       "      <td>NaN</td>\n",
       "      <td>5000</td>\n",
       "      <td>0</td>\n",
       "      <td>NaN</td>\n",
       "      <td>volkswagen</td>\n",
       "      <td>NaN</td>\n",
       "      <td>2016-03-10 00:00:00</td>\n",
       "      <td>0.000</td>\n",
       "      <td>93107.000</td>\n",
       "      <td>2016-04-07 04:45:57</td>\n",
       "    </tr>\n",
       "    <tr>\n",
       "      <th>66198</th>\n",
       "      <td>2016-03-08 14:50:20</td>\n",
       "      <td>1300</td>\n",
       "      <td>NaN</td>\n",
       "      <td>1000</td>\n",
       "      <td>auto</td>\n",
       "      <td>0</td>\n",
       "      <td>NaN</td>\n",
       "      <td>5000</td>\n",
       "      <td>6</td>\n",
       "      <td>petrol</td>\n",
       "      <td>sonstige_autos</td>\n",
       "      <td>NaN</td>\n",
       "      <td>2016-03-08 00:00:00</td>\n",
       "      <td>0.000</td>\n",
       "      <td>13156.000</td>\n",
       "      <td>2016-03-17 08:17:42</td>\n",
       "    </tr>\n",
       "  </tbody>\n",
       "</table>\n",
       "</div>"
      ],
      "text/plain": [
       "               DateCrawled  Price  ... PostalCode             LastSeen\n",
       "16062  2016-03-29 23:42:16    190  ...  47166.000  2016-04-06 10:44:58\n",
       "53577  2016-03-20 11:44:28    330  ...  45259.000  2016-04-04 08:17:15\n",
       "55605  2016-03-10 19:50:17    500  ...  24811.000  2016-04-06 03:45:53\n",
       "60017  2016-03-10 12:38:01     80  ...  93107.000  2016-04-07 04:45:57\n",
       "66198  2016-03-08 14:50:20   1300  ...  13156.000  2016-03-17 08:17:42\n",
       "\n",
       "[5 rows x 16 columns]"
      ]
     },
     "execution_count": 28,
     "metadata": {
      "tags": []
     },
     "output_type": "execute_result"
    }
   ],
   "source": [
    "raw_autos.query('RegistrationYear == 1000').head()"
   ]
  },
  {
   "cell_type": "markdown",
   "metadata": {
    "id": "OzyNWL9re6UU"
   },
   "source": [
    "Well, this is definitely bad data. Let's remove them at the preprocessing stage."
   ]
  },
  {
   "cell_type": "code",
   "execution_count": 29,
   "metadata": {
    "colab": {
     "base_uri": "https://localhost:8080/",
     "height": 0
    },
    "id": "QuAgG2tNe6UV",
    "outputId": "0fc3d858-fc8e-459d-a02b-ee45b4fcf527"
   },
   "outputs": [
    {
     "data": {
      "text/html": [
       "<div>\n",
       "<style scoped>\n",
       "    .dataframe tbody tr th:only-of-type {\n",
       "        vertical-align: middle;\n",
       "    }\n",
       "\n",
       "    .dataframe tbody tr th {\n",
       "        vertical-align: top;\n",
       "    }\n",
       "\n",
       "    .dataframe thead th {\n",
       "        text-align: right;\n",
       "    }\n",
       "</style>\n",
       "<table border=\"1\" class=\"dataframe\">\n",
       "  <thead>\n",
       "    <tr style=\"text-align: right;\">\n",
       "      <th></th>\n",
       "      <th>DateCrawled</th>\n",
       "      <th>Price</th>\n",
       "      <th>VehicleType</th>\n",
       "      <th>RegistrationYear</th>\n",
       "      <th>Gearbox</th>\n",
       "      <th>Power</th>\n",
       "      <th>Model</th>\n",
       "      <th>Kilometer</th>\n",
       "      <th>RegistrationMonth</th>\n",
       "      <th>FuelType</th>\n",
       "      <th>Brand</th>\n",
       "      <th>NotRepaired</th>\n",
       "      <th>DateCreated</th>\n",
       "      <th>NumberOfPictures</th>\n",
       "      <th>PostalCode</th>\n",
       "      <th>LastSeen</th>\n",
       "    </tr>\n",
       "  </thead>\n",
       "  <tbody>\n",
       "    <tr>\n",
       "      <th>15147</th>\n",
       "      <td>2016-03-14 00:52:02</td>\n",
       "      <td>0</td>\n",
       "      <td>NaN</td>\n",
       "      <td>9999</td>\n",
       "      <td>NaN</td>\n",
       "      <td>0</td>\n",
       "      <td>NaN</td>\n",
       "      <td>10000</td>\n",
       "      <td>0</td>\n",
       "      <td>NaN</td>\n",
       "      <td>sonstige_autos</td>\n",
       "      <td>NaN</td>\n",
       "      <td>2016-03-13 00:00:00</td>\n",
       "      <td>0.000</td>\n",
       "      <td>32689.000</td>\n",
       "      <td>2016-03-21 23:46:46</td>\n",
       "    </tr>\n",
       "    <tr>\n",
       "      <th>17271</th>\n",
       "      <td>2016-03-23 16:43:29</td>\n",
       "      <td>700</td>\n",
       "      <td>NaN</td>\n",
       "      <td>9999</td>\n",
       "      <td>NaN</td>\n",
       "      <td>0</td>\n",
       "      <td>other</td>\n",
       "      <td>10000</td>\n",
       "      <td>0</td>\n",
       "      <td>NaN</td>\n",
       "      <td>opel</td>\n",
       "      <td>NaN</td>\n",
       "      <td>2016-03-23 00:00:00</td>\n",
       "      <td>0.000</td>\n",
       "      <td>21769.000</td>\n",
       "      <td>2016-04-05 20:16:15</td>\n",
       "    </tr>\n",
       "    <tr>\n",
       "      <th>28390</th>\n",
       "      <td>2016-04-05 08:57:08</td>\n",
       "      <td>799</td>\n",
       "      <td>NaN</td>\n",
       "      <td>9999</td>\n",
       "      <td>NaN</td>\n",
       "      <td>0</td>\n",
       "      <td>3er</td>\n",
       "      <td>10000</td>\n",
       "      <td>4</td>\n",
       "      <td>petrol</td>\n",
       "      <td>bmw</td>\n",
       "      <td>NaN</td>\n",
       "      <td>2016-04-05 00:00:00</td>\n",
       "      <td>0.000</td>\n",
       "      <td>72116.000</td>\n",
       "      <td>2016-04-07 12:17:50</td>\n",
       "    </tr>\n",
       "    <tr>\n",
       "      <th>28965</th>\n",
       "      <td>2016-04-04 22:54:47</td>\n",
       "      <td>18000</td>\n",
       "      <td>NaN</td>\n",
       "      <td>9999</td>\n",
       "      <td>NaN</td>\n",
       "      <td>0</td>\n",
       "      <td>a_klasse</td>\n",
       "      <td>10000</td>\n",
       "      <td>0</td>\n",
       "      <td>petrol</td>\n",
       "      <td>mercedes_benz</td>\n",
       "      <td>NaN</td>\n",
       "      <td>2016-04-04 00:00:00</td>\n",
       "      <td>0.000</td>\n",
       "      <td>51379.000</td>\n",
       "      <td>2016-04-07 02:44:52</td>\n",
       "    </tr>\n",
       "    <tr>\n",
       "      <th>29426</th>\n",
       "      <td>2016-03-23 21:52:25</td>\n",
       "      <td>7999</td>\n",
       "      <td>NaN</td>\n",
       "      <td>9999</td>\n",
       "      <td>NaN</td>\n",
       "      <td>0</td>\n",
       "      <td>kaefer</td>\n",
       "      <td>10000</td>\n",
       "      <td>0</td>\n",
       "      <td>NaN</td>\n",
       "      <td>volkswagen</td>\n",
       "      <td>NaN</td>\n",
       "      <td>2016-03-23 00:00:00</td>\n",
       "      <td>0.000</td>\n",
       "      <td>47638.000</td>\n",
       "      <td>2016-04-06 03:46:40</td>\n",
       "    </tr>\n",
       "  </tbody>\n",
       "</table>\n",
       "</div>"
      ],
      "text/plain": [
       "               DateCrawled  Price  ... PostalCode             LastSeen\n",
       "15147  2016-03-14 00:52:02      0  ...  32689.000  2016-03-21 23:46:46\n",
       "17271  2016-03-23 16:43:29    700  ...  21769.000  2016-04-05 20:16:15\n",
       "28390  2016-04-05 08:57:08    799  ...  72116.000  2016-04-07 12:17:50\n",
       "28965  2016-04-04 22:54:47  18000  ...  51379.000  2016-04-07 02:44:52\n",
       "29426  2016-03-23 21:52:25   7999  ...  47638.000  2016-04-06 03:46:40\n",
       "\n",
       "[5 rows x 16 columns]"
      ]
     },
     "execution_count": 29,
     "metadata": {
      "tags": []
     },
     "output_type": "execute_result"
    }
   ],
   "source": [
    "raw_autos.query('RegistrationYear == 9999').head()"
   ]
  },
  {
   "cell_type": "markdown",
   "metadata": {
    "id": "y1M9Q2Cge6UV"
   },
   "source": [
    "## Summary"
   ]
  },
  {
   "cell_type": "markdown",
   "metadata": {
    "id": "uF8nPL9le6UV"
   },
   "source": [
    "354369 objects in the dataframe. 16 columns. Most of the columns are of type *object*. The number of objects in each column is different. We have missing values. Hence, it is necessary to preprocess the data. Some columns will be unnecessary in the construction of models, such as: *DateCrawled, DateCreated, NumberOfPictures, PostalCode, LastSeen*. There are abnormal values in the columns: *RegistrationYear, Power, Kilometer* There are also zero values: *NumberOfPictures, Price* and missing values in *VehicleType, Model, FuelType, NotRepaired* columns. The data is raw, we need to preprocess it carefully. Also, we have date columns, we need to convert them to the correct *datetime* data type. We need:\n",
    "1. Preprocess the data\n",
    "2. Train different models\n",
    "3. Analyze the speed and accuracy of the models"
   ]
  },
  {
   "cell_type": "markdown",
   "metadata": {
    "id": "cxWI15Sde6UV"
   },
   "source": [
    "---"
   ]
  },
  {
   "cell_type": "markdown",
   "metadata": {
    "id": "ZVRDNwIee6UW"
   },
   "source": [
    "<a id=\"dataPreprocessing\"></a>\n",
    "# Stage 2 - Data preprocessing"
   ]
  },
  {
   "cell_type": "markdown",
   "metadata": {
    "id": "I6MqmqB8e6UW"
   },
   "source": [
    "Let's fix our first problems. We will handle columns and missing values, duplicates, abnormal values, and replace data types. Also, we will remove extra features."
   ]
  },
  {
   "cell_type": "markdown",
   "metadata": {
    "id": "Z4tgQ_SUe6UW"
   },
   "source": [
    "<a id=\"columnsProcessing\"></a>\n",
    "### Column processing"
   ]
  },
  {
   "cell_type": "markdown",
   "metadata": {
    "id": "BqWVrh65e6UX"
   },
   "source": [
    "Let's convert all column names to lower case."
   ]
  },
  {
   "cell_type": "code",
   "execution_count": 30,
   "metadata": {
    "id": "FMboDv8we6UX"
   },
   "outputs": [],
   "source": [
    "def snake_case(s):\n",
    "    \"\"\"\n",
    "    Converting strings from camelCase to snake_case.\n",
    "    s - column name\n",
    "    \"\"\"\n",
    "    return ''.join('_' + c.lower()\n",
    "                   if all([i != 0,\n",
    "                           c.isupper(),\n",
    "                           s[i - 1].islower()])\n",
    "                   else c.lower()\n",
    "                   for i, c in enumerate(s))"
   ]
  },
  {
   "cell_type": "code",
   "execution_count": 31,
   "metadata": {
    "colab": {
     "base_uri": "https://localhost:8080/"
    },
    "id": "EBk10pKoe6UX",
    "outputId": "75116a10-aaf9-4b99-9455-2428a9483294"
   },
   "outputs": [
    {
     "data": {
      "text/plain": [
       "Index(['date_crawled', 'price', 'vehicle_type', 'registration_year', 'gearbox',\n",
       "       'power', 'model', 'kilometer', 'registration_month', 'fuel_type',\n",
       "       'brand', 'not_repaired', 'date_created', 'number_of_pictures',\n",
       "       'postal_code', 'last_seen'],\n",
       "      dtype='object')"
      ]
     },
     "execution_count": 31,
     "metadata": {
      "tags": []
     },
     "output_type": "execute_result"
    }
   ],
   "source": [
    "# Convert columns to snake_case\n",
    "raw_autos.columns = map(snake_case, raw_autos.columns)\n",
    "raw_autos.columns"
   ]
  },
  {
   "cell_type": "markdown",
   "metadata": {
    "id": "4wILcjipe6UY"
   },
   "source": [
    "<a id=\"removeColumns\"></a>\n",
    "## Column removing"
   ]
  },
  {
   "cell_type": "markdown",
   "metadata": {
    "id": "XWzBj0lZe6UY"
   },
   "source": [
    "Let's remove unnecessary columns: *DateCrawled, DateCreated, NumberOfPictures, PostalCode, LastSeen*. "
   ]
  },
  {
   "cell_type": "code",
   "execution_count": 32,
   "metadata": {
    "colab": {
     "base_uri": "https://localhost:8080/",
     "height": 0
    },
    "id": "ETDszmqHe6UY",
    "outputId": "e939b319-4ecb-4c49-d915-bd32868dd1ce"
   },
   "outputs": [
    {
     "data": {
      "text/html": [
       "<div>\n",
       "<style scoped>\n",
       "    .dataframe tbody tr th:only-of-type {\n",
       "        vertical-align: middle;\n",
       "    }\n",
       "\n",
       "    .dataframe tbody tr th {\n",
       "        vertical-align: top;\n",
       "    }\n",
       "\n",
       "    .dataframe thead th {\n",
       "        text-align: right;\n",
       "    }\n",
       "</style>\n",
       "<table border=\"1\" class=\"dataframe\">\n",
       "  <thead>\n",
       "    <tr style=\"text-align: right;\">\n",
       "      <th></th>\n",
       "      <th>price</th>\n",
       "      <th>vehicle_type</th>\n",
       "      <th>registration_year</th>\n",
       "      <th>gearbox</th>\n",
       "      <th>power</th>\n",
       "      <th>model</th>\n",
       "      <th>kilometer</th>\n",
       "      <th>registration_month</th>\n",
       "      <th>fuel_type</th>\n",
       "      <th>brand</th>\n",
       "      <th>not_repaired</th>\n",
       "    </tr>\n",
       "  </thead>\n",
       "  <tbody>\n",
       "    <tr>\n",
       "      <th>0</th>\n",
       "      <td>480</td>\n",
       "      <td>NaN</td>\n",
       "      <td>1993</td>\n",
       "      <td>manual</td>\n",
       "      <td>0</td>\n",
       "      <td>golf</td>\n",
       "      <td>150000</td>\n",
       "      <td>0</td>\n",
       "      <td>petrol</td>\n",
       "      <td>volkswagen</td>\n",
       "      <td>NaN</td>\n",
       "    </tr>\n",
       "    <tr>\n",
       "      <th>1</th>\n",
       "      <td>18300</td>\n",
       "      <td>coupe</td>\n",
       "      <td>2011</td>\n",
       "      <td>manual</td>\n",
       "      <td>190</td>\n",
       "      <td>NaN</td>\n",
       "      <td>125000</td>\n",
       "      <td>5</td>\n",
       "      <td>gasoline</td>\n",
       "      <td>audi</td>\n",
       "      <td>yes</td>\n",
       "    </tr>\n",
       "    <tr>\n",
       "      <th>2</th>\n",
       "      <td>9800</td>\n",
       "      <td>suv</td>\n",
       "      <td>2004</td>\n",
       "      <td>auto</td>\n",
       "      <td>163</td>\n",
       "      <td>grand</td>\n",
       "      <td>125000</td>\n",
       "      <td>8</td>\n",
       "      <td>gasoline</td>\n",
       "      <td>jeep</td>\n",
       "      <td>NaN</td>\n",
       "    </tr>\n",
       "    <tr>\n",
       "      <th>3</th>\n",
       "      <td>1500</td>\n",
       "      <td>small</td>\n",
       "      <td>2001</td>\n",
       "      <td>manual</td>\n",
       "      <td>75</td>\n",
       "      <td>golf</td>\n",
       "      <td>150000</td>\n",
       "      <td>6</td>\n",
       "      <td>petrol</td>\n",
       "      <td>volkswagen</td>\n",
       "      <td>no</td>\n",
       "    </tr>\n",
       "    <tr>\n",
       "      <th>4</th>\n",
       "      <td>3600</td>\n",
       "      <td>small</td>\n",
       "      <td>2008</td>\n",
       "      <td>manual</td>\n",
       "      <td>69</td>\n",
       "      <td>fabia</td>\n",
       "      <td>90000</td>\n",
       "      <td>7</td>\n",
       "      <td>gasoline</td>\n",
       "      <td>skoda</td>\n",
       "      <td>no</td>\n",
       "    </tr>\n",
       "  </tbody>\n",
       "</table>\n",
       "</div>"
      ],
      "text/plain": [
       "   price vehicle_type  registration_year  ... fuel_type       brand not_repaired\n",
       "0    480          NaN               1993  ...    petrol  volkswagen          NaN\n",
       "1  18300        coupe               2011  ...  gasoline        audi          yes\n",
       "2   9800          suv               2004  ...  gasoline        jeep          NaN\n",
       "3   1500        small               2001  ...    petrol  volkswagen           no\n",
       "4   3600        small               2008  ...  gasoline       skoda           no\n",
       "\n",
       "[5 rows x 11 columns]"
      ]
     },
     "execution_count": 32,
     "metadata": {
      "tags": []
     },
     "output_type": "execute_result"
    }
   ],
   "source": [
    "raw_autos = raw_autos.drop(['date_crawled','date_created' ,'number_of_pictures', 'postal_code', 'last_seen'], axis=1)\n",
    "raw_autos.head()"
   ]
  },
  {
   "cell_type": "markdown",
   "metadata": {
    "id": "q_OzADIxe6UZ"
   },
   "source": [
    "<a id=\"missingValues\"></a>\n",
    "## Missing values"
   ]
  },
  {
   "cell_type": "markdown",
   "metadata": {
    "id": "SwWAMYuCe6UZ"
   },
   "source": [
    "Let's see how many missing values are in the data. "
   ]
  },
  {
   "cell_type": "code",
   "execution_count": 33,
   "metadata": {
    "colab": {
     "base_uri": "https://localhost:8080/"
    },
    "id": "CduIm82Ze6UZ",
    "outputId": "6ce6d706-b682-4509-8df6-91732236eaa5"
   },
   "outputs": [
    {
     "data": {
      "text/plain": [
       "price                     0\n",
       "vehicle_type          14926\n",
       "registration_year         0\n",
       "gearbox                7930\n",
       "power                     0\n",
       "model                  7900\n",
       "kilometer                 0\n",
       "registration_month        0\n",
       "fuel_type             13250\n",
       "brand                     0\n",
       "not_repaired          28660\n",
       "dtype: int64"
      ]
     },
     "execution_count": 33,
     "metadata": {
      "tags": []
     },
     "output_type": "execute_result"
    }
   ],
   "source": [
    "raw_autos.isna().sum()"
   ]
  },
  {
   "cell_type": "markdown",
   "metadata": {
    "id": "8NDkNgpEe6Ua"
   },
   "source": [
    "We have missing values in the following columns: *vehicle_type, gearbox, model, fuel_type, not_repaired*."
   ]
  },
  {
   "cell_type": "markdown",
   "metadata": {
    "id": "VUWIFldhe6Ua"
   },
   "source": [
    "Create a copy of the dataframe"
   ]
  },
  {
   "cell_type": "code",
   "execution_count": 34,
   "metadata": {
    "id": "EL6hCBUae6Ua"
   },
   "outputs": [],
   "source": [
    "raw_autos_copy = raw_autos.copy()"
   ]
  },
  {
   "cell_type": "markdown",
   "metadata": {
    "id": "bdqlFqpge6Ua"
   },
   "source": [
    "Let's remove the missing values."
   ]
  },
  {
   "cell_type": "code",
   "execution_count": 35,
   "metadata": {
    "colab": {
     "base_uri": "https://localhost:8080/"
    },
    "id": "LR0j-7c_e6Ua",
    "outputId": "4b5ef040-1a9a-42e7-b187-9d159aca58f5"
   },
   "outputs": [
    {
     "data": {
      "text/plain": [
       "price                 0\n",
       "vehicle_type          0\n",
       "registration_year     0\n",
       "gearbox               0\n",
       "power                 0\n",
       "model                 0\n",
       "kilometer             0\n",
       "registration_month    0\n",
       "fuel_type             0\n",
       "brand                 0\n",
       "not_repaired          0\n",
       "dtype: int64"
      ]
     },
     "execution_count": 35,
     "metadata": {
      "tags": []
     },
     "output_type": "execute_result"
    }
   ],
   "source": [
    "raw_autos_copy = raw_autos_copy.dropna(subset=['vehicle_type', 'gearbox', 'model', 'fuel_type', 'not_repaired'])\n",
    "raw_autos_copy.isna().sum()"
   ]
  },
  {
   "cell_type": "code",
   "execution_count": 36,
   "metadata": {
    "colab": {
     "base_uri": "https://localhost:8080/"
    },
    "id": "3MdglnM8e6Ub",
    "outputId": "ded3fa73-caf8-47c1-ea7e-69c7dd388db4"
   },
   "outputs": [
    {
     "name": "stdout",
     "output_type": "stream",
     "text": [
      "Number of objects before removing missing values: 142387\n",
      "Number of objects after deleting missing values: 98845\n",
      "Number of objects deleted: 43542\n",
      "Share of deleted objects: 30.58%\n"
     ]
    }
   ],
   "source": [
    "print(f'Number of objects before removing missing values: {len(raw_autos)}')\n",
    "print(f'Number of objects after deleting missing values: {len(raw_autos_copy)}')\n",
    "deleted_obj = len(raw_autos) - len(raw_autos_copy)\n",
    "print(f'Number of objects deleted: {deleted_obj}')\n",
    "print(f'Share of deleted objects: {round(deleted_obj / len(raw_autos) * 100, 2)}%')"
   ]
  },
  {
   "cell_type": "markdown",
   "metadata": {
    "id": "5cvCIAtje6Ub"
   },
   "source": [
    "About 30% of the objects have been deleted. Let's try to recover the data."
   ]
  },
  {
   "cell_type": "markdown",
   "metadata": {
    "id": "fKuQp-58e6Ub"
   },
   "source": [
    "Let's write a function that will output the number of rows with missing values."
   ]
  },
  {
   "cell_type": "code",
   "execution_count": 37,
   "metadata": {
    "id": "aYtmQ8cVe6Ub"
   },
   "outputs": [],
   "source": [
    "def checkMissingValues(columnName,df):\n",
    "    print(columnName,\"check for missing values, the number of rows with a missing value: \",len(df[df[columnName].isna()]))"
   ]
  },
  {
   "cell_type": "markdown",
   "metadata": {
    "id": "jN4d4RMae6Ub"
   },
   "source": [
    "### Vehicle Type"
   ]
  },
  {
   "cell_type": "markdown",
   "metadata": {
    "id": "FEkr_-MPe6Ub"
   },
   "source": [
    "To avoid data distortion, I suggest filling in the missing values of \"unknown_type\"."
   ]
  },
  {
   "cell_type": "code",
   "execution_count": 38,
   "metadata": {
    "id": "P9EcXcFBe6Uc"
   },
   "outputs": [],
   "source": [
    "raw_autos['vehicle_type'] = raw_autos.vehicle_type.fillna(\"unknown_type\")"
   ]
  },
  {
   "cell_type": "code",
   "execution_count": 39,
   "metadata": {
    "colab": {
     "base_uri": "https://localhost:8080/"
    },
    "id": "zm4ZG-8Oe6Uc",
    "outputId": "61f9ff7a-508c-492b-cb2e-a5f573805aef"
   },
   "outputs": [
    {
     "name": "stdout",
     "output_type": "stream",
     "text": [
      "vehicle_type check for missing values, the number of rows with a missing value:  0\n"
     ]
    }
   ],
   "source": [
    "checkMissingValues('vehicle_type', raw_autos)"
   ]
  },
  {
   "cell_type": "markdown",
   "metadata": {
    "id": "6dWS2Mjse6Uc"
   },
   "source": [
    "### Gearbox"
   ]
  },
  {
   "cell_type": "markdown",
   "metadata": {
    "id": "2a7kKoD7e6Ud"
   },
   "source": [
    "Let's look at the unique values in the *gearbox* column."
   ]
  },
  {
   "cell_type": "code",
   "execution_count": 40,
   "metadata": {
    "colab": {
     "base_uri": "https://localhost:8080/"
    },
    "id": "f1a2CjV4e6Ud",
    "outputId": "39ce1b91-c1b5-4b47-a4ec-f1e7dd2e3a7b"
   },
   "outputs": [
    {
     "data": {
      "text/plain": [
       "manual    107924\n",
       "auto       26533\n",
       "Name: gearbox, dtype: int64"
      ]
     },
     "execution_count": 40,
     "metadata": {
      "tags": []
     },
     "output_type": "execute_result"
    }
   ],
   "source": [
    "raw_autos['gearbox'].value_counts()"
   ]
  },
  {
   "cell_type": "markdown",
   "metadata": {
    "id": "imY-yTDMe6Ud"
   },
   "source": [
    "Выведем распределение"
   ]
  },
  {
   "cell_type": "code",
   "execution_count": 41,
   "metadata": {
    "colab": {
     "base_uri": "https://localhost:8080/",
     "height": 342
    },
    "id": "c8vMqMtAe6Ue",
    "outputId": "3ba3695f-37ff-4723-a034-6c63e12a3382"
   },
   "outputs": [
    {
     "data": {
      "image/png": "[encoded data removed]",
      "text/plain": [
       "<Figure size 1008x360 with 1 Axes>"
      ]
     },
     "metadata": {
      "image/png": {
       "height": 325,
       "width": 860
      },
      "needs_background": "light",
      "tags": []
     },
     "output_type": "display_data"
    }
   ],
   "source": [
    "# KDE plot\n",
    "plt.figure(figsize=(14,5))\n",
    "plot  = sns.distplot(raw_autos['registration_year'],bins=30, kde=True)\n",
    "plt.show()"
   ]
  },
  {
   "cell_type": "markdown",
   "metadata": {
    "id": "ruC_4e8ke6Ue"
   },
   "source": [
    "Let's take an appropriate interval"
   ]
  },
  {
   "cell_type": "code",
   "execution_count": 42,
   "metadata": {
    "id": "hL2MgMSPe6Ug"
   },
   "outputs": [],
   "source": [
    "raw_autos_copy = raw_autos.query('registration_year > 1900 and registration_year < 2020')"
   ]
  },
  {
   "cell_type": "code",
   "execution_count": 43,
   "metadata": {
    "colab": {
     "base_uri": "https://localhost:8080/",
     "height": 370
    },
    "id": "d0HMmlMge6Ui",
    "outputId": "92ea67bc-0c2f-47a3-b549-5452511c2425"
   },
   "outputs": [
    {
     "data": {
      "image/png": "[encoded data removed]",
      "text/plain": [
       "<Figure size 463.15x360 with 1 Axes>"
      ]
     },
     "metadata": {
      "image/png": {
       "height": 353,
       "width": 460
      },
      "needs_background": "light",
      "tags": []
     },
     "output_type": "display_data"
    }
   ],
   "source": [
    "sns.displot(data = raw_autos_copy, x='registration_year',bins=30, kde=True, hue='gearbox')\n",
    "plt.show()"
   ]
  },
  {
   "cell_type": "markdown",
   "metadata": {
    "id": "i59gf9wQe6Ui"
   },
   "source": [
    "The first automatic transmission was installed in 1947. We can safely assume that cars before 1947 had a manual transmission"
   ]
  },
  {
   "cell_type": "code",
   "execution_count": 44,
   "metadata": {
    "id": "p4g5kKlke6Ui"
   },
   "outputs": [],
   "source": [
    "raw_autos.loc[raw_autos['registration_year'] < 1947, 'gearbox'] = raw_autos.loc[raw_autos['registration_year'] < 1947, 'gearbox'].fillna(\"manual\")"
   ]
  },
  {
   "cell_type": "markdown",
   "metadata": {
    "id": "Td73USGae6Ui"
   },
   "source": [
    "To avoid distortions in the data, let's fill in the remaining missing values - \"unknown_gearbox\". "
   ]
  },
  {
   "cell_type": "code",
   "execution_count": 45,
   "metadata": {
    "id": "Rt-3kQIse6Uj"
   },
   "outputs": [],
   "source": [
    "raw_autos['gearbox'] = raw_autos.gearbox.fillna(\"unknown_gearbox\")"
   ]
  },
  {
   "cell_type": "code",
   "execution_count": 46,
   "metadata": {
    "colab": {
     "base_uri": "https://localhost:8080/"
    },
    "id": "6GV73P_Le6Uj",
    "outputId": "57e9718f-56cd-4f73-918b-77efadcd5b17"
   },
   "outputs": [
    {
     "name": "stdout",
     "output_type": "stream",
     "text": [
      "gearbox check for missing values, the number of rows with a missing value:  0\n"
     ]
    }
   ],
   "source": [
    "checkMissingValues('gearbox', raw_autos)"
   ]
  },
  {
   "cell_type": "markdown",
   "metadata": {
    "id": "cOPNPWtTe6Uj"
   },
   "source": [
    "### Model"
   ]
  },
  {
   "cell_type": "markdown",
   "metadata": {
    "id": "2ZmwSV1Ne6Uj"
   },
   "source": [
    "To avoid distortions in the data, let's fill in the missing value - \"unknown_model\". "
   ]
  },
  {
   "cell_type": "code",
   "execution_count": 47,
   "metadata": {
    "id": "RGBMDWrFe6Uj"
   },
   "outputs": [],
   "source": [
    "raw_autos['model'] = raw_autos.model.fillna(\"unknown_model\")"
   ]
  },
  {
   "cell_type": "code",
   "execution_count": 48,
   "metadata": {
    "colab": {
     "base_uri": "https://localhost:8080/"
    },
    "id": "cXaBhpsHe6Uk",
    "outputId": "06b4269a-d07d-427e-ce51-fa707fcdff27"
   },
   "outputs": [
    {
     "name": "stdout",
     "output_type": "stream",
     "text": [
      "model check for missing values, the number of rows with a missing value:  0\n"
     ]
    }
   ],
   "source": [
    "checkMissingValues('model', raw_autos)"
   ]
  },
  {
   "cell_type": "markdown",
   "metadata": {
    "id": "v7ppaaeye6Uk"
   },
   "source": [
    "### Fuel type"
   ]
  },
  {
   "cell_type": "code",
   "execution_count": 49,
   "metadata": {
    "id": "6vhbYvEve6Uk"
   },
   "outputs": [],
   "source": [
    "raw_autos['fuel_type'] = raw_autos.fuel_type.fillna(\"unknown_fuel_type\")"
   ]
  },
  {
   "cell_type": "code",
   "execution_count": 50,
   "metadata": {
    "colab": {
     "base_uri": "https://localhost:8080/"
    },
    "id": "IMHcBCBNe6Uk",
    "outputId": "a248f3a0-6988-4243-d2a3-029bb5766013"
   },
   "outputs": [
    {
     "name": "stdout",
     "output_type": "stream",
     "text": [
      "fuel_type check for missing values, the number of rows with a missing value:  0\n"
     ]
    }
   ],
   "source": [
    "checkMissingValues('fuel_type', raw_autos)"
   ]
  },
  {
   "cell_type": "markdown",
   "metadata": {
    "id": "myAugPEbe6Um"
   },
   "source": [
    "### Not repaired"
   ]
  },
  {
   "cell_type": "markdown",
   "metadata": {
    "id": "QWRGd4B0e6Um"
   },
   "source": [
    "I suggest replacing the missing values of the *not_repaired* column with the value *unknown_repair_status*. "
   ]
  },
  {
   "cell_type": "code",
   "execution_count": 51,
   "metadata": {
    "id": "PtjvlByHe6Um"
   },
   "outputs": [],
   "source": [
    "raw_autos['not_repaired'] = raw_autos['not_repaired'].fillna('unknown_repair_status')"
   ]
  },
  {
   "cell_type": "code",
   "execution_count": 52,
   "metadata": {
    "colab": {
     "base_uri": "https://localhost:8080/"
    },
    "id": "q1ZwZ02se6Um",
    "outputId": "8528084e-8c1e-418d-f127-023782f79f0a"
   },
   "outputs": [
    {
     "name": "stdout",
     "output_type": "stream",
     "text": [
      "not_repaired check for missing values, the number of rows with a missing value:  0\n"
     ]
    }
   ],
   "source": [
    "checkMissingValues('not_repaired', raw_autos)"
   ]
  },
  {
   "cell_type": "code",
   "execution_count": 53,
   "metadata": {
    "colab": {
     "base_uri": "https://localhost:8080/"
    },
    "id": "UTIwP5TKe6Um",
    "outputId": "66c4fbfb-9f17-4631-8d61-704a3fb54c5e"
   },
   "outputs": [
    {
     "data": {
      "text/plain": [
       "price                 0\n",
       "vehicle_type          0\n",
       "registration_year     0\n",
       "gearbox               0\n",
       "power                 0\n",
       "model                 0\n",
       "kilometer             0\n",
       "registration_month    0\n",
       "fuel_type             0\n",
       "brand                 0\n",
       "not_repaired          0\n",
       "dtype: int64"
      ]
     },
     "execution_count": 53,
     "metadata": {
      "tags": []
     },
     "output_type": "execute_result"
    }
   ],
   "source": [
    "raw_autos.isna().sum()"
   ]
  },
  {
   "cell_type": "markdown",
   "metadata": {
    "id": "DuW4c3O7e6Un"
   },
   "source": [
    "<a id=\"duplicateValues\"></a>\n",
    "## Duplicate values"
   ]
  },
  {
   "cell_type": "markdown",
   "metadata": {
    "id": "DUD55ZpVe6Un"
   },
   "source": [
    "We need to check for the presence of duplicates. If there are duplicates - delete them, otherwise our study can lead to incorrect results. Let's use the set of methods *duplicated()* and *sum()*."
   ]
  },
  {
   "cell_type": "code",
   "execution_count": 54,
   "metadata": {
    "colab": {
     "base_uri": "https://localhost:8080/"
    },
    "id": "Yz_F10FPe6Un",
    "outputId": "d791e211-97b0-424f-b71d-f78da4e7fd6b"
   },
   "outputs": [
    {
     "name": "stdout",
     "output_type": "stream",
     "text": [
      "Number of duplicates: 5318\n",
      "Share of duplicates in dataset: 0.04%\n"
     ]
    }
   ],
   "source": [
    "print(f'Number of duplicates: {raw_autos.duplicated().sum()}')\n",
    "print(f'Share of duplicates in dataset: {round(raw_autos.duplicated().sum() / len(raw_autos),2)}%')"
   ]
  },
  {
   "cell_type": "markdown",
   "metadata": {
    "id": "vxeW5xJje6Uo"
   },
   "source": [
    "27543 Duplicates. We will have to remove them."
   ]
  },
  {
   "cell_type": "code",
   "execution_count": 55,
   "metadata": {
    "id": "cTyHy_LBe6Uo"
   },
   "outputs": [],
   "source": [
    "raw_autos = raw_autos.drop_duplicates().reset_index(drop=True)"
   ]
  },
  {
   "cell_type": "markdown",
   "metadata": {
    "id": "hVdeoUK4e6Uo"
   },
   "source": [
    "<a id=\"abnormalValues\"></a>\n",
    "## Abnormal values"
   ]
  },
  {
   "cell_type": "markdown",
   "metadata": {
    "id": "pISGNNhEe6Uo"
   },
   "source": [
    "Let's handle the abnormal values. Earlier in the data overview stage, we highlighted that some columns have abnormal values."
   ]
  },
  {
   "cell_type": "markdown",
   "metadata": {
    "id": "hvKxeAEoe6Up"
   },
   "source": [
    "### Registration Year"
   ]
  },
  {
   "cell_type": "markdown",
   "metadata": {
    "id": "HywHWkshe6Up"
   },
   "source": [
    "We noticed a maximum value of 9999 and a minimum value of 1000."
   ]
  },
  {
   "cell_type": "code",
   "execution_count": 56,
   "metadata": {
    "colab": {
     "base_uri": "https://localhost:8080/",
     "height": 226
    },
    "id": "ZU_KXBqne6Up",
    "outputId": "54299098-1da0-436b-f5ca-485332d2f792"
   },
   "outputs": [
    {
     "data": {
      "text/html": [
       "<div>\n",
       "<style scoped>\n",
       "    .dataframe tbody tr th:only-of-type {\n",
       "        vertical-align: middle;\n",
       "    }\n",
       "\n",
       "    .dataframe tbody tr th {\n",
       "        vertical-align: top;\n",
       "    }\n",
       "\n",
       "    .dataframe thead th {\n",
       "        text-align: right;\n",
       "    }\n",
       "</style>\n",
       "<table border=\"1\" class=\"dataframe\">\n",
       "  <thead>\n",
       "    <tr style=\"text-align: right;\">\n",
       "      <th></th>\n",
       "      <th>price</th>\n",
       "      <th>vehicle_type</th>\n",
       "      <th>registration_year</th>\n",
       "      <th>gearbox</th>\n",
       "      <th>power</th>\n",
       "      <th>model</th>\n",
       "      <th>kilometer</th>\n",
       "      <th>registration_month</th>\n",
       "      <th>fuel_type</th>\n",
       "      <th>brand</th>\n",
       "      <th>not_repaired</th>\n",
       "    </tr>\n",
       "  </thead>\n",
       "  <tbody>\n",
       "    <tr>\n",
       "      <th>15962</th>\n",
       "      <td>190</td>\n",
       "      <td>unknown_type</td>\n",
       "      <td>1000</td>\n",
       "      <td>manual</td>\n",
       "      <td>0</td>\n",
       "      <td>mondeo</td>\n",
       "      <td>5000</td>\n",
       "      <td>0</td>\n",
       "      <td>unknown_fuel_type</td>\n",
       "      <td>ford</td>\n",
       "      <td>unknown_repair_status</td>\n",
       "    </tr>\n",
       "    <tr>\n",
       "      <th>52637</th>\n",
       "      <td>330</td>\n",
       "      <td>unknown_type</td>\n",
       "      <td>1000</td>\n",
       "      <td>manual</td>\n",
       "      <td>0</td>\n",
       "      <td>polo</td>\n",
       "      <td>5000</td>\n",
       "      <td>0</td>\n",
       "      <td>unknown_fuel_type</td>\n",
       "      <td>volkswagen</td>\n",
       "      <td>unknown_repair_status</td>\n",
       "    </tr>\n",
       "    <tr>\n",
       "      <th>54605</th>\n",
       "      <td>500</td>\n",
       "      <td>unknown_type</td>\n",
       "      <td>1000</td>\n",
       "      <td>manual</td>\n",
       "      <td>0</td>\n",
       "      <td>unknown_model</td>\n",
       "      <td>5000</td>\n",
       "      <td>0</td>\n",
       "      <td>unknown_fuel_type</td>\n",
       "      <td>citroen</td>\n",
       "      <td>yes</td>\n",
       "    </tr>\n",
       "    <tr>\n",
       "      <th>58886</th>\n",
       "      <td>80</td>\n",
       "      <td>unknown_type</td>\n",
       "      <td>1000</td>\n",
       "      <td>manual</td>\n",
       "      <td>0</td>\n",
       "      <td>unknown_model</td>\n",
       "      <td>5000</td>\n",
       "      <td>0</td>\n",
       "      <td>unknown_fuel_type</td>\n",
       "      <td>volkswagen</td>\n",
       "      <td>unknown_repair_status</td>\n",
       "    </tr>\n",
       "    <tr>\n",
       "      <th>64859</th>\n",
       "      <td>1300</td>\n",
       "      <td>unknown_type</td>\n",
       "      <td>1000</td>\n",
       "      <td>auto</td>\n",
       "      <td>0</td>\n",
       "      <td>unknown_model</td>\n",
       "      <td>5000</td>\n",
       "      <td>6</td>\n",
       "      <td>petrol</td>\n",
       "      <td>sonstige_autos</td>\n",
       "      <td>unknown_repair_status</td>\n",
       "    </tr>\n",
       "  </tbody>\n",
       "</table>\n",
       "</div>"
      ],
      "text/plain": [
       "       price  vehicle_type  ...           brand           not_repaired\n",
       "15962    190  unknown_type  ...            ford  unknown_repair_status\n",
       "52637    330  unknown_type  ...      volkswagen  unknown_repair_status\n",
       "54605    500  unknown_type  ...         citroen                    yes\n",
       "58886     80  unknown_type  ...      volkswagen  unknown_repair_status\n",
       "64859   1300  unknown_type  ...  sonstige_autos  unknown_repair_status\n",
       "\n",
       "[5 rows x 11 columns]"
      ]
     },
     "execution_count": 56,
     "metadata": {
      "tags": []
     },
     "output_type": "execute_result"
    }
   ],
   "source": [
    "reg_year_1000 = raw_autos.query('registration_year == 1000')\n",
    "reg_year_1000.head()"
   ]
  },
  {
   "cell_type": "code",
   "execution_count": 57,
   "metadata": {
    "colab": {
     "base_uri": "https://localhost:8080/",
     "height": 226
    },
    "id": "6tQMJL4Se6Uq",
    "outputId": "a091d593-0a9c-4297-f70e-5ddf059d68b7"
   },
   "outputs": [
    {
     "data": {
      "text/html": [
       "<div>\n",
       "<style scoped>\n",
       "    .dataframe tbody tr th:only-of-type {\n",
       "        vertical-align: middle;\n",
       "    }\n",
       "\n",
       "    .dataframe tbody tr th {\n",
       "        vertical-align: top;\n",
       "    }\n",
       "\n",
       "    .dataframe thead th {\n",
       "        text-align: right;\n",
       "    }\n",
       "</style>\n",
       "<table border=\"1\" class=\"dataframe\">\n",
       "  <thead>\n",
       "    <tr style=\"text-align: right;\">\n",
       "      <th></th>\n",
       "      <th>price</th>\n",
       "      <th>vehicle_type</th>\n",
       "      <th>registration_year</th>\n",
       "      <th>gearbox</th>\n",
       "      <th>power</th>\n",
       "      <th>model</th>\n",
       "      <th>kilometer</th>\n",
       "      <th>registration_month</th>\n",
       "      <th>fuel_type</th>\n",
       "      <th>brand</th>\n",
       "      <th>not_repaired</th>\n",
       "    </tr>\n",
       "  </thead>\n",
       "  <tbody>\n",
       "    <tr>\n",
       "      <th>15063</th>\n",
       "      <td>0</td>\n",
       "      <td>unknown_type</td>\n",
       "      <td>9999</td>\n",
       "      <td>unknown_gearbox</td>\n",
       "      <td>0</td>\n",
       "      <td>unknown_model</td>\n",
       "      <td>10000</td>\n",
       "      <td>0</td>\n",
       "      <td>unknown_fuel_type</td>\n",
       "      <td>sonstige_autos</td>\n",
       "      <td>unknown_repair_status</td>\n",
       "    </tr>\n",
       "    <tr>\n",
       "      <th>17155</th>\n",
       "      <td>700</td>\n",
       "      <td>unknown_type</td>\n",
       "      <td>9999</td>\n",
       "      <td>unknown_gearbox</td>\n",
       "      <td>0</td>\n",
       "      <td>other</td>\n",
       "      <td>10000</td>\n",
       "      <td>0</td>\n",
       "      <td>unknown_fuel_type</td>\n",
       "      <td>opel</td>\n",
       "      <td>unknown_repair_status</td>\n",
       "    </tr>\n",
       "    <tr>\n",
       "      <th>28086</th>\n",
       "      <td>799</td>\n",
       "      <td>unknown_type</td>\n",
       "      <td>9999</td>\n",
       "      <td>unknown_gearbox</td>\n",
       "      <td>0</td>\n",
       "      <td>3er</td>\n",
       "      <td>10000</td>\n",
       "      <td>4</td>\n",
       "      <td>petrol</td>\n",
       "      <td>bmw</td>\n",
       "      <td>unknown_repair_status</td>\n",
       "    </tr>\n",
       "    <tr>\n",
       "      <th>28648</th>\n",
       "      <td>18000</td>\n",
       "      <td>unknown_type</td>\n",
       "      <td>9999</td>\n",
       "      <td>unknown_gearbox</td>\n",
       "      <td>0</td>\n",
       "      <td>a_klasse</td>\n",
       "      <td>10000</td>\n",
       "      <td>0</td>\n",
       "      <td>petrol</td>\n",
       "      <td>mercedes_benz</td>\n",
       "      <td>unknown_repair_status</td>\n",
       "    </tr>\n",
       "    <tr>\n",
       "      <th>29101</th>\n",
       "      <td>7999</td>\n",
       "      <td>unknown_type</td>\n",
       "      <td>9999</td>\n",
       "      <td>unknown_gearbox</td>\n",
       "      <td>0</td>\n",
       "      <td>kaefer</td>\n",
       "      <td>10000</td>\n",
       "      <td>0</td>\n",
       "      <td>unknown_fuel_type</td>\n",
       "      <td>volkswagen</td>\n",
       "      <td>unknown_repair_status</td>\n",
       "    </tr>\n",
       "  </tbody>\n",
       "</table>\n",
       "</div>"
      ],
      "text/plain": [
       "       price  vehicle_type  ...           brand           not_repaired\n",
       "15063      0  unknown_type  ...  sonstige_autos  unknown_repair_status\n",
       "17155    700  unknown_type  ...            opel  unknown_repair_status\n",
       "28086    799  unknown_type  ...             bmw  unknown_repair_status\n",
       "28648  18000  unknown_type  ...   mercedes_benz  unknown_repair_status\n",
       "29101   7999  unknown_type  ...      volkswagen  unknown_repair_status\n",
       "\n",
       "[5 rows x 11 columns]"
      ]
     },
     "execution_count": 57,
     "metadata": {
      "tags": []
     },
     "output_type": "execute_result"
    }
   ],
   "source": [
    "reg_year_9999 = raw_autos.query('registration_year == 9999')\n",
    "reg_year_9999.head()"
   ]
  },
  {
   "cell_type": "code",
   "execution_count": 58,
   "metadata": {
    "colab": {
     "base_uri": "https://localhost:8080/"
    },
    "id": "vuQPLzKxe6Uq",
    "outputId": "c870cd6e-8fbb-4545-a402-572be2ba4af0"
   },
   "outputs": [
    {
     "name": "stdout",
     "output_type": "stream",
     "text": [
      "Number of cars with 1000 year registration: 16\n",
      "Number of cars with 9999 registration: 9\n"
     ]
    }
   ],
   "source": [
    "print(f'Number of cars with 1000 year registration: {len(reg_year_1000)}')\n",
    "print(f'Number of cars with 9999 registration: {len(reg_year_9999)}')"
   ]
  },
  {
   "cell_type": "markdown",
   "metadata": {
    "id": "CfkG0KyNe6Uq"
   },
   "source": [
    "Consequently, let's filter out the cars with registration from 1901 to 2016."
   ]
  },
  {
   "cell_type": "code",
   "execution_count": 59,
   "metadata": {
    "id": "CzqSRtvte6Ur"
   },
   "outputs": [],
   "source": [
    "raw_autos_upd = raw_autos.query('registration_year > 1900 and registration_year < 2017').reset_index(drop=True)"
   ]
  },
  {
   "cell_type": "markdown",
   "metadata": {
    "id": "sa6B1Vm9e6Ur"
   },
   "source": [
    "### Power"
   ]
  },
  {
   "cell_type": "code",
   "execution_count": 60,
   "metadata": {
    "colab": {
     "base_uri": "https://localhost:8080/",
     "height": 345
    },
    "id": "NEWz_hmMe6Ur",
    "outputId": "d3482a41-c7a8-42df-88ab-69c070c85f57"
   },
   "outputs": [
    {
     "data": {
      "image/png": "[encoded data removed]",
      "text/plain": [
       "<Figure size 1008x360 with 1 Axes>"
      ]
     },
     "metadata": {
      "image/png": {
       "height": 328,
       "width": 865
      },
      "needs_background": "light",
      "tags": []
     },
     "output_type": "display_data"
    }
   ],
   "source": [
    "drawBoxPlot(raw_autos_upd, 'power', \"Распределение мощности автомобилей\", \"Мощность л.с\", \"Количесто автомобилей\",True)"
   ]
  },
  {
   "cell_type": "markdown",
   "metadata": {
    "id": "kgQqeSGje6Ur"
   },
   "source": [
    "Let's look at the number of rows where power < 10 and how many machines have power > 700."
   ]
  },
  {
   "cell_type": "code",
   "execution_count": 61,
   "metadata": {
    "colab": {
     "base_uri": "https://localhost:8080/"
    },
    "id": "7vPyKjNSe6Us",
    "outputId": "69c8191b-672b-4b80-9104-f122da6ff05b"
   },
   "outputs": [
    {
     "name": "stdout",
     "output_type": "stream",
     "text": [
      "Number of rows with power < 10: 14096\n",
      "Number of rows with power > 700: 115\n"
     ]
    }
   ],
   "source": [
    "num_of_cars_power_10 = len(raw_autos_upd.query('power < 10'))\n",
    "num_of_cars_power_greater_500= len(raw_autos_upd.query('power > 700'))\n",
    "print(f'Number of rows with power < 10: {num_of_cars_power_10}')\n",
    "print(f'Number of rows with power > 700: {num_of_cars_power_greater_500}')"
   ]
  },
  {
   "cell_type": "markdown",
   "metadata": {
    "id": "JPvCGM3ge6Us"
   },
   "source": [
    "Let's look at the lines where power > 700. Maybe these are some supercars? "
   ]
  },
  {
   "cell_type": "code",
   "execution_count": 62,
   "metadata": {
    "colab": {
     "base_uri": "https://localhost:8080/",
     "height": 383
    },
    "id": "eoAI8FSKe6Us",
    "outputId": "bfcc1021-c7c8-4ef9-d1b3-9fac63c557ec"
   },
   "outputs": [
    {
     "data": {
      "text/html": [
       "<div>\n",
       "<style scoped>\n",
       "    .dataframe tbody tr th:only-of-type {\n",
       "        vertical-align: middle;\n",
       "    }\n",
       "\n",
       "    .dataframe tbody tr th {\n",
       "        vertical-align: top;\n",
       "    }\n",
       "\n",
       "    .dataframe thead th {\n",
       "        text-align: right;\n",
       "    }\n",
       "</style>\n",
       "<table border=\"1\" class=\"dataframe\">\n",
       "  <thead>\n",
       "    <tr style=\"text-align: right;\">\n",
       "      <th></th>\n",
       "      <th>price</th>\n",
       "      <th>vehicle_type</th>\n",
       "      <th>registration_year</th>\n",
       "      <th>gearbox</th>\n",
       "      <th>power</th>\n",
       "      <th>model</th>\n",
       "      <th>kilometer</th>\n",
       "      <th>registration_month</th>\n",
       "      <th>fuel_type</th>\n",
       "      <th>brand</th>\n",
       "      <th>not_repaired</th>\n",
       "    </tr>\n",
       "  </thead>\n",
       "  <tbody>\n",
       "    <tr>\n",
       "      <th>78816</th>\n",
       "      <td>18550</td>\n",
       "      <td>sedan</td>\n",
       "      <td>2013</td>\n",
       "      <td>manual</td>\n",
       "      <td>1288</td>\n",
       "      <td>c_klasse</td>\n",
       "      <td>90000</td>\n",
       "      <td>11</td>\n",
       "      <td>gasoline</td>\n",
       "      <td>mercedes_benz</td>\n",
       "      <td>no</td>\n",
       "    </tr>\n",
       "    <tr>\n",
       "      <th>42513</th>\n",
       "      <td>15800</td>\n",
       "      <td>convertible</td>\n",
       "      <td>2014</td>\n",
       "      <td>auto</td>\n",
       "      <td>10218</td>\n",
       "      <td>fortwo</td>\n",
       "      <td>30000</td>\n",
       "      <td>3</td>\n",
       "      <td>petrol</td>\n",
       "      <td>smart</td>\n",
       "      <td>unknown_repair_status</td>\n",
       "    </tr>\n",
       "    <tr>\n",
       "      <th>44277</th>\n",
       "      <td>15000</td>\n",
       "      <td>coupe</td>\n",
       "      <td>2013</td>\n",
       "      <td>auto</td>\n",
       "      <td>751</td>\n",
       "      <td>unknown_model</td>\n",
       "      <td>10000</td>\n",
       "      <td>1</td>\n",
       "      <td>petrol</td>\n",
       "      <td>sonstige_autos</td>\n",
       "      <td>no</td>\n",
       "    </tr>\n",
       "    <tr>\n",
       "      <th>97255</th>\n",
       "      <td>11399</td>\n",
       "      <td>unknown_type</td>\n",
       "      <td>1995</td>\n",
       "      <td>manual</td>\n",
       "      <td>1995</td>\n",
       "      <td>unknown_model</td>\n",
       "      <td>150000</td>\n",
       "      <td>12</td>\n",
       "      <td>gasoline</td>\n",
       "      <td>bmw</td>\n",
       "      <td>unknown_repair_status</td>\n",
       "    </tr>\n",
       "    <tr>\n",
       "      <th>113920</th>\n",
       "      <td>11000</td>\n",
       "      <td>coupe</td>\n",
       "      <td>2002</td>\n",
       "      <td>manual</td>\n",
       "      <td>800</td>\n",
       "      <td>unknown_model</td>\n",
       "      <td>150000</td>\n",
       "      <td>11</td>\n",
       "      <td>unknown_fuel_type</td>\n",
       "      <td>opel</td>\n",
       "      <td>unknown_repair_status</td>\n",
       "    </tr>\n",
       "    <tr>\n",
       "      <th>23923</th>\n",
       "      <td>10900</td>\n",
       "      <td>bus</td>\n",
       "      <td>2009</td>\n",
       "      <td>manual</td>\n",
       "      <td>10520</td>\n",
       "      <td>caddy</td>\n",
       "      <td>150000</td>\n",
       "      <td>6</td>\n",
       "      <td>gasoline</td>\n",
       "      <td>volkswagen</td>\n",
       "      <td>no</td>\n",
       "    </tr>\n",
       "    <tr>\n",
       "      <th>124588</th>\n",
       "      <td>10500</td>\n",
       "      <td>wagon</td>\n",
       "      <td>2007</td>\n",
       "      <td>auto</td>\n",
       "      <td>2331</td>\n",
       "      <td>a6</td>\n",
       "      <td>150000</td>\n",
       "      <td>10</td>\n",
       "      <td>gasoline</td>\n",
       "      <td>audi</td>\n",
       "      <td>no</td>\n",
       "    </tr>\n",
       "    <tr>\n",
       "      <th>60890</th>\n",
       "      <td>10000</td>\n",
       "      <td>wagon</td>\n",
       "      <td>2008</td>\n",
       "      <td>manual</td>\n",
       "      <td>2005</td>\n",
       "      <td>sprinter</td>\n",
       "      <td>150000</td>\n",
       "      <td>1</td>\n",
       "      <td>gasoline</td>\n",
       "      <td>mercedes_benz</td>\n",
       "      <td>no</td>\n",
       "    </tr>\n",
       "    <tr>\n",
       "      <th>105960</th>\n",
       "      <td>9999</td>\n",
       "      <td>sedan</td>\n",
       "      <td>2006</td>\n",
       "      <td>manual</td>\n",
       "      <td>19211</td>\n",
       "      <td>1er</td>\n",
       "      <td>125000</td>\n",
       "      <td>0</td>\n",
       "      <td>gasoline</td>\n",
       "      <td>bmw</td>\n",
       "      <td>unknown_repair_status</td>\n",
       "    </tr>\n",
       "    <tr>\n",
       "      <th>124679</th>\n",
       "      <td>9999</td>\n",
       "      <td>coupe</td>\n",
       "      <td>1990</td>\n",
       "      <td>auto</td>\n",
       "      <td>2789</td>\n",
       "      <td>s_klasse</td>\n",
       "      <td>150000</td>\n",
       "      <td>6</td>\n",
       "      <td>petrol</td>\n",
       "      <td>mercedes_benz</td>\n",
       "      <td>unknown_repair_status</td>\n",
       "    </tr>\n",
       "  </tbody>\n",
       "</table>\n",
       "</div>"
      ],
      "text/plain": [
       "        price  vehicle_type  ...           brand           not_repaired\n",
       "78816   18550         sedan  ...   mercedes_benz                     no\n",
       "42513   15800   convertible  ...           smart  unknown_repair_status\n",
       "44277   15000         coupe  ...  sonstige_autos                     no\n",
       "97255   11399  unknown_type  ...             bmw  unknown_repair_status\n",
       "113920  11000         coupe  ...            opel  unknown_repair_status\n",
       "23923   10900           bus  ...      volkswagen                     no\n",
       "124588  10500         wagon  ...            audi                     no\n",
       "60890   10000         wagon  ...   mercedes_benz                     no\n",
       "105960   9999         sedan  ...             bmw  unknown_repair_status\n",
       "124679   9999         coupe  ...   mercedes_benz  unknown_repair_status\n",
       "\n",
       "[10 rows x 11 columns]"
      ]
     },
     "execution_count": 62,
     "metadata": {
      "tags": []
     },
     "output_type": "execute_result"
    }
   ],
   "source": [
    "raw_autos_upd.query('power > 700').sort_values(by='price', ascending=False).head(10)"
   ]
  },
  {
   "cell_type": "markdown",
   "metadata": {
    "id": "PLuHOwYCe6Us"
   },
   "source": [
    "There were no supercars, so we take the interval 10 < power < 700"
   ]
  },
  {
   "cell_type": "code",
   "execution_count": 63,
   "metadata": {
    "id": "XoPTypXJe6Uu"
   },
   "outputs": [],
   "source": [
    "raw_autos_upd = raw_autos.query('power > 10 and power < 700')"
   ]
  },
  {
   "cell_type": "code",
   "execution_count": 64,
   "metadata": {
    "colab": {
     "base_uri": "https://localhost:8080/",
     "height": 345
    },
    "id": "N7_Xbh1Qe6Uu",
    "outputId": "cda86151-bf34-4e93-ebb6-aa7276341aaf"
   },
   "outputs": [
    {
     "data": {
      "image/png": "[encoded data removed]",
      "text/plain": [
       "<Figure size 1008x360 with 1 Axes>"
      ]
     },
     "metadata": {
      "image/png": {
       "height": 328,
       "width": 847
      },
      "needs_background": "light",
      "tags": []
     },
     "output_type": "display_data"
    }
   ],
   "source": [
    "drawBoxPlot(raw_autos_upd, 'power', \"Distribution of power cars UPDATED\", \"Power hp\", \"Number of cars\")"
   ]
  },
  {
   "cell_type": "markdown",
   "metadata": {
    "id": "VQewp82ye6Uu"
   },
   "source": [
    "### Kilometer"
   ]
  },
  {
   "cell_type": "code",
   "execution_count": 65,
   "metadata": {
    "colab": {
     "base_uri": "https://localhost:8080/"
    },
    "id": "uUe0vj7ge6Uu",
    "outputId": "b4fc1cd2-281f-43f3-a928-f9ae2c5eba26"
   },
   "outputs": [
    {
     "data": {
      "text/plain": [
       "count   121365.000\n",
       "mean    128510.897\n",
       "std      36736.908\n",
       "min       5000.000\n",
       "25%     125000.000\n",
       "50%     150000.000\n",
       "75%     150000.000\n",
       "max     150000.000\n",
       "Name: kilometer, dtype: float64"
      ]
     },
     "execution_count": 65,
     "metadata": {
      "tags": []
     },
     "output_type": "execute_result"
    }
   ],
   "source": [
    "raw_autos_upd.describe()['kilometer']"
   ]
  },
  {
   "cell_type": "markdown",
   "metadata": {
    "id": "nEMJcg2Xe6Uu"
   },
   "source": [
    "In average - 128 thousands of kilometers. Notice that 50% and 70% percentile have the maximum value - 150 thousands of kilometers. Do we have an error in recording data? Maybe in the form, there is a fixed maximum value for the input - 150 thousands of kilometers? "
   ]
  },
  {
   "cell_type": "markdown",
   "metadata": {
    "id": "VidhKZgme6Uu"
   },
   "source": [
    "### Registration Month"
   ]
  },
  {
   "cell_type": "code",
   "execution_count": 66,
   "metadata": {
    "colab": {
     "base_uri": "https://localhost:8080/"
    },
    "id": "irwfLNMXe6Uv",
    "outputId": "4b66cbeb-1694-4f0e-f9b0-a3e2ab7a07c4"
   },
   "outputs": [
    {
     "data": {
      "text/plain": [
       "count   121365.000\n",
       "mean         5.926\n",
       "std          3.614\n",
       "min          0.000\n",
       "25%          3.000\n",
       "50%          6.000\n",
       "75%          9.000\n",
       "max         12.000\n",
       "Name: registration_month, dtype: float64"
      ]
     },
     "execution_count": 66,
     "metadata": {
      "tags": []
     },
     "output_type": "execute_result"
    }
   ],
   "source": [
    "raw_autos_upd.describe()['registration_month']"
   ]
  },
  {
   "cell_type": "markdown",
   "metadata": {
    "id": "pRi0Yk1Te6Uw"
   },
   "source": [
    "Note the minimum and maximum values, 0 and 12, respectively. A discrepancy in the number of months."
   ]
  },
  {
   "cell_type": "markdown",
   "metadata": {
    "id": "NCqtapRNe6Uw"
   },
   "source": [
    "I think we do not need this column in building the model. Thus, we are not going to preprocess this column"
   ]
  },
  {
   "cell_type": "markdown",
   "metadata": {
    "id": "JjDVjP8he6Uw"
   },
   "source": [
    "### Price"
   ]
  },
  {
   "cell_type": "code",
   "execution_count": 67,
   "metadata": {
    "colab": {
     "base_uri": "https://localhost:8080/"
    },
    "id": "8u5a8q85e6Ux",
    "outputId": "7e489f89-93ad-402f-aa34-f0bc47db0082"
   },
   "outputs": [
    {
     "data": {
      "text/plain": [
       "count   121365.000\n",
       "mean      4706.541\n",
       "std       4604.589\n",
       "min          0.000\n",
       "25%       1250.000\n",
       "50%       2999.000\n",
       "75%       6850.000\n",
       "max      20000.000\n",
       "Name: price, dtype: float64"
      ]
     },
     "execution_count": 67,
     "metadata": {
      "tags": []
     },
     "output_type": "execute_result"
    }
   ],
   "source": [
    "raw_autos_upd.describe()['price']"
   ]
  },
  {
   "cell_type": "markdown",
   "metadata": {
    "id": "m5z3fxh3e6Ux"
   },
   "source": [
    "We have 0 values."
   ]
  },
  {
   "cell_type": "code",
   "execution_count": 68,
   "metadata": {
    "colab": {
     "base_uri": "https://localhost:8080/",
     "height": 226
    },
    "id": "NibKwW9ce6Ux",
    "outputId": "efab2de9-dd2a-4bc0-f902-af99a59e31a8"
   },
   "outputs": [
    {
     "data": {
      "text/html": [
       "<div>\n",
       "<style scoped>\n",
       "    .dataframe tbody tr th:only-of-type {\n",
       "        vertical-align: middle;\n",
       "    }\n",
       "\n",
       "    .dataframe tbody tr th {\n",
       "        vertical-align: top;\n",
       "    }\n",
       "\n",
       "    .dataframe thead th {\n",
       "        text-align: right;\n",
       "    }\n",
       "</style>\n",
       "<table border=\"1\" class=\"dataframe\">\n",
       "  <thead>\n",
       "    <tr style=\"text-align: right;\">\n",
       "      <th></th>\n",
       "      <th>price</th>\n",
       "      <th>vehicle_type</th>\n",
       "      <th>registration_year</th>\n",
       "      <th>gearbox</th>\n",
       "      <th>power</th>\n",
       "      <th>model</th>\n",
       "      <th>kilometer</th>\n",
       "      <th>registration_month</th>\n",
       "      <th>fuel_type</th>\n",
       "      <th>brand</th>\n",
       "      <th>not_repaired</th>\n",
       "    </tr>\n",
       "  </thead>\n",
       "  <tbody>\n",
       "    <tr>\n",
       "      <th>7</th>\n",
       "      <td>0</td>\n",
       "      <td>sedan</td>\n",
       "      <td>1980</td>\n",
       "      <td>manual</td>\n",
       "      <td>50</td>\n",
       "      <td>other</td>\n",
       "      <td>40000</td>\n",
       "      <td>7</td>\n",
       "      <td>petrol</td>\n",
       "      <td>volkswagen</td>\n",
       "      <td>no</td>\n",
       "    </tr>\n",
       "    <tr>\n",
       "      <th>59</th>\n",
       "      <td>1</td>\n",
       "      <td>suv</td>\n",
       "      <td>1994</td>\n",
       "      <td>manual</td>\n",
       "      <td>286</td>\n",
       "      <td>unknown_model</td>\n",
       "      <td>150000</td>\n",
       "      <td>11</td>\n",
       "      <td>unknown_fuel_type</td>\n",
       "      <td>sonstige_autos</td>\n",
       "      <td>unknown_repair_status</td>\n",
       "    </tr>\n",
       "    <tr>\n",
       "      <th>89</th>\n",
       "      <td>1</td>\n",
       "      <td>sedan</td>\n",
       "      <td>1995</td>\n",
       "      <td>manual</td>\n",
       "      <td>113</td>\n",
       "      <td>e_klasse</td>\n",
       "      <td>150000</td>\n",
       "      <td>4</td>\n",
       "      <td>gasoline</td>\n",
       "      <td>mercedes_benz</td>\n",
       "      <td>no</td>\n",
       "    </tr>\n",
       "    <tr>\n",
       "      <th>152</th>\n",
       "      <td>0</td>\n",
       "      <td>bus</td>\n",
       "      <td>2004</td>\n",
       "      <td>manual</td>\n",
       "      <td>101</td>\n",
       "      <td>meriva</td>\n",
       "      <td>150000</td>\n",
       "      <td>10</td>\n",
       "      <td>lpg</td>\n",
       "      <td>opel</td>\n",
       "      <td>yes</td>\n",
       "    </tr>\n",
       "    <tr>\n",
       "      <th>231</th>\n",
       "      <td>0</td>\n",
       "      <td>wagon</td>\n",
       "      <td>2001</td>\n",
       "      <td>manual</td>\n",
       "      <td>115</td>\n",
       "      <td>mondeo</td>\n",
       "      <td>150000</td>\n",
       "      <td>0</td>\n",
       "      <td>unknown_fuel_type</td>\n",
       "      <td>ford</td>\n",
       "      <td>unknown_repair_status</td>\n",
       "    </tr>\n",
       "  </tbody>\n",
       "</table>\n",
       "</div>"
      ],
      "text/plain": [
       "     price vehicle_type  ...           brand           not_repaired\n",
       "7        0        sedan  ...      volkswagen                     no\n",
       "59       1          suv  ...  sonstige_autos  unknown_repair_status\n",
       "89       1        sedan  ...   mercedes_benz                     no\n",
       "152      0          bus  ...            opel                    yes\n",
       "231      0        wagon  ...            ford  unknown_repair_status\n",
       "\n",
       "[5 rows x 11 columns]"
      ]
     },
     "execution_count": 68,
     "metadata": {
      "tags": []
     },
     "output_type": "execute_result"
    }
   ],
   "source": [
    "raw_autos_upd.query('price < 2').head()"
   ]
  },
  {
   "cell_type": "code",
   "execution_count": 69,
   "metadata": {
    "colab": {
     "base_uri": "https://localhost:8080/"
    },
    "id": "4W1Wk2iRe6Ux",
    "outputId": "5e9933d1-6bc4-4a42-b4f5-da1fd97afdea"
   },
   "outputs": [
    {
     "name": "stdout",
     "output_type": "stream",
     "text": [
      "Number of cars with price 0: 2623\n"
     ]
    }
   ],
   "source": [
    "print(f'Number of cars with price 0: {len(raw_autos_upd.query(\"price == 0\"))}')"
   ]
  },
  {
   "cell_type": "markdown",
   "metadata": {
    "id": "4KK0t58ze6Uy"
   },
   "source": [
    "Filter cars which price is equal to 0 euro"
   ]
  },
  {
   "cell_type": "code",
   "execution_count": 70,
   "metadata": {
    "id": "cGz_spmue6Uy"
   },
   "outputs": [],
   "source": [
    "raw_autos_upd = raw_autos_upd.query('price > 0').reset_index(drop=True)"
   ]
  },
  {
   "cell_type": "code",
   "execution_count": 71,
   "metadata": {
    "colab": {
     "base_uri": "https://localhost:8080/"
    },
    "id": "4Jl2gKeYe6Uy",
    "outputId": "e9798515-63af-48c0-85f4-31f2f479081c"
   },
   "outputs": [
    {
     "name": "stdout",
     "output_type": "stream",
     "text": [
      "<class 'pandas.core.frame.DataFrame'>\n",
      "RangeIndex: 118742 entries, 0 to 118741\n",
      "Data columns (total 11 columns):\n",
      " #   Column              Non-Null Count   Dtype \n",
      "---  ------              --------------   ----- \n",
      " 0   price               118742 non-null  int64 \n",
      " 1   vehicle_type        118742 non-null  object\n",
      " 2   registration_year   118742 non-null  int64 \n",
      " 3   gearbox             118742 non-null  object\n",
      " 4   power               118742 non-null  int64 \n",
      " 5   model               118742 non-null  object\n",
      " 6   kilometer           118742 non-null  int64 \n",
      " 7   registration_month  118742 non-null  int64 \n",
      " 8   fuel_type           118742 non-null  object\n",
      " 9   brand               118742 non-null  object\n",
      " 10  not_repaired        118742 non-null  object\n",
      "dtypes: int64(5), object(6)\n",
      "memory usage: 10.0+ MB\n"
     ]
    }
   ],
   "source": [
    "raw_autos_upd.info()"
   ]
  },
  {
   "cell_type": "markdown",
   "metadata": {
    "id": "_EeeKecMe6Uz"
   },
   "source": [
    "Write a function which:\n",
    "1. Check for missing data\n",
    "2. Check for duplicate values\n",
    "4. Check appropriate types: float64, int64, object, datetime64"
   ]
  },
  {
   "cell_type": "code",
   "execution_count": 72,
   "metadata": {
    "id": "J2yJ3ecGe6Uz"
   },
   "outputs": [],
   "source": [
    "def get_preprocessed_data(raw_data):\n",
    "    \"\"\"\n",
    "    Function checks dataframe. Returns preprocessed data for model training \n",
    "    raw_data - data to check\n",
    "    \"\"\"\n",
    "    # check data\n",
    "    assert raw_data.isna().sum().sum() == 0, 'There should not be missing data!'\n",
    "    assert raw_data.select_dtypes(exclude=[np.float64, np.int64, np.object, np.datetime64]).size == 0, 'Type of data needs to be one of the following: float64, int64, object, datetime64!'\n",
    "    assert raw_data.duplicated().sum().sum() == 0, 'There should not be duplicate values'\n",
    "    print('Data is valid!')\n",
    "    # creating a copy of a data\n",
    "    preprocessed_data = raw_data.copy()\n",
    "    \n",
    "    return preprocessed_data"
   ]
  },
  {
   "cell_type": "code",
   "execution_count": 73,
   "metadata": {
    "colab": {
     "base_uri": "https://localhost:8080/"
    },
    "id": "3QPqpz7se6Uz",
    "outputId": "d9f09433-b735-482c-b5f9-b2fb26592674"
   },
   "outputs": [
    {
     "name": "stdout",
     "output_type": "stream",
     "text": [
      "Data is valid!\n"
     ]
    }
   ],
   "source": [
    "autos = get_preprocessed_data(raw_autos_upd)"
   ]
  },
  {
   "cell_type": "markdown",
   "metadata": {
    "id": "8l1QdSqEe6U0"
   },
   "source": [
    "<a id=\"encoding\"></a>\n",
    "## Encoding "
   ]
  },
  {
   "cell_type": "markdown",
   "metadata": {
    "id": "5_6ShTfne6U0"
   },
   "source": [
    "Columns *vehicle_type*, *model*, *fuel_type*, *brand*, *not_repaired* - caterogical features. We need to transform them into numerical features. Let's use one of the encoding techniques [Ordinal Encoding](https://machinelearningmastery.com/one-hot-encoding-for-categorical-data/), since we have many categorical features."
   ]
  },
  {
   "cell_type": "code",
   "execution_count": 74,
   "metadata": {
    "id": "OSpocEQfe6U0"
   },
   "outputs": [],
   "source": [
    "# create an object \n",
    "encoder = OrdinalEncoder()"
   ]
  },
  {
   "cell_type": "markdown",
   "metadata": {
    "id": "CvpkPfdMe6U0"
   },
   "source": [
    "We will use function [fit_transform()](https://scikit-learn.org/stable/modules/generated/sklearn.preprocessing.OrdinalEncoder.html#sklearn.preprocessing.OrdinalEncoder.fit_transform), which will take the list of categorical features and transform them. We will create a new dataframe with transformed features"
   ]
  },
  {
   "cell_type": "code",
   "execution_count": 75,
   "metadata": {
    "colab": {
     "base_uri": "https://localhost:8080/",
     "height": 206
    },
    "id": "HvLbVFTqe6U0",
    "outputId": "da053e06-4ac3-40b0-fdb7-6696bf4a9bf1"
   },
   "outputs": [
    {
     "data": {
      "text/html": [
       "<div>\n",
       "<style scoped>\n",
       "    .dataframe tbody tr th:only-of-type {\n",
       "        vertical-align: middle;\n",
       "    }\n",
       "\n",
       "    .dataframe tbody tr th {\n",
       "        vertical-align: top;\n",
       "    }\n",
       "\n",
       "    .dataframe thead th {\n",
       "        text-align: right;\n",
       "    }\n",
       "</style>\n",
       "<table border=\"1\" class=\"dataframe\">\n",
       "  <thead>\n",
       "    <tr style=\"text-align: right;\">\n",
       "      <th></th>\n",
       "      <th>price</th>\n",
       "      <th>vehicle_type</th>\n",
       "      <th>registration_year</th>\n",
       "      <th>gearbox</th>\n",
       "      <th>power</th>\n",
       "      <th>model</th>\n",
       "      <th>kilometer</th>\n",
       "      <th>registration_month</th>\n",
       "      <th>fuel_type</th>\n",
       "      <th>brand</th>\n",
       "      <th>not_repaired</th>\n",
       "    </tr>\n",
       "  </thead>\n",
       "  <tbody>\n",
       "    <tr>\n",
       "      <th>0</th>\n",
       "      <td>18300</td>\n",
       "      <td>2.000</td>\n",
       "      <td>2011</td>\n",
       "      <td>1.000</td>\n",
       "      <td>190</td>\n",
       "      <td>227.000</td>\n",
       "      <td>125000</td>\n",
       "      <td>5</td>\n",
       "      <td>2.000</td>\n",
       "      <td>1.000</td>\n",
       "      <td>2.000</td>\n",
       "    </tr>\n",
       "    <tr>\n",
       "      <th>1</th>\n",
       "      <td>9800</td>\n",
       "      <td>6.000</td>\n",
       "      <td>2004</td>\n",
       "      <td>0.000</td>\n",
       "      <td>163</td>\n",
       "      <td>117.000</td>\n",
       "      <td>125000</td>\n",
       "      <td>8</td>\n",
       "      <td>2.000</td>\n",
       "      <td>14.000</td>\n",
       "      <td>1.000</td>\n",
       "    </tr>\n",
       "    <tr>\n",
       "      <th>2</th>\n",
       "      <td>1500</td>\n",
       "      <td>5.000</td>\n",
       "      <td>2001</td>\n",
       "      <td>1.000</td>\n",
       "      <td>75</td>\n",
       "      <td>116.000</td>\n",
       "      <td>150000</td>\n",
       "      <td>6</td>\n",
       "      <td>6.000</td>\n",
       "      <td>38.000</td>\n",
       "      <td>0.000</td>\n",
       "    </tr>\n",
       "    <tr>\n",
       "      <th>3</th>\n",
       "      <td>3600</td>\n",
       "      <td>5.000</td>\n",
       "      <td>2008</td>\n",
       "      <td>1.000</td>\n",
       "      <td>69</td>\n",
       "      <td>101.000</td>\n",
       "      <td>90000</td>\n",
       "      <td>7</td>\n",
       "      <td>2.000</td>\n",
       "      <td>31.000</td>\n",
       "      <td>0.000</td>\n",
       "    </tr>\n",
       "    <tr>\n",
       "      <th>4</th>\n",
       "      <td>650</td>\n",
       "      <td>4.000</td>\n",
       "      <td>1995</td>\n",
       "      <td>1.000</td>\n",
       "      <td>102</td>\n",
       "      <td>11.000</td>\n",
       "      <td>150000</td>\n",
       "      <td>10</td>\n",
       "      <td>6.000</td>\n",
       "      <td>2.000</td>\n",
       "      <td>2.000</td>\n",
       "    </tr>\n",
       "  </tbody>\n",
       "</table>\n",
       "</div>"
      ],
      "text/plain": [
       "   price  vehicle_type  registration_year  ...  fuel_type  brand  not_repaired\n",
       "0  18300         2.000               2011  ...      2.000  1.000         2.000\n",
       "1   9800         6.000               2004  ...      2.000 14.000         1.000\n",
       "2   1500         5.000               2001  ...      6.000 38.000         0.000\n",
       "3   3600         5.000               2008  ...      2.000 31.000         0.000\n",
       "4    650         4.000               1995  ...      6.000  2.000         2.000\n",
       "\n",
       "[5 rows x 11 columns]"
      ]
     },
     "execution_count": 75,
     "metadata": {
      "tags": []
     },
     "output_type": "execute_result"
    }
   ],
   "source": [
    "autos_ordinal = autos.copy()\n",
    "autos_ordinal.loc[:,['vehicle_type', 'model', 'fuel_type', 'brand', 'not_repaired','gearbox']] = encoder.fit_transform(autos_ordinal.loc[:,['vehicle_type', 'model', 'fuel_type', 'brand', 'not_repaired','gearbox']])\n",
    "autos_ordinal.head()"
   ]
  },
  {
   "cell_type": "markdown",
   "metadata": {
    "id": "hf2f3G5oe6U1"
   },
   "source": [
    "<a id=\"dataSeparation\"></a>\n",
    "## Data separation"
   ]
  },
  {
   "cell_type": "markdown",
   "metadata": {
    "id": "-yjkMbfae6U1"
   },
   "source": [
    "We need to check the accuracy of the model. Thus, we have to split the data for cross-validation. We will split the original data into 2 samples: training and test in ratio (*75/25*). Validation sample will be generated in the cross-validation."
   ]
  },
  {
   "cell_type": "markdown",
   "metadata": {
    "id": "S5g7inEse6U1"
   },
   "source": [
    "First, let's write a function for target and features separation."
   ]
  },
  {
   "cell_type": "code",
   "execution_count": 76,
   "metadata": {
    "id": "thZXeMOve6U1"
   },
   "outputs": [],
   "source": [
    "def target_features_split(data,column):\n",
    "    \"\"\"\n",
    "    Function separates target and features. It returns 1) target, 2) features\n",
    "    data - data that needs to be splitted \n",
    "    column - target \n",
    "    \"\"\"\n",
    "    return data[column], data.drop(column,axis=1)"
   ]
  },
  {
   "cell_type": "markdown",
   "metadata": {
    "id": "iHJp2-Xbe6U2"
   },
   "source": [
    "Fix ***random_state***"
   ]
  },
  {
   "cell_type": "code",
   "execution_count": 77,
   "metadata": {
    "id": "Jkkv-rFwe6U3"
   },
   "outputs": [],
   "source": [
    "random_state_value = 42"
   ]
  },
  {
   "cell_type": "code",
   "execution_count": 78,
   "metadata": {
    "id": "J-hwOr96e6U3"
   },
   "outputs": [],
   "source": [
    "target, features = target_features_split(autos_ordinal, 'price')"
   ]
  },
  {
   "cell_type": "markdown",
   "metadata": {
    "id": "CAs7oDR-e6U3"
   },
   "source": [
    "In sklearn, there is a functon for sample splitting *train_test_split()*. We will write a functon for sample splitting and displaying the sizes of resulted samples, to avoid errors."
   ]
  },
  {
   "cell_type": "code",
   "execution_count": 79,
   "metadata": {
    "id": "_dEyaxo0e6U3"
   },
   "outputs": [],
   "source": [
    "def sampleSize(original, train, test):\n",
    "    \"\"\"\n",
    "    Function for displaying the sizes of resulted samples\n",
    "    original - original data\n",
    "    train - training sample\n",
    "    test - test sample\n",
    "    \"\"\"\n",
    "    print(f'Size of the original data: {len(original)}')\n",
    "    print(f'Size of the training sample:  {len(train)}')\n",
    "    print(f'Size of the test sample: {len(test)}')"
   ]
  },
  {
   "cell_type": "code",
   "execution_count": 80,
   "metadata": {
    "id": "ASpqioLOe6U4"
   },
   "outputs": [],
   "source": [
    "def cross_val_splitting_data(target,features):\n",
    "    \"\"\"\n",
    "    Function for splitting data into training and test samples. It returns targets, and features of training and test samples\n",
    "    target\n",
    "    features\n",
    "    \"\"\"\n",
    "    features_train, features_test, target_train, target_test = train_test_split(features, target,random_state=random_state_value,test_size=0.25)\n",
    "    # checks sizes of samples\n",
    "    sampleSize(features,features_train,features_test)\n",
    "    return features_train,target_train, features_test, target_test"
   ]
  },
  {
   "cell_type": "code",
   "execution_count": 81,
   "metadata": {
    "colab": {
     "base_uri": "https://localhost:8080/"
    },
    "id": "PD5sT-Cve6U4",
    "outputId": "1a1fafd2-0ce6-4f6b-cda6-98c9d6645090"
   },
   "outputs": [
    {
     "name": "stdout",
     "output_type": "stream",
     "text": [
      "Size of the original data: 118742\n",
      "Size of the training sample:  89056\n",
      "Size of the test sample: 29686\n"
     ]
    }
   ],
   "source": [
    "features_train_cross, target_train_cross, features_test_cross, target_test_cross = cross_val_splitting_data(target, features)"
   ]
  },
  {
   "cell_type": "markdown",
   "metadata": {
    "id": "BGmAKXq5e6U5"
   },
   "source": [
    "<a id=\"standardization\"></a>\n",
    "## Standardization"
   ]
  },
  {
   "cell_type": "markdown",
   "metadata": {
    "id": "PCqPFznBe6U5"
   },
   "source": [
    "Our features have different scales. We need to convert them into 1 scale."
   ]
  },
  {
   "cell_type": "markdown",
   "metadata": {
    "id": "vjLhfCMse6U5"
   },
   "source": [
    "We will use a separate structure of library *sklearn* for standardization - *Standard Scaler*."
   ]
  },
  {
   "cell_type": "code",
   "execution_count": 82,
   "metadata": {
    "id": "FYZzfLi7e6U5"
   },
   "outputs": [],
   "source": [
    "def crossValStandardScaling(features_train, features_test):\n",
    "    \"\"\"\n",
    "    Функция для стандартизации данных. Возвращает стандартизированые данные из обучающей и тестовой выборки\n",
    "    Function for data standardization. It returns standardized data from training and test samples\n",
    "    features_train - features of training sample\n",
    "    features_test - features of test sample\n",
    "    \"\"\"\n",
    "    features_train_copy = features_train.copy()\n",
    "    features_test_copy = features_test.copy()\n",
    "    # Initialize scaler\n",
    "    scaler = StandardScaler()\n",
    "    # Numerical columns\n",
    "    numeric = ['power','registration_year', 'kilometer']\n",
    "    # setting up scaler on training sample\n",
    "    scaler.fit(features_train_copy.loc[:,numeric])\n",
    "    # transform samples with trained scaler\n",
    "    features_train_copy.loc[:,numeric] = scaler.transform(features_train_copy.loc[:,numeric])\n",
    "    features_test_copy.loc[:,numeric] = scaler.transform(features_test_copy.loc[:,numeric])\n",
    "    \n",
    "    return features_train_copy, features_test_copy"
   ]
  },
  {
   "cell_type": "code",
   "execution_count": 83,
   "metadata": {
    "id": "YEqCWSEEe6U5"
   },
   "outputs": [],
   "source": [
    "features_train_cross, features_test_cross = crossValStandardScaling(features_train_cross, features_test_cross)"
   ]
  },
  {
   "cell_type": "markdown",
   "metadata": {
    "id": "inNhzNJWe6U6"
   },
   "source": [
    "## Summary"
   ]
  },
  {
   "cell_type": "markdown",
   "metadata": {
    "id": "9X0w6yEAe6U7"
   },
   "source": [
    "At this stage, we: \n",
    "1. Processed columns. All columns are converted to lower case\n",
    "2. Processed missing data\n",
    "3. Applied encoding \n",
    "4. Removed extra columns \n",
    "5. Checked data with custom function. Data has been validated \n",
    "6. Splitted data for cross-validation: splitted data into 2 samples: training and test in ratio (*75/25*).\n",
    "7. Standardized columns\n",
    "\n",
    "Data is ready for training models."
   ]
  },
  {
   "cell_type": "markdown",
   "metadata": {
    "id": "aAVotFdYe6U7"
   },
   "source": [
    "<a id=\"MLmodelResearch\"></a>\n",
    "# Stage 3 - Machine Learning models research"
   ]
  },
  {
   "cell_type": "markdown",
   "metadata": {
    "id": "T5lfMC2te6U7"
   },
   "source": [
    "At this stage, we need to do a ML models research and find the best model."
   ]
  },
  {
   "cell_type": "markdown",
   "metadata": {
    "id": "OCwMgql3e6U7"
   },
   "source": [
    "We will check some Regression models. Find the hyperparameters as well as check metric values: \n",
    "- RMSE (Root Mean Squared Error) "
   ]
  },
  {
   "cell_type": "markdown",
   "metadata": {
    "id": "-SgfHIRHe6U8"
   },
   "source": [
    "We will keep track of machine learning models. We will create a list of models using a dictionary. Then from the dictionary we will convert the model table with all the metrics. "
   ]
  },
  {
   "cell_type": "code",
   "execution_count": 84,
   "metadata": {
    "id": "Bb9nRK1He6U8"
   },
   "outputs": [],
   "source": [
    "ml_models_stats = dict()"
   ]
  },
  {
   "cell_type": "markdown",
   "metadata": {
    "id": "apVYqrCBe6U8"
   },
   "source": [
    "Let's write a function to evaluate the models. "
   ]
  },
  {
   "cell_type": "code",
   "execution_count": 85,
   "metadata": {
    "id": "X8mAzeqye6U8"
   },
   "outputs": [],
   "source": [
    "def evaluate_model(model_name, model,training_time,features_test, target_test,features_train, target_train,parameters=None):\n",
    "    \"\"\"\n",
    "    Function evaluates model on RMSE metric, adds model to the table with metrics and training time.\n",
    "    model_name\n",
    "    model \n",
    "    train_score - Accuracy on training sample\n",
    "    features_test - test sample features\n",
    "    target_test - test sample target\n",
    "    parameters \n",
    "    \"\"\"\n",
    "    print(f'Evaluation of the model: {model_name}')\n",
    "    if parameters:\n",
    "        print(f'with parameters: {parameters}')\n",
    "    print()\n",
    "    predict_start = datetime.datetime.now()\n",
    "    predicted_test = model.predict(features_test)\n",
    "    predict_time = datetime.datetime.now() - predict_start\n",
    "    # MSE \n",
    "    mse_test = mean_squared_error(target_test, predicted_test)\n",
    "    # RMSE\n",
    "    rmse_test = mse_test ** 0.5\n",
    "    predicted_train = model.predict(features_train)\n",
    "    # MSE \n",
    "    mse_train = mean_squared_error(target_train, predicted_train)\n",
    "    # RMSE\n",
    "    rmse_train = mse_train ** 0.5\n",
    "    \n",
    "    print(f'RMSE on training sample: {rmse_train}')\n",
    "    print(f'RMSE on test sample: {rmse_test}')\n",
    "    print(f'Training time: {training_time}')\n",
    "    print(f'Prediciton time: {predict_time}')\n",
    "    # add the model\n",
    "    ml_models_stats[model_name] = {\n",
    "        'name': model_name,\n",
    "        'training_time': training_time,\n",
    "        'predict_time':predict_time,\n",
    "        'rmse_test':rmse_test,\n",
    "        'rmse_train':rmse_train\n",
    "    }\n",
    "    print()\n",
    "    print('Model has been successfully added!')"
   ]
  },
  {
   "cell_type": "markdown",
   "metadata": {
    "id": "y6GmIujqe6U9"
   },
   "source": [
    "We will find parameters by using GridSearchCV, that has cross-validation"
   ]
  },
  {
   "cell_type": "markdown",
   "metadata": {
    "id": "YYWgLRBle6U9"
   },
   "source": [
    "Make an RMSE scorer for GridSearch"
   ]
  },
  {
   "cell_type": "code",
   "execution_count": 86,
   "metadata": {
    "id": "g-aMaPXqe6U-"
   },
   "outputs": [],
   "source": [
    "def rmse(target,predictions):\n",
    "    \"\"\"\n",
    "    Function to calculate RMSE\n",
    "    target \n",
    "    predictions\n",
    "    \"\"\"\n",
    "    mse = mean_squared_error(target, predictions)\n",
    "    return mse ** 0.5"
   ]
  },
  {
   "cell_type": "code",
   "execution_count": 87,
   "metadata": {
    "id": "jOHNqKlNe6U-"
   },
   "outputs": [],
   "source": [
    "# create scorer\n",
    "rmse_scorer = make_scorer(rmse, greater_is_better=False)"
   ]
  },
  {
   "cell_type": "markdown",
   "metadata": {
    "id": "lED5HAjJe6U-"
   },
   "source": [
    "Linear Regression model will not work with ordinal encoding. Thus, we will not use it and start with Decision Tree. We would have use OHE encoding, however, we have many categorical features. OHE encoding will create a lot of columns, which will make it difficult to train model."
   ]
  },
  {
   "cell_type": "markdown",
   "metadata": {
    "id": "uo8vvhX_e6U_"
   },
   "source": [
    "### Decision Tree"
   ]
  },
  {
   "cell_type": "code",
   "execution_count": 88,
   "metadata": {
    "id": "x7edYJc7e6U_"
   },
   "outputs": [],
   "source": [
    "start = datetime.datetime.now()\n",
    "# create a model\n",
    "decision_tree_model = DecisionTreeRegressor()\n",
    "# parameters\n",
    "decision_parameters = {\n",
    "              \"max_depth\": range(1, 11),\n",
    "              \"min_samples_leaf\": range(1, 11)\n",
    "}\n",
    "\n",
    "decision_grid =  RandomizedSearchCV(estimator=decision_tree_model, param_distributions=decision_parameters, cv=5,scoring=rmse_scorer, n_iter = 20, n_jobs=-1)\n",
    "decision_grid.fit(features_train_cross,target_train_cross)\n",
    "training_time = datetime.datetime.now() - start"
   ]
  },
  {
   "cell_type": "code",
   "execution_count": 89,
   "metadata": {
    "colab": {
     "base_uri": "https://localhost:8080/"
    },
    "id": "uuYsTSrve6VA",
    "outputId": "bf52d9e2-6dd6-4913-c8f0-7e489738f038"
   },
   "outputs": [
    {
     "name": "stdout",
     "output_type": "stream",
     "text": [
      "Evaluation of the model: Decision Tree\n",
      "with parameters: {'min_samples_leaf': 9, 'max_depth': 10}\n",
      "\n",
      "RMSE on training sample: 1887.86156967912\n",
      "RMSE on test sample: 2032.5611022117735\n",
      "Training time: 0:00:15.255814\n",
      "Prediciton time: 0:00:00.011354\n",
      "\n",
      "Model has been successfully added!\n"
     ]
    }
   ],
   "source": [
    "evaluate_model('Decision Tree', decision_grid,training_time,features_test_cross, target_test_cross,features_train_cross,target_train_cross,decision_grid.best_params_)"
   ]
  },
  {
   "cell_type": "markdown",
   "metadata": {
    "id": "7hs77u4He6VA"
   },
   "source": [
    "Decision Tree trained quickly. It makes mistakes on ~2032 euro."
   ]
  },
  {
   "cell_type": "markdown",
   "metadata": {
    "id": "SBrKWffhe6VB"
   },
   "source": [
    "### Random Forest"
   ]
  },
  {
   "cell_type": "code",
   "execution_count": 90,
   "metadata": {
    "id": "EGqPuprye6VC"
   },
   "outputs": [],
   "source": [
    "start = datetime.datetime.now()\n",
    "# create a model\n",
    "random_forest_model = RandomForestRegressor()\n",
    "# parameters\n",
    "gs_params = {\n",
    "    'max_depth': range(1, 21),\n",
    "    'n_estimators':range(1,61,10)\n",
    "}\n",
    "# create a RandomizedSearchCV, specifying number of iterations\n",
    "forest_rs = RandomizedSearchCV(estimator=random_forest_model,param_distributions=gs_params,scoring=rmse_scorer,cv=5,n_iter = 20,n_jobs=-1)\n",
    "# train the model\n",
    "forest_rs.fit(features_train_cross,target_train_cross)\n",
    "training_time = datetime.datetime.now() - start"
   ]
  },
  {
   "cell_type": "code",
   "execution_count": 91,
   "metadata": {
    "colab": {
     "base_uri": "https://localhost:8080/"
    },
    "id": "4tGhkWzUe6VC",
    "outputId": "63411777-671f-4f8e-f644-4913659acdfe"
   },
   "outputs": [
    {
     "name": "stdout",
     "output_type": "stream",
     "text": [
      "Evaluation of the model: Random Forest\n",
      "with parameters: {'n_estimators': 51, 'max_depth': 15}\n",
      "\n",
      "RMSE on training sample: 1154.4416372766434\n",
      "RMSE on test sample: 1755.557325128913\n",
      "Training time: 0:03:44.685285\n",
      "Prediciton time: 0:00:00.370468\n",
      "\n",
      "Model has been successfully added!\n"
     ]
    }
   ],
   "source": [
    "evaluate_model('Random Forest', forest_rs,training_time,features_test_cross, target_test_cross,features_train_cross,target_train_cross,forest_rs.best_params_)"
   ]
  },
  {
   "cell_type": "markdown",
   "metadata": {
    "id": "flOdxDYme6VC"
   },
   "source": [
    "It took 11 minutes for Random Forest to train. However, model showed good results on training and test samples. On test sample, model makes mistakes on 1755 euro."
   ]
  },
  {
   "cell_type": "markdown",
   "metadata": {
    "id": "lnnkrJlqe6VC"
   },
   "source": [
    "### XGBoost"
   ]
  },
  {
   "cell_type": "code",
   "execution_count": 92,
   "metadata": {
    "colab": {
     "base_uri": "https://localhost:8080/"
    },
    "id": "5huPF4_me6VD",
    "outputId": "07e16ab0-a4ec-4490-80ff-6d041f37b966"
   },
   "outputs": [
    {
     "name": "stdout",
     "output_type": "stream",
     "text": [
      "[08:55:07] WARNING: /workspace/src/objective/regression_obj.cu:152: reg:linear is now deprecated in favor of reg:squarederror.\n"
     ]
    }
   ],
   "source": [
    "start = datetime.datetime.now()\n",
    "# parameters\n",
    "xgb_params = {\n",
    "    \"max_depth\": range(3, 10,2),\n",
    "    \"min_child_weight\": range(1,6,2)\n",
    "}\n",
    "# create model \n",
    "xgb = xgb.XGBRegressor(nthread=-1) \n",
    "# create GridSearchCV\n",
    "xgb_gs = GridSearchCV(xgb, xgb_params, scoring=rmse_scorer,n_jobs=-1)\n",
    "# train model\n",
    "xgb_gs.fit(features_train_cross,target_train_cross)\n",
    "training_time = datetime.datetime.now() - start"
   ]
  },
  {
   "cell_type": "code",
   "execution_count": 93,
   "metadata": {
    "colab": {
     "base_uri": "https://localhost:8080/"
    },
    "id": "tPUhdgkle6VD",
    "outputId": "9ca5500c-5c6d-490d-d2ed-106b5b6d571f"
   },
   "outputs": [
    {
     "name": "stdout",
     "output_type": "stream",
     "text": [
      "Evaluation of the model: XGBoost\n",
      "with parameters: {'max_depth': 9, 'min_child_weight': 5}\n",
      "\n",
      "RMSE on training sample: 1338.3145546862652\n",
      "RMSE on test sample: 1668.8386343676225\n",
      "Training time: 0:06:10.068887\n",
      "Prediciton time: 0:00:00.218077\n",
      "\n",
      "Model has been successfully added!\n"
     ]
    }
   ],
   "source": [
    "evaluate_model('XGBoost', xgb_gs,training_time,features_test_cross, target_test_cross,features_train_cross,target_train_cross,xgb_gs.best_params_)"
   ]
  },
  {
   "cell_type": "markdown",
   "metadata": {
    "id": "MtDt0FvBe6VD"
   },
   "source": [
    "XGBoost also showed good results on training and test samples. RMSE on test: 1615. However, it took 5 min to train the model."
   ]
  },
  {
   "cell_type": "markdown",
   "metadata": {
    "id": "85BTnlP0e6VD"
   },
   "source": [
    "### LightGBM"
   ]
  },
  {
   "cell_type": "code",
   "execution_count": 94,
   "metadata": {
    "id": "EBqNufVce6VE"
   },
   "outputs": [],
   "source": [
    "start = datetime.datetime.now()\n",
    "lgb_params = {\n",
    "    'objective': ['regression','binary'],\n",
    "    'boosting_type' : ['dart','gbdt','goss'],\n",
    "    'max_depth': [15,30],\n",
    "    'num_leaves': [10,200,250]\n",
    "}\n",
    "lgb_reg = lgb.LGBMRegressor()\n",
    "lgb_gs = GridSearchCV(lgb_reg, lgb_params,scoring=rmse_scorer,n_jobs=-1)\n",
    "lgb_gs.fit(features_train_cross,target_train_cross)\n",
    "training_time = datetime.datetime.now() - start"
   ]
  },
  {
   "cell_type": "code",
   "execution_count": 95,
   "metadata": {
    "colab": {
     "base_uri": "https://localhost:8080/"
    },
    "id": "sPJVYwHQe6VE",
    "outputId": "8c1cbdea-2465-41cf-9add-163161cfb6fd"
   },
   "outputs": [
    {
     "name": "stdout",
     "output_type": "stream",
     "text": [
      "Evaluation of the model: LightGBM\n",
      "with parameters: {'boosting_type': 'gbdt', 'max_depth': 30, 'num_leaves': 250, 'objective': 'regression'}\n",
      "\n",
      "RMSE on training sample: 1324.4240676868671\n",
      "RMSE on test sample: 1652.228935282971\n",
      "Training time: 0:03:03.830959\n",
      "Prediciton time: 0:00:00.250325\n",
      "\n",
      "Model has been successfully added!\n"
     ]
    }
   ],
   "source": [
    "evaluate_model('LightGBM', lgb_gs,training_time,features_test_cross, target_test_cross,features_train_cross,target_train_cross,lgb_gs.best_params_)"
   ]
  },
  {
   "cell_type": "markdown",
   "metadata": {
    "id": "sAuqaVb7e6VE"
   },
   "source": [
    "Best result on sample test so far. Model mistakes on 1652 euro on test sample. In addition, model took 4 minutes to train."
   ]
  },
  {
   "cell_type": "markdown",
   "metadata": {
    "id": "ztctnRb6e6VE"
   },
   "source": [
    "### CatBoost"
   ]
  },
  {
   "cell_type": "code",
   "execution_count": 96,
   "metadata": {
    "id": "QNEsONEse6VE"
   },
   "outputs": [],
   "source": [
    "start = datetime.datetime.now()\n",
    "catBoost_params = {\n",
    "    'learning_rate': [1],\n",
    "    'depth': [5, 6, 7, 8],\n",
    "    'l2_leaf_reg': [1, 2, 3]\n",
    "}\n",
    "catBoost_reg = CatBoostRegressor(loss_function='RMSE',random_state=random_state_value,silent=True,eval_metric=\"RMSE\")\n",
    "catBoost_gs = GridSearchCV(catBoost_reg, catBoost_params,scoring=rmse_scorer,n_jobs=-1)\n",
    "catBoost_gs.fit(features_train_cross,  target_train_cross)\n",
    "training_time = datetime.datetime.now() - start"
   ]
  },
  {
   "cell_type": "code",
   "execution_count": 97,
   "metadata": {
    "colab": {
     "base_uri": "https://localhost:8080/"
    },
    "id": "p1l0euJPe6VE",
    "outputId": "8de85b30-e2dd-4ce3-dd41-75af09f4f9c7"
   },
   "outputs": [
    {
     "name": "stdout",
     "output_type": "stream",
     "text": [
      "Evaluation of the model: CatBoost\n",
      "with parameters: {'depth': 5, 'l2_leaf_reg': 3, 'learning_rate': 1}\n",
      "\n",
      "RMSE on training sample: 1268.8870388901782\n",
      "RMSE on test sample: 1740.9737634003895\n",
      "Training time: 0:18:42.548597\n",
      "Prediciton time: 0:00:00.043162\n",
      "\n",
      "Model has been successfully added!\n"
     ]
    }
   ],
   "source": [
    "evaluate_model('CatBoost', catBoost_gs,training_time, features_test_cross, target_test_cross,features_train_cross,target_train_cross,catBoost_gs.best_params_)"
   ]
  },
  {
   "cell_type": "markdown",
   "metadata": {
    "id": "GTnSkZWSe6VF"
   },
   "source": [
    "20 minutes! Fortunately, model showed good results on test sample. RMSE on test sample: 1740"
   ]
  },
  {
   "cell_type": "markdown",
   "metadata": {
    "id": "ttMFoAgQe6VF"
   },
   "source": [
    "We need to do sanity check. Let's use Dummy model"
   ]
  },
  {
   "cell_type": "markdown",
   "metadata": {
    "id": "nyKqAETSe6VF"
   },
   "source": [
    "### Dummy"
   ]
  },
  {
   "cell_type": "code",
   "execution_count": 98,
   "metadata": {
    "id": "KEYOdux9e6VF"
   },
   "outputs": [],
   "source": [
    "start = datetime.datetime.now()\n",
    "# create the model\n",
    "dummy_model = DummyRegressor(strategy=\"constant\", constant=target_train_cross.median())\n",
    "# train the model\n",
    "dummy_model.fit(features_train_cross,target_train_cross)\n",
    "training_time = datetime.datetime.now() - start"
   ]
  },
  {
   "cell_type": "code",
   "execution_count": 99,
   "metadata": {
    "colab": {
     "base_uri": "https://localhost:8080/"
    },
    "id": "MFzgPicQe6VF",
    "outputId": "de3baa65-2266-4a9c-a83e-018b243e4132"
   },
   "outputs": [
    {
     "name": "stdout",
     "output_type": "stream",
     "text": [
      "Evaluation of the model: Dummy constant\n",
      "\n",
      "RMSE on training sample: 4941.014645537766\n",
      "RMSE on test sample: 4954.99931074743\n",
      "Training time: 0:00:00.002745\n",
      "Prediciton time: 0:00:00.000306\n",
      "\n",
      "Model has been successfully added!\n"
     ]
    }
   ],
   "source": [
    "evaluate_model('Dummy constant', dummy_model, training_time, features_test_cross, target_test_cross,features_train_cross,target_train_cross)"
   ]
  },
  {
   "cell_type": "markdown",
   "metadata": {
    "id": "CCubM5g-e6VF"
   },
   "source": [
    "### Summary"
   ]
  },
  {
   "cell_type": "markdown",
   "metadata": {
    "id": "3SRP5YVde6VG"
   },
   "source": [
    "At this stage we made a research on Machine Learning models. We have tried many Regression models: Linear Regression, Decision Tree, Random Forest, XGboost, LightGBM, CatBoost. Let's proceed to model analysis."
   ]
  },
  {
   "cell_type": "markdown",
   "metadata": {
    "id": "mTknoISBe6VG"
   },
   "source": [
    "<br>"
   ]
  },
  {
   "cell_type": "markdown",
   "metadata": {
    "id": "1fMCHMFje6VG"
   },
   "source": [
    "<a id=\"resultsRearchModel\"></a>\n",
    "# Stage 4 - Model's speed and accuracy analysis"
   ]
  },
  {
   "cell_type": "markdown",
   "metadata": {
    "id": "AxQE7yEwe6VG"
   },
   "source": [
    "At this stage, we need to analyze the speed and accuracy of the models."
   ]
  },
  {
   "cell_type": "markdown",
   "metadata": {
    "id": "_8aIB-sUe6VG"
   },
   "source": [
    "Business considers the following metrics: **accuracy, training time, prediction time**. Based on this metrics, we will find the best model."
   ]
  },
  {
   "cell_type": "markdown",
   "metadata": {
    "id": "a4K-k_Yce6VG"
   },
   "source": [
    "Firstly, let's write a function that will plot the graphs to help with analysis."
   ]
  },
  {
   "cell_type": "code",
   "execution_count": 100,
   "metadata": {
    "id": "NgJ7DnoZe6VG"
   },
   "outputs": [],
   "source": [
    "def drawPlot(df,x_axis, y_axis, x_label, y_label,plot_title, order_by=None):\n",
    "    \"\"\"\n",
    "    Function for plotting graphs \n",
    "    df - dataframe\n",
    "    x_axis\n",
    "    y_axis\n",
    "    x_label - label for x axis\n",
    "    y_label - label for y axis\n",
    "    plot_title - title \n",
    "    order - column by which the order will be determined \n",
    "    \"\"\"\n",
    "    plt.title(plot_title)\n",
    "    sns.barplot(x=x_axis,y=y_axis, data=df,order=df[order_by])\n",
    "    plt.xlabel(x_label)\n",
    "    plt.ylabel(y_label)\n",
    "    plt.show()"
   ]
  },
  {
   "cell_type": "markdown",
   "metadata": {
    "id": "LsDD0bkUe6VH"
   },
   "source": [
    "Create the table from the models dictionary"
   ]
  },
  {
   "cell_type": "code",
   "execution_count": 101,
   "metadata": {
    "colab": {
     "base_uri": "https://localhost:8080/",
     "height": 238
    },
    "id": "Gfrpoa8Le6VH",
    "outputId": "92ce3878-cd13-4f50-e6c1-e7c28e4cadce"
   },
   "outputs": [
    {
     "data": {
      "text/html": [
       "<div>\n",
       "<style scoped>\n",
       "    .dataframe tbody tr th:only-of-type {\n",
       "        vertical-align: middle;\n",
       "    }\n",
       "\n",
       "    .dataframe tbody tr th {\n",
       "        vertical-align: top;\n",
       "    }\n",
       "\n",
       "    .dataframe thead th {\n",
       "        text-align: right;\n",
       "    }\n",
       "</style>\n",
       "<table border=\"1\" class=\"dataframe\">\n",
       "  <thead>\n",
       "    <tr style=\"text-align: right;\">\n",
       "      <th></th>\n",
       "      <th>name</th>\n",
       "      <th>training_time</th>\n",
       "      <th>predict_time</th>\n",
       "      <th>rmse_test</th>\n",
       "      <th>rmse_train</th>\n",
       "    </tr>\n",
       "  </thead>\n",
       "  <tbody>\n",
       "    <tr>\n",
       "      <th>0</th>\n",
       "      <td>Decision Tree</td>\n",
       "      <td>0 days 00:00:15.255814</td>\n",
       "      <td>0 days 00:00:00.011354</td>\n",
       "      <td>2032.561</td>\n",
       "      <td>1887.862</td>\n",
       "    </tr>\n",
       "    <tr>\n",
       "      <th>1</th>\n",
       "      <td>Random Forest</td>\n",
       "      <td>0 days 00:03:44.685285</td>\n",
       "      <td>0 days 00:00:00.370468</td>\n",
       "      <td>1755.557</td>\n",
       "      <td>1154.442</td>\n",
       "    </tr>\n",
       "    <tr>\n",
       "      <th>2</th>\n",
       "      <td>XGBoost</td>\n",
       "      <td>0 days 00:06:10.068887</td>\n",
       "      <td>0 days 00:00:00.218077</td>\n",
       "      <td>1668.839</td>\n",
       "      <td>1338.315</td>\n",
       "    </tr>\n",
       "    <tr>\n",
       "      <th>3</th>\n",
       "      <td>LightGBM</td>\n",
       "      <td>0 days 00:03:03.830959</td>\n",
       "      <td>0 days 00:00:00.250325</td>\n",
       "      <td>1652.229</td>\n",
       "      <td>1324.424</td>\n",
       "    </tr>\n",
       "    <tr>\n",
       "      <th>4</th>\n",
       "      <td>CatBoost</td>\n",
       "      <td>0 days 00:18:42.548597</td>\n",
       "      <td>0 days 00:00:00.043162</td>\n",
       "      <td>1740.974</td>\n",
       "      <td>1268.887</td>\n",
       "    </tr>\n",
       "    <tr>\n",
       "      <th>5</th>\n",
       "      <td>Dummy constant</td>\n",
       "      <td>0 days 00:00:00.002745</td>\n",
       "      <td>0 days 00:00:00.000306</td>\n",
       "      <td>4954.999</td>\n",
       "      <td>4941.015</td>\n",
       "    </tr>\n",
       "  </tbody>\n",
       "</table>\n",
       "</div>"
      ],
      "text/plain": [
       "             name          training_time  ... rmse_test  rmse_train\n",
       "0   Decision Tree 0 days 00:00:15.255814  ...  2032.561    1887.862\n",
       "1   Random Forest 0 days 00:03:44.685285  ...  1755.557    1154.442\n",
       "2         XGBoost 0 days 00:06:10.068887  ...  1668.839    1338.315\n",
       "3        LightGBM 0 days 00:03:03.830959  ...  1652.229    1324.424\n",
       "4        CatBoost 0 days 00:18:42.548597  ...  1740.974    1268.887\n",
       "5  Dummy constant 0 days 00:00:00.002745  ...  4954.999    4941.015\n",
       "\n",
       "[6 rows x 5 columns]"
      ]
     },
     "execution_count": 101,
     "metadata": {
      "tags": []
     },
     "output_type": "execute_result"
    }
   ],
   "source": [
    "ml_models = pd.DataFrame.from_dict(data=ml_models_stats, orient='index').reset_index(drop=True)\n",
    "ml_models"
   ]
  },
  {
   "cell_type": "markdown",
   "metadata": {
    "id": "A7QVIlfZe6VH"
   },
   "source": [
    "Models that have passed the sanity check."
   ]
  },
  {
   "cell_type": "code",
   "execution_count": 102,
   "metadata": {
    "colab": {
     "base_uri": "https://localhost:8080/",
     "height": 206
    },
    "id": "qJQOx-g8e6VH",
    "outputId": "068c23c8-7b0d-4d3b-8305-f2a324d67b91"
   },
   "outputs": [
    {
     "data": {
      "text/html": [
       "<div>\n",
       "<style scoped>\n",
       "    .dataframe tbody tr th:only-of-type {\n",
       "        vertical-align: middle;\n",
       "    }\n",
       "\n",
       "    .dataframe tbody tr th {\n",
       "        vertical-align: top;\n",
       "    }\n",
       "\n",
       "    .dataframe thead th {\n",
       "        text-align: right;\n",
       "    }\n",
       "</style>\n",
       "<table border=\"1\" class=\"dataframe\">\n",
       "  <thead>\n",
       "    <tr style=\"text-align: right;\">\n",
       "      <th></th>\n",
       "      <th>name</th>\n",
       "      <th>training_time</th>\n",
       "      <th>predict_time</th>\n",
       "      <th>rmse_test</th>\n",
       "      <th>rmse_train</th>\n",
       "    </tr>\n",
       "  </thead>\n",
       "  <tbody>\n",
       "    <tr>\n",
       "      <th>0</th>\n",
       "      <td>Decision Tree</td>\n",
       "      <td>0 days 00:00:15.255814</td>\n",
       "      <td>0 days 00:00:00.011354</td>\n",
       "      <td>2032.561</td>\n",
       "      <td>1887.862</td>\n",
       "    </tr>\n",
       "    <tr>\n",
       "      <th>1</th>\n",
       "      <td>Random Forest</td>\n",
       "      <td>0 days 00:03:44.685285</td>\n",
       "      <td>0 days 00:00:00.370468</td>\n",
       "      <td>1755.557</td>\n",
       "      <td>1154.442</td>\n",
       "    </tr>\n",
       "    <tr>\n",
       "      <th>2</th>\n",
       "      <td>XGBoost</td>\n",
       "      <td>0 days 00:06:10.068887</td>\n",
       "      <td>0 days 00:00:00.218077</td>\n",
       "      <td>1668.839</td>\n",
       "      <td>1338.315</td>\n",
       "    </tr>\n",
       "    <tr>\n",
       "      <th>3</th>\n",
       "      <td>LightGBM</td>\n",
       "      <td>0 days 00:03:03.830959</td>\n",
       "      <td>0 days 00:00:00.250325</td>\n",
       "      <td>1652.229</td>\n",
       "      <td>1324.424</td>\n",
       "    </tr>\n",
       "    <tr>\n",
       "      <th>4</th>\n",
       "      <td>CatBoost</td>\n",
       "      <td>0 days 00:18:42.548597</td>\n",
       "      <td>0 days 00:00:00.043162</td>\n",
       "      <td>1740.974</td>\n",
       "      <td>1268.887</td>\n",
       "    </tr>\n",
       "  </tbody>\n",
       "</table>\n",
       "</div>"
      ],
      "text/plain": [
       "            name          training_time  ... rmse_test  rmse_train\n",
       "0  Decision Tree 0 days 00:00:15.255814  ...  2032.561    1887.862\n",
       "1  Random Forest 0 days 00:03:44.685285  ...  1755.557    1154.442\n",
       "2        XGBoost 0 days 00:06:10.068887  ...  1668.839    1338.315\n",
       "3       LightGBM 0 days 00:03:03.830959  ...  1652.229    1324.424\n",
       "4       CatBoost 0 days 00:18:42.548597  ...  1740.974    1268.887\n",
       "\n",
       "[5 rows x 5 columns]"
      ]
     },
     "execution_count": 102,
     "metadata": {
      "tags": []
     },
     "output_type": "execute_result"
    }
   ],
   "source": [
    "approved_models = ml_models.query(\"rmse_test < 4862.087\")\n",
    "approved_models"
   ]
  },
  {
   "cell_type": "markdown",
   "metadata": {
    "id": "vpFvArjee6VI"
   },
   "source": [
    "All models passed sanity check"
   ]
  },
  {
   "cell_type": "markdown",
   "metadata": {
    "id": "A2R4l3Ode6VI"
   },
   "source": [
    "Convert prediction time in milliseconds"
   ]
  },
  {
   "cell_type": "code",
   "execution_count": 103,
   "metadata": {
    "id": "ImQrI77Oe6VI"
   },
   "outputs": [],
   "source": [
    "def milliseconds_from_timedelta(timedelta):\n",
    "    \"\"\"Convert to milliseconds from object timedelta\"\"\"\n",
    "    return timedelta.total_seconds() * 1e3"
   ]
  },
  {
   "cell_type": "code",
   "execution_count": 105,
   "metadata": {
    "id": "l3DcnGyie6VI"
   },
   "outputs": [],
   "source": [
    "approved_models['prediction_time_milliseconds'] = approved_models['predict_time'].apply(milliseconds_from_timedelta)"
   ]
  },
  {
   "cell_type": "markdown",
   "metadata": {
    "id": "_-crQmiye6VJ"
   },
   "source": [
    "Convert training time in secods"
   ]
  },
  {
   "cell_type": "code",
   "execution_count": 106,
   "metadata": {
    "id": "JQKjp0pFe6VJ"
   },
   "outputs": [],
   "source": [
    "def seconds_from_timedelta(timedelta):\n",
    "    \"\"\"Convert to seconds from object timedelta\"\"\"\n",
    "    return timedelta.total_seconds()"
   ]
  },
  {
   "cell_type": "code",
   "execution_count": 107,
   "metadata": {
    "id": "xkwtO1tEe6VJ"
   },
   "outputs": [],
   "source": [
    "approved_models['training_time_seconds'] = approved_models['training_time'].apply(seconds_from_timedelta)"
   ]
  },
  {
   "cell_type": "markdown",
   "metadata": {
    "id": "5mM3gFj-e6VJ"
   },
   "source": [
    "Find the best model on RMSE metric on test sample."
   ]
  },
  {
   "cell_type": "code",
   "execution_count": 108,
   "metadata": {
    "colab": {
     "base_uri": "https://localhost:8080/",
     "height": 548
    },
    "id": "Ypdv5M52e6VJ",
    "outputId": "bec53bc0-148a-4b5c-ecfd-e1dbe4a44968"
   },
   "outputs": [
    {
     "data": {
      "text/html": [
       "<div>\n",
       "<style scoped>\n",
       "    .dataframe tbody tr th:only-of-type {\n",
       "        vertical-align: middle;\n",
       "    }\n",
       "\n",
       "    .dataframe tbody tr th {\n",
       "        vertical-align: top;\n",
       "    }\n",
       "\n",
       "    .dataframe thead th {\n",
       "        text-align: right;\n",
       "    }\n",
       "</style>\n",
       "<table border=\"1\" class=\"dataframe\">\n",
       "  <thead>\n",
       "    <tr style=\"text-align: right;\">\n",
       "      <th></th>\n",
       "      <th>name</th>\n",
       "      <th>rmse_test</th>\n",
       "    </tr>\n",
       "  </thead>\n",
       "  <tbody>\n",
       "    <tr>\n",
       "      <th>0</th>\n",
       "      <td>LightGBM</td>\n",
       "      <td>1652.229</td>\n",
       "    </tr>\n",
       "    <tr>\n",
       "      <th>1</th>\n",
       "      <td>XGBoost</td>\n",
       "      <td>1668.839</td>\n",
       "    </tr>\n",
       "    <tr>\n",
       "      <th>2</th>\n",
       "      <td>CatBoost</td>\n",
       "      <td>1740.974</td>\n",
       "    </tr>\n",
       "    <tr>\n",
       "      <th>3</th>\n",
       "      <td>Random Forest</td>\n",
       "      <td>1755.557</td>\n",
       "    </tr>\n",
       "    <tr>\n",
       "      <th>4</th>\n",
       "      <td>Decision Tree</td>\n",
       "      <td>2032.561</td>\n",
       "    </tr>\n",
       "  </tbody>\n",
       "</table>\n",
       "</div>"
      ],
      "text/plain": [
       "            name  rmse_test\n",
       "0       LightGBM   1652.229\n",
       "1        XGBoost   1668.839\n",
       "2       CatBoost   1740.974\n",
       "3  Random Forest   1755.557\n",
       "4  Decision Tree   2032.561"
      ]
     },
     "metadata": {
      "tags": []
     },
     "output_type": "display_data"
    },
    {
     "data": {
      "image/png": "[encoded data removed]",
      "text/plain": [
       "<Figure size 1008x360 with 1 Axes>"
      ]
     },
     "metadata": {
      "image/png": {
       "height": 342,
       "width": 856
      },
      "needs_background": "light",
      "tags": []
     },
     "output_type": "display_data"
    }
   ],
   "source": [
    "rmse_test_sorted = approved_models.sort_values(by='rmse_test',ascending=True).reset_index()\n",
    "display(rmse_test_sorted[['name','rmse_test']])\n",
    "drawPlot(rmse_test_sorted, 'name','rmse_test','Model','RMSE','RMSE models on test sample','name' )"
   ]
  },
  {
   "cell_type": "markdown",
   "metadata": {
    "id": "VezHDdMAe6VK"
   },
   "source": [
    "LightGBM took first place with result - **1652.229**. XGBoost took 2nd place with result - **1668.839**"
   ]
  },
  {
   "cell_type": "markdown",
   "metadata": {
    "id": "PKAeaTi1e6VK"
   },
   "source": [
    "Find the model that has minimum training time (fastest on training)"
   ]
  },
  {
   "cell_type": "code",
   "execution_count": 109,
   "metadata": {
    "colab": {
     "base_uri": "https://localhost:8080/",
     "height": 548
    },
    "id": "43X7O9fSe6VK",
    "outputId": "00f7f2d5-e028-43a7-e069-94c0f9f2de62"
   },
   "outputs": [
    {
     "data": {
      "text/html": [
       "<div>\n",
       "<style scoped>\n",
       "    .dataframe tbody tr th:only-of-type {\n",
       "        vertical-align: middle;\n",
       "    }\n",
       "\n",
       "    .dataframe tbody tr th {\n",
       "        vertical-align: top;\n",
       "    }\n",
       "\n",
       "    .dataframe thead th {\n",
       "        text-align: right;\n",
       "    }\n",
       "</style>\n",
       "<table border=\"1\" class=\"dataframe\">\n",
       "  <thead>\n",
       "    <tr style=\"text-align: right;\">\n",
       "      <th></th>\n",
       "      <th>name</th>\n",
       "      <th>training_time</th>\n",
       "    </tr>\n",
       "  </thead>\n",
       "  <tbody>\n",
       "    <tr>\n",
       "      <th>0</th>\n",
       "      <td>Decision Tree</td>\n",
       "      <td>0 days 00:00:15.255814</td>\n",
       "    </tr>\n",
       "    <tr>\n",
       "      <th>1</th>\n",
       "      <td>LightGBM</td>\n",
       "      <td>0 days 00:03:03.830959</td>\n",
       "    </tr>\n",
       "    <tr>\n",
       "      <th>2</th>\n",
       "      <td>Random Forest</td>\n",
       "      <td>0 days 00:03:44.685285</td>\n",
       "    </tr>\n",
       "    <tr>\n",
       "      <th>3</th>\n",
       "      <td>XGBoost</td>\n",
       "      <td>0 days 00:06:10.068887</td>\n",
       "    </tr>\n",
       "    <tr>\n",
       "      <th>4</th>\n",
       "      <td>CatBoost</td>\n",
       "      <td>0 days 00:18:42.548597</td>\n",
       "    </tr>\n",
       "  </tbody>\n",
       "</table>\n",
       "</div>"
      ],
      "text/plain": [
       "            name          training_time\n",
       "0  Decision Tree 0 days 00:00:15.255814\n",
       "1       LightGBM 0 days 00:03:03.830959\n",
       "2  Random Forest 0 days 00:03:44.685285\n",
       "3        XGBoost 0 days 00:06:10.068887\n",
       "4       CatBoost 0 days 00:18:42.548597"
      ]
     },
     "metadata": {
      "tags": []
     },
     "output_type": "display_data"
    },
    {
     "data": {
      "image/png": "[encoded data removed]",
      "text/plain": [
       "<Figure size 1008x360 with 1 Axes>"
      ]
     },
     "metadata": {
      "image/png": {
       "height": 342,
       "width": 925
      },
      "needs_background": "light",
      "tags": []
     },
     "output_type": "display_data"
    }
   ],
   "source": [
    "train_time_sorted = approved_models.sort_values(by='training_time_seconds',ascending=True).reset_index()\n",
    "display(train_time_sorted[['name','training_time']])\n",
    "drawPlot(train_time_sorted,'training_time_seconds','name','Time seconds','Models','Training time of models','name' )"
   ]
  },
  {
   "cell_type": "markdown",
   "metadata": {
    "id": "bnAAynHEe6VK"
   },
   "source": [
    "Decision Tree took less time that others - 15 seconds. Next, LightGBM ~ 3 minutes."
   ]
  },
  {
   "cell_type": "markdown",
   "metadata": {
    "id": "o2WnJTgVe6VK"
   },
   "source": [
    "Find the fastest model on prediciton"
   ]
  },
  {
   "cell_type": "code",
   "execution_count": 111,
   "metadata": {
    "colab": {
     "base_uri": "https://localhost:8080/",
     "height": 548
    },
    "id": "CC1_Sqq3e6VL",
    "outputId": "f56ee246-e213-4277-c166-8f0185390e6c"
   },
   "outputs": [
    {
     "data": {
      "text/html": [
       "<div>\n",
       "<style scoped>\n",
       "    .dataframe tbody tr th:only-of-type {\n",
       "        vertical-align: middle;\n",
       "    }\n",
       "\n",
       "    .dataframe tbody tr th {\n",
       "        vertical-align: top;\n",
       "    }\n",
       "\n",
       "    .dataframe thead th {\n",
       "        text-align: right;\n",
       "    }\n",
       "</style>\n",
       "<table border=\"1\" class=\"dataframe\">\n",
       "  <thead>\n",
       "    <tr style=\"text-align: right;\">\n",
       "      <th></th>\n",
       "      <th>name</th>\n",
       "      <th>predict_time</th>\n",
       "    </tr>\n",
       "  </thead>\n",
       "  <tbody>\n",
       "    <tr>\n",
       "      <th>0</th>\n",
       "      <td>Decision Tree</td>\n",
       "      <td>0 days 00:00:00.011354</td>\n",
       "    </tr>\n",
       "    <tr>\n",
       "      <th>1</th>\n",
       "      <td>CatBoost</td>\n",
       "      <td>0 days 00:00:00.043162</td>\n",
       "    </tr>\n",
       "    <tr>\n",
       "      <th>2</th>\n",
       "      <td>XGBoost</td>\n",
       "      <td>0 days 00:00:00.218077</td>\n",
       "    </tr>\n",
       "    <tr>\n",
       "      <th>3</th>\n",
       "      <td>LightGBM</td>\n",
       "      <td>0 days 00:00:00.250325</td>\n",
       "    </tr>\n",
       "    <tr>\n",
       "      <th>4</th>\n",
       "      <td>Random Forest</td>\n",
       "      <td>0 days 00:00:00.370468</td>\n",
       "    </tr>\n",
       "  </tbody>\n",
       "</table>\n",
       "</div>"
      ],
      "text/plain": [
       "            name           predict_time\n",
       "0  Decision Tree 0 days 00:00:00.011354\n",
       "1       CatBoost 0 days 00:00:00.043162\n",
       "2        XGBoost 0 days 00:00:00.218077\n",
       "3       LightGBM 0 days 00:00:00.250325\n",
       "4  Random Forest 0 days 00:00:00.370468"
      ]
     },
     "metadata": {
      "tags": []
     },
     "output_type": "display_data"
    },
    {
     "data": {
      "image/png": "[encoded data removed]",
      "text/plain": [
       "<Figure size 1008x360 with 1 Axes>"
      ]
     },
     "metadata": {
      "image/png": {
       "height": 342,
       "width": 925
      },
      "needs_background": "light",
      "tags": []
     },
     "output_type": "display_data"
    }
   ],
   "source": [
    "predict_time_sorted = approved_models.sort_values(by='prediction_time_milliseconds',ascending=True).reset_index()\n",
    "display(predict_time_sorted[['name','predict_time']])\n",
    "drawPlot(predict_time_sorted,'prediction_time_milliseconds','name','Time milliseconds','Models','Prediction time of models','name' )"
   ]
  },
  {
   "cell_type": "markdown",
   "metadata": {
    "id": "hyU3l-l5e6VL"
   },
   "source": [
    "Fastest on prediction - Decision Tree and CatBoost. Next, XGBoost, LightGBM. The slowest model - Random Forest."
   ]
  },
  {
   "cell_type": "markdown",
   "metadata": {
    "id": "8ELxVDY6e6VL"
   },
   "source": [
    "Based on the results, we will choose the best model - **LightGBM**. Model has good accuracy, average training time and prediction time."
   ]
  },
  {
   "cell_type": "markdown",
   "metadata": {
    "id": "il2LtTNse6VM"
   },
   "source": [
    "<br>"
   ]
  },
  {
   "cell_type": "markdown",
   "metadata": {
    "id": "0XZbapaXe6VM"
   },
   "source": [
    "<a id=\"results\"></a>\n",
    "# Stage 5 - Results"
   ]
  },
  {
   "cell_type": "markdown",
   "metadata": {
    "id": "5dgb6Ft-e6VM"
   },
   "source": [
    "In the project, we have successfully build Machine Learning model to quickly determine the price of the car. We have found the best model, that corresponds business requirements. In the project: \n",
    "- Data preprocessing: \n",
    "    1. Processed columns. All columns are converted to lower case\n",
    "    2. Processed missing data\n",
    "    3. Applied encoding \n",
    "    4. Removed extra columns \n",
    "    5. Checked data with custom function. Data has been validated \n",
    "    6. Splitted data for cross-validation: splitted data into 2 samples: training and test in ratio (*75/25*).\n",
    "    7. Standardized columns\n",
    "    \n",
    "- Machine Learning models research:\n",
    "    We have tried many Regression models: Linear Regression, Decision Tree, Random Forest, XGboost, LightGBM, CatBoost. \n",
    "    \n",
    "- Analyzed models based on speed and accuracy: \n",
    "    1. Checked model for sanity. All models passed check\n",
    "    2. Based on the metrics, that correspond business requirements, we found the best model.\n",
    "    3. Based on the results, we will choose the best model - **LightGBM**. Model has good accuracy, average training time and prediction time."
   ]
  },
  {
   "cell_type": "markdown",
   "metadata": {
    "id": "g0nzB7Mwe6VM"
   },
   "source": [
    "### Model information"
   ]
  },
  {
   "cell_type": "code",
   "execution_count": 112,
   "metadata": {
    "colab": {
     "base_uri": "https://localhost:8080/",
     "height": 81
    },
    "id": "yZ-W0b6_e6VM",
    "outputId": "b41fffdb-7cc2-4c94-ae1a-83947da67d45"
   },
   "outputs": [
    {
     "data": {
      "text/html": [
       "<div>\n",
       "<style scoped>\n",
       "    .dataframe tbody tr th:only-of-type {\n",
       "        vertical-align: middle;\n",
       "    }\n",
       "\n",
       "    .dataframe tbody tr th {\n",
       "        vertical-align: top;\n",
       "    }\n",
       "\n",
       "    .dataframe thead th {\n",
       "        text-align: right;\n",
       "    }\n",
       "</style>\n",
       "<table border=\"1\" class=\"dataframe\">\n",
       "  <thead>\n",
       "    <tr style=\"text-align: right;\">\n",
       "      <th></th>\n",
       "      <th>name</th>\n",
       "      <th>training_time</th>\n",
       "      <th>predict_time</th>\n",
       "      <th>rmse_test</th>\n",
       "      <th>rmse_train</th>\n",
       "      <th>prediction_time_milliseconds</th>\n",
       "      <th>training_time_seconds</th>\n",
       "    </tr>\n",
       "  </thead>\n",
       "  <tbody>\n",
       "    <tr>\n",
       "      <th>3</th>\n",
       "      <td>LightGBM</td>\n",
       "      <td>0 days 00:03:03.830959</td>\n",
       "      <td>0 days 00:00:00.250325</td>\n",
       "      <td>1652.229</td>\n",
       "      <td>1324.424</td>\n",
       "      <td>250.325</td>\n",
       "      <td>183.831</td>\n",
       "    </tr>\n",
       "  </tbody>\n",
       "</table>\n",
       "</div>"
      ],
      "text/plain": [
       "       name  ... training_time_seconds\n",
       "3  LightGBM  ...               183.831\n",
       "\n",
       "[1 rows x 7 columns]"
      ]
     },
     "execution_count": 112,
     "metadata": {
      "tags": []
     },
     "output_type": "execute_result"
    }
   ],
   "source": [
    "approved_models.query('name == \"LightGBM\"')"
   ]
  },
  {
   "cell_type": "code",
   "execution_count": null,
   "metadata": {
    "id": "-3M1sgjKe6VM"
   },
   "outputs": [],
   "source": []
  }
 ],
 "metadata": {
  "colab": {
   "name": "determining_car_price.ipynb",
   "provenance": [],
   "toc_visible": true
  },
  "kernelspec": {
   "display_name": "Python 3",
   "language": "python",
   "name": "python3"
  },
  "language_info": {
   "codemirror_mode": {
    "name": "ipython",
    "version": 3
   },
   "file_extension": ".py",
   "mimetype": "text/x-python",
   "name": "python",
   "nbconvert_exporter": "python",
   "pygments_lexer": "ipython3",
   "version": "3.7.8"
  },
  "toc": {
   "base_numbering": 1,
   "nav_menu": {},
   "number_sections": true,
   "sideBar": true,
   "skip_h1_title": true,
   "title_cell": "Table of Contents",
   "title_sidebar": "Contents",
   "toc_cell": false,
   "toc_position": {},
   "toc_section_display": true,
   "toc_window_display": false
  }
 },
 "nbformat": 4,
 "nbformat_minor": 4
}
